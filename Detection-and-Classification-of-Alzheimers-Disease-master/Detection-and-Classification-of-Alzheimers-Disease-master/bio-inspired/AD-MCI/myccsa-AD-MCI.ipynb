{
 "cells": [
  {
   "cell_type": "code",
   "execution_count": 1,
   "metadata": {
    "colab": {},
    "colab_type": "code",
    "id": "8bW5uwdFfj5K"
   },
   "outputs": [
    {
     "name": "stderr",
     "output_type": "stream",
     "text": [
      "C:\\Users\\SONAL BANSAL\\Anaconda3\\lib\\site-packages\\sklearn\\ensemble\\weight_boosting.py:29: DeprecationWarning: numpy.core.umath_tests is an internal NumPy module and should not be imported. It will be removed in a future NumPy release.\n",
      "  from numpy.core.umath_tests import inner1d\n"
     ]
    }
   ],
   "source": [
    "import random,math,copy,time\n",
    "from sklearn.neighbors import KNeighborsClassifier\n",
    "from sklearn.ensemble import (RandomForestClassifier,GradientBoostingClassifier)\n",
    "from sklearn import tree\n",
    "import numpy as np\n",
    "import pandas as pd\n",
    "from sklearn.model_selection import train_test_split,cross_val_score\n",
    "import matplotlib.pyplot as plt\n",
    "from sklearn import preprocessing, svm\n",
    "from tqdm import tqdm\n",
    "import time\n",
    "from sklearn.model_selection import GridSearchCV"
   ]
  },
  {
   "cell_type": "code",
   "execution_count": 2,
   "metadata": {
    "colab": {},
    "colab_type": "code",
    "id": "S6-dFa8Jfj5Q"
   },
   "outputs": [],
   "source": [
    "m=20  # Problem dimension (number of decision variables\n",
    "Ap=0.1  # Awareness probability\n",
    "fl=2   # Flight length (fl)\n",
    "wf=1.2# wf is used to control the importance of classification accuracy and number of selected features.\n"
   ]
  },
  {
   "cell_type": "code",
   "execution_count": 11,
   "metadata": {},
   "outputs": [],
   "source": [
    "## Import up sound alert dependencies\n",
    "from IPython.display import Audio, display\n",
    "\n",
    "def allDone():\n",
    "    display(Audio(url='https://sound.peal.io/ps/audios/000/000/707/original/Good_Job!.wav', autoplay=True))\n",
    "## Insert whatever audio file you want above"
   ]
  },
  {
   "cell_type": "code",
   "execution_count": 3,
   "metadata": {
    "colab": {},
    "colab_type": "code",
    "id": "VSQ4rCRjfj5V"
   },
   "outputs": [],
   "source": [
    "df=pd.read_csv(\"AD-MCI.csv\")\n",
    "df = df.dropna(how='all')"
   ]
  },
  {
   "cell_type": "code",
   "execution_count": 22,
   "metadata": {
    "colab": {},
    "colab_type": "code",
    "id": "yBZV56q2m6-s"
   },
   "outputs": [],
   "source": [
    "df=df.drop(columns=['Unnamed: 0'])\n"
   ]
  },
  {
   "cell_type": "code",
   "execution_count": 28,
   "metadata": {
    "colab": {
     "base_uri": "https://localhost:8080/",
     "height": 235
    },
    "colab_type": "code",
    "id": "i5qnzPEforlt",
    "outputId": "e49cbf0d-6390-45dd-f8ee-52397198c00f"
   },
   "outputs": [
    {
     "data": {
      "text/html": [
       "<div>\n",
       "<style scoped>\n",
       "    .dataframe tbody tr th:only-of-type {\n",
       "        vertical-align: middle;\n",
       "    }\n",
       "\n",
       "    .dataframe tbody tr th {\n",
       "        vertical-align: top;\n",
       "    }\n",
       "\n",
       "    .dataframe thead th {\n",
       "        text-align: right;\n",
       "    }\n",
       "</style>\n",
       "<table border=\"1\" class=\"dataframe\">\n",
       "  <thead>\n",
       "    <tr style=\"text-align: right;\">\n",
       "      <th></th>\n",
       "      <th>label</th>\n",
       "      <th>0</th>\n",
       "      <th>1</th>\n",
       "      <th>2</th>\n",
       "      <th>3</th>\n",
       "      <th>4</th>\n",
       "      <th>5</th>\n",
       "      <th>6</th>\n",
       "      <th>7</th>\n",
       "      <th>8</th>\n",
       "      <th>...</th>\n",
       "      <th>67590</th>\n",
       "      <th>67591</th>\n",
       "      <th>67592</th>\n",
       "      <th>67593</th>\n",
       "      <th>67594</th>\n",
       "      <th>67595</th>\n",
       "      <th>67596</th>\n",
       "      <th>67597</th>\n",
       "      <th>67598</th>\n",
       "      <th>67599</th>\n",
       "    </tr>\n",
       "  </thead>\n",
       "  <tbody>\n",
       "    <tr>\n",
       "      <th>0</th>\n",
       "      <td>0</td>\n",
       "      <td>55</td>\n",
       "      <td>56</td>\n",
       "      <td>57</td>\n",
       "      <td>57</td>\n",
       "      <td>57</td>\n",
       "      <td>57</td>\n",
       "      <td>56</td>\n",
       "      <td>55</td>\n",
       "      <td>56</td>\n",
       "      <td>...</td>\n",
       "      <td>59</td>\n",
       "      <td>59</td>\n",
       "      <td>59</td>\n",
       "      <td>59</td>\n",
       "      <td>59</td>\n",
       "      <td>59</td>\n",
       "      <td>60</td>\n",
       "      <td>59</td>\n",
       "      <td>58</td>\n",
       "      <td>57</td>\n",
       "    </tr>\n",
       "    <tr>\n",
       "      <th>1</th>\n",
       "      <td>0</td>\n",
       "      <td>255</td>\n",
       "      <td>255</td>\n",
       "      <td>255</td>\n",
       "      <td>255</td>\n",
       "      <td>255</td>\n",
       "      <td>255</td>\n",
       "      <td>254</td>\n",
       "      <td>253</td>\n",
       "      <td>254</td>\n",
       "      <td>...</td>\n",
       "      <td>255</td>\n",
       "      <td>255</td>\n",
       "      <td>255</td>\n",
       "      <td>255</td>\n",
       "      <td>255</td>\n",
       "      <td>255</td>\n",
       "      <td>255</td>\n",
       "      <td>255</td>\n",
       "      <td>255</td>\n",
       "      <td>255</td>\n",
       "    </tr>\n",
       "    <tr>\n",
       "      <th>2</th>\n",
       "      <td>0</td>\n",
       "      <td>255</td>\n",
       "      <td>255</td>\n",
       "      <td>255</td>\n",
       "      <td>255</td>\n",
       "      <td>255</td>\n",
       "      <td>255</td>\n",
       "      <td>254</td>\n",
       "      <td>253</td>\n",
       "      <td>254</td>\n",
       "      <td>...</td>\n",
       "      <td>255</td>\n",
       "      <td>255</td>\n",
       "      <td>255</td>\n",
       "      <td>255</td>\n",
       "      <td>255</td>\n",
       "      <td>255</td>\n",
       "      <td>255</td>\n",
       "      <td>255</td>\n",
       "      <td>255</td>\n",
       "      <td>255</td>\n",
       "    </tr>\n",
       "    <tr>\n",
       "      <th>3</th>\n",
       "      <td>0</td>\n",
       "      <td>255</td>\n",
       "      <td>255</td>\n",
       "      <td>255</td>\n",
       "      <td>255</td>\n",
       "      <td>255</td>\n",
       "      <td>255</td>\n",
       "      <td>254</td>\n",
       "      <td>253</td>\n",
       "      <td>254</td>\n",
       "      <td>...</td>\n",
       "      <td>255</td>\n",
       "      <td>255</td>\n",
       "      <td>255</td>\n",
       "      <td>255</td>\n",
       "      <td>255</td>\n",
       "      <td>255</td>\n",
       "      <td>255</td>\n",
       "      <td>255</td>\n",
       "      <td>255</td>\n",
       "      <td>255</td>\n",
       "    </tr>\n",
       "    <tr>\n",
       "      <th>4</th>\n",
       "      <td>0</td>\n",
       "      <td>255</td>\n",
       "      <td>255</td>\n",
       "      <td>255</td>\n",
       "      <td>255</td>\n",
       "      <td>255</td>\n",
       "      <td>255</td>\n",
       "      <td>254</td>\n",
       "      <td>253</td>\n",
       "      <td>254</td>\n",
       "      <td>...</td>\n",
       "      <td>255</td>\n",
       "      <td>255</td>\n",
       "      <td>255</td>\n",
       "      <td>255</td>\n",
       "      <td>255</td>\n",
       "      <td>255</td>\n",
       "      <td>255</td>\n",
       "      <td>255</td>\n",
       "      <td>255</td>\n",
       "      <td>255</td>\n",
       "    </tr>\n",
       "  </tbody>\n",
       "</table>\n",
       "<p>5 rows × 67601 columns</p>\n",
       "</div>"
      ],
      "text/plain": [
       "   label    0    1    2    3    4    5    6    7    8  ...    67590  67591  \\\n",
       "0      0   55   56   57   57   57   57   56   55   56  ...       59     59   \n",
       "1      0  255  255  255  255  255  255  254  253  254  ...      255    255   \n",
       "2      0  255  255  255  255  255  255  254  253  254  ...      255    255   \n",
       "3      0  255  255  255  255  255  255  254  253  254  ...      255    255   \n",
       "4      0  255  255  255  255  255  255  254  253  254  ...      255    255   \n",
       "\n",
       "   67592  67593  67594  67595  67596  67597  67598  67599  \n",
       "0     59     59     59     59     60     59     58     57  \n",
       "1    255    255    255    255    255    255    255    255  \n",
       "2    255    255    255    255    255    255    255    255  \n",
       "3    255    255    255    255    255    255    255    255  \n",
       "4    255    255    255    255    255    255    255    255  \n",
       "\n",
       "[5 rows x 67601 columns]"
      ]
     },
     "execution_count": 28,
     "metadata": {},
     "output_type": "execute_result"
    }
   ],
   "source": [
    "df.head()\n"
   ]
  },
  {
   "cell_type": "code",
   "execution_count": 13,
   "metadata": {
    "colab": {},
    "colab_type": "code",
    "id": "PPwseQsIglXa"
   },
   "outputs": [],
   "source": [
    "val_Data = pd.read_csv(\"AD-MCI_val.csv\")"
   ]
  },
  {
   "cell_type": "code",
   "execution_count": 14,
   "metadata": {
    "colab": {
     "base_uri": "https://localhost:8080/",
     "height": 235
    },
    "colab_type": "code",
    "id": "wmWJFkWDgu_7",
    "outputId": "c147cdca-b994-4f9b-8b49-22c8ca7d71e1"
   },
   "outputs": [
    {
     "name": "stdout",
     "output_type": "stream",
     "text": [
      "   label    0    1    2    3    4    5    6    7    8  ...    67590  67591  \\\n",
      "0      0  255  255  255  255  255  255  254  253  254  ...      255    255   \n",
      "1      0  255  255  255  255  255  255  254  253  254  ...      255    255   \n",
      "2      0  255  255  255  255  255  255  254  253  254  ...      255    255   \n",
      "3      0  255  255  255  255  255  255  254  253  254  ...      255    255   \n",
      "4      0  255  255  255  255  255  255  254  253  254  ...      255    255   \n",
      "\n",
      "   67592  67593  67594  67595  67596  67597  67598  67599  \n",
      "0    255    255    255    255    255    255    255    255  \n",
      "1    255    255    255    255    255    255    255    255  \n",
      "2    255    255    255    255    255    255    255    255  \n",
      "3    255    255    255    255    255    255    255    255  \n",
      "4    255    255    255    255    255    255    255    255  \n",
      "\n",
      "[5 rows x 67601 columns]\n"
     ]
    },
    {
     "data": {
      "text/html": [
       "\n",
       "                <audio controls=\"controls\" autoplay=\"autoplay\">\n",
       "                    <source src=\"https://sound.peal.io/ps/audios/000/000/707/original/Good_Job!.wav\" type=\"audio/wav\" />\n",
       "                    Your browser does not support the audio element.\n",
       "                </audio>\n",
       "              "
      ],
      "text/plain": [
       "<IPython.lib.display.Audio object>"
      ]
     },
     "metadata": {},
     "output_type": "display_data"
    }
   ],
   "source": [
    "val_Data = val_Data.dropna(how='all')\n",
    "val_Data=val_Data.drop(columns=['Unnamed: 0'])\n",
    "# df=df.reset_index().drop(columns='index')\n",
    "print(val_Data.head())\n",
    "allDone()"
   ]
  },
  {
   "cell_type": "code",
   "execution_count": 19,
   "metadata": {
    "colab": {},
    "colab_type": "code",
    "id": "_W4D-XnDfj5j"
   },
   "outputs": [],
   "source": [
    "features = [i for i in range(0,67600)]"
   ]
  },
  {
   "cell_type": "code",
   "execution_count": 24,
   "metadata": {
    "colab": {},
    "colab_type": "code",
    "id": "VvAFiZhvfj5n"
   },
   "outputs": [],
   "source": [
    "d=67600# Flock (population) size\n",
    "lt=67600\n",
    "y_train=df['label']\n",
    "x_train=df[df.columns[1:]]"
   ]
  },
  {
   "cell_type": "code",
   "execution_count": 25,
   "metadata": {
    "colab": {},
    "colab_type": "code",
    "id": "K-e_XSa4pKr8"
   },
   "outputs": [],
   "source": [
    "y_test = val_Data['label']\n",
    "x_test = val_Data[val_Data.columns[1:]]"
   ]
  },
  {
   "cell_type": "code",
   "execution_count": 11,
   "metadata": {
    "colab": {},
    "colab_type": "code",
    "id": "Kgvbr_X7fj51"
   },
   "outputs": [],
   "source": [
    "# x=preprocessing.normalize(x)\n",
    "#x=pd.DataFrame(x, columns=features)"
   ]
  },
  {
   "cell_type": "code",
   "execution_count": 26,
   "metadata": {},
   "outputs": [],
   "source": [
    "x_train.columns=features\n",
    "x_test.columns=features"
   ]
  },
  {
   "cell_type": "code",
   "execution_count": 13,
   "metadata": {},
   "outputs": [
    {
     "data": {
      "text/plain": [
       "67600"
      ]
     },
     "execution_count": 13,
     "metadata": {},
     "output_type": "execute_result"
    }
   ],
   "source": [
    "imo=pd.read_csv('importance_feature_AD-MCI.csv').iloc[:,1]\n",
    "len(imo)"
   ]
  },
  {
   "cell_type": "code",
   "execution_count": 14,
   "metadata": {},
   "outputs": [],
   "source": [
    "import time"
   ]
  },
  {
   "cell_type": "code",
   "execution_count": 46,
   "metadata": {
    "colab": {},
    "colab_type": "code",
    "id": "JSz_SiuQfj6S"
   },
   "outputs": [],
   "source": [
    "def init():   #initialization function\n",
    "    df2=pd.DataFrame(np.ones((m,d),dtype='int'),columns=features)\n",
    "    return df2\n",
    "#df2=init()"
   ]
  },
  {
   "cell_type": "code",
   "execution_count": 16,
   "metadata": {
    "colab": {
     "base_uri": "https://localhost:8080/",
     "height": 36
    },
    "colab_type": "code",
    "id": "EOfjU6K3fj6I",
    "outputId": "1ad247bc-7a6c-4522-f094-06b1cd2cf572"
   },
   "outputs": [
    {
     "name": "stdout",
     "output_type": "stream",
     "text": [
      "[0. 0. 0. ... 0. 0. 0.]\n",
      "(67600,) <class 'numpy.ndarray'>\n"
     ]
    }
   ],
   "source": [
    "im=(rforest.feature_importances_)\n",
    "print(im)\n",
    "print(im.shape,type(im))"
   ]
  },
  {
   "cell_type": "code",
   "execution_count": null,
   "metadata": {},
   "outputs": [],
   "source": [
    "im_df=pd.DataFrame(im)"
   ]
  },
  {
   "cell_type": "code",
   "execution_count": null,
   "metadata": {},
   "outputs": [],
   "source": [
    "im_df.to_csv('importance.csv')"
   ]
  },
  {
   "cell_type": "code",
   "execution_count": 21,
   "metadata": {
    "colab": {
     "base_uri": "https://localhost:8080/",
     "height": 74
    },
    "colab_type": "code",
    "id": "TbeyhYYSfj6N",
    "outputId": "a1c0e68d-4931-4ab7-b484-404f847df13c"
   },
   "outputs": [
    {
     "name": "stderr",
     "output_type": "stream",
     "text": [
      "  0%|                                                                                        | 0/67600 [00:00<?, ?it/s]C:\\Users\\SONAL BANSAL\\Anaconda3\\lib\\site-packages\\ipykernel_launcher.py:3: FutureWarning: set_value is deprecated and will be removed in a future release. Please use .at[] or .iat[] accessors instead\n",
      "  This is separate from the ipykernel package so we can avoid doing imports until\n",
      "100%|████████████████████████████████████████████████████████████████████████████| 67600/67600 [20:17<00:00, 55.53it/s]\n"
     ]
    }
   ],
   "source": [
    "imo=pd.Series()\n",
    "for i in tqdm(range(d)):\n",
    "    imo= imo.set_value(features[i],im[i])"
   ]
  },
  {
   "cell_type": "code",
   "execution_count": 47,
   "metadata": {
    "colab": {},
    "colab_type": "code",
    "id": "ylLmuEVjfj6X"
   },
   "outputs": [],
   "source": [
    "# this defines the fitness of each crow by calculating their accuracy and no features selected using the below formula\n",
    "def fitness(df2):      # fitness function whose 1 parameter takes the crows and their position as input\n",
    "    fnt=np.zeros((m,1))  # fnt is the fitness function\n",
    "    for k in tqdm(range(m)):    \n",
    "        global sel\n",
    "        sel=[]\n",
    "        q=0\n",
    "        imp=0\n",
    "        a=(df2.iloc[k,:])==0.0\n",
    "        if a.all()==True:\n",
    "            df2.iloc[k,:]=1.0\n",
    "        for p in list(features):\n",
    "            if df2.loc[k,p]==1.0:\n",
    "                sel.insert(q,p)\n",
    "                temp=imo[p]\n",
    "                imp=imp+temp\n",
    "            q=q+1\n",
    "        lf=len(sel)\n",
    "        divide=lf/lt\n",
    "        fnt[k]=imp+wf*(1-float(lf/lt))     # fitness formula\n",
    "    return fnt\n"
   ]
  },
  {
   "cell_type": "code",
   "execution_count": null,
   "metadata": {
    "colab": {},
    "colab_type": "code",
    "id": "3JX1sTSufj6c"
   },
   "outputs": [],
   "source": [
    "z=init()   #crow memory with initial position\n",
    "tmax=50   # Maximum number of iterations (itermax)\n",
    "xn=z.copy()  # the position of the crow\n",
    "mem=init()  # memory is initialized using the init function\n",
    "xnew=(xn).copy()   # the positions of the crow\n",
    "ft=fitness(xn)\n",
    "plotit=[]"
   ]
  },
  {
   "cell_type": "code",
   "execution_count": 50,
   "metadata": {
    "colab": {},
    "colab_type": "code",
    "collapsed": true,
    "id": "cRGlsQ57fj6j",
    "outputId": "ecb5e6e9-c09c-4581-d79f-55308fae3400"
   },
   "outputs": [
    {
     "name": "stdout",
     "output_type": "stream",
     "text": [
      "0\n"
     ]
    },
    {
     "name": "stderr",
     "output_type": "stream",
     "text": [
      "\n",
      "  0%|                                                                                           | 0/20 [00:00<?, ?it/s]\n",
      " 10%|████████▎                                                                          | 2/20 [00:00<00:00, 19.96it/s]\n",
      " 50%|█████████████████████████████████████████                                         | 10/20 [00:00<00:00, 45.37it/s]\n",
      " 90%|█████████████████████████████████████████████████████████████████████████▊        | 18/20 [00:00<00:00, 52.89it/s]\n",
      "100%|██████████████████████████████████████████████████████████████████████████████████| 20/20 [00:00<00:00, 54.03it/s]"
     ]
    },
    {
     "name": "stdout",
     "output_type": "stream",
     "text": [
      "transpose\n",
      "exp\n",
      "apply lambda\n",
      "copied\n"
     ]
    },
    {
     "name": "stderr",
     "output_type": "stream",
     "text": [
      "\n",
      "  0%|                                                                                           | 0/20 [00:00<?, ?it/s]\n",
      "100%|█████████████████████████████████████████████████████████████████████████████████| 20/20 [00:00<00:00, 199.95it/s]"
     ]
    },
    {
     "name": "stdout",
     "output_type": "stream",
     "text": [
      "running fitness\n"
     ]
    },
    {
     "name": "stderr",
     "output_type": "stream",
     "text": [
      "\n",
      "  0%|                                                                                           | 0/20 [00:00<?, ?it/s]\n",
      "  5%|████▏                                                                              | 1/20 [00:16<05:20, 16.86s/it]\n",
      " 10%|████████▎                                                                          | 2/20 [00:20<03:02, 10.15s/it]\n",
      " 15%|████████████▍                                                                      | 3/20 [00:23<02:14,  7.91s/it]\n",
      " 20%|████████████████▌                                                                  | 4/20 [00:27<01:48,  6.79s/it]\n",
      " 25%|████████████████████▊                                                              | 5/20 [00:30<01:31,  6.11s/it]\n",
      " 30%|████████████████████████▉                                                          | 6/20 [00:33<01:19,  5.66s/it]\n",
      " 35%|█████████████████████████████                                                      | 7/20 [00:37<01:09,  5.34s/it]\n",
      " 40%|█████████████████████████████████▏                                                 | 8/20 [00:40<01:01,  5.09s/it]\n",
      " 45%|█████████████████████████████████████▎                                             | 9/20 [00:44<00:54,  4.92s/it]\n",
      " 50%|█████████████████████████████████████████                                         | 10/20 [00:47<00:47,  4.76s/it]\n",
      " 55%|█████████████████████████████████████████████                                     | 11/20 [00:51<00:41,  4.64s/it]\n",
      " 60%|█████████████████████████████████████████████████▏                                | 12/20 [00:54<00:36,  4.55s/it]\n",
      " 65%|█████████████████████████████████████████████████████▎                            | 13/20 [00:58<00:31,  4.48s/it]\n",
      " 70%|█████████████████████████████████████████████████████████▍                        | 14/20 [01:01<00:26,  4.39s/it]\n",
      " 75%|█████████████████████████████████████████████████████████████▌                    | 15/20 [01:04<00:21,  4.31s/it]\n",
      " 80%|█████████████████████████████████████████████████████████████████▌                | 16/20 [01:07<00:16,  4.24s/it]\n",
      " 85%|█████████████████████████████████████████████████████████████████████▋            | 17/20 [01:11<00:12,  4.20s/it]\n",
      " 90%|█████████████████████████████████████████████████████████████████████████▊        | 18/20 [01:15<00:08,  4.18s/it]\n",
      " 95%|█████████████████████████████████████████████████████████████████████████████▉    | 19/20 [01:19<00:04,  4.16s/it]\n",
      "100%|██████████████████████████████████████████████████████████████████████████████████| 20/20 [01:22<00:00,  4.13s/it]\n"
     ]
    },
    {
     "name": "stdout",
     "output_type": "stream",
     "text": [
      "fitness done\n"
     ]
    },
    {
     "name": "stderr",
     "output_type": "stream",
     "text": [
      "\n",
      "  0%|                                                                                           | 0/20 [00:00<?, ?it/s]\n",
      "  5%|████                                                                              | 1/20 [01:52<35:35, 112.42s/it]\n",
      " 10%|████████▏                                                                         | 2/20 [03:46<33:57, 113.17s/it]\n",
      " 15%|████████████▎                                                                     | 3/20 [05:36<31:46, 112.14s/it]\n",
      " 20%|████████████████▍                                                                 | 4/20 [07:27<29:48, 111.76s/it]\n",
      " 25%|████████████████████▌                                                             | 5/20 [09:17<27:52, 111.48s/it]\n",
      " 30%|████████████████████████▌                                                         | 6/20 [11:07<25:58, 111.32s/it]\n",
      " 35%|████████████████████████████▋                                                     | 7/20 [13:01<24:12, 111.71s/it]\n",
      " 40%|████████████████████████████████▊                                                 | 8/20 [14:53<22:20, 111.73s/it]\n",
      " 45%|████████████████████████████████████▉                                             | 9/20 [16:45<20:28, 111.67s/it]\n",
      " 50%|████████████████████████████████████████▌                                        | 10/20 [18:36<18:36, 111.69s/it]\n",
      " 55%|████████████████████████████████████████████▌                                    | 11/20 [20:28<16:44, 111.64s/it]\n",
      " 60%|████████████████████████████████████████████████▌                                | 12/20 [22:19<14:53, 111.64s/it]\n",
      " 65%|████████████████████████████████████████████████████▋                            | 13/20 [24:12<13:01, 111.71s/it]\n",
      " 70%|████████████████████████████████████████████████████████▋                        | 14/20 [26:05<11:10, 111.81s/it]\n",
      " 75%|████████████████████████████████████████████████████████████▊                    | 15/20 [27:57<09:19, 111.83s/it]\n",
      " 80%|████████████████████████████████████████████████████████████████▊                | 16/20 [29:47<07:26, 111.73s/it]\n",
      " 85%|████████████████████████████████████████████████████████████████████▊            | 17/20 [31:39<05:35, 111.73s/it]\n",
      " 90%|████████████████████████████████████████████████████████████████████████▉        | 18/20 [33:30<03:43, 111.70s/it]\n",
      " 95%|████████████████████████████████████████████████████████████████████████████▉    | 19/20 [35:23<01:51, 111.74s/it]\n",
      "100%|█████████████████████████████████████████████████████████████████████████████████| 20/20 [37:14<00:00, 111.72s/it]\n"
     ]
    },
    {
     "name": "stdout",
     "output_type": "stream",
     "text": [
      "complete0\n",
      "1\n"
     ]
    },
    {
     "name": "stderr",
     "output_type": "stream",
     "text": [
      "\n",
      "  0%|                                                                                           | 0/20 [00:00<?, ?it/s]\n",
      " 20%|████████████████▌                                                                  | 4/20 [00:00<00:00, 30.85it/s]\n",
      " 55%|█████████████████████████████████████████████                                     | 11/20 [00:00<00:00, 47.88it/s]\n",
      " 90%|█████████████████████████████████████████████████████████████████████████▊        | 18/20 [00:00<00:00, 54.56it/s]\n",
      "100%|██████████████████████████████████████████████████████████████████████████████████| 20/20 [00:00<00:00, 55.62it/s]"
     ]
    },
    {
     "name": "stdout",
     "output_type": "stream",
     "text": [
      "transpose\n",
      "exp\n",
      "apply lambda\n",
      "copied\n"
     ]
    },
    {
     "name": "stderr",
     "output_type": "stream",
     "text": [
      "\n",
      "  0%|                                                                                           | 0/20 [00:00<?, ?it/s]\n",
      " 80%|████████████████████████████████████████████████████████████████▊                | 16/20 [00:00<00:00, 159.53it/s]\n",
      "100%|█████████████████████████████████████████████████████████████████████████████████| 20/20 [00:00<00:00, 153.34it/s]"
     ]
    },
    {
     "name": "stdout",
     "output_type": "stream",
     "text": [
      "running fitness\n"
     ]
    },
    {
     "name": "stderr",
     "output_type": "stream",
     "text": [
      "\n",
      "  0%|                                                                                           | 0/20 [00:00<?, ?it/s]\n",
      "  5%|████▏                                                                              | 1/20 [00:21<06:40, 21.10s/it]\n",
      " 10%|████████▎                                                                          | 2/20 [00:29<04:26, 14.81s/it]\n",
      " 15%|████████████▍                                                                      | 3/20 [00:38<03:36, 12.72s/it]\n",
      " 20%|████████████████▌                                                                  | 4/20 [00:44<02:59, 11.23s/it]\n",
      " 25%|████████████████████▊                                                              | 5/20 [00:53<02:39, 10.66s/it]\n",
      " 30%|████████████████████████▉                                                          | 6/20 [01:01<02:24, 10.29s/it]\n",
      " 35%|█████████████████████████████                                                      | 7/20 [01:10<02:10, 10.06s/it]\n",
      " 40%|█████████████████████████████████▏                                                 | 8/20 [01:18<01:58,  9.85s/it]\n",
      " 45%|█████████████████████████████████████▎                                             | 9/20 [01:26<01:46,  9.65s/it]\n",
      " 50%|█████████████████████████████████████████                                         | 10/20 [01:35<01:35,  9.53s/it]\n",
      " 55%|█████████████████████████████████████████████                                     | 11/20 [01:43<01:24,  9.41s/it]\n",
      " 60%|█████████████████████████████████████████████████▏                                | 12/20 [01:52<01:14,  9.34s/it]\n",
      " 65%|█████████████████████████████████████████████████████▎                            | 13/20 [02:00<01:05,  9.29s/it]\n",
      " 70%|█████████████████████████████████████████████████████████▍                        | 14/20 [02:10<00:55,  9.29s/it]\n",
      " 75%|█████████████████████████████████████████████████████████████▌                    | 15/20 [02:18<00:46,  9.24s/it]\n",
      " 80%|█████████████████████████████████████████████████████████████████▌                | 16/20 [02:26<00:36,  9.18s/it]\n",
      " 85%|█████████████████████████████████████████████████████████████████████▋            | 17/20 [02:35<00:27,  9.14s/it]\n",
      " 90%|█████████████████████████████████████████████████████████████████████████▊        | 18/20 [02:43<00:18,  9.10s/it]\n",
      " 95%|█████████████████████████████████████████████████████████████████████████████▉    | 19/20 [02:52<00:09,  9.08s/it]\n",
      "100%|██████████████████████████████████████████████████████████████████████████████████| 20/20 [03:00<00:00,  9.05s/it]\n"
     ]
    },
    {
     "name": "stdout",
     "output_type": "stream",
     "text": [
      "fitness done\n"
     ]
    },
    {
     "name": "stderr",
     "output_type": "stream",
     "text": [
      "\n",
      "  0%|                                                                                           | 0/20 [00:00<?, ?it/s]\n",
      "100%|██████████████████████████████████████████████████████████████████████████████████████████| 20/20 [00:00<?, ?it/s]"
     ]
    },
    {
     "name": "stdout",
     "output_type": "stream",
     "text": [
      "complete1\n",
      "2\n"
     ]
    },
    {
     "name": "stderr",
     "output_type": "stream",
     "text": [
      "\n",
      "  0%|                                                                                           | 0/20 [00:00<?, ?it/s]\n",
      " 15%|████████████▍                                                                      | 3/20 [00:00<00:00, 21.44it/s]\n",
      " 45%|█████████████████████████████████████▎                                             | 9/20 [00:00<00:00, 37.50it/s]\n",
      " 65%|█████████████████████████████████████████████████████▎                            | 13/20 [00:00<00:00, 33.31it/s]\n",
      " 90%|█████████████████████████████████████████████████████████████████████████▊        | 18/20 [00:00<00:00, 32.14it/s]\n",
      "100%|██████████████████████████████████████████████████████████████████████████████████| 20/20 [00:00<00:00, 33.33it/s]"
     ]
    },
    {
     "name": "stdout",
     "output_type": "stream",
     "text": [
      "transpose\n",
      "exp\n",
      "apply lambda\n",
      "copied\n"
     ]
    },
    {
     "name": "stderr",
     "output_type": "stream",
     "text": [
      "\n",
      "  0%|                                                                                           | 0/20 [00:00<?, ?it/s]\n",
      " 75%|████████████████████████████████████████████████████████████▊                    | 15/20 [00:00<00:00, 149.95it/s]\n",
      "100%|█████████████████████████████████████████████████████████████████████████████████| 20/20 [00:00<00:00, 143.06it/s]"
     ]
    },
    {
     "name": "stdout",
     "output_type": "stream",
     "text": [
      "running fitness\n"
     ]
    },
    {
     "name": "stderr",
     "output_type": "stream",
     "text": [
      "\n",
      "  0%|                                                                                           | 0/20 [00:00<?, ?it/s]\n",
      "  5%|████▏                                                                              | 1/20 [00:12<04:01, 12.69s/it]\n",
      " 10%|████████▎                                                                          | 2/20 [00:16<02:32,  8.47s/it]\n",
      " 15%|████████████▍                                                                      | 3/20 [00:23<02:10,  7.70s/it]\n",
      " 20%|████████████████▌                                                                  | 4/20 [00:28<01:52,  7.04s/it]\n",
      " 25%|████████████████████▊                                                              | 5/20 [00:33<01:39,  6.66s/it]\n",
      " 30%|████████████████████████▉                                                          | 6/20 [00:36<01:26,  6.15s/it]\n",
      " 35%|█████████████████████████████                                                      | 7/20 [00:41<01:17,  5.96s/it]\n",
      " 40%|█████████████████████████████████▏                                                 | 8/20 [00:46<01:09,  5.79s/it]\n",
      " 45%|█████████████████████████████████████▎                                             | 9/20 [00:51<01:02,  5.71s/it]\n",
      " 50%|█████████████████████████████████████████                                         | 10/20 [00:56<00:56,  5.65s/it]\n",
      " 55%|█████████████████████████████████████████████                                     | 11/20 [01:01<00:50,  5.62s/it]\n",
      " 60%|█████████████████████████████████████████████████▏                                | 12/20 [01:07<00:44,  5.59s/it]\n",
      " 65%|█████████████████████████████████████████████████████▎                            | 13/20 [01:12<00:39,  5.58s/it]\n",
      " 70%|█████████████████████████████████████████████████████████▍                        | 14/20 [01:17<00:33,  5.51s/it]\n",
      " 75%|█████████████████████████████████████████████████████████████▌                    | 15/20 [01:22<00:27,  5.48s/it]\n",
      " 80%|█████████████████████████████████████████████████████████████████▌                | 16/20 [01:27<00:21,  5.46s/it]\n",
      " 85%|█████████████████████████████████████████████████████████████████████▋            | 17/20 [01:32<00:16,  5.44s/it]\n",
      " 90%|█████████████████████████████████████████████████████████████████████████▊        | 18/20 [01:38<00:10,  5.45s/it]\n",
      " 95%|█████████████████████████████████████████████████████████████████████████████▉    | 19/20 [01:43<00:05,  5.43s/it]\n",
      "100%|██████████████████████████████████████████████████████████████████████████████████| 20/20 [01:48<00:00,  5.41s/it]\n"
     ]
    },
    {
     "name": "stdout",
     "output_type": "stream",
     "text": [
      "fitness done\n"
     ]
    },
    {
     "name": "stderr",
     "output_type": "stream",
     "text": [
      "\n",
      "  0%|                                                                                           | 0/20 [00:00<?, ?it/s]\n",
      "  5%|████                                                                              | 1/20 [01:53<35:55, 113.44s/it]\n",
      "100%|██████████████████████████████████████████████████████████████████████████████████| 20/20 [01:53<00:00,  5.67s/it]"
     ]
    },
    {
     "name": "stdout",
     "output_type": "stream",
     "text": [
      "complete2\n",
      "3\n"
     ]
    },
    {
     "name": "stderr",
     "output_type": "stream",
     "text": [
      "\n",
      "  0%|                                                                                           | 0/20 [00:00<?, ?it/s]\n",
      " 25%|████████████████████▊                                                              | 5/20 [00:00<00:00, 43.32it/s]\n",
      " 60%|█████████████████████████████████████████████████▏                                | 12/20 [00:00<00:00, 52.12it/s]\n",
      " 95%|█████████████████████████████████████████████████████████████████████████████▉    | 19/20 [00:00<00:00, 54.26it/s]\n",
      "100%|██████████████████████████████████████████████████████████████████████████████████| 20/20 [00:00<00:00, 53.85it/s]"
     ]
    },
    {
     "name": "stdout",
     "output_type": "stream",
     "text": [
      "transpose\n",
      "exp\n",
      "apply lambda\n",
      "copied\n"
     ]
    },
    {
     "name": "stderr",
     "output_type": "stream",
     "text": [
      "\n",
      "  0%|                                                                                           | 0/20 [00:00<?, ?it/s]\n",
      "100%|█████████████████████████████████████████████████████████████████████████████████| 20/20 [00:00<00:00, 190.55it/s]"
     ]
    },
    {
     "name": "stdout",
     "output_type": "stream",
     "text": [
      "running fitness\n"
     ]
    },
    {
     "name": "stderr",
     "output_type": "stream",
     "text": [
      "\n",
      "  0%|                                                                                           | 0/20 [00:00<?, ?it/s]\n",
      "  5%|████▏                                                                              | 1/20 [00:14<04:41, 14.84s/it]\n",
      " 10%|████████▎                                                                          | 2/20 [00:22<03:23, 11.33s/it]\n",
      " 15%|████████████▍                                                                      | 3/20 [00:28<02:42,  9.56s/it]\n",
      " 20%|████████████████▌                                                                  | 4/20 [00:36<02:24,  9.04s/it]\n",
      " 25%|████████████████████▊                                                              | 5/20 [00:43<02:10,  8.72s/it]\n",
      " 30%|████████████████████████▉                                                          | 6/20 [00:50<01:58,  8.49s/it]\n",
      " 35%|█████████████████████████████                                                      | 7/20 [00:58<01:48,  8.34s/it]\n",
      " 40%|█████████████████████████████████▏                                                 | 8/20 [01:06<01:40,  8.35s/it]\n",
      " 45%|█████████████████████████████████████▎                                             | 9/20 [01:14<01:30,  8.26s/it]\n",
      " 50%|█████████████████████████████████████████                                         | 10/20 [01:21<01:21,  8.16s/it]\n",
      " 55%|█████████████████████████████████████████████                                     | 11/20 [01:28<01:12,  8.09s/it]\n",
      " 60%|█████████████████████████████████████████████████▏                                | 12/20 [01:36<01:04,  8.02s/it]\n",
      " 65%|█████████████████████████████████████████████████████▎                            | 13/20 [01:43<00:55,  7.95s/it]\n",
      " 70%|█████████████████████████████████████████████████████████▍                        | 14/20 [01:50<00:47,  7.90s/it]\n",
      " 75%|█████████████████████████████████████████████████████████████▌                    | 15/20 [01:57<00:39,  7.86s/it]\n",
      " 80%|█████████████████████████████████████████████████████████████████▌                | 16/20 [02:04<00:31,  7.79s/it]\n",
      " 85%|█████████████████████████████████████████████████████████████████████▋            | 17/20 [02:10<00:23,  7.69s/it]\n",
      " 90%|█████████████████████████████████████████████████████████████████████████▊        | 18/20 [02:17<00:15,  7.67s/it]\n",
      " 95%|█████████████████████████████████████████████████████████████████████████████▉    | 19/20 [02:25<00:07,  7.66s/it]\n",
      "100%|██████████████████████████████████████████████████████████████████████████████████| 20/20 [02:32<00:00,  7.64s/it]\n"
     ]
    },
    {
     "name": "stdout",
     "output_type": "stream",
     "text": [
      "fitness done\n"
     ]
    },
    {
     "name": "stderr",
     "output_type": "stream",
     "text": [
      "\n",
      "  0%|                                                                                           | 0/20 [00:00<?, ?it/s]\n",
      "100%|██████████████████████████████████████████████████████████████████████████████████████████| 20/20 [00:00<?, ?it/s]"
     ]
    },
    {
     "name": "stdout",
     "output_type": "stream",
     "text": [
      "complete3\n",
      "4\n"
     ]
    },
    {
     "name": "stderr",
     "output_type": "stream",
     "text": [
      "\n",
      "  0%|                                                                                           | 0/20 [00:00<?, ?it/s]\n",
      " 35%|█████████████████████████████                                                      | 7/20 [00:00<00:00, 63.48it/s]\n",
      " 70%|█████████████████████████████████████████████████████████▍                        | 14/20 [00:00<00:00, 66.54it/s]\n",
      "100%|██████████████████████████████████████████████████████████████████████████████████| 20/20 [00:00<00:00, 65.55it/s]"
     ]
    },
    {
     "name": "stdout",
     "output_type": "stream",
     "text": [
      "transpose\n",
      "exp\n",
      "apply lambda\n",
      "copied\n"
     ]
    },
    {
     "name": "stderr",
     "output_type": "stream",
     "text": [
      "\n",
      "  0%|                                                                                           | 0/20 [00:00<?, ?it/s]\n",
      "100%|█████████████████████████████████████████████████████████████████████████████████| 20/20 [00:00<00:00, 194.84it/s]"
     ]
    },
    {
     "name": "stdout",
     "output_type": "stream",
     "text": [
      "running fitness\n"
     ]
    },
    {
     "name": "stderr",
     "output_type": "stream",
     "text": [
      "\n",
      "  0%|                                                                                           | 0/20 [00:00<?, ?it/s]\n",
      "  5%|████▏                                                                              | 1/20 [00:13<04:25, 13.97s/it]\n",
      " 10%|████████▎                                                                          | 2/20 [00:19<02:52,  9.61s/it]\n",
      " 15%|████████████▍                                                                      | 3/20 [00:24<02:17,  8.09s/it]\n",
      " 20%|████████████████▌                                                                  | 4/20 [00:29<01:56,  7.27s/it]\n",
      " 25%|████████████████████▊                                                              | 5/20 [00:35<01:45,  7.06s/it]\n",
      " 30%|████████████████████████▉                                                          | 6/20 [00:40<01:34,  6.75s/it]\n",
      " 35%|█████████████████████████████                                                      | 7/20 [00:43<01:20,  6.23s/it]\n",
      " 40%|█████████████████████████████████▏                                                 | 8/20 [00:48<01:12,  6.07s/it]\n",
      " 45%|█████████████████████████████████████▎                                             | 9/20 [00:54<01:06,  6.03s/it]\n",
      " 50%|█████████████████████████████████████████                                         | 10/20 [00:59<00:59,  5.95s/it]\n",
      " 55%|█████████████████████████████████████████████                                     | 11/20 [01:04<00:52,  5.87s/it]\n",
      " 60%|█████████████████████████████████████████████████▏                                | 12/20 [01:08<00:45,  5.74s/it]\n",
      " 65%|█████████████████████████████████████████████████████▎                            | 13/20 [01:12<00:38,  5.56s/it]\n",
      " 70%|█████████████████████████████████████████████████████████▍                        | 14/20 [01:16<00:32,  5.46s/it]\n",
      " 75%|█████████████████████████████████████████████████████████████▌                    | 15/20 [01:21<00:27,  5.42s/it]\n",
      " 80%|█████████████████████████████████████████████████████████████████▌                | 16/20 [01:26<00:21,  5.41s/it]\n",
      " 85%|█████████████████████████████████████████████████████████████████████▋            | 17/20 [01:30<00:15,  5.33s/it]\n",
      " 90%|█████████████████████████████████████████████████████████████████████████▊        | 18/20 [01:35<00:10,  5.32s/it]\n",
      " 95%|█████████████████████████████████████████████████████████████████████████████▉    | 19/20 [01:41<00:05,  5.33s/it]\n",
      "100%|██████████████████████████████████████████████████████████████████████████████████| 20/20 [01:44<00:00,  5.23s/it]\n"
     ]
    },
    {
     "name": "stdout",
     "output_type": "stream",
     "text": [
      "fitness done\n"
     ]
    },
    {
     "name": "stderr",
     "output_type": "stream",
     "text": [
      "\n",
      "  0%|                                                                                           | 0/20 [00:00<?, ?it/s]\n",
      "100%|██████████████████████████████████████████████████████████████████████████████████████████| 20/20 [00:00<?, ?it/s]"
     ]
    },
    {
     "name": "stdout",
     "output_type": "stream",
     "text": [
      "complete4\n",
      "5\n"
     ]
    },
    {
     "name": "stderr",
     "output_type": "stream",
     "text": [
      "\n",
      "  0%|                                                                                           | 0/20 [00:00<?, ?it/s]\n",
      " 35%|█████████████████████████████                                                      | 7/20 [00:00<00:00, 66.24it/s]\n",
      " 45%|█████████████████████████████████████▎                                             | 9/20 [00:00<00:00, 40.63it/s]\n",
      " 75%|█████████████████████████████████████████████████████████████▌                    | 15/20 [00:00<00:00, 41.71it/s]\n",
      " 90%|█████████████████████████████████████████████████████████████████████████▊        | 18/20 [00:00<00:00, 39.14it/s]\n",
      "100%|██████████████████████████████████████████████████████████████████████████████████| 20/20 [00:00<00:00, 40.72it/s]"
     ]
    },
    {
     "name": "stdout",
     "output_type": "stream",
     "text": [
      "transpose\n",
      "exp\n",
      "apply lambda\n",
      "copied\n"
     ]
    },
    {
     "name": "stderr",
     "output_type": "stream",
     "text": [
      "\n",
      "  0%|                                                                                           | 0/20 [00:00<?, ?it/s]\n",
      " 95%|████████████████████████████████████████████████████████████████████████████▉    | 19/20 [00:00<00:00, 181.52it/s]\n",
      "100%|█████████████████████████████████████████████████████████████████████████████████| 20/20 [00:00<00:00, 177.37it/s]"
     ]
    },
    {
     "name": "stdout",
     "output_type": "stream",
     "text": [
      "running fitness\n"
     ]
    },
    {
     "name": "stderr",
     "output_type": "stream",
     "text": [
      "\n",
      "  0%|                                                                                           | 0/20 [00:00<?, ?it/s]\n",
      "  5%|████▏                                                                              | 1/20 [00:11<03:43, 11.78s/it]\n",
      " 10%|████████▎                                                                          | 2/20 [00:15<02:16,  7.60s/it]\n",
      " 15%|████████████▍                                                                      | 3/20 [00:19<01:53,  6.65s/it]\n",
      " 20%|████████████████▌                                                                  | 4/20 [00:22<01:31,  5.73s/it]\n",
      " 25%|████████████████████▊                                                              | 5/20 [00:27<01:23,  5.54s/it]\n",
      " 30%|████████████████████████▉                                                          | 6/20 [00:33<01:17,  5.53s/it]\n",
      " 35%|█████████████████████████████                                                      | 7/20 [00:38<01:11,  5.49s/it]\n",
      " 40%|█████████████████████████████████▏                                                 | 8/20 [00:42<01:03,  5.27s/it]\n",
      " 45%|█████████████████████████████████████▎                                             | 9/20 [00:47<00:57,  5.25s/it]\n",
      " 50%|█████████████████████████████████████████                                         | 10/20 [00:50<00:50,  5.01s/it]\n",
      " 55%|█████████████████████████████████████████████                                     | 11/20 [00:55<00:45,  5.03s/it]\n",
      " 60%|█████████████████████████████████████████████████▏                                | 12/20 [00:59<00:39,  4.92s/it]\n",
      " 65%|█████████████████████████████████████████████████████▎                            | 13/20 [01:04<00:34,  4.93s/it]\n",
      " 70%|█████████████████████████████████████████████████████████▍                        | 14/20 [01:08<00:29,  4.89s/it]\n",
      " 75%|█████████████████████████████████████████████████████████████▌                    | 15/20 [01:13<00:24,  4.88s/it]\n",
      " 80%|█████████████████████████████████████████████████████████████████▌                | 16/20 [01:19<00:19,  4.95s/it]\n",
      " 85%|█████████████████████████████████████████████████████████████████████▋            | 17/20 [01:24<00:14,  4.95s/it]\n",
      " 90%|█████████████████████████████████████████████████████████████████████████▊        | 18/20 [01:29<00:09,  5.00s/it]\n",
      " 95%|█████████████████████████████████████████████████████████████████████████████▉    | 19/20 [01:35<00:05,  5.01s/it]\n",
      "100%|██████████████████████████████████████████████████████████████████████████████████| 20/20 [01:40<00:00,  5.00s/it]\n"
     ]
    },
    {
     "name": "stdout",
     "output_type": "stream",
     "text": [
      "fitness done\n"
     ]
    },
    {
     "name": "stderr",
     "output_type": "stream",
     "text": [
      "\n",
      "  0%|                                                                                           | 0/20 [00:00<?, ?it/s]\n",
      "100%|██████████████████████████████████████████████████████████████████████████████████████████| 20/20 [00:00<?, ?it/s]"
     ]
    },
    {
     "name": "stdout",
     "output_type": "stream",
     "text": [
      "complete5\n",
      "6\n"
     ]
    },
    {
     "name": "stderr",
     "output_type": "stream",
     "text": [
      "\n",
      "  0%|                                                                                           | 0/20 [00:00<?, ?it/s]\n",
      " 10%|████████▎                                                                          | 2/20 [00:00<00:01, 17.84it/s]\n",
      " 25%|████████████████████▊                                                              | 5/20 [00:00<00:00, 22.48it/s]\n",
      " 55%|█████████████████████████████████████████████                                     | 11/20 [00:00<00:00, 29.76it/s]\n",
      " 90%|█████████████████████████████████████████████████████████████████████████▊        | 18/20 [00:00<00:00, 34.82it/s]\n",
      "100%|██████████████████████████████████████████████████████████████████████████████████| 20/20 [00:00<00:00, 37.10it/s]"
     ]
    },
    {
     "name": "stdout",
     "output_type": "stream",
     "text": [
      "transpose\n",
      "exp\n",
      "apply lambda\n",
      "copied\n"
     ]
    },
    {
     "name": "stderr",
     "output_type": "stream",
     "text": [
      "\n",
      "  0%|                                                                                           | 0/20 [00:00<?, ?it/s]\n",
      "100%|█████████████████████████████████████████████████████████████████████████████████| 20/20 [00:00<00:00, 205.93it/s]"
     ]
    },
    {
     "name": "stdout",
     "output_type": "stream",
     "text": [
      "running fitness\n"
     ]
    },
    {
     "name": "stderr",
     "output_type": "stream",
     "text": [
      "\n",
      "  0%|                                                                                           | 0/20 [00:00<?, ?it/s]\n",
      "  5%|████▏                                                                              | 1/20 [00:12<03:49, 12.08s/it]\n",
      " 10%|████████▎                                                                          | 2/20 [00:16<02:28,  8.26s/it]\n",
      " 15%|████████████▍                                                                      | 3/20 [00:20<01:55,  6.82s/it]\n",
      " 20%|████████████████▌                                                                  | 4/20 [00:25<01:40,  6.31s/it]\n",
      " 25%|████████████████████▊                                                              | 5/20 [00:28<01:25,  5.67s/it]\n",
      " 30%|████████████████████████▉                                                          | 6/20 [00:33<01:17,  5.57s/it]\n",
      " 35%|█████████████████████████████                                                      | 7/20 [00:38<01:10,  5.45s/it]\n",
      " 40%|█████████████████████████████████▏                                                 | 8/20 [00:42<01:04,  5.36s/it]\n",
      " 45%|█████████████████████████████████████▎                                             | 9/20 [00:47<00:58,  5.32s/it]\n",
      " 50%|█████████████████████████████████████████                                         | 10/20 [00:53<00:53,  5.30s/it]\n",
      " 55%|█████████████████████████████████████████████                                     | 11/20 [00:57<00:46,  5.19s/it]\n",
      " 60%|█████████████████████████████████████████████████▏                                | 12/20 [01:02<00:41,  5.19s/it]\n",
      " 65%|█████████████████████████████████████████████████████▎                            | 13/20 [01:07<00:36,  5.18s/it]\n",
      " 70%|█████████████████████████████████████████████████████████▍                        | 14/20 [01:10<00:30,  5.06s/it]\n",
      " 75%|█████████████████████████████████████████████████████████████▌                    | 15/20 [01:15<00:25,  5.03s/it]\n",
      " 80%|█████████████████████████████████████████████████████████████████▌                | 16/20 [01:20<00:20,  5.01s/it]\n",
      " 85%|█████████████████████████████████████████████████████████████████████▋            | 17/20 [01:24<00:14,  4.98s/it]\n",
      " 90%|█████████████████████████████████████████████████████████████████████████▊        | 18/20 [01:28<00:09,  4.92s/it]\n",
      " 95%|█████████████████████████████████████████████████████████████████████████████▉    | 19/20 [01:33<00:04,  4.92s/it]\n",
      "100%|██████████████████████████████████████████████████████████████████████████████████| 20/20 [01:39<00:00,  4.97s/it]\n"
     ]
    },
    {
     "name": "stdout",
     "output_type": "stream",
     "text": [
      "fitness done\n"
     ]
    },
    {
     "name": "stderr",
     "output_type": "stream",
     "text": [
      "\n",
      "  0%|                                                                                           | 0/20 [00:00<?, ?it/s]\n",
      "100%|██████████████████████████████████████████████████████████████████████████████████████████| 20/20 [00:00<?, ?it/s]"
     ]
    },
    {
     "name": "stdout",
     "output_type": "stream",
     "text": [
      "complete6\n",
      "7\n"
     ]
    },
    {
     "name": "stderr",
     "output_type": "stream",
     "text": [
      "\n",
      "  0%|                                                                                           | 0/20 [00:00<?, ?it/s]\n",
      " 10%|████████▎                                                                          | 2/20 [00:00<00:01, 17.91it/s]\n",
      " 45%|█████████████████████████████████████▎                                             | 9/20 [00:00<00:00, 42.46it/s]\n",
      " 80%|█████████████████████████████████████████████████████████████████▌                | 16/20 [00:00<00:00, 44.54it/s]\n",
      "100%|██████████████████████████████████████████████████████████████████████████████████| 20/20 [00:00<00:00, 48.48it/s]"
     ]
    },
    {
     "name": "stdout",
     "output_type": "stream",
     "text": [
      "transpose\n",
      "exp\n",
      "apply lambda\n",
      "copied\n"
     ]
    },
    {
     "name": "stderr",
     "output_type": "stream",
     "text": [
      "\n",
      "  0%|                                                                                           | 0/20 [00:00<?, ?it/s]\n",
      "100%|█████████████████████████████████████████████████████████████████████████████████| 20/20 [00:00<00:00, 209.44it/s]"
     ]
    },
    {
     "name": "stdout",
     "output_type": "stream",
     "text": [
      "running fitness\n"
     ]
    },
    {
     "name": "stderr",
     "output_type": "stream",
     "text": [
      "\n",
      "  0%|                                                                                           | 0/20 [00:00<?, ?it/s]\n",
      "  5%|████▏                                                                              | 1/20 [00:10<03:28, 10.99s/it]\n",
      " 10%|████████▎                                                                          | 2/20 [00:15<02:23,  7.97s/it]\n",
      " 15%|████████████▍                                                                      | 3/20 [00:20<01:57,  6.90s/it]\n",
      " 20%|████████████████▌                                                                  | 4/20 [00:25<01:42,  6.39s/it]\n",
      " 25%|████████████████████▊                                                              | 5/20 [00:30<01:30,  6.05s/it]\n",
      " 30%|████████████████████████▉                                                          | 6/20 [00:34<01:21,  5.79s/it]\n",
      " 35%|█████████████████████████████                                                      | 7/20 [00:39<01:12,  5.59s/it]\n",
      " 40%|█████████████████████████████████▏                                                 | 8/20 [00:44<01:06,  5.52s/it]\n",
      " 45%|█████████████████████████████████████▎                                             | 9/20 [00:48<00:59,  5.40s/it]\n",
      " 50%|█████████████████████████████████████████                                         | 10/20 [00:53<00:53,  5.33s/it]\n",
      " 55%|█████████████████████████████████████████████                                     | 11/20 [00:57<00:47,  5.26s/it]\n",
      " 60%|█████████████████████████████████████████████████▏                                | 12/20 [01:02<00:41,  5.19s/it]\n",
      " 65%|█████████████████████████████████████████████████████▎                            | 13/20 [01:04<00:34,  4.97s/it]\n",
      " 70%|█████████████████████████████████████████████████████████▍                        | 14/20 [01:09<00:29,  4.94s/it]\n",
      " 75%|█████████████████████████████████████████████████████████████▌                    | 15/20 [01:13<00:24,  4.91s/it]\n",
      " 80%|█████████████████████████████████████████████████████████████████▌                | 16/20 [01:18<00:19,  4.90s/it]\n",
      " 85%|█████████████████████████████████████████████████████████████████████▋            | 17/20 [01:23<00:14,  4.94s/it]\n",
      " 90%|█████████████████████████████████████████████████████████████████████████▊        | 18/20 [01:29<00:09,  4.99s/it]\n",
      " 95%|█████████████████████████████████████████████████████████████████████████████▉    | 19/20 [01:35<00:05,  5.02s/it]\n",
      "100%|██████████████████████████████████████████████████████████████████████████████████| 20/20 [01:38<00:00,  4.93s/it]\n"
     ]
    },
    {
     "name": "stdout",
     "output_type": "stream",
     "text": [
      "fitness done\n"
     ]
    },
    {
     "name": "stderr",
     "output_type": "stream",
     "text": [
      "\n",
      "  0%|                                                                                           | 0/20 [00:00<?, ?it/s]\n",
      "100%|████████████████████████████████████████████████████████████████████████████████| 20/20 [00:00<00:00, 1636.83it/s]"
     ]
    },
    {
     "name": "stdout",
     "output_type": "stream",
     "text": [
      "complete7\n",
      "8\n"
     ]
    },
    {
     "name": "stderr",
     "output_type": "stream",
     "text": [
      "\n",
      "  0%|                                                                                           | 0/20 [00:00<?, ?it/s]\n",
      " 30%|████████████████████████▉                                                          | 6/20 [00:00<00:00, 58.65it/s]\n",
      " 40%|█████████████████████████████████▏                                                 | 8/20 [00:00<00:00, 34.14it/s]\n",
      " 70%|█████████████████████████████████████████████████████████▍                        | 14/20 [00:00<00:00, 43.88it/s]\n",
      "100%|██████████████████████████████████████████████████████████████████████████████████| 20/20 [00:00<00:00, 49.54it/s]"
     ]
    },
    {
     "name": "stdout",
     "output_type": "stream",
     "text": [
      "transpose\n",
      "exp\n",
      "apply lambda\n",
      "copied\n"
     ]
    },
    {
     "name": "stderr",
     "output_type": "stream",
     "text": [
      "\n",
      "  0%|                                                                                           | 0/20 [00:00<?, ?it/s]\n",
      "100%|█████████████████████████████████████████████████████████████████████████████████| 20/20 [00:00<00:00, 207.79it/s]"
     ]
    },
    {
     "name": "stdout",
     "output_type": "stream",
     "text": [
      "running fitness\n"
     ]
    },
    {
     "name": "stderr",
     "output_type": "stream",
     "text": [
      "\n",
      "  0%|                                                                                           | 0/20 [00:00<?, ?it/s]\n",
      "  5%|████▏                                                                              | 1/20 [00:11<03:40, 11.62s/it]\n",
      " 10%|████████▎                                                                          | 2/20 [00:16<02:26,  8.16s/it]\n",
      " 15%|████████████▍                                                                      | 3/20 [00:20<01:58,  7.00s/it]\n",
      " 20%|████████████████▌                                                                  | 4/20 [00:25<01:42,  6.41s/it]\n",
      " 25%|████████████████████▊                                                              | 5/20 [00:28<01:25,  5.73s/it]\n",
      " 30%|████████████████████████▉                                                          | 6/20 [00:33<01:17,  5.52s/it]\n",
      " 35%|█████████████████████████████                                                      | 7/20 [00:37<01:08,  5.30s/it]\n",
      " 40%|█████████████████████████████████▏                                                 | 8/20 [00:42<01:03,  5.32s/it]\n",
      " 45%|█████████████████████████████████████▎                                             | 9/20 [00:47<00:58,  5.31s/it]\n",
      " 50%|█████████████████████████████████████████                                         | 10/20 [00:52<00:52,  5.25s/it]\n",
      " 55%|█████████████████████████████████████████████                                     | 11/20 [00:57<00:46,  5.20s/it]\n",
      " 60%|█████████████████████████████████████████████████▏                                | 12/20 [01:01<00:41,  5.16s/it]\n",
      " 65%|█████████████████████████████████████████████████████▎                            | 13/20 [01:06<00:35,  5.11s/it]\n",
      " 70%|█████████████████████████████████████████████████████████▍                        | 14/20 [01:11<00:30,  5.08s/it]\n",
      " 75%|█████████████████████████████████████████████████████████████▌                    | 15/20 [01:15<00:25,  5.06s/it]\n",
      " 80%|█████████████████████████████████████████████████████████████████▌                | 16/20 [01:20<00:20,  5.04s/it]\n",
      " 85%|█████████████████████████████████████████████████████████████████████▋            | 17/20 [01:25<00:15,  5.02s/it]\n",
      " 90%|█████████████████████████████████████████████████████████████████████████▊        | 18/20 [01:30<00:10,  5.01s/it]\n",
      " 95%|█████████████████████████████████████████████████████████████████████████████▉    | 19/20 [01:35<00:05,  5.02s/it]\n",
      "100%|██████████████████████████████████████████████████████████████████████████████████| 20/20 [01:39<00:00,  5.00s/it]\n"
     ]
    },
    {
     "name": "stdout",
     "output_type": "stream",
     "text": [
      "fitness done\n"
     ]
    },
    {
     "name": "stderr",
     "output_type": "stream",
     "text": [
      "\n",
      "  0%|                                                                                           | 0/20 [00:00<?, ?it/s]\n",
      "100%|████████████████████████████████████████████████████████████████████████████████| 20/20 [00:00<00:00, 2474.88it/s]"
     ]
    },
    {
     "name": "stdout",
     "output_type": "stream",
     "text": [
      "complete8\n",
      "9\n"
     ]
    },
    {
     "name": "stderr",
     "output_type": "stream",
     "text": [
      "\n",
      "  0%|                                                                                           | 0/20 [00:00<?, ?it/s]\n",
      " 20%|████████████████▌                                                                  | 4/20 [00:00<00:00, 32.10it/s]\n",
      " 65%|█████████████████████████████████████████████████████▎                            | 13/20 [00:00<00:00, 42.56it/s]\n",
      " 90%|█████████████████████████████████████████████████████████████████████████▊        | 18/20 [00:00<00:00, 42.72it/s]\n",
      "100%|██████████████████████████████████████████████████████████████████████████████████| 20/20 [00:00<00:00, 45.09it/s]"
     ]
    },
    {
     "name": "stdout",
     "output_type": "stream",
     "text": [
      "transpose\n",
      "exp\n",
      "apply lambda\n",
      "copied\n"
     ]
    },
    {
     "name": "stderr",
     "output_type": "stream",
     "text": [
      "\n",
      "  0%|                                                                                           | 0/20 [00:00<?, ?it/s]\n",
      " 85%|████████████████████████████████████████████████████████████████████▊            | 17/20 [00:00<00:00, 169.57it/s]\n",
      "100%|█████████████████████████████████████████████████████████████████████████████████| 20/20 [00:00<00:00, 163.37it/s]"
     ]
    },
    {
     "name": "stdout",
     "output_type": "stream",
     "text": [
      "running fitness\n"
     ]
    },
    {
     "name": "stderr",
     "output_type": "stream",
     "text": [
      "\n",
      "  0%|                                                                                           | 0/20 [00:00<?, ?it/s]\n",
      "  5%|████▏                                                                              | 1/20 [00:09<03:08,  9.94s/it]\n",
      " 10%|████████▎                                                                          | 2/20 [00:14<02:10,  7.26s/it]\n",
      " 15%|████████████▍                                                                      | 3/20 [00:19<01:49,  6.42s/it]\n",
      " 20%|████████████████▌                                                                  | 4/20 [00:22<01:31,  5.72s/it]\n",
      " 25%|████████████████████▊                                                              | 5/20 [00:27<01:22,  5.50s/it]\n",
      " 30%|████████████████████████▉                                                          | 6/20 [00:32<01:14,  5.35s/it]\n",
      " 35%|█████████████████████████████                                                      | 7/20 [00:36<01:08,  5.28s/it]\n",
      " 40%|█████████████████████████████████▏                                                 | 8/20 [00:42<01:03,  5.27s/it]\n",
      " 45%|█████████████████████████████████████▎                                             | 9/20 [00:47<00:57,  5.24s/it]\n",
      " 50%|█████████████████████████████████████████                                         | 10/20 [00:52<00:52,  5.24s/it]\n",
      " 55%|█████████████████████████████████████████████                                     | 11/20 [00:57<00:46,  5.20s/it]\n",
      " 60%|█████████████████████████████████████████████████▏                                | 12/20 [01:02<00:41,  5.21s/it]\n",
      " 65%|█████████████████████████████████████████████████████▎                            | 13/20 [01:06<00:35,  5.14s/it]\n",
      " 70%|█████████████████████████████████████████████████████████▍                        | 14/20 [01:09<00:29,  4.93s/it]\n",
      " 75%|█████████████████████████████████████████████████████████████▌                    | 15/20 [01:14<00:24,  4.94s/it]\n",
      " 80%|█████████████████████████████████████████████████████████████████▌                | 16/20 [01:19<00:19,  4.97s/it]\n",
      " 85%|█████████████████████████████████████████████████████████████████████▋            | 17/20 [01:24<00:14,  4.96s/it]\n",
      " 90%|█████████████████████████████████████████████████████████████████████████▊        | 18/20 [01:28<00:09,  4.91s/it]\n",
      " 95%|█████████████████████████████████████████████████████████████████████████████▉    | 19/20 [01:30<00:04,  4.78s/it]\n",
      "100%|██████████████████████████████████████████████████████████████████████████████████| 20/20 [01:33<00:00,  4.70s/it]\n"
     ]
    },
    {
     "name": "stdout",
     "output_type": "stream",
     "text": [
      "fitness done\n"
     ]
    },
    {
     "name": "stderr",
     "output_type": "stream",
     "text": [
      "\n",
      "  0%|                                                                                           | 0/20 [00:00<?, ?it/s]\n",
      "100%|████████████████████████████████████████████████████████████████████████████████| 20/20 [00:00<00:00, 9683.26it/s]"
     ]
    },
    {
     "name": "stdout",
     "output_type": "stream",
     "text": [
      "complete9\n",
      "10\n"
     ]
    },
    {
     "name": "stderr",
     "output_type": "stream",
     "text": [
      "\n",
      "  0%|                                                                                           | 0/20 [00:00<?, ?it/s]\n",
      " 10%|████████▎                                                                          | 2/20 [00:00<00:01, 17.57it/s]\n",
      " 25%|████████████████████▊                                                              | 5/20 [00:00<00:00, 23.80it/s]\n",
      " 60%|█████████████████████████████████████████████████▏                                | 12/20 [00:00<00:00, 38.67it/s]\n",
      " 80%|█████████████████████████████████████████████████████████████████▌                | 16/20 [00:00<00:00, 37.54it/s]\n",
      "100%|██████████████████████████████████████████████████████████████████████████████████| 20/20 [00:00<00:00, 36.45it/s]\n"
     ]
    },
    {
     "name": "stdout",
     "output_type": "stream",
     "text": [
      "transpose\n",
      "exp\n",
      "apply lambda\n",
      "copied\n"
     ]
    },
    {
     "name": "stderr",
     "output_type": "stream",
     "text": [
      "\n",
      "  0%|                                                                                           | 0/20 [00:00<?, ?it/s]\n",
      " 85%|████████████████████████████████████████████████████████████████████▊            | 17/20 [00:00<00:00, 167.25it/s]\n",
      "100%|█████████████████████████████████████████████████████████████████████████████████| 20/20 [00:00<00:00, 139.93it/s]"
     ]
    },
    {
     "name": "stdout",
     "output_type": "stream",
     "text": [
      "running fitness\n"
     ]
    },
    {
     "name": "stderr",
     "output_type": "stream",
     "text": [
      "\n",
      "  0%|                                                                                           | 0/20 [00:00<?, ?it/s]\n",
      "  5%|████▏                                                                              | 1/20 [00:12<03:54, 12.34s/it]\n",
      " 10%|████████▎                                                                          | 2/20 [00:15<02:23,  7.95s/it]\n",
      " 15%|████████████▍                                                                      | 3/20 [00:20<01:56,  6.87s/it]\n",
      " 20%|████████████████▌                                                                  | 4/20 [00:25<01:40,  6.27s/it]\n",
      " 25%|████████████████████▊                                                              | 5/20 [00:29<01:29,  5.96s/it]\n",
      " 30%|████████████████████████▉                                                          | 6/20 [00:34<01:20,  5.78s/it]\n",
      " 35%|█████████████████████████████                                                      | 7/20 [00:38<01:10,  5.45s/it]\n",
      " 40%|█████████████████████████████████▏                                                 | 8/20 [00:40<01:00,  5.08s/it]\n",
      " 45%|█████████████████████████████████████▎                                             | 9/20 [00:45<00:56,  5.10s/it]\n",
      " 50%|█████████████████████████████████████████                                         | 10/20 [00:51<00:51,  5.13s/it]\n",
      " 55%|█████████████████████████████████████████████                                     | 11/20 [00:56<00:45,  5.10s/it]\n",
      " 60%|█████████████████████████████████████████████████▏                                | 12/20 [01:01<00:40,  5.12s/it]\n",
      " 65%|█████████████████████████████████████████████████████▎                            | 13/20 [01:05<00:35,  5.08s/it]\n",
      " 70%|█████████████████████████████████████████████████████████▍                        | 14/20 [01:10<00:30,  5.05s/it]\n",
      " 75%|█████████████████████████████████████████████████████████████▌                    | 15/20 [01:15<00:25,  5.06s/it]\n",
      " 80%|█████████████████████████████████████████████████████████████████▌                | 16/20 [01:19<00:19,  4.98s/it]\n",
      " 85%|█████████████████████████████████████████████████████████████████████▋            | 17/20 [01:24<00:14,  4.98s/it]\n",
      " 90%|█████████████████████████████████████████████████████████████████████████▊        | 18/20 [01:29<00:09,  4.97s/it]\n",
      " 95%|█████████████████████████████████████████████████████████████████████████████▉    | 19/20 [01:34<00:04,  4.96s/it]\n",
      "100%|██████████████████████████████████████████████████████████████████████████████████| 20/20 [01:38<00:00,  4.91s/it]\n"
     ]
    },
    {
     "name": "stdout",
     "output_type": "stream",
     "text": [
      "fitness done\n"
     ]
    },
    {
     "name": "stderr",
     "output_type": "stream",
     "text": [
      "\n",
      "  0%|                                                                                           | 0/20 [00:00<?, ?it/s]\n",
      "100%|██████████████████████████████████████████████████████████████████████████████████████████| 20/20 [00:00<?, ?it/s]"
     ]
    },
    {
     "name": "stdout",
     "output_type": "stream",
     "text": [
      "complete10\n",
      "11\n"
     ]
    },
    {
     "name": "stderr",
     "output_type": "stream",
     "text": [
      "\n",
      "  0%|                                                                                           | 0/20 [00:00<?, ?it/s]\n",
      " 20%|████████████████▌                                                                  | 4/20 [00:00<00:00, 35.98it/s]\n",
      " 70%|█████████████████████████████████████████████████████████▍                        | 14/20 [00:00<00:00, 66.20it/s]\n",
      "100%|██████████████████████████████████████████████████████████████████████████████████| 20/20 [00:00<00:00, 67.54it/s]"
     ]
    },
    {
     "name": "stdout",
     "output_type": "stream",
     "text": [
      "transpose\n",
      "exp\n",
      "apply lambda\n",
      "copied\n"
     ]
    },
    {
     "name": "stderr",
     "output_type": "stream",
     "text": [
      "\n",
      "  0%|                                                                                           | 0/20 [00:00<?, ?it/s]\n",
      " 95%|████████████████████████████████████████████████████████████████████████████▉    | 19/20 [00:00<00:00, 182.40it/s]\n",
      "100%|█████████████████████████████████████████████████████████████████████████████████| 20/20 [00:00<00:00, 178.15it/s]"
     ]
    },
    {
     "name": "stdout",
     "output_type": "stream",
     "text": [
      "running fitness\n"
     ]
    },
    {
     "name": "stderr",
     "output_type": "stream",
     "text": [
      "\n",
      "  0%|                                                                                           | 0/20 [00:00<?, ?it/s]\n",
      "  5%|████▏                                                                              | 1/20 [00:11<03:32, 11.19s/it]\n",
      " 10%|████████▎                                                                          | 2/20 [00:15<02:16,  7.59s/it]\n",
      " 15%|████████████▍                                                                      | 3/20 [00:18<01:45,  6.20s/it]\n",
      " 20%|████████████████▌                                                                  | 4/20 [00:22<01:31,  5.70s/it]\n",
      " 25%|████████████████████▊                                                              | 5/20 [00:26<01:19,  5.33s/it]\n",
      " 30%|████████████████████████▉                                                          | 6/20 [00:30<01:11,  5.09s/it]\n",
      " 35%|█████████████████████████████                                                      | 7/20 [00:34<01:03,  4.91s/it]\n",
      " 40%|█████████████████████████████████▏                                                 | 8/20 [00:38<00:57,  4.78s/it]\n",
      " 45%|█████████████████████████████████████▎                                             | 9/20 [00:41<00:50,  4.56s/it]\n",
      " 50%|█████████████████████████████████████████                                         | 10/20 [00:45<00:45,  4.52s/it]\n",
      " 55%|█████████████████████████████████████████████                                     | 11/20 [00:49<00:40,  4.52s/it]\n",
      " 60%|█████████████████████████████████████████████████▏                                | 12/20 [00:53<00:35,  4.42s/it]\n",
      " 65%|█████████████████████████████████████████████████████▎                            | 13/20 [00:56<00:30,  4.38s/it]\n",
      " 70%|█████████████████████████████████████████████████████████▍                        | 14/20 [01:01<00:26,  4.38s/it]\n",
      " 75%|█████████████████████████████████████████████████████████████▌                    | 15/20 [01:04<00:21,  4.27s/it]\n",
      " 80%|█████████████████████████████████████████████████████████████████▌                | 16/20 [01:08<00:17,  4.28s/it]\n",
      " 85%|█████████████████████████████████████████████████████████████████████▋            | 17/20 [01:12<00:12,  4.25s/it]\n",
      " 90%|█████████████████████████████████████████████████████████████████████████▊        | 18/20 [01:16<00:08,  4.24s/it]\n",
      " 95%|█████████████████████████████████████████████████████████████████████████████▉    | 19/20 [01:20<00:04,  4.23s/it]\n",
      "100%|██████████████████████████████████████████████████████████████████████████████████| 20/20 [01:24<00:00,  4.20s/it]\n"
     ]
    },
    {
     "name": "stdout",
     "output_type": "stream",
     "text": [
      "fitness done\n"
     ]
    },
    {
     "name": "stderr",
     "output_type": "stream",
     "text": [
      "\n",
      "  0%|                                                                                           | 0/20 [00:00<?, ?it/s]\n",
      "100%|████████████████████████████████████████████████████████████████████████████████| 20/20 [00:00<00:00, 9597.95it/s]"
     ]
    },
    {
     "name": "stdout",
     "output_type": "stream",
     "text": [
      "complete11\n",
      "12\n"
     ]
    },
    {
     "name": "stderr",
     "output_type": "stream",
     "text": [
      "\n",
      "  0%|                                                                                           | 0/20 [00:00<?, ?it/s]\n",
      " 35%|█████████████████████████████                                                      | 7/20 [00:00<00:00, 62.99it/s]\n",
      " 70%|█████████████████████████████████████████████████████████▍                        | 14/20 [00:00<00:00, 66.22it/s]\n",
      "100%|██████████████████████████████████████████████████████████████████████████████████| 20/20 [00:00<00:00, 67.54it/s]"
     ]
    },
    {
     "name": "stdout",
     "output_type": "stream",
     "text": [
      "transpose\n",
      "exp\n",
      "apply lambda\n",
      "copied\n"
     ]
    },
    {
     "name": "stderr",
     "output_type": "stream",
     "text": [
      "\n",
      "  0%|                                                                                           | 0/20 [00:00<?, ?it/s]\n",
      "100%|█████████████████████████████████████████████████████████████████████████████████| 20/20 [00:00<00:00, 211.98it/s]"
     ]
    },
    {
     "name": "stdout",
     "output_type": "stream",
     "text": [
      "running fitness\n"
     ]
    },
    {
     "name": "stderr",
     "output_type": "stream",
     "text": [
      "\n",
      "  0%|                                                                                           | 0/20 [00:00<?, ?it/s]\n",
      "  5%|████▏                                                                              | 1/20 [00:11<03:46, 11.95s/it]\n",
      " 10%|████████▎                                                                          | 2/20 [00:16<02:31,  8.43s/it]\n",
      " 15%|████████████▍                                                                      | 3/20 [00:21<02:03,  7.25s/it]\n",
      " 20%|████████████████▌                                                                  | 4/20 [00:26<01:44,  6.55s/it]\n",
      " 25%|████████████████████▊                                                              | 5/20 [00:30<01:32,  6.19s/it]\n",
      " 30%|████████████████████████▉                                                          | 6/20 [00:35<01:22,  5.91s/it]\n",
      " 35%|█████████████████████████████                                                      | 7/20 [00:40<01:15,  5.78s/it]\n",
      " 40%|█████████████████████████████████▏                                                 | 8/20 [00:44<01:06,  5.53s/it]\n",
      " 45%|█████████████████████████████████████▎                                             | 9/20 [00:49<01:00,  5.47s/it]\n",
      " 50%|█████████████████████████████████████████                                         | 10/20 [00:54<00:54,  5.41s/it]\n",
      " 55%|█████████████████████████████████████████████                                     | 11/20 [00:58<00:48,  5.34s/it]\n",
      " 60%|█████████████████████████████████████████████████▏                                | 12/20 [01:03<00:42,  5.27s/it]\n",
      " 65%|█████████████████████████████████████████████████████▎                            | 13/20 [01:06<00:35,  5.12s/it]\n",
      " 70%|█████████████████████████████████████████████████████████▍                        | 14/20 [01:11<00:30,  5.09s/it]\n",
      " 75%|█████████████████████████████████████████████████████████████▌                    | 15/20 [01:15<00:25,  5.06s/it]\n",
      " 80%|█████████████████████████████████████████████████████████████████▌                | 16/20 [01:20<00:20,  5.05s/it]\n",
      " 85%|█████████████████████████████████████████████████████████████████████▋            | 17/20 [01:25<00:15,  5.02s/it]\n",
      " 90%|█████████████████████████████████████████████████████████████████████████▊        | 18/20 [01:30<00:10,  5.03s/it]\n",
      " 95%|█████████████████████████████████████████████████████████████████████████████▉    | 19/20 [01:34<00:04,  4.96s/it]\n",
      "100%|██████████████████████████████████████████████████████████████████████████████████| 20/20 [01:38<00:00,  4.95s/it]\n"
     ]
    },
    {
     "name": "stdout",
     "output_type": "stream",
     "text": [
      "fitness done\n"
     ]
    },
    {
     "name": "stderr",
     "output_type": "stream",
     "text": [
      "\n",
      "  0%|                                                                                           | 0/20 [00:00<?, ?it/s]\n",
      "100%|██████████████████████████████████████████████████████████████████████████████████████████| 20/20 [00:00<?, ?it/s]"
     ]
    },
    {
     "name": "stdout",
     "output_type": "stream",
     "text": [
      "complete12\n",
      "13\n"
     ]
    },
    {
     "name": "stderr",
     "output_type": "stream",
     "text": [
      "\n",
      "  0%|                                                                                           | 0/20 [00:00<?, ?it/s]\n",
      " 40%|█████████████████████████████████▏                                                 | 8/20 [00:00<00:00, 70.57it/s]\n",
      " 65%|█████████████████████████████████████████████████████▎                            | 13/20 [00:00<00:00, 53.08it/s]\n",
      "100%|██████████████████████████████████████████████████████████████████████████████████| 20/20 [00:00<00:00, 60.69it/s]"
     ]
    },
    {
     "name": "stdout",
     "output_type": "stream",
     "text": [
      "transpose\n",
      "exp\n",
      "apply lambda\n",
      "copied\n"
     ]
    },
    {
     "name": "stderr",
     "output_type": "stream",
     "text": [
      "\n",
      "  0%|                                                                                           | 0/20 [00:00<?, ?it/s]\n",
      "100%|█████████████████████████████████████████████████████████████████████████████████| 20/20 [00:00<00:00, 220.11it/s]"
     ]
    },
    {
     "name": "stdout",
     "output_type": "stream",
     "text": [
      "running fitness\n"
     ]
    },
    {
     "name": "stderr",
     "output_type": "stream",
     "text": [
      "\n",
      "  0%|                                                                                           | 0/20 [00:00<?, ?it/s]\n",
      "  5%|████▏                                                                              | 1/20 [00:11<03:35, 11.32s/it]\n",
      " 10%|████████▎                                                                          | 2/20 [00:16<02:24,  8.03s/it]\n",
      " 15%|████████████▍                                                                      | 3/20 [00:20<01:56,  6.86s/it]\n",
      " 20%|████████████████▌                                                                  | 4/20 [00:23<01:32,  5.77s/it]\n",
      " 25%|████████████████████▊                                                              | 5/20 [00:27<01:22,  5.50s/it]\n",
      " 30%|████████████████████████▉                                                          | 6/20 [00:32<01:16,  5.45s/it]\n",
      " 35%|█████████████████████████████                                                      | 7/20 [00:37<01:09,  5.32s/it]\n",
      " 40%|█████████████████████████████████▏                                                 | 8/20 [00:42<01:03,  5.27s/it]\n",
      " 45%|█████████████████████████████████████▎                                             | 9/20 [00:46<00:56,  5.18s/it]\n",
      " 50%|█████████████████████████████████████████                                         | 10/20 [00:51<00:51,  5.11s/it]\n",
      " 55%|█████████████████████████████████████████████                                     | 11/20 [00:57<00:46,  5.19s/it]\n",
      " 60%|█████████████████████████████████████████████████▏                                | 12/20 [01:01<00:41,  5.17s/it]\n",
      " 65%|█████████████████████████████████████████████████████▎                            | 13/20 [01:05<00:35,  5.07s/it]\n",
      " 70%|█████████████████████████████████████████████████████████▍                        | 14/20 [01:11<00:30,  5.08s/it]\n",
      " 75%|█████████████████████████████████████████████████████████████▌                    | 15/20 [01:15<00:25,  5.04s/it]\n",
      " 80%|█████████████████████████████████████████████████████████████████▌                | 16/20 [01:19<00:19,  4.98s/it]\n",
      " 85%|█████████████████████████████████████████████████████████████████████▋            | 17/20 [01:24<00:14,  4.97s/it]\n",
      " 90%|█████████████████████████████████████████████████████████████████████████▊        | 18/20 [01:29<00:09,  4.95s/it]\n",
      " 95%|█████████████████████████████████████████████████████████████████████████████▉    | 19/20 [01:33<00:04,  4.94s/it]\n",
      "100%|██████████████████████████████████████████████████████████████████████████████████| 20/20 [01:38<00:00,  4.93s/it]\n"
     ]
    },
    {
     "name": "stdout",
     "output_type": "stream",
     "text": [
      "fitness done\n"
     ]
    },
    {
     "name": "stderr",
     "output_type": "stream",
     "text": [
      "\n",
      "  0%|                                                                                           | 0/20 [00:00<?, ?it/s]\n",
      "100%|██████████████████████████████████████████████████████████████████████████████████████████| 20/20 [00:00<?, ?it/s]"
     ]
    },
    {
     "name": "stdout",
     "output_type": "stream",
     "text": [
      "complete13\n",
      "14\n"
     ]
    },
    {
     "name": "stderr",
     "output_type": "stream",
     "text": [
      "\n",
      "  0%|                                                                                           | 0/20 [00:00<?, ?it/s]\n",
      " 40%|█████████████████████████████████▏                                                 | 8/20 [00:00<00:00, 70.61it/s]\n",
      " 55%|█████████████████████████████████████████████                                     | 11/20 [00:00<00:00, 47.98it/s]\n",
      " 85%|█████████████████████████████████████████████████████████████████████▋            | 17/20 [00:00<00:00, 54.16it/s]\n",
      "100%|██████████████████████████████████████████████████████████████████████████████████| 20/20 [00:00<00:00, 56.88it/s]"
     ]
    },
    {
     "name": "stdout",
     "output_type": "stream",
     "text": [
      "transpose\n",
      "exp\n",
      "apply lambda\n",
      "copied\n"
     ]
    },
    {
     "name": "stderr",
     "output_type": "stream",
     "text": [
      "\n",
      "  0%|                                                                                           | 0/20 [00:00<?, ?it/s]\n",
      "100%|█████████████████████████████████████████████████████████████████████████████████| 20/20 [00:00<00:00, 213.25it/s]"
     ]
    },
    {
     "name": "stdout",
     "output_type": "stream",
     "text": [
      "running fitness\n"
     ]
    },
    {
     "name": "stderr",
     "output_type": "stream",
     "text": [
      "\n",
      "  0%|                                                                                           | 0/20 [00:00<?, ?it/s]\n",
      "  5%|████▏                                                                              | 1/20 [00:11<03:39, 11.56s/it]\n",
      " 10%|████████▎                                                                          | 2/20 [00:16<02:29,  8.31s/it]\n",
      " 15%|████████████▍                                                                      | 3/20 [00:21<02:01,  7.14s/it]\n",
      " 20%|████████████████▌                                                                  | 4/20 [00:26<01:46,  6.69s/it]\n",
      " 25%|████████████████████▊                                                              | 5/20 [00:31<01:34,  6.29s/it]\n",
      " 30%|████████████████████████▉                                                          | 6/20 [00:33<01:19,  5.65s/it]\n",
      " 35%|█████████████████████████████                                                      | 7/20 [00:38<01:11,  5.54s/it]\n",
      " 40%|█████████████████████████████████▏                                                 | 8/20 [00:43<01:05,  5.47s/it]\n",
      " 45%|█████████████████████████████████████▎                                             | 9/20 [00:47<00:58,  5.31s/it]\n",
      " 50%|█████████████████████████████████████████                                         | 10/20 [00:50<00:50,  5.05s/it]\n",
      " 55%|█████████████████████████████████████████████                                     | 11/20 [00:56<00:45,  5.09s/it]\n",
      " 60%|█████████████████████████████████████████████████▏                                | 12/20 [01:01<00:40,  5.11s/it]\n",
      " 65%|█████████████████████████████████████████████████████▎                            | 13/20 [01:06<00:35,  5.08s/it]\n",
      " 70%|█████████████████████████████████████████████████████████▍                        | 14/20 [01:10<00:30,  5.05s/it]\n",
      " 75%|█████████████████████████████████████████████████████████████▌                    | 15/20 [01:15<00:25,  5.04s/it]\n",
      " 80%|█████████████████████████████████████████████████████████████████▌                | 16/20 [01:20<00:20,  5.03s/it]\n",
      " 85%|█████████████████████████████████████████████████████████████████████▋            | 17/20 [01:25<00:15,  5.04s/it]\n",
      " 90%|█████████████████████████████████████████████████████████████████████████▊        | 18/20 [01:30<00:10,  5.02s/it]\n",
      " 95%|█████████████████████████████████████████████████████████████████████████████▉    | 19/20 [01:32<00:04,  4.89s/it]\n",
      "100%|██████████████████████████████████████████████████████████████████████████████████| 20/20 [01:36<00:00,  4.85s/it]\n"
     ]
    },
    {
     "name": "stdout",
     "output_type": "stream",
     "text": [
      "fitness done\n"
     ]
    },
    {
     "name": "stderr",
     "output_type": "stream",
     "text": [
      "\n",
      "  0%|                                                                                           | 0/20 [00:00<?, ?it/s]\n",
      "100%|██████████████████████████████████████████████████████████████████████████████████████████| 20/20 [00:00<?, ?it/s]"
     ]
    },
    {
     "name": "stdout",
     "output_type": "stream",
     "text": [
      "complete14\n",
      "15\n"
     ]
    },
    {
     "name": "stderr",
     "output_type": "stream",
     "text": [
      "\n",
      "  0%|                                                                                           | 0/20 [00:00<?, ?it/s]\n",
      " 20%|████████████████▌                                                                  | 4/20 [00:00<00:00, 31.51it/s]\n",
      " 60%|█████████████████████████████████████████████████▏                                | 12/20 [00:00<00:00, 52.81it/s]\n",
      " 80%|█████████████████████████████████████████████████████████████████▌                | 16/20 [00:00<00:00, 45.76it/s]\n",
      "100%|██████████████████████████████████████████████████████████████████████████████████| 20/20 [00:00<00:00, 41.56it/s]\n"
     ]
    },
    {
     "name": "stdout",
     "output_type": "stream",
     "text": [
      "transpose\n",
      "exp\n",
      "apply lambda\n",
      "copied\n"
     ]
    },
    {
     "name": "stderr",
     "output_type": "stream",
     "text": [
      "\n",
      "  0%|                                                                                           | 0/20 [00:00<?, ?it/s]\n",
      "100%|█████████████████████████████████████████████████████████████████████████████████| 20/20 [00:00<00:00, 193.23it/s]"
     ]
    },
    {
     "name": "stdout",
     "output_type": "stream",
     "text": [
      "running fitness\n"
     ]
    },
    {
     "name": "stderr",
     "output_type": "stream",
     "text": [
      "\n",
      "  0%|                                                                                           | 0/20 [00:00<?, ?it/s]\n",
      "  5%|████▏                                                                              | 1/20 [00:11<03:40, 11.63s/it]\n",
      " 10%|████████▎                                                                          | 2/20 [00:16<02:27,  8.17s/it]\n",
      " 15%|████████████▍                                                                      | 3/20 [00:21<02:00,  7.10s/it]\n",
      " 20%|████████████████▌                                                                  | 4/20 [00:24<01:39,  6.23s/it]\n",
      " 25%|████████████████████▊                                                              | 5/20 [00:29<01:28,  5.90s/it]\n",
      " 30%|████████████████████████▉                                                          | 6/20 [00:34<01:20,  5.74s/it]\n",
      " 35%|█████████████████████████████                                                      | 7/20 [00:40<01:14,  5.72s/it]\n",
      " 40%|█████████████████████████████████▏                                                 | 8/20 [00:44<01:07,  5.59s/it]\n",
      " 45%|█████████████████████████████████████▎                                             | 9/20 [00:49<01:00,  5.49s/it]\n",
      " 50%|█████████████████████████████████████████                                         | 10/20 [00:53<00:53,  5.39s/it]\n",
      " 55%|█████████████████████████████████████████████                                     | 11/20 [00:58<00:47,  5.33s/it]\n",
      " 60%|█████████████████████████████████████████████████▏                                | 12/20 [01:03<00:42,  5.30s/it]\n",
      " 65%|█████████████████████████████████████████████████████▎                            | 13/20 [01:08<00:36,  5.28s/it]\n",
      " 70%|█████████████████████████████████████████████████████████▍                        | 14/20 [01:13<00:31,  5.24s/it]\n",
      " 75%|█████████████████████████████████████████████████████████████▌                    | 15/20 [01:18<00:26,  5.24s/it]\n",
      " 80%|█████████████████████████████████████████████████████████████████▌                | 16/20 [01:22<00:20,  5.14s/it]\n",
      " 85%|█████████████████████████████████████████████████████████████████████▋            | 17/20 [01:26<00:15,  5.11s/it]\n",
      " 90%|█████████████████████████████████████████████████████████████████████████▊        | 18/20 [01:29<00:09,  4.99s/it]\n",
      " 95%|█████████████████████████████████████████████████████████████████████████████▉    | 19/20 [01:35<00:05,  5.01s/it]\n",
      "100%|██████████████████████████████████████████████████████████████████████████████████| 20/20 [01:38<00:00,  4.95s/it]\n"
     ]
    },
    {
     "name": "stdout",
     "output_type": "stream",
     "text": [
      "fitness done\n"
     ]
    },
    {
     "name": "stderr",
     "output_type": "stream",
     "text": [
      "\n",
      "  0%|                                                                                           | 0/20 [00:00<?, ?it/s]\n",
      "100%|██████████████████████████████████████████████████████████████████████████████████████████| 20/20 [00:00<?, ?it/s]"
     ]
    },
    {
     "name": "stdout",
     "output_type": "stream",
     "text": [
      "complete15\n",
      "16\n"
     ]
    },
    {
     "name": "stderr",
     "output_type": "stream",
     "text": [
      "\n",
      "  0%|                                                                                           | 0/20 [00:00<?, ?it/s]\n",
      " 35%|█████████████████████████████                                                      | 7/20 [00:00<00:00, 67.77it/s]\n",
      " 50%|█████████████████████████████████████████                                         | 10/20 [00:00<00:00, 42.58it/s]\n",
      " 90%|█████████████████████████████████████████████████████████████████████████▊        | 18/20 [00:00<00:00, 56.34it/s]\n",
      "100%|██████████████████████████████████████████████████████████████████████████████████| 20/20 [00:00<00:00, 57.03it/s]"
     ]
    },
    {
     "name": "stdout",
     "output_type": "stream",
     "text": [
      "transpose\n",
      "exp\n",
      "apply lambda\n",
      "copied\n"
     ]
    },
    {
     "name": "stderr",
     "output_type": "stream",
     "text": [
      "\n",
      "  0%|                                                                                           | 0/20 [00:00<?, ?it/s]\n",
      "100%|█████████████████████████████████████████████████████████████████████████████████| 20/20 [00:00<00:00, 192.66it/s]\n"
     ]
    },
    {
     "name": "stdout",
     "output_type": "stream",
     "text": [
      "running fitness\n"
     ]
    },
    {
     "name": "stderr",
     "output_type": "stream",
     "text": [
      "\n",
      "  0%|                                                                                           | 0/20 [00:00<?, ?it/s]\n",
      "  5%|████▏                                                                              | 1/20 [00:12<03:48, 12.05s/it]\n",
      " 10%|████████▎                                                                          | 2/20 [00:14<02:11,  7.29s/it]\n",
      " 15%|████████████▍                                                                      | 3/20 [00:19<01:48,  6.36s/it]\n",
      " 20%|████████████████▌                                                                  | 4/20 [00:23<01:34,  5.91s/it]\n",
      " 25%|████████████████████▊                                                              | 5/20 [00:26<01:18,  5.22s/it]\n",
      " 30%|████████████████████████▉                                                          | 6/20 [00:30<01:11,  5.12s/it]\n",
      " 35%|█████████████████████████████                                                      | 7/20 [00:35<01:05,  5.04s/it]\n",
      " 40%|█████████████████████████████████▏                                                 | 8/20 [00:40<01:00,  5.00s/it]\n",
      " 45%|█████████████████████████████████████▎                                             | 9/20 [00:43<00:53,  4.84s/it]\n",
      " 50%|█████████████████████████████████████████                                         | 10/20 [00:48<00:48,  4.83s/it]\n",
      " 55%|█████████████████████████████████████████████                                     | 11/20 [00:52<00:43,  4.80s/it]\n",
      " 60%|█████████████████████████████████████████████████▏                                | 12/20 [00:56<00:37,  4.74s/it]\n",
      " 65%|█████████████████████████████████████████████████████▎                            | 13/20 [01:01<00:33,  4.73s/it]\n",
      " 70%|█████████████████████████████████████████████████████████▍                        | 14/20 [01:06<00:28,  4.74s/it]\n",
      " 75%|█████████████████████████████████████████████████████████████▌                    | 15/20 [01:08<00:22,  4.59s/it]\n",
      " 80%|█████████████████████████████████████████████████████████████████▌                | 16/20 [01:12<00:18,  4.54s/it]\n",
      " 85%|█████████████████████████████████████████████████████████████████████▋            | 17/20 [01:17<00:13,  4.55s/it]\n",
      " 90%|█████████████████████████████████████████████████████████████████████████▊        | 18/20 [01:21<00:09,  4.53s/it]\n",
      " 95%|█████████████████████████████████████████████████████████████████████████████▉    | 19/20 [01:25<00:04,  4.48s/it]\n",
      "100%|██████████████████████████████████████████████████████████████████████████████████| 20/20 [01:29<00:00,  4.49s/it]\n"
     ]
    },
    {
     "name": "stdout",
     "output_type": "stream",
     "text": [
      "fitness done\n"
     ]
    },
    {
     "name": "stderr",
     "output_type": "stream",
     "text": [
      "\n",
      "  0%|                                                                                           | 0/20 [00:00<?, ?it/s]\n",
      "100%|████████████████████████████████████████████████████████████████████████████████| 20/20 [00:00<00:00, 1977.19it/s]"
     ]
    },
    {
     "name": "stdout",
     "output_type": "stream",
     "text": [
      "complete16\n",
      "17\n"
     ]
    },
    {
     "name": "stderr",
     "output_type": "stream",
     "text": [
      "\n",
      "  0%|                                                                                           | 0/20 [00:00<?, ?it/s]\n",
      " 15%|████████████▍                                                                      | 3/20 [00:00<00:00, 22.64it/s]\n",
      " 60%|█████████████████████████████████████████████████▏                                | 12/20 [00:00<00:00, 49.11it/s]\n",
      "100%|██████████████████████████████████████████████████████████████████████████████████| 20/20 [00:00<00:00, 56.96it/s]\n"
     ]
    },
    {
     "name": "stdout",
     "output_type": "stream",
     "text": [
      "transpose\n",
      "exp\n",
      "apply lambda\n",
      "copied\n"
     ]
    },
    {
     "name": "stderr",
     "output_type": "stream",
     "text": [
      "\n",
      "  0%|                                                                                           | 0/20 [00:00<?, ?it/s]\n",
      "100%|█████████████████████████████████████████████████████████████████████████████████| 20/20 [00:00<00:00, 212.71it/s]"
     ]
    },
    {
     "name": "stdout",
     "output_type": "stream",
     "text": [
      "running fitness\n"
     ]
    },
    {
     "name": "stderr",
     "output_type": "stream",
     "text": [
      "\n",
      "  0%|                                                                                           | 0/20 [00:00<?, ?it/s]\n",
      "  5%|████▏                                                                              | 1/20 [00:10<03:18, 10.46s/it]\n",
      " 10%|████████▎                                                                          | 2/20 [00:15<02:15,  7.53s/it]\n",
      " 15%|████████████▍                                                                      | 3/20 [00:18<01:45,  6.22s/it]\n",
      " 20%|████████████████▌                                                                  | 4/20 [00:23<01:32,  5.81s/it]\n",
      " 25%|████████████████████▊                                                              | 5/20 [00:27<01:23,  5.56s/it]\n",
      " 30%|████████████████████████▉                                                          | 6/20 [00:32<01:15,  5.38s/it]\n",
      " 35%|█████████████████████████████                                                      | 7/20 [00:36<01:08,  5.26s/it]\n",
      " 40%|█████████████████████████████████▏                                                 | 8/20 [00:39<00:58,  4.89s/it]\n",
      " 45%|█████████████████████████████████████▎                                             | 9/20 [00:44<00:53,  4.90s/it]\n",
      " 50%|█████████████████████████████████████████                                         | 10/20 [00:48<00:48,  4.87s/it]\n",
      " 55%|█████████████████████████████████████████████                                     | 11/20 [00:53<00:43,  4.83s/it]\n",
      " 60%|█████████████████████████████████████████████████▏                                | 12/20 [00:57<00:38,  4.82s/it]\n",
      " 65%|█████████████████████████████████████████████████████▎                            | 13/20 [01:02<00:33,  4.80s/it]\n",
      " 70%|█████████████████████████████████████████████████████████▍                        | 14/20 [01:07<00:28,  4.80s/it]\n",
      " 75%|█████████████████████████████████████████████████████████████▌                    | 15/20 [01:11<00:23,  4.74s/it]\n",
      " 80%|█████████████████████████████████████████████████████████████████▌                | 16/20 [01:15<00:18,  4.69s/it]\n",
      " 85%|█████████████████████████████████████████████████████████████████████▋            | 17/20 [01:19<00:14,  4.68s/it]\n",
      " 90%|█████████████████████████████████████████████████████████████████████████▊        | 18/20 [01:24<00:09,  4.67s/it]\n",
      " 95%|█████████████████████████████████████████████████████████████████████████████▉    | 19/20 [01:26<00:04,  4.57s/it]\n",
      "100%|██████████████████████████████████████████████████████████████████████████████████| 20/20 [01:31<00:00,  4.56s/it]\n"
     ]
    },
    {
     "name": "stdout",
     "output_type": "stream",
     "text": [
      "fitness done\n"
     ]
    },
    {
     "name": "stderr",
     "output_type": "stream",
     "text": [
      "\n",
      "  0%|                                                                                           | 0/20 [00:00<?, ?it/s]\n",
      "100%|██████████████████████████████████████████████████████████████████████████████████████████| 20/20 [00:00<?, ?it/s]"
     ]
    },
    {
     "name": "stdout",
     "output_type": "stream",
     "text": [
      "complete17\n",
      "18\n"
     ]
    },
    {
     "name": "stderr",
     "output_type": "stream",
     "text": [
      "\n",
      "  0%|                                                                                           | 0/20 [00:00<?, ?it/s]\n",
      " 35%|█████████████████████████████                                                      | 7/20 [00:00<00:00, 60.42it/s]\n",
      " 65%|█████████████████████████████████████████████████████▎                            | 13/20 [00:00<00:00, 60.14it/s]\n",
      " 85%|█████████████████████████████████████████████████████████████████████▋            | 17/20 [00:00<00:00, 51.20it/s]\n",
      "100%|██████████████████████████████████████████████████████████████████████████████████| 20/20 [00:00<00:00, 54.08it/s]"
     ]
    },
    {
     "name": "stdout",
     "output_type": "stream",
     "text": [
      "transpose\n",
      "exp\n",
      "apply lambda\n",
      "copied\n"
     ]
    },
    {
     "name": "stderr",
     "output_type": "stream",
     "text": [
      "\n",
      "  0%|                                                                                           | 0/20 [00:00<?, ?it/s]\n",
      "100%|█████████████████████████████████████████████████████████████████████████████████| 20/20 [00:00<00:00, 226.81it/s]"
     ]
    },
    {
     "name": "stdout",
     "output_type": "stream",
     "text": [
      "running fitness\n"
     ]
    },
    {
     "name": "stderr",
     "output_type": "stream",
     "text": [
      "\n",
      "  0%|                                                                                           | 0/20 [00:00<?, ?it/s]\n",
      "  5%|████▏                                                                              | 1/20 [00:12<04:01, 12.72s/it]\n",
      " 10%|████████▎                                                                          | 2/20 [00:17<02:36,  8.70s/it]\n",
      " 15%|████████████▍                                                                      | 3/20 [00:21<02:04,  7.30s/it]\n",
      " 20%|████████████████▌                                                                  | 4/20 [00:26<01:45,  6.58s/it]\n",
      " 25%|████████████████████▊                                                              | 5/20 [00:31<01:33,  6.24s/it]\n",
      " 30%|████████████████████████▉                                                          | 6/20 [00:35<01:23,  5.97s/it]\n",
      " 35%|█████████████████████████████                                                      | 7/20 [00:40<01:14,  5.76s/it]\n",
      " 40%|█████████████████████████████████▏                                                 | 8/20 [00:44<01:07,  5.59s/it]\n",
      " 45%|█████████████████████████████████████▎                                             | 9/20 [00:49<00:59,  5.45s/it]\n",
      " 50%|█████████████████████████████████████████                                         | 10/20 [00:53<00:53,  5.37s/it]\n",
      " 55%|█████████████████████████████████████████████                                     | 11/20 [00:58<00:47,  5.30s/it]\n",
      " 60%|█████████████████████████████████████████████████▏                                | 12/20 [01:02<00:41,  5.23s/it]\n",
      " 65%|█████████████████████████████████████████████████████▎                            | 13/20 [01:07<00:36,  5.17s/it]\n",
      " 70%|█████████████████████████████████████████████████████████▍                        | 14/20 [01:11<00:30,  5.07s/it]\n",
      " 75%|█████████████████████████████████████████████████████████████▌                    | 15/20 [01:15<00:25,  5.04s/it]\n",
      " 80%|█████████████████████████████████████████████████████████████████▌                | 16/20 [01:20<00:20,  5.02s/it]\n",
      " 85%|█████████████████████████████████████████████████████████████████████▋            | 17/20 [01:25<00:15,  5.01s/it]\n",
      " 90%|█████████████████████████████████████████████████████████████████████████▊        | 18/20 [01:30<00:10,  5.00s/it]\n",
      " 95%|█████████████████████████████████████████████████████████████████████████████▉    | 19/20 [01:34<00:04,  4.98s/it]\n",
      "100%|██████████████████████████████████████████████████████████████████████████████████| 20/20 [01:39<00:00,  4.96s/it]\n"
     ]
    },
    {
     "name": "stdout",
     "output_type": "stream",
     "text": [
      "fitness done\n"
     ]
    },
    {
     "name": "stderr",
     "output_type": "stream",
     "text": [
      "\n",
      "  0%|                                                                                           | 0/20 [00:00<?, ?it/s]\n",
      "100%|██████████████████████████████████████████████████████████████████████████████████████████| 20/20 [00:00<?, ?it/s]"
     ]
    },
    {
     "name": "stdout",
     "output_type": "stream",
     "text": [
      "complete18\n",
      "19\n"
     ]
    },
    {
     "name": "stderr",
     "output_type": "stream",
     "text": [
      "\n",
      "  0%|                                                                                           | 0/20 [00:00<?, ?it/s]\n",
      " 35%|█████████████████████████████                                                      | 7/20 [00:00<00:00, 61.87it/s]\n",
      " 80%|█████████████████████████████████████████████████████████████████▌                | 16/20 [00:00<00:00, 74.97it/s]\n",
      "100%|██████████████████████████████████████████████████████████████████████████████████| 20/20 [00:00<00:00, 74.96it/s]"
     ]
    },
    {
     "name": "stdout",
     "output_type": "stream",
     "text": [
      "transpose\n",
      "exp\n",
      "apply lambda\n",
      "copied\n"
     ]
    },
    {
     "name": "stderr",
     "output_type": "stream",
     "text": [
      "\n",
      "  0%|                                                                                           | 0/20 [00:00<?, ?it/s]\n",
      " 90%|████████████████████████████████████████████████████████████████████████▉        | 18/20 [00:00<00:00, 179.44it/s]\n",
      "100%|█████████████████████████████████████████████████████████████████████████████████| 20/20 [00:00<00:00, 172.56it/s]"
     ]
    },
    {
     "name": "stdout",
     "output_type": "stream",
     "text": [
      "running fitness\n"
     ]
    },
    {
     "name": "stderr",
     "output_type": "stream",
     "text": [
      "\n",
      "  0%|                                                                                           | 0/20 [00:00<?, ?it/s]\n",
      "  5%|████▏                                                                              | 1/20 [00:10<03:26, 10.88s/it]\n",
      " 10%|████████▎                                                                          | 2/20 [00:15<02:20,  7.80s/it]\n",
      " 15%|████████████▍                                                                      | 3/20 [00:20<01:54,  6.75s/it]\n",
      " 20%|████████████████▌                                                                  | 4/20 [00:24<01:38,  6.17s/it]\n",
      " 25%|████████████████████▊                                                              | 5/20 [00:28<01:24,  5.64s/it]\n",
      " 30%|████████████████████████▉                                                          | 6/20 [00:33<01:19,  5.65s/it]\n",
      " 35%|█████████████████████████████                                                      | 7/20 [00:38<01:11,  5.49s/it]\n",
      " 40%|█████████████████████████████████▏                                                 | 8/20 [00:40<01:01,  5.09s/it]\n",
      " 45%|█████████████████████████████████████▎                                             | 9/20 [00:45<00:55,  5.08s/it]\n",
      " 50%|█████████████████████████████████████████                                         | 10/20 [00:50<00:50,  5.03s/it]\n",
      " 55%|█████████████████████████████████████████████                                     | 11/20 [00:55<00:45,  5.04s/it]\n",
      " 60%|█████████████████████████████████████████████████▏                                | 12/20 [00:59<00:39,  4.95s/it]\n",
      " 65%|█████████████████████████████████████████████████████▎                            | 13/20 [01:03<00:34,  4.92s/it]\n",
      " 70%|█████████████████████████████████████████████████████████▍                        | 14/20 [01:09<00:29,  4.93s/it]\n",
      " 75%|█████████████████████████████████████████████████████████████▌                    | 15/20 [01:13<00:24,  4.92s/it]\n",
      " 80%|█████████████████████████████████████████████████████████████████▌                | 16/20 [01:18<00:19,  4.90s/it]\n",
      " 85%|█████████████████████████████████████████████████████████████████████▋            | 17/20 [01:22<00:14,  4.87s/it]\n",
      " 90%|█████████████████████████████████████████████████████████████████████████▊        | 18/20 [01:27<00:09,  4.87s/it]\n",
      " 95%|█████████████████████████████████████████████████████████████████████████████▉    | 19/20 [01:32<00:04,  4.89s/it]\n",
      "100%|██████████████████████████████████████████████████████████████████████████████████| 20/20 [01:37<00:00,  4.89s/it]\n"
     ]
    },
    {
     "name": "stdout",
     "output_type": "stream",
     "text": [
      "fitness done\n"
     ]
    },
    {
     "name": "stderr",
     "output_type": "stream",
     "text": [
      "\n",
      "  0%|                                                                                           | 0/20 [00:00<?, ?it/s]\n",
      "100%|██████████████████████████████████████████████████████████████████████████████████████████| 20/20 [00:00<?, ?it/s]"
     ]
    },
    {
     "name": "stdout",
     "output_type": "stream",
     "text": [
      "complete19\n",
      "20\n"
     ]
    },
    {
     "name": "stderr",
     "output_type": "stream",
     "text": [
      "\n",
      "  0%|                                                                                           | 0/20 [00:00<?, ?it/s]\n",
      " 40%|█████████████████████████████████▏                                                 | 8/20 [00:00<00:00, 64.95it/s]\n",
      " 55%|█████████████████████████████████████████████                                     | 11/20 [00:00<00:00, 49.21it/s]\n",
      " 90%|█████████████████████████████████████████████████████████████████████████▊        | 18/20 [00:00<00:00, 49.78it/s]\n",
      "100%|██████████████████████████████████████████████████████████████████████████████████| 20/20 [00:00<00:00, 43.30it/s]"
     ]
    },
    {
     "name": "stdout",
     "output_type": "stream",
     "text": [
      "transpose\n",
      "exp\n",
      "apply lambda\n",
      "copied\n"
     ]
    },
    {
     "name": "stderr",
     "output_type": "stream",
     "text": [
      "\n",
      "  0%|                                                                                           | 0/20 [00:00<?, ?it/s]\n",
      "100%|█████████████████████████████████████████████████████████████████████████████████| 20/20 [00:00<00:00, 212.27it/s]"
     ]
    },
    {
     "name": "stdout",
     "output_type": "stream",
     "text": [
      "running fitness\n"
     ]
    },
    {
     "name": "stderr",
     "output_type": "stream",
     "text": [
      "\n",
      "  0%|                                                                                           | 0/20 [00:00<?, ?it/s]\n",
      "  5%|████▏                                                                              | 1/20 [00:11<03:43, 11.77s/it]\n",
      " 10%|████████▎                                                                          | 2/20 [00:16<02:25,  8.07s/it]\n",
      " 15%|████████████▍                                                                      | 3/20 [00:21<02:03,  7.25s/it]\n",
      " 20%|████████████████▌                                                                  | 4/20 [00:26<01:47,  6.69s/it]\n",
      " 25%|████████████████████▊                                                              | 5/20 [00:31<01:35,  6.37s/it]\n",
      " 30%|████████████████████████▉                                                          | 6/20 [00:36<01:25,  6.10s/it]\n",
      " 35%|█████████████████████████████                                                      | 7/20 [00:41<01:17,  5.98s/it]\n",
      " 40%|█████████████████████████████████▏                                                 | 8/20 [00:46<01:09,  5.81s/it]\n",
      " 45%|█████████████████████████████████████▎                                             | 9/20 [00:51<01:02,  5.71s/it]\n",
      " 50%|█████████████████████████████████████████                                         | 10/20 [00:57<00:57,  5.71s/it]\n",
      " 55%|█████████████████████████████████████████████                                     | 11/20 [01:00<00:49,  5.54s/it]\n",
      " 60%|█████████████████████████████████████████████████▏                                | 12/20 [01:06<00:44,  5.56s/it]\n",
      " 65%|█████████████████████████████████████████████████████▎                            | 13/20 [01:11<00:38,  5.52s/it]\n",
      " 70%|█████████████████████████████████████████████████████████▍                        | 14/20 [01:14<00:31,  5.32s/it]\n",
      " 75%|█████████████████████████████████████████████████████████████▌                    | 15/20 [01:18<00:26,  5.25s/it]\n",
      " 80%|█████████████████████████████████████████████████████████████████▌                | 16/20 [01:23<00:20,  5.22s/it]\n",
      " 85%|█████████████████████████████████████████████████████████████████████▋            | 17/20 [01:28<00:15,  5.22s/it]\n",
      " 90%|█████████████████████████████████████████████████████████████████████████▊        | 18/20 [01:33<00:10,  5.17s/it]\n",
      " 95%|█████████████████████████████████████████████████████████████████████████████▉    | 19/20 [01:36<00:05,  5.10s/it]\n",
      "100%|██████████████████████████████████████████████████████████████████████████████████| 20/20 [01:42<00:00,  5.11s/it]\n"
     ]
    },
    {
     "name": "stdout",
     "output_type": "stream",
     "text": [
      "fitness done\n"
     ]
    },
    {
     "name": "stderr",
     "output_type": "stream",
     "text": [
      "\n",
      "  0%|                                                                                           | 0/20 [00:00<?, ?it/s]\n",
      "100%|██████████████████████████████████████████████████████████████████████████████████████████| 20/20 [00:00<?, ?it/s]"
     ]
    },
    {
     "name": "stdout",
     "output_type": "stream",
     "text": [
      "complete20\n",
      "21\n"
     ]
    },
    {
     "name": "stderr",
     "output_type": "stream",
     "text": [
      "\n",
      "  0%|                                                                                           | 0/20 [00:00<?, ?it/s]\n",
      " 15%|████████████▍                                                                      | 3/20 [00:00<00:00, 22.97it/s]\n",
      " 50%|█████████████████████████████████████████                                         | 10/20 [00:00<00:00, 38.14it/s]\n",
      " 85%|█████████████████████████████████████████████████████████████████████▋            | 17/20 [00:00<00:00, 46.90it/s]\n",
      "100%|██████████████████████████████████████████████████████████████████████████████████| 20/20 [00:00<00:00, 48.86it/s]"
     ]
    },
    {
     "name": "stdout",
     "output_type": "stream",
     "text": [
      "transpose\n",
      "exp\n",
      "apply lambda\n",
      "copied\n"
     ]
    },
    {
     "name": "stderr",
     "output_type": "stream",
     "text": [
      "\n",
      "  0%|                                                                                           | 0/20 [00:00<?, ?it/s]\n",
      " 95%|████████████████████████████████████████████████████████████████████████████▉    | 19/20 [00:00<00:00, 185.26it/s]\n",
      "100%|█████████████████████████████████████████████████████████████████████████████████| 20/20 [00:00<00:00, 165.74it/s]"
     ]
    },
    {
     "name": "stdout",
     "output_type": "stream",
     "text": [
      "running fitness\n"
     ]
    },
    {
     "name": "stderr",
     "output_type": "stream",
     "text": [
      "\n",
      "  0%|                                                                                           | 0/20 [00:00<?, ?it/s]\n",
      "  5%|████▏                                                                              | 1/20 [00:09<03:00,  9.49s/it]\n",
      " 10%|████████▎                                                                          | 2/20 [00:14<02:09,  7.22s/it]\n",
      " 15%|████████████▍                                                                      | 3/20 [00:17<01:41,  5.96s/it]\n",
      " 20%|████████████████▌                                                                  | 4/20 [00:23<01:32,  5.76s/it]\n",
      " 25%|████████████████████▊                                                              | 5/20 [00:28<01:24,  5.60s/it]\n",
      " 30%|████████████████████████▉                                                          | 6/20 [00:32<01:16,  5.46s/it]\n",
      " 35%|█████████████████████████████                                                      | 7/20 [00:37<01:09,  5.37s/it]\n",
      " 40%|█████████████████████████████████▏                                                 | 8/20 [00:42<01:03,  5.31s/it]\n",
      " 45%|█████████████████████████████████████▎                                             | 9/20 [00:47<00:58,  5.29s/it]\n",
      " 50%|█████████████████████████████████████████                                         | 10/20 [00:51<00:51,  5.16s/it]\n",
      " 55%|█████████████████████████████████████████████                                     | 11/20 [00:56<00:46,  5.13s/it]\n",
      " 60%|█████████████████████████████████████████████████▏                                | 12/20 [01:00<00:40,  5.08s/it]\n",
      " 65%|█████████████████████████████████████████████████████▎                            | 13/20 [01:05<00:35,  5.05s/it]\n",
      " 70%|█████████████████████████████████████████████████████████▍                        | 14/20 [01:10<00:30,  5.05s/it]\n",
      " 75%|█████████████████████████████████████████████████████████████▌                    | 15/20 [01:15<00:25,  5.03s/it]\n",
      " 80%|█████████████████████████████████████████████████████████████████▌                | 16/20 [01:20<00:20,  5.03s/it]\n",
      " 85%|█████████████████████████████████████████████████████████████████████▋            | 17/20 [01:23<00:14,  4.90s/it]\n",
      " 90%|█████████████████████████████████████████████████████████████████████████▊        | 18/20 [01:28<00:09,  4.91s/it]\n",
      " 95%|█████████████████████████████████████████████████████████████████████████████▉    | 19/20 [01:33<00:04,  4.90s/it]\n",
      "100%|██████████████████████████████████████████████████████████████████████████████████| 20/20 [01:38<00:00,  4.91s/it]\n"
     ]
    },
    {
     "name": "stdout",
     "output_type": "stream",
     "text": [
      "fitness done\n"
     ]
    },
    {
     "name": "stderr",
     "output_type": "stream",
     "text": [
      "\n",
      "  0%|                                                                                           | 0/20 [00:00<?, ?it/s]\n",
      "100%|██████████████████████████████████████████████████████████████████████████████████████████| 20/20 [00:00<?, ?it/s]"
     ]
    },
    {
     "name": "stdout",
     "output_type": "stream",
     "text": [
      "complete21\n",
      "22\n"
     ]
    },
    {
     "name": "stderr",
     "output_type": "stream",
     "text": [
      "\n",
      "  0%|                                                                                           | 0/20 [00:00<?, ?it/s]\n",
      " 15%|████████████▍                                                                      | 3/20 [00:00<00:00, 29.89it/s]\n",
      " 40%|█████████████████████████████████▏                                                 | 8/20 [00:00<00:00, 35.34it/s]\n",
      " 80%|█████████████████████████████████████████████████████████████████▌                | 16/20 [00:00<00:00, 48.99it/s]\n",
      "100%|██████████████████████████████████████████████████████████████████████████████████| 20/20 [00:00<00:00, 51.40it/s]"
     ]
    },
    {
     "name": "stdout",
     "output_type": "stream",
     "text": [
      "transpose\n",
      "exp\n",
      "apply lambda\n",
      "copied\n"
     ]
    },
    {
     "name": "stderr",
     "output_type": "stream",
     "text": [
      "\n",
      "  0%|                                                                                           | 0/20 [00:00<?, ?it/s]\n",
      " 90%|████████████████████████████████████████████████████████████████████████▉        | 18/20 [00:00<00:00, 172.08it/s]\n",
      "100%|█████████████████████████████████████████████████████████████████████████████████| 20/20 [00:00<00:00, 162.94it/s]"
     ]
    },
    {
     "name": "stdout",
     "output_type": "stream",
     "text": [
      "running fitness\n"
     ]
    },
    {
     "name": "stderr",
     "output_type": "stream",
     "text": [
      "\n",
      "  0%|                                                                                           | 0/20 [00:00<?, ?it/s]\n",
      "  5%|████▏                                                                              | 1/20 [00:08<02:38,  8.34s/it]\n",
      " 10%|████████▎                                                                          | 2/20 [00:11<01:44,  5.78s/it]\n",
      " 15%|████████████▍                                                                      | 3/20 [00:15<01:30,  5.30s/it]\n",
      " 20%|████████████████▌                                                                  | 4/20 [00:21<01:24,  5.29s/it]\n",
      " 25%|████████████████████▊                                                              | 5/20 [00:25<01:17,  5.17s/it]\n",
      " 30%|████████████████████████▉                                                          | 6/20 [00:30<01:11,  5.13s/it]\n",
      " 35%|█████████████████████████████                                                      | 7/20 [00:35<01:05,  5.05s/it]\n",
      " 40%|█████████████████████████████████▏                                                 | 8/20 [00:38<00:58,  4.85s/it]\n",
      " 45%|█████████████████████████████████████▎                                             | 9/20 [00:43<00:53,  4.87s/it]\n",
      " 50%|█████████████████████████████████████████                                         | 10/20 [00:49<00:49,  4.91s/it]\n",
      " 55%|█████████████████████████████████████████████                                     | 11/20 [00:53<00:43,  4.88s/it]\n",
      " 60%|█████████████████████████████████████████████████▏                                | 12/20 [00:58<00:39,  4.88s/it]\n",
      " 65%|█████████████████████████████████████████████████████▎                            | 13/20 [01:01<00:32,  4.71s/it]\n",
      " 70%|█████████████████████████████████████████████████████████▍                        | 14/20 [01:06<00:28,  4.73s/it]\n",
      " 75%|█████████████████████████████████████████████████████████████▌                    | 15/20 [01:10<00:23,  4.73s/it]\n",
      " 80%|█████████████████████████████████████████████████████████████████▌                | 16/20 [01:15<00:18,  4.72s/it]\n",
      " 85%|█████████████████████████████████████████████████████████████████████▋            | 17/20 [01:20<00:14,  4.71s/it]\n",
      " 90%|█████████████████████████████████████████████████████████████████████████▊        | 18/20 [01:24<00:09,  4.70s/it]\n",
      " 95%|█████████████████████████████████████████████████████████████████████████████▉    | 19/20 [01:29<00:04,  4.70s/it]\n",
      "100%|██████████████████████████████████████████████████████████████████████████████████| 20/20 [01:34<00:00,  4.71s/it]\n"
     ]
    },
    {
     "name": "stdout",
     "output_type": "stream",
     "text": [
      "fitness done\n"
     ]
    },
    {
     "name": "stderr",
     "output_type": "stream",
     "text": [
      "\n",
      "  0%|                                                                                           | 0/20 [00:00<?, ?it/s]\n",
      "100%|██████████████████████████████████████████████████████████████████████████████████████████| 20/20 [00:00<?, ?it/s]"
     ]
    },
    {
     "name": "stdout",
     "output_type": "stream",
     "text": [
      "complete22\n",
      "23\n"
     ]
    },
    {
     "name": "stderr",
     "output_type": "stream",
     "text": [
      "\n",
      "  0%|                                                                                           | 0/20 [00:00<?, ?it/s]\n",
      " 35%|█████████████████████████████                                                      | 7/20 [00:00<00:00, 68.46it/s]\n",
      " 50%|█████████████████████████████████████████                                         | 10/20 [00:00<00:00, 40.08it/s]\n",
      " 80%|█████████████████████████████████████████████████████████████████▌                | 16/20 [00:00<00:00, 41.27it/s]\n",
      "100%|██████████████████████████████████████████████████████████████████████████████████| 20/20 [00:00<00:00, 46.03it/s]"
     ]
    },
    {
     "name": "stdout",
     "output_type": "stream",
     "text": [
      "transpose\n",
      "exp\n",
      "apply lambda\n",
      "copied\n"
     ]
    },
    {
     "name": "stderr",
     "output_type": "stream",
     "text": [
      "\n",
      "  0%|                                                                                           | 0/20 [00:00<?, ?it/s]\n",
      "100%|█████████████████████████████████████████████████████████████████████████████████| 20/20 [00:00<00:00, 237.95it/s]"
     ]
    },
    {
     "name": "stdout",
     "output_type": "stream",
     "text": [
      "running fitness\n"
     ]
    },
    {
     "name": "stderr",
     "output_type": "stream",
     "text": [
      "\n",
      "  0%|                                                                                           | 0/20 [00:00<?, ?it/s]\n",
      "  5%|████▏                                                                              | 1/20 [00:12<03:48, 12.01s/it]\n",
      " 10%|████████▎                                                                          | 2/20 [00:16<02:30,  8.34s/it]\n",
      " 15%|████████████▍                                                                      | 3/20 [00:21<02:00,  7.07s/it]\n",
      " 20%|████████████████▌                                                                  | 4/20 [00:26<01:44,  6.56s/it]\n",
      " 25%|████████████████████▊                                                              | 5/20 [00:31<01:34,  6.28s/it]\n",
      " 30%|████████████████████████▉                                                          | 6/20 [00:35<01:23,  5.99s/it]\n",
      " 35%|█████████████████████████████                                                      | 7/20 [00:40<01:15,  5.79s/it]\n",
      " 40%|█████████████████████████████████▏                                                 | 8/20 [00:44<01:07,  5.61s/it]\n",
      " 45%|█████████████████████████████████████▎                                             | 9/20 [00:48<00:59,  5.38s/it]\n",
      " 50%|█████████████████████████████████████████                                         | 10/20 [00:53<00:53,  5.32s/it]\n",
      " 55%|█████████████████████████████████████████████                                     | 11/20 [00:57<00:47,  5.24s/it]\n",
      " 60%|█████████████████████████████████████████████████▏                                | 12/20 [01:02<00:41,  5.21s/it]\n",
      " 65%|█████████████████████████████████████████████████████▎                            | 13/20 [01:07<00:36,  5.16s/it]\n",
      " 70%|█████████████████████████████████████████████████████████▍                        | 14/20 [01:11<00:30,  5.11s/it]\n",
      " 75%|█████████████████████████████████████████████████████████████▌                    | 15/20 [01:16<00:25,  5.09s/it]\n",
      " 80%|█████████████████████████████████████████████████████████████████▌                | 16/20 [01:19<00:19,  4.99s/it]\n",
      " 85%|█████████████████████████████████████████████████████████████████████▋            | 17/20 [01:24<00:14,  4.96s/it]\n",
      " 90%|█████████████████████████████████████████████████████████████████████████▊        | 18/20 [01:28<00:09,  4.94s/it]\n",
      " 95%|█████████████████████████████████████████████████████████████████████████████▉    | 19/20 [01:33<00:04,  4.93s/it]\n",
      "100%|██████████████████████████████████████████████████████████████████████████████████| 20/20 [01:38<00:00,  4.91s/it]\n"
     ]
    },
    {
     "name": "stdout",
     "output_type": "stream",
     "text": [
      "fitness done\n"
     ]
    },
    {
     "name": "stderr",
     "output_type": "stream",
     "text": [
      "\n",
      "  0%|                                                                                           | 0/20 [00:00<?, ?it/s]\n",
      "100%|██████████████████████████████████████████████████████████████████████████████████████████| 20/20 [00:00<?, ?it/s]"
     ]
    },
    {
     "name": "stdout",
     "output_type": "stream",
     "text": [
      "complete23\n",
      "24\n"
     ]
    },
    {
     "name": "stderr",
     "output_type": "stream",
     "text": [
      "\n",
      "  0%|                                                                                           | 0/20 [00:00<?, ?it/s]\n",
      " 35%|█████████████████████████████                                                      | 7/20 [00:00<00:00, 65.79it/s]\n",
      " 45%|█████████████████████████████████████▎                                             | 9/20 [00:00<00:00, 43.55it/s]\n",
      " 80%|█████████████████████████████████████████████████████████████████▌                | 16/20 [00:00<00:00, 52.13it/s]\n",
      "100%|██████████████████████████████████████████████████████████████████████████████████| 20/20 [00:00<00:00, 55.51it/s]"
     ]
    },
    {
     "name": "stdout",
     "output_type": "stream",
     "text": [
      "transpose\n",
      "exp\n",
      "apply lambda\n",
      "copied\n"
     ]
    },
    {
     "name": "stderr",
     "output_type": "stream",
     "text": [
      "\n",
      "  0%|                                                                                           | 0/20 [00:00<?, ?it/s]\n",
      "100%|█████████████████████████████████████████████████████████████████████████████████| 20/20 [00:00<00:00, 244.94it/s]"
     ]
    },
    {
     "name": "stdout",
     "output_type": "stream",
     "text": [
      "running fitness\n"
     ]
    },
    {
     "name": "stderr",
     "output_type": "stream",
     "text": [
      "\n",
      "  0%|                                                                                           | 0/20 [00:00<?, ?it/s]\n",
      "  5%|████▏                                                                              | 1/20 [00:11<03:39, 11.54s/it]\n",
      " 10%|████████▎                                                                          | 2/20 [00:15<02:23,  7.96s/it]\n",
      " 15%|████████████▍                                                                      | 3/20 [00:20<01:56,  6.84s/it]\n",
      " 20%|████████████████▌                                                                  | 4/20 [00:25<01:40,  6.25s/it]\n",
      " 25%|████████████████████▊                                                              | 5/20 [00:29<01:28,  5.91s/it]\n",
      " 30%|████████████████████████▉                                                          | 6/20 [00:34<01:19,  5.68s/it]\n",
      " 35%|█████████████████████████████                                                      | 7/20 [00:38<01:11,  5.53s/it]\n",
      " 40%|█████████████████████████████████▏                                                 | 8/20 [00:42<01:03,  5.31s/it]\n",
      " 45%|█████████████████████████████████████▎                                             | 9/20 [00:46<00:57,  5.22s/it]\n",
      " 50%|█████████████████████████████████████████                                         | 10/20 [00:51<00:51,  5.15s/it]\n",
      " 55%|█████████████████████████████████████████████                                     | 11/20 [00:56<00:46,  5.12s/it]\n",
      " 60%|█████████████████████████████████████████████████▏                                | 12/20 [01:00<00:40,  5.08s/it]\n",
      " 65%|█████████████████████████████████████████████████████▎                            | 13/20 [01:05<00:35,  5.05s/it]\n",
      " 70%|█████████████████████████████████████████████████████████▍                        | 14/20 [01:10<00:30,  5.02s/it]\n",
      " 75%|█████████████████████████████████████████████████████████████▌                    | 15/20 [01:14<00:24,  4.99s/it]\n",
      " 80%|█████████████████████████████████████████████████████████████████▌                | 16/20 [01:18<00:19,  4.92s/it]\n",
      " 85%|█████████████████████████████████████████████████████████████████████▋            | 17/20 [01:21<00:14,  4.79s/it]\n",
      " 90%|█████████████████████████████████████████████████████████████████████████▊        | 18/20 [01:26<00:09,  4.82s/it]\n",
      " 95%|█████████████████████████████████████████████████████████████████████████████▉    | 19/20 [01:31<00:04,  4.82s/it]\n",
      "100%|██████████████████████████████████████████████████████████████████████████████████| 20/20 [01:35<00:00,  4.79s/it]\n"
     ]
    },
    {
     "name": "stdout",
     "output_type": "stream",
     "text": [
      "fitness done\n"
     ]
    },
    {
     "name": "stderr",
     "output_type": "stream",
     "text": [
      "\n",
      "  0%|                                                                                           | 0/20 [00:00<?, ?it/s]\n",
      "100%|██████████████████████████████████████████████████████████████████████████████████████████| 20/20 [00:00<?, ?it/s]"
     ]
    },
    {
     "name": "stdout",
     "output_type": "stream",
     "text": [
      "complete24\n",
      "25\n"
     ]
    },
    {
     "name": "stderr",
     "output_type": "stream",
     "text": [
      "\n",
      "  0%|                                                                                           | 0/20 [00:00<?, ?it/s]\n",
      " 35%|█████████████████████████████                                                      | 7/20 [00:00<00:00, 63.54it/s]\n",
      " 55%|█████████████████████████████████████████████                                     | 11/20 [00:00<00:00, 52.25it/s]\n",
      " 95%|█████████████████████████████████████████████████████████████████████████████▉    | 19/20 [00:00<00:00, 53.12it/s]\n",
      "100%|██████████████████████████████████████████████████████████████████████████████████| 20/20 [00:00<00:00, 52.65it/s]"
     ]
    },
    {
     "name": "stdout",
     "output_type": "stream",
     "text": [
      "transpose\n",
      "exp\n",
      "apply lambda\n",
      "copied\n"
     ]
    },
    {
     "name": "stderr",
     "output_type": "stream",
     "text": [
      "\n",
      "  0%|                                                                                           | 0/20 [00:00<?, ?it/s]\n",
      "100%|█████████████████████████████████████████████████████████████████████████████████| 20/20 [00:00<00:00, 178.80it/s]\n"
     ]
    },
    {
     "name": "stdout",
     "output_type": "stream",
     "text": [
      "running fitness\n"
     ]
    },
    {
     "name": "stderr",
     "output_type": "stream",
     "text": [
      "\n",
      "  0%|                                                                                           | 0/20 [00:00<?, ?it/s]\n",
      "  5%|████▏                                                                              | 1/20 [00:09<02:55,  9.24s/it]\n",
      " 10%|████████▎                                                                          | 2/20 [00:14<02:07,  7.07s/it]\n",
      " 15%|████████████▍                                                                      | 3/20 [00:18<01:47,  6.31s/it]\n",
      " 20%|████████████████▌                                                                  | 4/20 [00:22<01:31,  5.72s/it]\n",
      " 25%|████████████████████▊                                                              | 5/20 [00:28<01:24,  5.61s/it]\n",
      " 30%|████████████████████████▉                                                          | 6/20 [00:33<01:18,  5.58s/it]\n",
      " 35%|█████████████████████████████                                                      | 7/20 [00:35<01:06,  5.13s/it]\n",
      " 40%|█████████████████████████████████▏                                                 | 8/20 [00:40<01:00,  5.07s/it]\n",
      " 45%|█████████████████████████████████████▎                                             | 9/20 [00:45<00:55,  5.01s/it]\n",
      " 50%|█████████████████████████████████████████                                         | 10/20 [00:48<00:48,  4.86s/it]\n",
      " 55%|█████████████████████████████████████████████                                     | 11/20 [00:52<00:43,  4.82s/it]\n",
      " 60%|█████████████████████████████████████████████████▏                                | 12/20 [00:57<00:38,  4.79s/it]\n",
      " 65%|█████████████████████████████████████████████████████▎                            | 13/20 [01:01<00:33,  4.73s/it]\n",
      " 70%|█████████████████████████████████████████████████████████▍                        | 14/20 [01:06<00:28,  4.72s/it]\n",
      " 75%|█████████████████████████████████████████████████████████████▌                    | 15/20 [01:10<00:23,  4.71s/it]\n",
      " 80%|█████████████████████████████████████████████████████████████████▌                | 16/20 [01:14<00:18,  4.67s/it]\n",
      " 85%|█████████████████████████████████████████████████████████████████████▋            | 17/20 [01:19<00:14,  4.68s/it]\n",
      " 90%|█████████████████████████████████████████████████████████████████████████▊        | 18/20 [01:24<00:09,  4.70s/it]\n",
      " 95%|█████████████████████████████████████████████████████████████████████████████▉    | 19/20 [01:28<00:04,  4.65s/it]\n",
      "100%|██████████████████████████████████████████████████████████████████████████████████| 20/20 [01:32<00:00,  4.64s/it]\n"
     ]
    },
    {
     "name": "stdout",
     "output_type": "stream",
     "text": [
      "fitness done\n"
     ]
    },
    {
     "name": "stderr",
     "output_type": "stream",
     "text": [
      "\n",
      "  0%|                                                                                           | 0/20 [00:00<?, ?it/s]\n",
      "  5%|████▏                                                                              | 1/20 [01:08<21:32, 68.05s/it]\n",
      "100%|██████████████████████████████████████████████████████████████████████████████████| 20/20 [01:08<00:00,  3.40s/it]"
     ]
    },
    {
     "name": "stdout",
     "output_type": "stream",
     "text": [
      "complete25\n",
      "26\n"
     ]
    },
    {
     "name": "stderr",
     "output_type": "stream",
     "text": [
      "\n",
      "  0%|                                                                                           | 0/20 [00:00<?, ?it/s]\n",
      " 30%|████████████████████████▉                                                          | 6/20 [00:00<00:00, 40.26it/s]\n",
      " 65%|█████████████████████████████████████████████████████▎                            | 13/20 [00:00<00:00, 43.88it/s]\n",
      " 80%|█████████████████████████████████████████████████████████████████▌                | 16/20 [00:00<00:00, 35.56it/s]\n",
      "100%|██████████████████████████████████████████████████████████████████████████████████| 20/20 [00:00<00:00, 40.25it/s]"
     ]
    },
    {
     "name": "stdout",
     "output_type": "stream",
     "text": [
      "transpose\n",
      "exp\n",
      "apply lambda\n",
      "copied\n"
     ]
    },
    {
     "name": "stderr",
     "output_type": "stream",
     "text": [
      "\n",
      "  0%|                                                                                           | 0/20 [00:00<?, ?it/s]\n",
      "100%|█████████████████████████████████████████████████████████████████████████████████| 20/20 [00:00<00:00, 212.66it/s]"
     ]
    },
    {
     "name": "stdout",
     "output_type": "stream",
     "text": [
      "running fitness\n"
     ]
    },
    {
     "name": "stderr",
     "output_type": "stream",
     "text": [
      "\n",
      "  0%|                                                                                           | 0/20 [00:00<?, ?it/s]\n",
      "  5%|████▏                                                                              | 1/20 [00:11<03:33, 11.25s/it]\n",
      " 10%|████████▎                                                                          | 2/20 [00:14<02:10,  7.27s/it]\n",
      " 15%|████████████▍                                                                      | 3/20 [00:19<01:49,  6.44s/it]\n",
      " 20%|████████████████▌                                                                  | 4/20 [00:23<01:33,  5.83s/it]\n",
      " 25%|████████████████████▊                                                              | 5/20 [00:28<01:24,  5.64s/it]\n",
      " 30%|████████████████████████▉                                                          | 6/20 [00:31<01:14,  5.32s/it]\n",
      " 35%|█████████████████████████████                                                      | 7/20 [00:36<01:07,  5.22s/it]\n",
      " 40%|█████████████████████████████████▏                                                 | 8/20 [00:39<00:59,  4.97s/it]\n",
      " 45%|█████████████████████████████████████▎                                             | 9/20 [00:44<00:54,  4.92s/it]\n",
      " 50%|█████████████████████████████████████████                                         | 10/20 [00:48<00:48,  4.89s/it]\n",
      " 55%|█████████████████████████████████████████████                                     | 11/20 [00:53<00:44,  4.89s/it]\n",
      " 60%|█████████████████████████████████████████████████▏                                | 12/20 [00:59<00:39,  4.94s/it]\n",
      " 65%|█████████████████████████████████████████████████████▎                            | 13/20 [01:02<00:33,  4.84s/it]\n",
      " 70%|█████████████████████████████████████████████████████████▍                        | 14/20 [01:06<00:28,  4.77s/it]\n",
      " 75%|█████████████████████████████████████████████████████████████▌                    | 15/20 [01:11<00:23,  4.77s/it]\n",
      " 80%|█████████████████████████████████████████████████████████████████▌                | 16/20 [01:15<00:18,  4.72s/it]\n",
      " 85%|█████████████████████████████████████████████████████████████████████▋            | 17/20 [01:20<00:14,  4.71s/it]\n",
      " 90%|█████████████████████████████████████████████████████████████████████████▊        | 18/20 [01:24<00:09,  4.71s/it]\n",
      " 95%|█████████████████████████████████████████████████████████████████████████████▉    | 19/20 [01:28<00:04,  4.64s/it]\n",
      "100%|██████████████████████████████████████████████████████████████████████████████████| 20/20 [01:33<00:00,  4.66s/it]\n"
     ]
    },
    {
     "name": "stdout",
     "output_type": "stream",
     "text": [
      "fitness done\n"
     ]
    },
    {
     "name": "stderr",
     "output_type": "stream",
     "text": [
      "\n",
      "  0%|                                                                                           | 0/20 [00:00<?, ?it/s]\n",
      "100%|██████████████████████████████████████████████████████████████████████████████████████████| 20/20 [00:00<?, ?it/s]"
     ]
    },
    {
     "name": "stdout",
     "output_type": "stream",
     "text": [
      "complete26\n",
      "27\n"
     ]
    },
    {
     "name": "stderr",
     "output_type": "stream",
     "text": [
      "\n",
      "  0%|                                                                                           | 0/20 [00:00<?, ?it/s]\n",
      " 15%|████████████▍                                                                      | 3/20 [00:00<00:00, 27.27it/s]\n",
      " 50%|█████████████████████████████████████████                                         | 10/20 [00:00<00:00, 46.96it/s]\n",
      " 85%|█████████████████████████████████████████████████████████████████████▋            | 17/20 [00:00<00:00, 54.26it/s]\n",
      "100%|██████████████████████████████████████████████████████████████████████████████████| 20/20 [00:00<00:00, 42.82it/s]"
     ]
    },
    {
     "name": "stdout",
     "output_type": "stream",
     "text": [
      "transpose\n",
      "exp\n",
      "apply lambda\n",
      "copied\n"
     ]
    },
    {
     "name": "stderr",
     "output_type": "stream",
     "text": [
      "\n",
      "  0%|                                                                                           | 0/20 [00:00<?, ?it/s]\n",
      "100%|█████████████████████████████████████████████████████████████████████████████████| 20/20 [00:00<00:00, 191.96it/s]\n"
     ]
    },
    {
     "name": "stdout",
     "output_type": "stream",
     "text": [
      "running fitness\n"
     ]
    },
    {
     "name": "stderr",
     "output_type": "stream",
     "text": [
      "\n",
      "  0%|                                                                                           | 0/20 [00:00<?, ?it/s]\n",
      "  5%|████▏                                                                              | 1/20 [00:11<03:47, 11.99s/it]\n",
      " 10%|████████▎                                                                          | 2/20 [00:16<02:29,  8.31s/it]\n",
      " 15%|████████████▍                                                                      | 3/20 [00:20<01:55,  6.82s/it]\n",
      " 20%|████████████████▌                                                                  | 4/20 [00:24<01:39,  6.23s/it]\n",
      " 25%|████████████████████▊                                                              | 5/20 [00:28<01:24,  5.64s/it]\n",
      " 30%|████████████████████████▉                                                          | 6/20 [00:32<01:16,  5.47s/it]\n",
      " 35%|█████████████████████████████                                                      | 7/20 [00:36<01:07,  5.19s/it]\n",
      " 40%|█████████████████████████████████▏                                                 | 8/20 [00:40<01:01,  5.12s/it]\n",
      " 45%|█████████████████████████████████████▎                                             | 9/20 [00:45<00:55,  5.09s/it]\n",
      " 50%|█████████████████████████████████████████                                         | 10/20 [00:50<00:50,  5.04s/it]\n",
      " 55%|█████████████████████████████████████████████                                     | 11/20 [00:53<00:43,  4.82s/it]\n",
      " 60%|█████████████████████████████████████████████████▏                                | 12/20 [00:57<00:38,  4.81s/it]\n",
      " 65%|█████████████████████████████████████████████████████▎                            | 13/20 [01:02<00:33,  4.79s/it]\n",
      " 70%|█████████████████████████████████████████████████████████▍                        | 14/20 [01:06<00:28,  4.79s/it]\n",
      " 75%|█████████████████████████████████████████████████████████████▌                    | 15/20 [01:11<00:23,  4.78s/it]\n",
      " 80%|█████████████████████████████████████████████████████████████████▌                | 16/20 [01:16<00:19,  4.76s/it]\n",
      " 85%|█████████████████████████████████████████████████████████████████████▋            | 17/20 [01:21<00:14,  4.77s/it]\n",
      " 90%|█████████████████████████████████████████████████████████████████████████▊        | 18/20 [01:23<00:09,  4.65s/it]\n",
      " 95%|█████████████████████████████████████████████████████████████████████████████▉    | 19/20 [01:27<00:04,  4.61s/it]\n",
      "100%|██████████████████████████████████████████████████████████████████████████████████| 20/20 [01:31<00:00,  4.57s/it]\n"
     ]
    },
    {
     "name": "stdout",
     "output_type": "stream",
     "text": [
      "fitness done\n"
     ]
    },
    {
     "name": "stderr",
     "output_type": "stream",
     "text": [
      "\n",
      "  0%|                                                                                           | 0/20 [00:00<?, ?it/s]\n",
      "100%|██████████████████████████████████████████████████████████████████████████████████████████| 20/20 [00:00<?, ?it/s]"
     ]
    },
    {
     "name": "stdout",
     "output_type": "stream",
     "text": [
      "complete27\n",
      "28\n"
     ]
    },
    {
     "name": "stderr",
     "output_type": "stream",
     "text": [
      "\n",
      "  0%|                                                                                           | 0/20 [00:00<?, ?it/s]\n",
      " 40%|█████████████████████████████████▏                                                 | 8/20 [00:00<00:00, 72.00it/s]\n",
      " 70%|█████████████████████████████████████████████████████████▍                        | 14/20 [00:00<00:00, 56.18it/s]\n",
      " 85%|█████████████████████████████████████████████████████████████████████▋            | 17/20 [00:00<00:00, 48.64it/s]\n",
      "100%|██████████████████████████████████████████████████████████████████████████████████| 20/20 [00:00<00:00, 50.45it/s]"
     ]
    },
    {
     "name": "stdout",
     "output_type": "stream",
     "text": [
      "transpose\n",
      "exp\n",
      "apply lambda\n",
      "copied\n"
     ]
    },
    {
     "name": "stderr",
     "output_type": "stream",
     "text": [
      "\n",
      "  0%|                                                                                           | 0/20 [00:00<?, ?it/s]\n",
      "100%|█████████████████████████████████████████████████████████████████████████████████| 20/20 [00:00<00:00, 289.57it/s]"
     ]
    },
    {
     "name": "stdout",
     "output_type": "stream",
     "text": [
      "running fitness\n"
     ]
    },
    {
     "name": "stderr",
     "output_type": "stream",
     "text": [
      "\n",
      "  0%|                                                                                           | 0/20 [00:00<?, ?it/s]\n",
      "  5%|████▏                                                                              | 1/20 [00:12<03:48, 12.04s/it]\n",
      " 10%|████████▎                                                                          | 2/20 [00:17<02:33,  8.52s/it]\n",
      " 15%|████████████▍                                                                      | 3/20 [00:21<02:02,  7.23s/it]\n",
      " 20%|████████████████▌                                                                  | 4/20 [00:26<01:45,  6.57s/it]\n",
      " 25%|████████████████████▊                                                              | 5/20 [00:30<01:32,  6.20s/it]\n",
      " 30%|████████████████████████▉                                                          | 6/20 [00:34<01:20,  5.76s/it]\n",
      " 35%|█████████████████████████████                                                      | 7/20 [00:38<01:11,  5.49s/it]\n",
      " 40%|█████████████████████████████████▏                                                 | 8/20 [00:43<01:05,  5.42s/it]\n",
      " 45%|█████████████████████████████████████▎                                             | 9/20 [00:46<00:57,  5.21s/it]\n",
      " 50%|█████████████████████████████████████████                                         | 10/20 [00:51<00:51,  5.12s/it]\n",
      " 55%|█████████████████████████████████████████████                                     | 11/20 [00:55<00:45,  5.06s/it]\n",
      " 60%|█████████████████████████████████████████████████▏                                | 12/20 [00:59<00:39,  4.99s/it]\n",
      " 65%|█████████████████████████████████████████████████████▎                            | 13/20 [01:04<00:34,  4.94s/it]\n",
      " 70%|█████████████████████████████████████████████████████████▍                        | 14/20 [01:08<00:29,  4.86s/it]\n",
      " 75%|█████████████████████████████████████████████████████████████▌                    | 15/20 [01:11<00:23,  4.79s/it]\n",
      " 80%|█████████████████████████████████████████████████████████████████▌                | 16/20 [01:16<00:19,  4.81s/it]\n",
      " 85%|█████████████████████████████████████████████████████████████████████▋            | 17/20 [01:21<00:14,  4.80s/it]\n",
      " 90%|█████████████████████████████████████████████████████████████████████████▊        | 18/20 [01:26<00:09,  4.81s/it]\n",
      " 95%|█████████████████████████████████████████████████████████████████████████████▉    | 19/20 [01:30<00:04,  4.79s/it]\n",
      "100%|██████████████████████████████████████████████████████████████████████████████████| 20/20 [01:35<00:00,  4.79s/it]\n"
     ]
    },
    {
     "name": "stdout",
     "output_type": "stream",
     "text": [
      "fitness done\n"
     ]
    },
    {
     "name": "stderr",
     "output_type": "stream",
     "text": [
      "\n",
      "  0%|                                                                                           | 0/20 [00:00<?, ?it/s]\n",
      "100%|████████████████████████████████████████████████████████████████████████████████| 20/20 [00:00<00:00, 1983.78it/s]"
     ]
    },
    {
     "name": "stdout",
     "output_type": "stream",
     "text": [
      "complete28\n",
      "29\n"
     ]
    },
    {
     "name": "stderr",
     "output_type": "stream",
     "text": [
      "\n",
      "  0%|                                                                                           | 0/20 [00:00<?, ?it/s]\n",
      " 25%|████████████████████▊                                                              | 5/20 [00:00<00:00, 33.20it/s]\n",
      " 45%|█████████████████████████████████████▎                                             | 9/20 [00:00<00:00, 34.49it/s]\n",
      " 80%|█████████████████████████████████████████████████████████████████▌                | 16/20 [00:00<00:00, 44.29it/s]\n",
      "100%|██████████████████████████████████████████████████████████████████████████████████| 20/20 [00:00<00:00, 49.00it/s]"
     ]
    },
    {
     "name": "stdout",
     "output_type": "stream",
     "text": [
      "transpose\n",
      "exp\n",
      "apply lambda\n",
      "copied\n"
     ]
    },
    {
     "name": "stderr",
     "output_type": "stream",
     "text": [
      "\n",
      "  0%|                                                                                           | 0/20 [00:00<?, ?it/s]\n",
      " 95%|████████████████████████████████████████████████████████████████████████████▉    | 19/20 [00:00<00:00, 189.38it/s]\n",
      "100%|█████████████████████████████████████████████████████████████████████████████████| 20/20 [00:00<00:00, 172.47it/s]"
     ]
    },
    {
     "name": "stdout",
     "output_type": "stream",
     "text": [
      "running fitness\n"
     ]
    },
    {
     "name": "stderr",
     "output_type": "stream",
     "text": [
      "\n",
      "  0%|                                                                                           | 0/20 [00:00<?, ?it/s]\n",
      "  5%|████▏                                                                              | 1/20 [00:10<03:28, 10.99s/it]\n",
      " 10%|████████▎                                                                          | 2/20 [00:15<02:16,  7.58s/it]\n",
      " 15%|████████████▍                                                                      | 3/20 [00:18<01:47,  6.32s/it]\n",
      " 20%|████████████████▌                                                                  | 4/20 [00:21<01:24,  5.28s/it]\n",
      " 25%|████████████████████▊                                                              | 5/20 [00:24<01:14,  4.95s/it]\n",
      " 30%|████████████████████████▉                                                          | 6/20 [00:28<01:06,  4.76s/it]\n",
      " 35%|█████████████████████████████                                                      | 7/20 [00:33<01:01,  4.75s/it]\n",
      " 40%|█████████████████████████████████▏                                                 | 8/20 [00:37<00:56,  4.70s/it]\n",
      " 45%|█████████████████████████████████████▎                                             | 9/20 [00:41<00:51,  4.64s/it]\n",
      " 50%|█████████████████████████████████████████                                         | 10/20 [00:45<00:45,  4.52s/it]\n",
      " 55%|█████████████████████████████████████████████                                     | 11/20 [00:49<00:40,  4.50s/it]\n",
      " 60%|█████████████████████████████████████████████████▏                                | 12/20 [00:53<00:35,  4.46s/it]\n",
      " 65%|█████████████████████████████████████████████████████▎                            | 13/20 [00:57<00:31,  4.44s/it]\n",
      " 70%|█████████████████████████████████████████████████████████▍                        | 14/20 [01:01<00:26,  4.42s/it]\n",
      " 75%|█████████████████████████████████████████████████████████████▌                    | 15/20 [01:05<00:21,  4.40s/it]\n",
      " 80%|█████████████████████████████████████████████████████████████████▌                | 16/20 [01:09<00:17,  4.37s/it]\n",
      " 85%|█████████████████████████████████████████████████████████████████████▋            | 17/20 [01:14<00:13,  4.36s/it]\n",
      " 90%|█████████████████████████████████████████████████████████████████████████▊        | 18/20 [01:18<00:08,  4.35s/it]\n",
      " 95%|█████████████████████████████████████████████████████████████████████████████▉    | 19/20 [01:22<00:04,  4.35s/it]\n",
      "100%|██████████████████████████████████████████████████████████████████████████████████| 20/20 [01:26<00:00,  4.34s/it]\n"
     ]
    },
    {
     "name": "stdout",
     "output_type": "stream",
     "text": [
      "fitness done\n"
     ]
    },
    {
     "name": "stderr",
     "output_type": "stream",
     "text": [
      "\n",
      "  0%|                                                                                           | 0/20 [00:00<?, ?it/s]\n",
      "100%|██████████████████████████████████████████████████████████████████████████████████████████| 20/20 [00:00<?, ?it/s]"
     ]
    },
    {
     "name": "stdout",
     "output_type": "stream",
     "text": [
      "complete29\n",
      "30\n"
     ]
    },
    {
     "name": "stderr",
     "output_type": "stream",
     "text": [
      "\n",
      "  0%|                                                                                           | 0/20 [00:00<?, ?it/s]\n",
      " 40%|█████████████████████████████████▏                                                 | 8/20 [00:00<00:00, 74.21it/s]\n",
      " 75%|█████████████████████████████████████████████████████████████▌                    | 15/20 [00:00<00:00, 72.07it/s]\n",
      "100%|██████████████████████████████████████████████████████████████████████████████████| 20/20 [00:00<00:00, 72.16it/s]"
     ]
    },
    {
     "name": "stdout",
     "output_type": "stream",
     "text": [
      "transpose\n",
      "exp\n",
      "apply lambda\n",
      "copied\n"
     ]
    },
    {
     "name": "stderr",
     "output_type": "stream",
     "text": [
      "\n",
      "  0%|                                                                                           | 0/20 [00:00<?, ?it/s]\n",
      "100%|█████████████████████████████████████████████████████████████████████████████████| 20/20 [00:00<00:00, 195.68it/s]"
     ]
    },
    {
     "name": "stdout",
     "output_type": "stream",
     "text": [
      "running fitness\n"
     ]
    },
    {
     "name": "stderr",
     "output_type": "stream",
     "text": [
      "\n",
      "  0%|                                                                                           | 0/20 [00:00<?, ?it/s]\n",
      "  5%|████▏                                                                              | 1/20 [00:11<03:43, 11.75s/it]\n",
      " 10%|████████▎                                                                          | 2/20 [00:16<02:26,  8.14s/it]\n",
      " 15%|████████████▍                                                                      | 3/20 [00:20<01:57,  6.93s/it]\n",
      " 20%|████████████████▌                                                                  | 4/20 [00:25<01:41,  6.35s/it]\n",
      " 25%|████████████████████▊                                                              | 5/20 [00:29<01:29,  5.96s/it]\n",
      " 30%|████████████████████████▉                                                          | 6/20 [00:34<01:20,  5.75s/it]\n",
      " 35%|█████████████████████████████                                                      | 7/20 [00:39<01:12,  5.59s/it]\n",
      " 40%|█████████████████████████████████▏                                                 | 8/20 [00:42<01:03,  5.27s/it]\n",
      " 45%|█████████████████████████████████████▎                                             | 9/20 [00:46<00:57,  5.20s/it]\n",
      " 50%|█████████████████████████████████████████                                         | 10/20 [00:51<00:51,  5.15s/it]\n",
      " 55%|█████████████████████████████████████████████                                     | 11/20 [00:56<00:45,  5.10s/it]\n",
      " 60%|█████████████████████████████████████████████████▏                                | 12/20 [01:00<00:40,  5.06s/it]\n",
      " 65%|█████████████████████████████████████████████████████▎                            | 13/20 [01:04<00:34,  4.93s/it]\n",
      " 70%|█████████████████████████████████████████████████████████▍                        | 14/20 [01:08<00:29,  4.92s/it]\n",
      " 75%|█████████████████████████████████████████████████████████████▌                    | 15/20 [01:13<00:24,  4.90s/it]\n",
      " 80%|█████████████████████████████████████████████████████████████████▌                | 16/20 [01:18<00:19,  4.88s/it]\n",
      " 85%|█████████████████████████████████████████████████████████████████████▋            | 17/20 [01:22<00:14,  4.86s/it]\n",
      " 90%|█████████████████████████████████████████████████████████████████████████▊        | 18/20 [01:27<00:09,  4.84s/it]\n",
      " 95%|█████████████████████████████████████████████████████████████████████████████▉    | 19/20 [01:29<00:04,  4.73s/it]\n",
      "100%|██████████████████████████████████████████████████████████████████████████████████| 20/20 [01:34<00:00,  4.72s/it]\n"
     ]
    },
    {
     "name": "stdout",
     "output_type": "stream",
     "text": [
      "fitness done\n"
     ]
    },
    {
     "name": "stderr",
     "output_type": "stream",
     "text": [
      "\n",
      "  0%|                                                                                           | 0/20 [00:00<?, ?it/s]\n",
      "100%|████████████████████████████████████████████████████████████████████████████████| 20/20 [00:00<00:00, 9771.24it/s]"
     ]
    },
    {
     "name": "stdout",
     "output_type": "stream",
     "text": [
      "complete30\n",
      "31\n"
     ]
    },
    {
     "name": "stderr",
     "output_type": "stream",
     "text": [
      "\n",
      "  0%|                                                                                           | 0/20 [00:00<?, ?it/s]\n",
      " 40%|█████████████████████████████████▏                                                 | 8/20 [00:00<00:00, 75.77it/s]\n",
      " 70%|█████████████████████████████████████████████████████████▍                        | 14/20 [00:00<00:00, 68.00it/s]\n",
      "100%|██████████████████████████████████████████████████████████████████████████████████| 20/20 [00:00<00:00, 68.83it/s]"
     ]
    },
    {
     "name": "stdout",
     "output_type": "stream",
     "text": [
      "transpose\n",
      "exp\n",
      "apply lambda\n",
      "copied\n"
     ]
    },
    {
     "name": "stderr",
     "output_type": "stream",
     "text": [
      "\n",
      "  0%|                                                                                           | 0/20 [00:00<?, ?it/s]\n",
      "100%|█████████████████████████████████████████████████████████████████████████████████| 20/20 [00:00<00:00, 248.06it/s]"
     ]
    },
    {
     "name": "stdout",
     "output_type": "stream",
     "text": [
      "running fitness\n"
     ]
    },
    {
     "name": "stderr",
     "output_type": "stream",
     "text": [
      "\n",
      "  0%|                                                                                           | 0/20 [00:00<?, ?it/s]\n",
      "  5%|████▏                                                                              | 1/20 [00:12<03:48, 12.00s/it]\n",
      " 10%|████████▎                                                                          | 2/20 [00:14<02:10,  7.25s/it]\n",
      " 15%|████████████▍                                                                      | 3/20 [00:19<01:48,  6.36s/it]\n",
      " 20%|████████████████▌                                                                  | 4/20 [00:23<01:32,  5.77s/it]\n",
      " 25%|████████████████████▊                                                              | 5/20 [00:28<01:24,  5.61s/it]\n",
      " 30%|████████████████████████▉                                                          | 6/20 [00:32<01:16,  5.47s/it]\n",
      " 35%|█████████████████████████████                                                      | 7/20 [00:37<01:09,  5.36s/it]\n",
      " 40%|█████████████████████████████████▏                                                 | 8/20 [00:42<01:03,  5.31s/it]\n",
      " 45%|█████████████████████████████████████▎                                             | 9/20 [00:47<00:58,  5.29s/it]\n",
      " 50%|█████████████████████████████████████████                                         | 10/20 [00:52<00:52,  5.20s/it]\n",
      " 55%|█████████████████████████████████████████████                                     | 11/20 [00:56<00:46,  5.12s/it]\n",
      " 60%|█████████████████████████████████████████████████▏                                | 12/20 [01:00<00:40,  5.07s/it]\n",
      " 65%|█████████████████████████████████████████████████████▎                            | 13/20 [01:05<00:35,  5.03s/it]\n",
      " 70%|█████████████████████████████████████████████████████████▍                        | 14/20 [01:10<00:30,  5.00s/it]\n",
      " 75%|█████████████████████████████████████████████████████████████▌                    | 15/20 [01:14<00:24,  4.97s/it]\n",
      " 80%|█████████████████████████████████████████████████████████████████▌                | 16/20 [01:19<00:19,  4.95s/it]\n",
      " 85%|█████████████████████████████████████████████████████████████████████▋            | 17/20 [01:24<00:14,  4.94s/it]\n",
      " 90%|█████████████████████████████████████████████████████████████████████████▊        | 18/20 [01:28<00:09,  4.93s/it]\n",
      " 95%|█████████████████████████████████████████████████████████████████████████████▉    | 19/20 [01:33<00:04,  4.90s/it]\n",
      "100%|██████████████████████████████████████████████████████████████████████████████████| 20/20 [01:35<00:00,  4.79s/it]\n"
     ]
    },
    {
     "name": "stdout",
     "output_type": "stream",
     "text": [
      "fitness done\n"
     ]
    },
    {
     "name": "stderr",
     "output_type": "stream",
     "text": [
      "\n",
      "  0%|                                                                                           | 0/20 [00:00<?, ?it/s]\n",
      "100%|████████████████████████████████████████████████████████████████████████████████| 20/20 [00:00<00:00, 9755.33it/s]"
     ]
    },
    {
     "name": "stdout",
     "output_type": "stream",
     "text": [
      "complete31\n",
      "32\n"
     ]
    },
    {
     "name": "stderr",
     "output_type": "stream",
     "text": [
      "\n",
      "  0%|                                                                                           | 0/20 [00:00<?, ?it/s]\n",
      " 30%|████████████████████████▉                                                          | 6/20 [00:00<00:00, 38.79it/s]\n",
      " 65%|█████████████████████████████████████████████████████▎                            | 13/20 [00:00<00:00, 46.90it/s]\n",
      "100%|██████████████████████████████████████████████████████████████████████████████████| 20/20 [00:00<00:00, 55.28it/s]"
     ]
    },
    {
     "name": "stdout",
     "output_type": "stream",
     "text": [
      "transpose\n",
      "exp\n",
      "apply lambda\n",
      "copied\n"
     ]
    },
    {
     "name": "stderr",
     "output_type": "stream",
     "text": [
      "\n",
      "  0%|                                                                                           | 0/20 [00:00<?, ?it/s]\n",
      "100%|█████████████████████████████████████████████████████████████████████████████████| 20/20 [00:00<00:00, 212.59it/s]"
     ]
    },
    {
     "name": "stdout",
     "output_type": "stream",
     "text": [
      "running fitness\n"
     ]
    },
    {
     "name": "stderr",
     "output_type": "stream",
     "text": [
      "\n",
      "  0%|                                                                                           | 0/20 [00:00<?, ?it/s]\n",
      "  5%|████▏                                                                              | 1/20 [00:11<03:44, 11.83s/it]\n",
      " 10%|████████▎                                                                          | 2/20 [00:16<02:25,  8.11s/it]\n",
      " 15%|████████████▍                                                                      | 3/20 [00:20<01:56,  6.86s/it]\n",
      " 20%|████████████████▌                                                                  | 4/20 [00:25<01:41,  6.37s/it]\n",
      " 25%|████████████████████▊                                                              | 5/20 [00:30<01:30,  6.03s/it]\n",
      " 30%|████████████████████████▉                                                          | 6/20 [00:33<01:18,  5.62s/it]\n",
      " 35%|█████████████████████████████                                                      | 7/20 [00:38<01:11,  5.47s/it]\n",
      " 40%|█████████████████████████████████▏                                                 | 8/20 [00:41<01:01,  5.17s/it]\n",
      " 45%|█████████████████████████████████████▎                                             | 9/20 [00:46<00:56,  5.14s/it]\n",
      " 50%|█████████████████████████████████████████                                         | 10/20 [00:51<00:51,  5.11s/it]\n",
      " 55%|█████████████████████████████████████████████                                     | 11/20 [00:55<00:45,  5.05s/it]\n",
      " 60%|█████████████████████████████████████████████████▏                                | 12/20 [00:59<00:39,  4.98s/it]\n",
      " 65%|█████████████████████████████████████████████████████▎                            | 13/20 [01:03<00:34,  4.88s/it]\n",
      " 70%|█████████████████████████████████████████████████████████▍                        | 14/20 [01:08<00:29,  4.89s/it]\n",
      " 75%|█████████████████████████████████████████████████████████████▌                    | 15/20 [01:12<00:24,  4.87s/it]\n",
      " 80%|█████████████████████████████████████████████████████████████████▌                | 16/20 [01:17<00:19,  4.85s/it]\n",
      " 85%|█████████████████████████████████████████████████████████████████████▋            | 17/20 [01:22<00:14,  4.84s/it]\n",
      " 90%|█████████████████████████████████████████████████████████████████████████▊        | 18/20 [01:27<00:09,  4.85s/it]\n",
      " 95%|█████████████████████████████████████████████████████████████████████████████▉    | 19/20 [01:32<00:04,  4.85s/it]\n",
      "100%|██████████████████████████████████████████████████████████████████████████████████| 20/20 [01:37<00:00,  4.85s/it]\n"
     ]
    },
    {
     "name": "stdout",
     "output_type": "stream",
     "text": [
      "fitness done\n"
     ]
    },
    {
     "name": "stderr",
     "output_type": "stream",
     "text": [
      "\n",
      "  0%|                                                                                           | 0/20 [00:00<?, ?it/s]\n",
      "100%|██████████████████████████████████████████████████████████████████████████████████████████| 20/20 [00:00<?, ?it/s]"
     ]
    },
    {
     "name": "stdout",
     "output_type": "stream",
     "text": [
      "complete32\n",
      "33\n"
     ]
    },
    {
     "name": "stderr",
     "output_type": "stream",
     "text": [
      "\n",
      "  0%|                                                                                           | 0/20 [00:00<?, ?it/s]\n",
      " 25%|████████████████████▊                                                              | 5/20 [00:00<00:00, 34.61it/s]\n",
      " 60%|█████████████████████████████████████████████████▏                                | 12/20 [00:00<00:00, 52.38it/s]\n",
      "100%|██████████████████████████████████████████████████████████████████████████████████| 20/20 [00:00<00:00, 60.72it/s]\n"
     ]
    },
    {
     "name": "stdout",
     "output_type": "stream",
     "text": [
      "transpose\n",
      "exp\n",
      "apply lambda\n",
      "copied\n"
     ]
    },
    {
     "name": "stderr",
     "output_type": "stream",
     "text": [
      "\n",
      "  0%|                                                                                           | 0/20 [00:00<?, ?it/s]\n",
      "100%|█████████████████████████████████████████████████████████████████████████████████| 20/20 [00:00<00:00, 351.20it/s]"
     ]
    },
    {
     "name": "stdout",
     "output_type": "stream",
     "text": [
      "running fitness\n"
     ]
    },
    {
     "name": "stderr",
     "output_type": "stream",
     "text": [
      "\n",
      "  0%|                                                                                           | 0/20 [00:00<?, ?it/s]\n",
      "  5%|████▏                                                                              | 1/20 [00:10<03:20, 10.54s/it]\n",
      " 10%|████████▎                                                                          | 2/20 [00:14<02:13,  7.43s/it]\n",
      " 15%|████████████▍                                                                      | 3/20 [00:19<01:49,  6.47s/it]\n",
      " 20%|████████████████▌                                                                  | 4/20 [00:23<01:35,  5.97s/it]\n",
      " 25%|████████████████████▊                                                              | 5/20 [00:27<01:22,  5.50s/it]\n",
      " 30%|████████████████████████▉                                                          | 6/20 [00:30<01:12,  5.15s/it]\n",
      " 35%|█████████████████████████████                                                      | 7/20 [00:35<01:05,  5.06s/it]\n",
      " 40%|█████████████████████████████████▏                                                 | 8/20 [00:39<00:59,  5.00s/it]\n",
      " 45%|█████████████████████████████████████▎                                             | 9/20 [00:44<00:54,  4.95s/it]\n",
      " 50%|█████████████████████████████████████████                                         | 10/20 [00:49<00:49,  4.91s/it]\n",
      " 55%|█████████████████████████████████████████████                                     | 11/20 [00:53<00:43,  4.86s/it]\n",
      " 60%|█████████████████████████████████████████████████▏                                | 12/20 [00:57<00:38,  4.83s/it]\n",
      " 65%|█████████████████████████████████████████████████████▎                            | 13/20 [01:02<00:33,  4.82s/it]\n",
      " 70%|█████████████████████████████████████████████████████████▍                        | 14/20 [01:07<00:28,  4.80s/it]\n",
      " 75%|█████████████████████████████████████████████████████████████▌                    | 15/20 [01:12<00:24,  4.81s/it]\n",
      " 80%|█████████████████████████████████████████████████████████████████▌                | 16/20 [01:16<00:19,  4.81s/it]\n",
      " 85%|█████████████████████████████████████████████████████████████████████▋            | 17/20 [01:21<00:14,  4.80s/it]\n",
      " 90%|█████████████████████████████████████████████████████████████████████████▊        | 18/20 [01:26<00:09,  4.78s/it]\n",
      " 95%|█████████████████████████████████████████████████████████████████████████████▉    | 19/20 [01:29<00:04,  4.72s/it]\n",
      "100%|██████████████████████████████████████████████████████████████████████████████████| 20/20 [01:34<00:00,  4.71s/it]\n"
     ]
    },
    {
     "name": "stdout",
     "output_type": "stream",
     "text": [
      "fitness done\n"
     ]
    },
    {
     "name": "stderr",
     "output_type": "stream",
     "text": [
      "\n",
      "  0%|                                                                                           | 0/20 [00:00<?, ?it/s]\n",
      "100%|████████████████████████████████████████████████████████████████████████████████| 20/20 [00:00<00:00, 2464.92it/s]"
     ]
    },
    {
     "name": "stdout",
     "output_type": "stream",
     "text": [
      "complete33\n",
      "34\n"
     ]
    },
    {
     "name": "stderr",
     "output_type": "stream",
     "text": [
      "\n",
      "  0%|                                                                                           | 0/20 [00:00<?, ?it/s]\n",
      " 40%|█████████████████████████████████▏                                                 | 8/20 [00:00<00:00, 75.78it/s]\n",
      " 55%|█████████████████████████████████████████████                                     | 11/20 [00:00<00:00, 46.39it/s]\n",
      " 70%|█████████████████████████████████████████████████████████▍                        | 14/20 [00:00<00:00, 41.50it/s]\n",
      "100%|██████████████████████████████████████████████████████████████████████████████████| 20/20 [00:00<00:00, 45.69it/s]\n"
     ]
    },
    {
     "name": "stdout",
     "output_type": "stream",
     "text": [
      "transpose\n",
      "exp\n",
      "apply lambda\n",
      "copied\n"
     ]
    },
    {
     "name": "stderr",
     "output_type": "stream",
     "text": [
      "\n",
      "  0%|                                                                                           | 0/20 [00:00<?, ?it/s]\n",
      "100%|█████████████████████████████████████████████████████████████████████████████████| 20/20 [00:00<00:00, 191.89it/s]\n"
     ]
    },
    {
     "name": "stdout",
     "output_type": "stream",
     "text": [
      "running fitness\n"
     ]
    },
    {
     "name": "stderr",
     "output_type": "stream",
     "text": [
      "\n",
      "  0%|                                                                                           | 0/20 [00:00<?, ?it/s]\n",
      "  5%|████▏                                                                              | 1/20 [00:11<03:43, 11.77s/it]\n",
      " 10%|████████▎                                                                          | 2/20 [00:16<02:27,  8.21s/it]\n",
      " 15%|████████████▍                                                                      | 3/20 [00:20<01:58,  6.96s/it]\n",
      " 20%|████████████████▌                                                                  | 4/20 [00:25<01:43,  6.44s/it]\n",
      " 25%|████████████████████▊                                                              | 5/20 [00:30<01:32,  6.16s/it]\n",
      " 30%|████████████████████████▉                                                          | 6/20 [00:35<01:22,  5.88s/it]\n",
      " 35%|█████████████████████████████                                                      | 7/20 [00:37<01:09,  5.37s/it]\n",
      " 40%|█████████████████████████████████▏                                                 | 8/20 [00:42<01:03,  5.27s/it]\n",
      " 45%|█████████████████████████████████████▎                                             | 9/20 [00:45<00:56,  5.10s/it]\n",
      " 50%|█████████████████████████████████████████                                         | 10/20 [00:50<00:50,  5.06s/it]\n",
      " 55%|█████████████████████████████████████████████                                     | 11/20 [00:55<00:45,  5.02s/it]\n",
      " 60%|█████████████████████████████████████████████████▏                                | 12/20 [00:59<00:39,  5.00s/it]\n",
      " 65%|█████████████████████████████████████████████████████▎                            | 13/20 [01:04<00:34,  4.95s/it]\n",
      " 70%|█████████████████████████████████████████████████████████▍                        | 14/20 [01:08<00:29,  4.90s/it]\n",
      " 75%|█████████████████████████████████████████████████████████████▌                    | 15/20 [01:13<00:24,  4.88s/it]\n",
      " 80%|█████████████████████████████████████████████████████████████████▌                | 16/20 [01:17<00:19,  4.86s/it]\n",
      " 85%|█████████████████████████████████████████████████████████████████████▋            | 17/20 [01:22<00:14,  4.85s/it]\n",
      " 90%|█████████████████████████████████████████████████████████████████████████▊        | 18/20 [01:27<00:09,  4.85s/it]\n",
      " 95%|█████████████████████████████████████████████████████████████████████████████▉    | 19/20 [01:31<00:04,  4.84s/it]\n",
      "100%|██████████████████████████████████████████████████████████████████████████████████| 20/20 [01:34<00:00,  4.74s/it]\n"
     ]
    },
    {
     "name": "stdout",
     "output_type": "stream",
     "text": [
      "fitness done\n"
     ]
    },
    {
     "name": "stderr",
     "output_type": "stream",
     "text": [
      "\n",
      "  0%|                                                                                           | 0/20 [00:00<?, ?it/s]\n",
      "100%|██████████████████████████████████████████████████████████████████████████████████████████| 20/20 [00:00<?, ?it/s]"
     ]
    },
    {
     "name": "stdout",
     "output_type": "stream",
     "text": [
      "complete34\n",
      "35\n"
     ]
    },
    {
     "name": "stderr",
     "output_type": "stream",
     "text": [
      "\n",
      "  0%|                                                                                           | 0/20 [00:00<?, ?it/s]\n",
      " 15%|████████████▍                                                                      | 3/20 [00:00<00:00, 24.94it/s]\n",
      " 30%|████████████████████████▉                                                          | 6/20 [00:00<00:00, 27.46it/s]\n",
      " 65%|█████████████████████████████████████████████████████▎                            | 13/20 [00:00<00:00, 40.77it/s]\n",
      " 85%|█████████████████████████████████████████████████████████████████████▋            | 17/20 [00:00<00:00, 39.11it/s]\n",
      "100%|██████████████████████████████████████████████████████████████████████████████████| 20/20 [00:00<00:00, 36.94it/s]"
     ]
    },
    {
     "name": "stdout",
     "output_type": "stream",
     "text": [
      "transpose\n",
      "exp\n",
      "apply lambda\n",
      "copied\n"
     ]
    },
    {
     "name": "stderr",
     "output_type": "stream",
     "text": [
      "\n",
      "  0%|                                                                                           | 0/20 [00:00<?, ?it/s]\n",
      "100%|█████████████████████████████████████████████████████████████████████████████████| 20/20 [00:00<00:00, 217.77it/s]"
     ]
    },
    {
     "name": "stdout",
     "output_type": "stream",
     "text": [
      "running fitness\n"
     ]
    },
    {
     "name": "stderr",
     "output_type": "stream",
     "text": [
      "\n",
      "  0%|                                                                                           | 0/20 [00:00<?, ?it/s]\n",
      "  5%|████▏                                                                              | 1/20 [00:09<03:06,  9.80s/it]\n",
      " 10%|████████▎                                                                          | 2/20 [00:14<02:09,  7.19s/it]\n",
      " 15%|████████████▍                                                                      | 3/20 [00:18<01:43,  6.10s/it]\n",
      " 20%|████████████████▌                                                                  | 4/20 [00:23<01:34,  5.93s/it]\n",
      " 25%|████████████████████▊                                                              | 5/20 [00:27<01:23,  5.59s/it]\n",
      " 30%|████████████████████████▉                                                          | 6/20 [00:33<01:17,  5.51s/it]\n",
      " 35%|█████████████████████████████                                                      | 7/20 [00:38<01:10,  5.46s/it]\n",
      " 40%|█████████████████████████████████▏                                                 | 8/20 [00:43<01:05,  5.44s/it]\n",
      " 45%|█████████████████████████████████████▎                                             | 9/20 [00:48<00:59,  5.40s/it]\n",
      " 50%|█████████████████████████████████████████                                         | 10/20 [00:53<00:53,  5.39s/it]\n",
      " 55%|█████████████████████████████████████████████                                     | 11/20 [00:59<00:48,  5.37s/it]\n",
      " 60%|█████████████████████████████████████████████████▏                                | 12/20 [01:04<00:42,  5.35s/it]\n",
      " 65%|█████████████████████████████████████████████████████▎                            | 13/20 [01:07<00:36,  5.20s/it]\n",
      " 70%|█████████████████████████████████████████████████████████▍                        | 14/20 [01:12<00:31,  5.18s/it]\n",
      " 75%|█████████████████████████████████████████████████████████████▌                    | 15/20 [01:16<00:25,  5.09s/it]\n",
      " 80%|█████████████████████████████████████████████████████████████████▌                | 16/20 [01:21<00:20,  5.07s/it]\n",
      " 85%|█████████████████████████████████████████████████████████████████████▋            | 17/20 [01:26<00:15,  5.09s/it]\n",
      " 90%|█████████████████████████████████████████████████████████████████████████▊        | 18/20 [01:30<00:10,  5.04s/it]\n",
      " 95%|█████████████████████████████████████████████████████████████████████████████▉    | 19/20 [01:35<00:05,  5.03s/it]\n",
      "100%|██████████████████████████████████████████████████████████████████████████████████| 20/20 [01:40<00:00,  5.01s/it]\n"
     ]
    },
    {
     "name": "stdout",
     "output_type": "stream",
     "text": [
      "fitness done\n"
     ]
    },
    {
     "name": "stderr",
     "output_type": "stream",
     "text": [
      "\n",
      "  0%|                                                                                           | 0/20 [00:00<?, ?it/s]\n",
      "100%|████████████████████████████████████████████████████████████████████████████████| 20/20 [00:00<00:00, 1644.86it/s]"
     ]
    },
    {
     "name": "stdout",
     "output_type": "stream",
     "text": [
      "complete35\n",
      "36\n"
     ]
    },
    {
     "name": "stderr",
     "output_type": "stream",
     "text": [
      "\n",
      "  0%|                                                                                           | 0/20 [00:00<?, ?it/s]\n",
      " 10%|████████▎                                                                          | 2/20 [00:00<00:00, 19.62it/s]\n",
      " 30%|████████████████████████▉                                                          | 6/20 [00:00<00:00, 27.24it/s]\n",
      " 55%|█████████████████████████████████████████████                                     | 11/20 [00:00<00:00, 31.26it/s]\n",
      " 70%|█████████████████████████████████████████████████████████▍                        | 14/20 [00:00<00:00, 29.93it/s]\n",
      " 85%|█████████████████████████████████████████████████████████████████████▋            | 17/20 [00:00<00:00, 29.92it/s]\n",
      "100%|██████████████████████████████████████████████████████████████████████████████████| 20/20 [00:00<00:00, 32.18it/s]"
     ]
    },
    {
     "name": "stdout",
     "output_type": "stream",
     "text": [
      "transpose\n",
      "exp\n",
      "apply lambda\n",
      "copied\n"
     ]
    },
    {
     "name": "stderr",
     "output_type": "stream",
     "text": [
      "\n",
      "  0%|                                                                                           | 0/20 [00:00<?, ?it/s]\n",
      "100%|█████████████████████████████████████████████████████████████████████████████████| 20/20 [00:00<00:00, 236.09it/s]"
     ]
    },
    {
     "name": "stdout",
     "output_type": "stream",
     "text": [
      "running fitness\n"
     ]
    },
    {
     "name": "stderr",
     "output_type": "stream",
     "text": [
      "\n",
      "  0%|                                                                                           | 0/20 [00:00<?, ?it/s]\n",
      "  5%|████▏                                                                              | 1/20 [00:10<03:17, 10.42s/it]\n",
      " 10%|████████▎                                                                          | 2/20 [00:15<02:17,  7.66s/it]\n",
      " 15%|████████████▍                                                                      | 3/20 [00:20<01:55,  6.81s/it]\n",
      " 20%|████████████████▌                                                                  | 4/20 [00:22<01:30,  5.67s/it]\n",
      " 25%|████████████████████▊                                                              | 5/20 [00:27<01:21,  5.45s/it]\n",
      " 30%|████████████████████████▉                                                          | 6/20 [00:31<01:14,  5.30s/it]\n",
      " 35%|█████████████████████████████                                                      | 7/20 [00:37<01:08,  5.30s/it]\n",
      " 40%|█████████████████████████████████▏                                                 | 8/20 [00:42<01:03,  5.27s/it]\n",
      " 45%|█████████████████████████████████████▎                                             | 9/20 [00:47<00:57,  5.27s/it]\n",
      " 50%|█████████████████████████████████████████                                         | 10/20 [00:52<00:52,  5.22s/it]\n",
      " 55%|█████████████████████████████████████████████                                     | 11/20 [00:56<00:46,  5.15s/it]\n",
      " 60%|█████████████████████████████████████████████████▏                                | 12/20 [01:01<00:41,  5.15s/it]\n",
      " 65%|█████████████████████████████████████████████████████▎                            | 13/20 [01:06<00:35,  5.08s/it]\n",
      " 70%|█████████████████████████████████████████████████████████▍                        | 14/20 [01:10<00:30,  5.05s/it]\n",
      " 75%|█████████████████████████████████████████████████████████████▌                    | 15/20 [01:14<00:24,  4.99s/it]\n",
      " 80%|█████████████████████████████████████████████████████████████████▌                | 16/20 [01:19<00:19,  4.98s/it]\n",
      " 85%|█████████████████████████████████████████████████████████████████████▋            | 17/20 [01:24<00:14,  4.96s/it]\n",
      " 90%|█████████████████████████████████████████████████████████████████████████▊        | 18/20 [01:29<00:09,  4.97s/it]\n",
      " 95%|█████████████████████████████████████████████████████████████████████████████▉    | 19/20 [01:32<00:04,  4.84s/it]\n",
      "100%|██████████████████████████████████████████████████████████████████████████████████| 20/20 [01:36<00:00,  4.84s/it]\n"
     ]
    },
    {
     "name": "stdout",
     "output_type": "stream",
     "text": [
      "fitness done\n"
     ]
    },
    {
     "name": "stderr",
     "output_type": "stream",
     "text": [
      "\n",
      "  0%|                                                                                           | 0/20 [00:00<?, ?it/s]\n",
      "100%|████████████████████████████████████████████████████████████████████████████████| 20/20 [00:00<00:00, 1647.22it/s]"
     ]
    },
    {
     "name": "stdout",
     "output_type": "stream",
     "text": [
      "complete36\n",
      "37\n"
     ]
    },
    {
     "name": "stderr",
     "output_type": "stream",
     "text": [
      "\n",
      "  0%|                                                                                           | 0/20 [00:00<?, ?it/s]\n",
      " 40%|█████████████████████████████████▏                                                 | 8/20 [00:00<00:00, 79.28it/s]\n",
      " 75%|█████████████████████████████████████████████████████████████▌                    | 15/20 [00:00<00:00, 74.55it/s]\n",
      " 95%|█████████████████████████████████████████████████████████████████████████████▉    | 19/20 [00:00<00:00, 59.91it/s]\n",
      "100%|██████████████████████████████████████████████████████████████████████████████████| 20/20 [00:00<00:00, 58.96it/s]"
     ]
    },
    {
     "name": "stdout",
     "output_type": "stream",
     "text": [
      "transpose\n",
      "exp\n",
      "apply lambda\n",
      "copied\n"
     ]
    },
    {
     "name": "stderr",
     "output_type": "stream",
     "text": [
      "\n",
      "  0%|                                                                                           | 0/20 [00:00<?, ?it/s]\n",
      "100%|█████████████████████████████████████████████████████████████████████████████████| 20/20 [00:00<00:00, 217.55it/s]"
     ]
    },
    {
     "name": "stdout",
     "output_type": "stream",
     "text": [
      "running fitness\n"
     ]
    },
    {
     "name": "stderr",
     "output_type": "stream",
     "text": [
      "\n",
      "  0%|                                                                                           | 0/20 [00:00<?, ?it/s]\n",
      "  5%|████▏                                                                              | 1/20 [00:11<03:34, 11.27s/it]\n",
      " 10%|████████▎                                                                          | 2/20 [00:16<02:26,  8.15s/it]\n",
      " 15%|████████████▍                                                                      | 3/20 [00:20<01:55,  6.78s/it]\n",
      " 20%|████████████████▌                                                                  | 4/20 [00:25<01:41,  6.36s/it]\n",
      " 25%|████████████████████▊                                                              | 5/20 [00:30<01:32,  6.15s/it]\n",
      " 30%|████████████████████████▉                                                          | 6/20 [00:36<01:24,  6.00s/it]\n",
      " 35%|█████████████████████████████                                                      | 7/20 [00:38<01:12,  5.55s/it]\n",
      " 40%|█████████████████████████████████▏                                                 | 8/20 [00:43<01:05,  5.46s/it]\n",
      " 45%|█████████████████████████████████████▎                                             | 9/20 [00:48<00:59,  5.44s/it]\n",
      " 50%|█████████████████████████████████████████                                         | 10/20 [00:53<00:53,  5.40s/it]\n",
      " 55%|█████████████████████████████████████████████                                     | 11/20 [00:58<00:47,  5.28s/it]\n",
      " 60%|█████████████████████████████████████████████████▏                                | 12/20 [01:03<00:42,  5.29s/it]\n",
      " 65%|█████████████████████████████████████████████████████▎                            | 13/20 [01:09<00:37,  5.32s/it]\n",
      " 70%|█████████████████████████████████████████████████████████▍                        | 14/20 [01:13<00:31,  5.28s/it]\n",
      " 75%|█████████████████████████████████████████████████████████████▌                    | 15/20 [01:19<00:26,  5.27s/it]\n",
      " 80%|█████████████████████████████████████████████████████████████████▌                | 16/20 [01:23<00:20,  5.19s/it]\n",
      " 85%|█████████████████████████████████████████████████████████████████████▋            | 17/20 [01:28<00:15,  5.21s/it]\n",
      " 90%|█████████████████████████████████████████████████████████████████████████▊        | 18/20 [01:33<00:10,  5.22s/it]\n",
      " 95%|█████████████████████████████████████████████████████████████████████████████▉    | 19/20 [01:39<00:05,  5.23s/it]\n",
      "100%|██████████████████████████████████████████████████████████████████████████████████| 20/20 [01:44<00:00,  5.23s/it]\n"
     ]
    },
    {
     "name": "stdout",
     "output_type": "stream",
     "text": [
      "fitness done\n"
     ]
    },
    {
     "name": "stderr",
     "output_type": "stream",
     "text": [
      "\n",
      "  0%|                                                                                           | 0/20 [00:00<?, ?it/s]\n",
      "100%|████████████████████████████████████████████████████████████████████████████████| 20/20 [00:00<00:00, 1996.95it/s]"
     ]
    },
    {
     "name": "stdout",
     "output_type": "stream",
     "text": [
      "complete37\n",
      "38\n"
     ]
    },
    {
     "name": "stderr",
     "output_type": "stream",
     "text": [
      "\n",
      "  0%|                                                                                           | 0/20 [00:00<?, ?it/s]\n",
      " 10%|████████▎                                                                          | 2/20 [00:00<00:01, 17.79it/s]\n",
      " 55%|█████████████████████████████████████████████                                     | 11/20 [00:00<00:00, 47.65it/s]\n",
      " 95%|█████████████████████████████████████████████████████████████████████████████▉    | 19/20 [00:00<00:00, 57.37it/s]\n",
      "100%|██████████████████████████████████████████████████████████████████████████████████| 20/20 [00:00<00:00, 57.67it/s]"
     ]
    },
    {
     "name": "stdout",
     "output_type": "stream",
     "text": [
      "transpose\n",
      "exp\n",
      "apply lambda\n",
      "copied\n"
     ]
    },
    {
     "name": "stderr",
     "output_type": "stream",
     "text": [
      "\n",
      "  0%|                                                                                           | 0/20 [00:00<?, ?it/s]\n",
      "100%|█████████████████████████████████████████████████████████████████████████████████| 20/20 [00:00<00:00, 191.06it/s]\n"
     ]
    },
    {
     "name": "stdout",
     "output_type": "stream",
     "text": [
      "running fitness\n"
     ]
    },
    {
     "name": "stderr",
     "output_type": "stream",
     "text": [
      "\n",
      "  0%|                                                                                           | 0/20 [00:00<?, ?it/s]\n",
      "  5%|████▏                                                                              | 1/20 [00:11<03:47, 11.96s/it]\n",
      " 10%|████████▎                                                                          | 2/20 [00:15<02:23,  7.96s/it]\n",
      " 15%|████████████▍                                                                      | 3/20 [00:21<02:00,  7.10s/it]\n",
      " 20%|████████████████▌                                                                  | 4/20 [00:26<01:45,  6.61s/it]\n",
      " 25%|████████████████████▊                                                              | 5/20 [00:30<01:32,  6.19s/it]\n",
      " 30%|████████████████████████▉                                                          | 6/20 [00:35<01:23,  5.95s/it]\n",
      " 35%|█████████████████████████████                                                      | 7/20 [00:40<01:14,  5.74s/it]\n",
      " 40%|█████████████████████████████████▏                                                 | 8/20 [00:44<01:07,  5.62s/it]\n",
      " 45%|█████████████████████████████████████▎                                             | 9/20 [00:49<01:00,  5.54s/it]\n",
      " 50%|█████████████████████████████████████████                                         | 10/20 [00:54<00:54,  5.49s/it]\n",
      " 55%|█████████████████████████████████████████████                                     | 11/20 [00:59<00:48,  5.41s/it]\n",
      " 60%|█████████████████████████████████████████████████▏                                | 12/20 [01:03<00:42,  5.33s/it]\n",
      " 65%|█████████████████████████████████████████████████████▎                            | 13/20 [01:08<00:36,  5.27s/it]\n",
      " 70%|█████████████████████████████████████████████████████████▍                        | 14/20 [01:13<00:31,  5.22s/it]\n",
      " 75%|█████████████████████████████████████████████████████████████▌                    | 15/20 [01:15<00:25,  5.03s/it]\n",
      " 80%|█████████████████████████████████████████████████████████████████▌                | 16/20 [01:20<00:20,  5.04s/it]\n",
      " 85%|█████████████████████████████████████████████████████████████████████▋            | 17/20 [01:25<00:15,  5.06s/it]\n",
      " 90%|█████████████████████████████████████████████████████████████████████████▊        | 18/20 [01:30<00:10,  5.02s/it]\n",
      " 95%|█████████████████████████████████████████████████████████████████████████████▉    | 19/20 [01:34<00:04,  5.00s/it]\n",
      "100%|██████████████████████████████████████████████████████████████████████████████████| 20/20 [01:39<00:00,  4.98s/it]\n"
     ]
    },
    {
     "name": "stdout",
     "output_type": "stream",
     "text": [
      "fitness done\n"
     ]
    },
    {
     "name": "stderr",
     "output_type": "stream",
     "text": [
      "\n",
      "  0%|                                                                                           | 0/20 [00:00<?, ?it/s]\n",
      "100%|████████████████████████████████████████████████████████████████████████████████| 20/20 [00:00<00:00, 9637.65it/s]"
     ]
    },
    {
     "name": "stdout",
     "output_type": "stream",
     "text": [
      "complete38\n",
      "39\n"
     ]
    },
    {
     "name": "stderr",
     "output_type": "stream",
     "text": [
      "\n",
      "  0%|                                                                                           | 0/20 [00:00<?, ?it/s]\n",
      " 25%|████████████████████▊                                                              | 5/20 [00:00<00:00, 31.29it/s]\n",
      " 60%|█████████████████████████████████████████████████▏                                | 12/20 [00:00<00:00, 46.15it/s]\n",
      " 75%|█████████████████████████████████████████████████████████████▌                    | 15/20 [00:00<00:00, 36.84it/s]\n",
      "100%|██████████████████████████████████████████████████████████████████████████████████| 20/20 [00:00<00:00, 42.00it/s]"
     ]
    },
    {
     "name": "stdout",
     "output_type": "stream",
     "text": [
      "transpose\n",
      "exp\n",
      "apply lambda\n",
      "copied\n"
     ]
    },
    {
     "name": "stderr",
     "output_type": "stream",
     "text": [
      "\n",
      "  0%|                                                                                           | 0/20 [00:00<?, ?it/s]\n",
      "100%|█████████████████████████████████████████████████████████████████████████████████| 20/20 [00:00<00:00, 226.82it/s]"
     ]
    },
    {
     "name": "stdout",
     "output_type": "stream",
     "text": [
      "running fitness\n"
     ]
    },
    {
     "name": "stderr",
     "output_type": "stream",
     "text": [
      "\n",
      "  0%|                                                                                           | 0/20 [00:00<?, ?it/s]\n",
      "  5%|████▏                                                                              | 1/20 [00:12<03:48, 12.00s/it]\n",
      " 10%|████████▎                                                                          | 2/20 [00:16<02:29,  8.29s/it]\n",
      " 15%|████████████▍                                                                      | 3/20 [00:21<02:01,  7.13s/it]\n",
      " 20%|████████████████▌                                                                  | 4/20 [00:25<01:43,  6.48s/it]\n",
      " 25%|████████████████████▊                                                              | 5/20 [00:29<01:28,  5.90s/it]\n",
      " 30%|████████████████████████▉                                                          | 6/20 [00:33<01:19,  5.66s/it]\n",
      " 35%|█████████████████████████████                                                      | 7/20 [00:38<01:11,  5.51s/it]\n",
      " 40%|█████████████████████████████████▏                                                 | 8/20 [00:42<01:03,  5.33s/it]\n",
      " 45%|█████████████████████████████████████▎                                             | 9/20 [00:47<00:57,  5.24s/it]\n",
      " 50%|█████████████████████████████████████████                                         | 10/20 [00:51<00:51,  5.17s/it]\n",
      " 55%|█████████████████████████████████████████████                                     | 11/20 [00:56<00:46,  5.17s/it]\n",
      " 60%|█████████████████████████████████████████████████▏                                | 12/20 [01:01<00:41,  5.16s/it]\n",
      " 65%|█████████████████████████████████████████████████████▎                            | 13/20 [01:05<00:35,  5.04s/it]\n",
      " 70%|█████████████████████████████████████████████████████████▍                        | 14/20 [01:10<00:30,  5.02s/it]\n",
      " 75%|█████████████████████████████████████████████████████████████▌                    | 15/20 [01:15<00:25,  5.01s/it]\n",
      " 80%|█████████████████████████████████████████████████████████████████▌                | 16/20 [01:20<00:20,  5.00s/it]\n",
      " 85%|█████████████████████████████████████████████████████████████████████▋            | 17/20 [01:24<00:14,  4.99s/it]\n",
      " 90%|█████████████████████████████████████████████████████████████████████████▊        | 18/20 [01:29<00:09,  4.98s/it]\n",
      " 95%|█████████████████████████████████████████████████████████████████████████████▉    | 19/20 [01:37<00:05,  5.11s/it]\n",
      "100%|██████████████████████████████████████████████████████████████████████████████████| 20/20 [01:40<00:00,  5.02s/it]\n"
     ]
    },
    {
     "name": "stdout",
     "output_type": "stream",
     "text": [
      "fitness done\n"
     ]
    },
    {
     "name": "stderr",
     "output_type": "stream",
     "text": [
      "\n",
      "  0%|                                                                                           | 0/20 [00:00<?, ?it/s]\n",
      "100%|████████████████████████████████████████████████████████████████████████████████| 20/20 [00:00<00:00, 9670.98it/s]"
     ]
    },
    {
     "name": "stdout",
     "output_type": "stream",
     "text": [
      "complete39\n",
      "40\n"
     ]
    },
    {
     "name": "stderr",
     "output_type": "stream",
     "text": [
      "\n",
      "  0%|                                                                                           | 0/20 [00:00<?, ?it/s]\n",
      " 35%|█████████████████████████████                                                      | 7/20 [00:00<00:00, 66.32it/s]\n",
      " 45%|█████████████████████████████████████▎                                             | 9/20 [00:00<00:00, 40.65it/s]\n",
      " 80%|█████████████████████████████████████████████████████████████████▌                | 16/20 [00:00<00:00, 49.74it/s]\n",
      "100%|██████████████████████████████████████████████████████████████████████████████████| 20/20 [00:00<00:00, 53.32it/s]"
     ]
    },
    {
     "name": "stdout",
     "output_type": "stream",
     "text": [
      "transpose\n",
      "exp\n",
      "apply lambda\n",
      "copied\n"
     ]
    },
    {
     "name": "stderr",
     "output_type": "stream",
     "text": [
      "\n",
      "  0%|                                                                                           | 0/20 [00:00<?, ?it/s]\n",
      "100%|█████████████████████████████████████████████████████████████████████████████████| 20/20 [00:00<00:00, 195.80it/s]"
     ]
    },
    {
     "name": "stdout",
     "output_type": "stream",
     "text": [
      "running fitness\n"
     ]
    },
    {
     "name": "stderr",
     "output_type": "stream",
     "text": [
      "\n",
      "  0%|                                                                                           | 0/20 [00:00<?, ?it/s]\n",
      "  5%|████▏                                                                              | 1/20 [00:11<03:46, 11.93s/it]\n",
      " 10%|████████▎                                                                          | 2/20 [00:16<02:27,  8.21s/it]\n",
      " 15%|████████████▍                                                                      | 3/20 [00:21<02:01,  7.14s/it]\n",
      " 20%|████████████████▌                                                                  | 4/20 [00:26<01:46,  6.66s/it]\n",
      " 25%|████████████████████▊                                                              | 5/20 [00:31<01:33,  6.25s/it]\n",
      " 30%|████████████████████████▉                                                          | 6/20 [00:33<01:18,  5.60s/it]\n",
      " 35%|█████████████████████████████                                                      | 7/20 [00:37<01:10,  5.42s/it]\n",
      " 40%|█████████████████████████████████▏                                                 | 8/20 [00:41<01:02,  5.21s/it]\n",
      " 45%|█████████████████████████████████████▎                                             | 9/20 [00:47<00:58,  5.28s/it]\n",
      " 50%|█████████████████████████████████████████                                         | 10/20 [00:52<00:52,  5.26s/it]\n",
      " 55%|█████████████████████████████████████████████                                     | 11/20 [00:55<00:45,  5.03s/it]\n",
      " 60%|█████████████████████████████████████████████████▏                                | 12/20 [00:59<00:39,  4.99s/it]\n",
      " 65%|█████████████████████████████████████████████████████▎                            | 13/20 [01:03<00:34,  4.91s/it]\n",
      " 70%|█████████████████████████████████████████████████████████▍                        | 14/20 [01:08<00:29,  4.90s/it]\n",
      " 75%|█████████████████████████████████████████████████████████████▌                    | 15/20 [01:14<00:24,  4.97s/it]\n",
      " 80%|█████████████████████████████████████████████████████████████████▌                | 16/20 [01:17<00:19,  4.83s/it]\n",
      " 85%|█████████████████████████████████████████████████████████████████████▋            | 17/20 [01:22<00:14,  4.84s/it]\n",
      " 90%|█████████████████████████████████████████████████████████████████████████▊        | 18/20 [01:26<00:09,  4.82s/it]\n",
      " 95%|█████████████████████████████████████████████████████████████████████████████▉    | 19/20 [01:31<00:04,  4.80s/it]\n",
      "100%|██████████████████████████████████████████████████████████████████████████████████| 20/20 [01:35<00:00,  4.75s/it]\n"
     ]
    },
    {
     "name": "stdout",
     "output_type": "stream",
     "text": [
      "fitness done\n"
     ]
    },
    {
     "name": "stderr",
     "output_type": "stream",
     "text": [
      "\n",
      "  0%|                                                                                           | 0/20 [00:00<?, ?it/s]\n",
      "100%|██████████████████████████████████████████████████████████████████████████████████████████| 20/20 [00:00<?, ?it/s]"
     ]
    },
    {
     "name": "stdout",
     "output_type": "stream",
     "text": [
      "complete40\n",
      "41\n"
     ]
    },
    {
     "name": "stderr",
     "output_type": "stream",
     "text": [
      "\n",
      "  0%|                                                                                           | 0/20 [00:00<?, ?it/s]\n",
      " 10%|████████▎                                                                          | 2/20 [00:00<00:01, 17.74it/s]\n",
      " 30%|████████████████████████▉                                                          | 6/20 [00:00<00:00, 25.95it/s]\n",
      " 65%|█████████████████████████████████████████████████████▎                            | 13/20 [00:00<00:00, 39.21it/s]\n",
      "100%|██████████████████████████████████████████████████████████████████████████████████| 20/20 [00:00<00:00, 46.32it/s]\n"
     ]
    },
    {
     "name": "stdout",
     "output_type": "stream",
     "text": [
      "transpose\n",
      "exp\n",
      "apply lambda\n",
      "copied\n"
     ]
    },
    {
     "name": "stderr",
     "output_type": "stream",
     "text": [
      "\n",
      "  0%|                                                                                           | 0/20 [00:00<?, ?it/s]\n",
      "100%|█████████████████████████████████████████████████████████████████████████████████| 20/20 [00:00<00:00, 213.49it/s]"
     ]
    },
    {
     "name": "stdout",
     "output_type": "stream",
     "text": [
      "running fitness\n"
     ]
    },
    {
     "name": "stderr",
     "output_type": "stream",
     "text": [
      "\n",
      "  0%|                                                                                           | 0/20 [00:00<?, ?it/s]\n",
      "  5%|████▏                                                                              | 1/20 [00:11<03:46, 11.90s/it]\n",
      " 10%|████████▎                                                                          | 2/20 [00:15<02:21,  7.83s/it]\n",
      " 15%|████████████▍                                                                      | 3/20 [00:20<01:54,  6.75s/it]\n",
      " 20%|████████████████▌                                                                  | 4/20 [00:23<01:35,  5.96s/it]\n",
      " 25%|████████████████████▊                                                              | 5/20 [00:28<01:25,  5.68s/it]\n",
      " 30%|████████████████████████▉                                                          | 6/20 [00:33<01:17,  5.53s/it]\n",
      " 35%|█████████████████████████████                                                      | 7/20 [00:37<01:10,  5.40s/it]\n",
      " 40%|█████████████████████████████████▏                                                 | 8/20 [00:42<01:03,  5.30s/it]\n",
      " 45%|█████████████████████████████████████▎                                             | 9/20 [00:44<00:54,  4.96s/it]\n",
      " 50%|█████████████████████████████████████████                                         | 10/20 [00:49<00:49,  4.99s/it]\n",
      " 55%|█████████████████████████████████████████████                                     | 11/20 [00:54<00:44,  4.94s/it]\n",
      " 60%|█████████████████████████████████████████████████▏                                | 12/20 [00:58<00:39,  4.91s/it]\n",
      " 65%|█████████████████████████████████████████████████████▎                            | 13/20 [01:04<00:34,  4.96s/it]\n",
      " 70%|█████████████████████████████████████████████████████████▍                        | 14/20 [01:09<00:29,  4.97s/it]\n",
      " 75%|█████████████████████████████████████████████████████████████▌                    | 15/20 [01:14<00:24,  4.94s/it]\n",
      " 80%|█████████████████████████████████████████████████████████████████▌                | 16/20 [01:18<00:19,  4.90s/it]\n",
      " 85%|█████████████████████████████████████████████████████████████████████▋            | 17/20 [01:23<00:14,  4.89s/it]\n",
      " 90%|█████████████████████████████████████████████████████████████████████████▊        | 18/20 [01:27<00:09,  4.87s/it]\n",
      " 95%|█████████████████████████████████████████████████████████████████████████████▉    | 19/20 [01:32<00:04,  4.87s/it]\n",
      "100%|██████████████████████████████████████████████████████████████████████████████████| 20/20 [01:37<00:00,  4.86s/it]\n"
     ]
    },
    {
     "name": "stdout",
     "output_type": "stream",
     "text": [
      "fitness done\n"
     ]
    },
    {
     "name": "stderr",
     "output_type": "stream",
     "text": [
      "\n",
      "  0%|                                                                                           | 0/20 [00:00<?, ?it/s]\n",
      "100%|██████████████████████████████████████████████████████████████████████████████████████████| 20/20 [00:00<?, ?it/s]"
     ]
    },
    {
     "name": "stdout",
     "output_type": "stream",
     "text": [
      "complete41\n",
      "42\n"
     ]
    },
    {
     "name": "stderr",
     "output_type": "stream",
     "text": [
      "\n",
      "  0%|                                                                                           | 0/20 [00:00<?, ?it/s]\n",
      " 20%|████████████████▌                                                                  | 4/20 [00:00<00:00, 31.52it/s]\n",
      " 55%|█████████████████████████████████████████████                                     | 11/20 [00:00<00:00, 39.19it/s]\n",
      " 90%|█████████████████████████████████████████████████████████████████████████▊        | 18/20 [00:00<00:00, 49.26it/s]\n",
      "100%|██████████████████████████████████████████████████████████████████████████████████| 20/20 [00:00<00:00, 44.43it/s]"
     ]
    },
    {
     "name": "stdout",
     "output_type": "stream",
     "text": [
      "transpose\n",
      "exp\n",
      "apply lambda\n",
      "copied\n"
     ]
    },
    {
     "name": "stderr",
     "output_type": "stream",
     "text": [
      "\n",
      "  0%|                                                                                           | 0/20 [00:00<?, ?it/s]\n",
      " 95%|████████████████████████████████████████████████████████████████████████████▉    | 19/20 [00:00<00:00, 185.57it/s]\n",
      "100%|█████████████████████████████████████████████████████████████████████████████████| 20/20 [00:00<00:00, 180.94it/s]"
     ]
    },
    {
     "name": "stdout",
     "output_type": "stream",
     "text": [
      "running fitness\n"
     ]
    },
    {
     "name": "stderr",
     "output_type": "stream",
     "text": [
      "\n",
      "  0%|                                                                                           | 0/20 [00:00<?, ?it/s]\n",
      "  5%|████▏                                                                              | 1/20 [00:10<03:23, 10.72s/it]\n",
      " 10%|████████▎                                                                          | 2/20 [00:13<02:05,  6.96s/it]\n",
      " 15%|████████████▍                                                                      | 3/20 [00:19<01:48,  6.38s/it]\n",
      " 20%|████████████████▌                                                                  | 4/20 [00:23<01:32,  5.76s/it]\n",
      " 25%|████████████████████▊                                                              | 5/20 [00:27<01:22,  5.50s/it]\n",
      " 30%|████████████████████████▉                                                          | 6/20 [00:31<01:14,  5.33s/it]\n",
      " 35%|█████████████████████████████                                                      | 7/20 [00:36<01:07,  5.22s/it]\n",
      " 40%|█████████████████████████████████▏                                                 | 8/20 [00:41<01:01,  5.16s/it]\n",
      " 45%|█████████████████████████████████████▎                                             | 9/20 [00:45<00:55,  5.07s/it]\n",
      " 50%|█████████████████████████████████████████                                         | 10/20 [00:50<00:50,  5.06s/it]\n",
      " 55%|█████████████████████████████████████████████                                     | 11/20 [00:54<00:44,  4.96s/it]\n",
      " 60%|█████████████████████████████████████████████████▏                                | 12/20 [00:59<00:39,  4.93s/it]\n",
      " 65%|█████████████████████████████████████████████████████▎                            | 13/20 [01:03<00:34,  4.89s/it]\n",
      " 70%|█████████████████████████████████████████████████████████▍                        | 14/20 [01:06<00:28,  4.76s/it]\n",
      " 75%|█████████████████████████████████████████████████████████████▌                    | 15/20 [01:11<00:23,  4.74s/it]\n",
      " 80%|█████████████████████████████████████████████████████████████████▌                | 16/20 [01:16<00:19,  4.76s/it]\n",
      " 85%|█████████████████████████████████████████████████████████████████████▋            | 17/20 [01:20<00:14,  4.76s/it]\n",
      " 90%|█████████████████████████████████████████████████████████████████████████▊        | 18/20 [01:25<00:09,  4.75s/it]\n",
      " 95%|█████████████████████████████████████████████████████████████████████████████▉    | 19/20 [01:30<00:04,  4.75s/it]\n",
      "100%|██████████████████████████████████████████████████████████████████████████████████| 20/20 [01:33<00:00,  4.69s/it]\n"
     ]
    },
    {
     "name": "stdout",
     "output_type": "stream",
     "text": [
      "fitness done\n"
     ]
    },
    {
     "name": "stderr",
     "output_type": "stream",
     "text": [
      "\n",
      "  0%|                                                                                           | 0/20 [00:00<?, ?it/s]\n",
      "100%|████████████████████████████████████████████████████████████████████████████████| 20/20 [00:00<00:00, 9765.55it/s]"
     ]
    },
    {
     "name": "stdout",
     "output_type": "stream",
     "text": [
      "complete42\n",
      "43\n"
     ]
    },
    {
     "name": "stderr",
     "output_type": "stream",
     "text": [
      "\n",
      "  0%|                                                                                           | 0/20 [00:00<?, ?it/s]\n",
      " 40%|█████████████████████████████████▏                                                 | 8/20 [00:00<00:00, 68.61it/s]\n",
      " 60%|█████████████████████████████████████████████████▏                                | 12/20 [00:00<00:00, 50.22it/s]\n",
      " 75%|█████████████████████████████████████████████████████████████▌                    | 15/20 [00:00<00:00, 42.27it/s]\n",
      " 90%|█████████████████████████████████████████████████████████████████████████▊        | 18/20 [00:00<00:00, 39.55it/s]\n",
      "100%|██████████████████████████████████████████████████████████████████████████████████| 20/20 [00:00<00:00, 37.06it/s]"
     ]
    },
    {
     "name": "stdout",
     "output_type": "stream",
     "text": [
      "transpose\n",
      "exp\n",
      "apply lambda\n",
      "copied\n"
     ]
    },
    {
     "name": "stderr",
     "output_type": "stream",
     "text": [
      "\n",
      "  0%|                                                                                           | 0/20 [00:00<?, ?it/s]\n",
      " 95%|████████████████████████████████████████████████████████████████████████████▉    | 19/20 [00:00<00:00, 181.51it/s]\n",
      "100%|█████████████████████████████████████████████████████████████████████████████████| 20/20 [00:00<00:00, 177.37it/s]"
     ]
    },
    {
     "name": "stdout",
     "output_type": "stream",
     "text": [
      "running fitness\n"
     ]
    },
    {
     "name": "stderr",
     "output_type": "stream",
     "text": [
      "\n",
      "  0%|                                                                                           | 0/20 [00:00<?, ?it/s]\n",
      "  5%|████▏                                                                              | 1/20 [00:11<03:40, 11.59s/it]\n",
      " 10%|████████▎                                                                          | 2/20 [00:16<02:27,  8.20s/it]\n",
      " 15%|████████████▍                                                                      | 3/20 [00:21<01:59,  7.02s/it]\n",
      " 20%|████████████████▌                                                                  | 4/20 [00:24<01:38,  6.16s/it]\n",
      " 25%|████████████████████▊                                                              | 5/20 [00:26<01:20,  5.38s/it]\n",
      " 30%|████████████████████████▉                                                          | 6/20 [00:31<01:13,  5.24s/it]\n",
      " 35%|█████████████████████████████                                                      | 7/20 [00:35<01:06,  5.08s/it]\n",
      " 40%|█████████████████████████████████▏                                                 | 8/20 [00:39<00:59,  4.97s/it]\n",
      " 45%|█████████████████████████████████████▎                                             | 9/20 [00:44<00:54,  4.94s/it]\n",
      " 50%|█████████████████████████████████████████                                         | 10/20 [00:48<00:48,  4.80s/it]\n",
      " 55%|█████████████████████████████████████████████                                     | 11/20 [00:52<00:43,  4.78s/it]\n",
      " 60%|█████████████████████████████████████████████████▏                                | 12/20 [00:56<00:37,  4.69s/it]\n",
      " 65%|█████████████████████████████████████████████████████▎                            | 13/20 [01:00<00:32,  4.62s/it]\n",
      " 70%|█████████████████████████████████████████████████████████▍                        | 14/20 [01:04<00:27,  4.63s/it]\n",
      " 75%|█████████████████████████████████████████████████████████████▌                    | 15/20 [01:09<00:23,  4.66s/it]\n",
      " 80%|█████████████████████████████████████████████████████████████████▌                | 16/20 [01:14<00:18,  4.63s/it]\n",
      " 85%|█████████████████████████████████████████████████████████████████████▋            | 17/20 [01:18<00:13,  4.63s/it]\n",
      " 90%|█████████████████████████████████████████████████████████████████████████▊        | 18/20 [01:23<00:09,  4.64s/it]\n",
      " 95%|█████████████████████████████████████████████████████████████████████████████▉    | 19/20 [01:27<00:04,  4.62s/it]\n",
      "100%|██████████████████████████████████████████████████████████████████████████████████| 20/20 [01:32<00:00,  4.65s/it]\n"
     ]
    },
    {
     "name": "stdout",
     "output_type": "stream",
     "text": [
      "fitness done\n"
     ]
    },
    {
     "name": "stderr",
     "output_type": "stream",
     "text": [
      "\n",
      "  0%|                                                                                           | 0/20 [00:00<?, ?it/s]\n",
      "100%|████████████████████████████████████████████████████████████████████████████████| 20/20 [00:00<00:00, 2477.95it/s]"
     ]
    },
    {
     "name": "stdout",
     "output_type": "stream",
     "text": [
      "complete43\n",
      "44\n"
     ]
    },
    {
     "name": "stderr",
     "output_type": "stream",
     "text": [
      "\n",
      "  0%|                                                                                           | 0/20 [00:00<?, ?it/s]\n",
      " 30%|████████████████████████▉                                                          | 6/20 [00:00<00:00, 37.11it/s]\n",
      " 70%|█████████████████████████████████████████████████████████▍                        | 14/20 [00:00<00:00, 51.47it/s]\n",
      "100%|██████████████████████████████████████████████████████████████████████████████████| 20/20 [00:00<00:00, 59.79it/s]"
     ]
    },
    {
     "name": "stdout",
     "output_type": "stream",
     "text": [
      "transpose\n",
      "exp\n",
      "apply lambda\n",
      "copied\n"
     ]
    },
    {
     "name": "stderr",
     "output_type": "stream",
     "text": [
      "\n",
      "  0%|                                                                                           | 0/20 [00:00<?, ?it/s]\n",
      "100%|█████████████████████████████████████████████████████████████████████████████████| 20/20 [00:00<00:00, 195.55it/s]"
     ]
    },
    {
     "name": "stdout",
     "output_type": "stream",
     "text": [
      "running fitness\n"
     ]
    },
    {
     "name": "stderr",
     "output_type": "stream",
     "text": [
      "\n",
      "  0%|                                                                                           | 0/20 [00:00<?, ?it/s]\n",
      "  5%|████▏                                                                              | 1/20 [00:11<03:36, 11.40s/it]\n",
      " 10%|████████▎                                                                          | 2/20 [00:16<02:26,  8.16s/it]\n",
      " 15%|████████████▍                                                                      | 3/20 [00:20<01:58,  6.95s/it]\n",
      " 20%|████████████████▌                                                                  | 4/20 [00:25<01:40,  6.28s/it]\n",
      " 25%|████████████████████▊                                                              | 5/20 [00:30<01:30,  6.05s/it]\n",
      " 30%|████████████████████████▉                                                          | 6/20 [00:34<01:20,  5.73s/it]\n",
      " 35%|█████████████████████████████                                                      | 7/20 [00:38<01:11,  5.53s/it]\n",
      " 40%|█████████████████████████████████▏                                                 | 8/20 [00:43<01:05,  5.44s/it]\n",
      " 45%|█████████████████████████████████████▎                                             | 9/20 [00:48<00:58,  5.35s/it]\n",
      " 50%|█████████████████████████████████████████                                         | 10/20 [00:52<00:52,  5.26s/it]\n",
      " 55%|█████████████████████████████████████████████                                     | 11/20 [00:57<00:47,  5.22s/it]\n",
      " 60%|█████████████████████████████████████████████████▏                                | 12/20 [01:02<00:41,  5.17s/it]\n",
      " 65%|█████████████████████████████████████████████████████▎                            | 13/20 [01:07<00:36,  5.15s/it]\n",
      " 70%|█████████████████████████████████████████████████████████▍                        | 14/20 [01:12<00:30,  5.14s/it]\n",
      " 75%|█████████████████████████████████████████████████████████████▌                    | 15/20 [01:14<00:24,  4.99s/it]\n",
      " 80%|█████████████████████████████████████████████████████████████████▌                | 16/20 [01:18<00:19,  4.90s/it]\n",
      " 85%|█████████████████████████████████████████████████████████████████████▋            | 17/20 [01:22<00:14,  4.88s/it]\n",
      " 90%|█████████████████████████████████████████████████████████████████████████▊        | 18/20 [01:25<00:09,  4.77s/it]\n",
      " 95%|█████████████████████████████████████████████████████████████████████████████▉    | 19/20 [01:30<00:04,  4.75s/it]\n",
      "100%|██████████████████████████████████████████████████████████████████████████████████| 20/20 [01:34<00:00,  4.74s/it]\n"
     ]
    },
    {
     "name": "stdout",
     "output_type": "stream",
     "text": [
      "fitness done\n"
     ]
    },
    {
     "name": "stderr",
     "output_type": "stream",
     "text": [
      "\n",
      "  0%|                                                                                           | 0/20 [00:00<?, ?it/s]\n",
      "100%|████████████████████████████████████████████████████████████████████████████████| 20/20 [00:00<00:00, 1278.85it/s]"
     ]
    },
    {
     "name": "stdout",
     "output_type": "stream",
     "text": [
      "complete44\n",
      "45\n"
     ]
    },
    {
     "name": "stderr",
     "output_type": "stream",
     "text": [
      "\n",
      "  0%|                                                                                           | 0/20 [00:00<?, ?it/s]\n",
      " 40%|█████████████████████████████████▏                                                 | 8/20 [00:00<00:00, 79.80it/s]\n",
      " 75%|█████████████████████████████████████████████████████████████▌                    | 15/20 [00:00<00:00, 74.81it/s]\n",
      "100%|██████████████████████████████████████████████████████████████████████████████████| 20/20 [00:00<00:00, 74.21it/s]"
     ]
    },
    {
     "name": "stdout",
     "output_type": "stream",
     "text": [
      "transpose\n",
      "exp\n",
      "apply lambda\n",
      "copied\n"
     ]
    },
    {
     "name": "stderr",
     "output_type": "stream",
     "text": [
      "\n",
      "  0%|                                                                                           | 0/20 [00:00<?, ?it/s]\n",
      "100%|█████████████████████████████████████████████████████████████████████████████████| 20/20 [00:00<00:00, 405.33it/s]"
     ]
    },
    {
     "name": "stdout",
     "output_type": "stream",
     "text": [
      "running fitness\n"
     ]
    },
    {
     "name": "stderr",
     "output_type": "stream",
     "text": [
      "\n",
      "  0%|                                                                                           | 0/20 [00:00<?, ?it/s]\n",
      "  5%|████▏                                                                              | 1/20 [00:11<03:44, 11.80s/it]\n",
      " 10%|████████▎                                                                          | 2/20 [00:16<02:31,  8.39s/it]\n",
      " 15%|████████████▍                                                                      | 3/20 [00:21<02:01,  7.16s/it]\n",
      " 20%|████████████████▌                                                                  | 4/20 [00:26<01:44,  6.52s/it]\n",
      " 25%|████████████████████▊                                                              | 5/20 [00:31<01:33,  6.20s/it]\n",
      " 30%|████████████████████████▉                                                          | 6/20 [00:36<01:24,  6.06s/it]\n",
      " 35%|█████████████████████████████                                                      | 7/20 [00:39<01:14,  5.70s/it]\n",
      " 40%|█████████████████████████████████▏                                                 | 8/20 [00:44<01:06,  5.55s/it]\n",
      " 45%|█████████████████████████████████████▎                                             | 9/20 [00:49<01:00,  5.46s/it]\n",
      " 50%|█████████████████████████████████████████                                         | 10/20 [00:53<00:53,  5.38s/it]\n",
      " 55%|█████████████████████████████████████████████                                     | 11/20 [00:58<00:48,  5.34s/it]\n",
      " 60%|█████████████████████████████████████████████████▏                                | 12/20 [01:03<00:42,  5.28s/it]\n",
      " 65%|█████████████████████████████████████████████████████▎                            | 13/20 [01:08<00:36,  5.23s/it]\n",
      " 70%|█████████████████████████████████████████████████████████▍                        | 14/20 [01:12<00:31,  5.18s/it]\n",
      " 75%|█████████████████████████████████████████████████████████████▌                    | 15/20 [01:16<00:25,  5.10s/it]\n",
      " 80%|█████████████████████████████████████████████████████████████████▌                | 16/20 [01:21<00:20,  5.09s/it]\n",
      " 85%|█████████████████████████████████████████████████████████████████████▋            | 17/20 [01:26<00:15,  5.08s/it]\n",
      " 90%|█████████████████████████████████████████████████████████████████████████▊        | 18/20 [01:30<00:10,  5.05s/it]\n",
      " 95%|█████████████████████████████████████████████████████████████████████████████▉    | 19/20 [01:35<00:05,  5.02s/it]\n",
      "100%|██████████████████████████████████████████████████████████████████████████████████| 20/20 [01:40<00:00,  5.00s/it]\n"
     ]
    },
    {
     "name": "stdout",
     "output_type": "stream",
     "text": [
      "fitness done\n"
     ]
    },
    {
     "name": "stderr",
     "output_type": "stream",
     "text": [
      "\n",
      "  0%|                                                                                           | 0/20 [00:00<?, ?it/s]\n",
      "100%|██████████████████████████████████████████████████████████████████████████████████████████| 20/20 [00:00<?, ?it/s]"
     ]
    },
    {
     "name": "stdout",
     "output_type": "stream",
     "text": [
      "complete45\n",
      "46\n"
     ]
    },
    {
     "name": "stderr",
     "output_type": "stream",
     "text": [
      "\n",
      "  0%|                                                                                           | 0/20 [00:00<?, ?it/s]\n",
      " 20%|████████████████▌                                                                  | 4/20 [00:00<00:00, 33.11it/s]\n",
      " 50%|█████████████████████████████████████████                                         | 10/20 [00:00<00:00, 48.66it/s]\n",
      " 70%|█████████████████████████████████████████████████████████▍                        | 14/20 [00:00<00:00, 41.54it/s]\n",
      " 95%|█████████████████████████████████████████████████████████████████████████████▉    | 19/20 [00:00<00:00, 41.95it/s]\n",
      "100%|██████████████████████████████████████████████████████████████████████████████████| 20/20 [00:00<00:00, 42.69it/s]"
     ]
    },
    {
     "name": "stdout",
     "output_type": "stream",
     "text": [
      "transpose\n",
      "exp\n",
      "apply lambda\n",
      "copied\n"
     ]
    },
    {
     "name": "stderr",
     "output_type": "stream",
     "text": [
      "\n",
      "  0%|                                                                                           | 0/20 [00:00<?, ?it/s]\n",
      "100%|█████████████████████████████████████████████████████████████████████████████████| 20/20 [00:00<00:00, 217.65it/s]"
     ]
    },
    {
     "name": "stdout",
     "output_type": "stream",
     "text": [
      "running fitness\n"
     ]
    },
    {
     "name": "stderr",
     "output_type": "stream",
     "text": [
      "\n",
      "  0%|                                                                                           | 0/20 [00:00<?, ?it/s]\n",
      "  5%|████▏                                                                              | 1/20 [00:10<03:23, 10.71s/it]\n",
      " 10%|████████▎                                                                          | 2/20 [00:15<02:17,  7.63s/it]\n",
      " 15%|████████████▍                                                                      | 3/20 [00:17<01:39,  5.85s/it]\n",
      " 20%|████████████████▌                                                                  | 4/20 [00:22<01:29,  5.59s/it]\n",
      " 25%|████████████████████▊                                                              | 5/20 [00:26<01:20,  5.36s/it]\n",
      " 30%|████████████████████████▉                                                          | 6/20 [00:31<01:13,  5.23s/it]\n",
      " 35%|█████████████████████████████                                                      | 7/20 [00:35<01:06,  5.13s/it]\n",
      " 40%|█████████████████████████████████▏                                                 | 8/20 [00:40<01:00,  5.07s/it]\n",
      " 45%|█████████████████████████████████████▎                                             | 9/20 [00:45<00:55,  5.04s/it]\n",
      " 50%|█████████████████████████████████████████                                         | 10/20 [00:49<00:49,  4.91s/it]\n",
      " 55%|█████████████████████████████████████████████                                     | 11/20 [00:51<00:42,  4.71s/it]\n",
      " 60%|█████████████████████████████████████████████████▏                                | 12/20 [00:56<00:37,  4.69s/it]\n",
      " 65%|█████████████████████████████████████████████████████▎                            | 13/20 [01:00<00:32,  4.68s/it]\n",
      " 70%|█████████████████████████████████████████████████████████▍                        | 14/20 [01:05<00:27,  4.66s/it]\n",
      " 75%|█████████████████████████████████████████████████████████████▌                    | 15/20 [01:10<00:23,  4.71s/it]\n",
      " 80%|█████████████████████████████████████████████████████████████████▌                | 16/20 [01:15<00:18,  4.74s/it]\n",
      " 85%|█████████████████████████████████████████████████████████████████████▋            | 17/20 [01:20<00:14,  4.73s/it]\n",
      " 90%|█████████████████████████████████████████████████████████████████████████▊        | 18/20 [01:25<00:09,  4.76s/it]\n",
      " 95%|█████████████████████████████████████████████████████████████████████████████▉    | 19/20 [01:29<00:04,  4.71s/it]\n",
      "100%|██████████████████████████████████████████████████████████████████████████████████| 20/20 [01:33<00:00,  4.68s/it]\n"
     ]
    },
    {
     "name": "stdout",
     "output_type": "stream",
     "text": [
      "fitness done\n"
     ]
    },
    {
     "name": "stderr",
     "output_type": "stream",
     "text": [
      "\n",
      "  0%|                                                                                           | 0/20 [00:00<?, ?it/s]\n",
      "100%|██████████████████████████████████████████████████████████████████████████████████████████| 20/20 [00:00<?, ?it/s]"
     ]
    },
    {
     "name": "stdout",
     "output_type": "stream",
     "text": [
      "complete46\n",
      "47\n"
     ]
    },
    {
     "name": "stderr",
     "output_type": "stream",
     "text": [
      "\n",
      "  0%|                                                                                           | 0/20 [00:00<?, ?it/s]\n",
      " 45%|█████████████████████████████████████▎                                             | 9/20 [00:00<00:00, 86.06it/s]\n",
      " 90%|█████████████████████████████████████████████████████████████████████████▊        | 18/20 [00:00<00:00, 87.86it/s]\n",
      "100%|██████████████████████████████████████████████████████████████████████████████████| 20/20 [00:00<00:00, 84.71it/s]"
     ]
    },
    {
     "name": "stdout",
     "output_type": "stream",
     "text": [
      "transpose\n",
      "exp\n",
      "apply lambda\n",
      "copied\n"
     ]
    },
    {
     "name": "stderr",
     "output_type": "stream",
     "text": [
      "\n",
      "  0%|                                                                                           | 0/20 [00:00<?, ?it/s]\n",
      "100%|█████████████████████████████████████████████████████████████████████████████████| 20/20 [00:00<00:00, 223.44it/s]"
     ]
    },
    {
     "name": "stdout",
     "output_type": "stream",
     "text": [
      "running fitness\n"
     ]
    },
    {
     "name": "stderr",
     "output_type": "stream",
     "text": [
      "\n",
      "  0%|                                                                                           | 0/20 [00:00<?, ?it/s]\n",
      "  5%|████▏                                                                              | 1/20 [00:11<03:37, 11.44s/it]\n",
      " 10%|████████▎                                                                          | 2/20 [00:16<02:24,  8.06s/it]\n",
      " 15%|████████████▍                                                                      | 3/20 [00:20<01:58,  6.94s/it]\n",
      " 20%|████████████████▌                                                                  | 4/20 [00:25<01:41,  6.35s/it]\n",
      " 25%|████████████████████▊                                                              | 5/20 [00:29<01:28,  5.90s/it]\n",
      " 30%|████████████████████████▉                                                          | 6/20 [00:34<01:21,  5.79s/it]\n",
      " 35%|█████████████████████████████                                                      | 7/20 [00:39<01:13,  5.67s/it]\n",
      " 40%|█████████████████████████████████▏                                                 | 8/20 [00:43<01:05,  5.48s/it]\n",
      " 45%|█████████████████████████████████████▎                                             | 9/20 [00:48<00:58,  5.36s/it]\n",
      " 50%|█████████████████████████████████████████                                         | 10/20 [00:53<00:53,  5.30s/it]\n",
      " 55%|█████████████████████████████████████████████                                     | 11/20 [00:57<00:47,  5.24s/it]\n",
      " 60%|█████████████████████████████████████████████████▏                                | 12/20 [01:00<00:40,  5.03s/it]\n",
      " 65%|█████████████████████████████████████████████████████▎                            | 13/20 [01:05<00:35,  5.01s/it]\n",
      " 70%|█████████████████████████████████████████████████████████▍                        | 14/20 [01:09<00:29,  4.97s/it]\n",
      " 75%|█████████████████████████████████████████████████████████████▌                    | 15/20 [01:15<00:25,  5.02s/it]\n",
      " 80%|█████████████████████████████████████████████████████████████████▌                | 16/20 [01:20<00:20,  5.03s/it]\n",
      " 85%|█████████████████████████████████████████████████████████████████████▋            | 17/20 [01:24<00:14,  4.98s/it]\n",
      " 90%|█████████████████████████████████████████████████████████████████████████▊        | 18/20 [01:29<00:09,  4.95s/it]\n",
      " 95%|█████████████████████████████████████████████████████████████████████████████▉    | 19/20 [01:34<00:04,  4.95s/it]\n",
      "100%|██████████████████████████████████████████████████████████████████████████████████| 20/20 [01:39<00:00,  4.95s/it]\n"
     ]
    },
    {
     "name": "stdout",
     "output_type": "stream",
     "text": [
      "fitness done\n"
     ]
    },
    {
     "name": "stderr",
     "output_type": "stream",
     "text": [
      "\n",
      "  0%|                                                                                           | 0/20 [00:00<?, ?it/s]\n",
      "100%|████████████████████████████████████████████████████████████████████████████████| 20/20 [00:00<00:00, 9826.18it/s]"
     ]
    },
    {
     "name": "stdout",
     "output_type": "stream",
     "text": [
      "complete47\n",
      "48\n"
     ]
    },
    {
     "name": "stderr",
     "output_type": "stream",
     "text": [
      "\n",
      "  0%|                                                                                           | 0/20 [00:00<?, ?it/s]\n",
      " 40%|█████████████████████████████████▏                                                 | 8/20 [00:00<00:00, 75.70it/s]\n",
      " 75%|█████████████████████████████████████████████████████████████▌                    | 15/20 [00:00<00:00, 72.81it/s]\n",
      " 95%|█████████████████████████████████████████████████████████████████████████████▉    | 19/20 [00:00<00:00, 56.29it/s]\n",
      "100%|██████████████████████████████████████████████████████████████████████████████████| 20/20 [00:00<00:00, 55.60it/s]"
     ]
    },
    {
     "name": "stdout",
     "output_type": "stream",
     "text": [
      "transpose\n",
      "exp\n",
      "apply lambda\n",
      "copied\n"
     ]
    },
    {
     "name": "stderr",
     "output_type": "stream",
     "text": [
      "\n",
      "  0%|                                                                                           | 0/20 [00:00<?, ?it/s]\n",
      "100%|█████████████████████████████████████████████████████████████████████████████████| 20/20 [00:00<00:00, 216.34it/s]"
     ]
    },
    {
     "name": "stdout",
     "output_type": "stream",
     "text": [
      "running fitness\n"
     ]
    },
    {
     "name": "stderr",
     "output_type": "stream",
     "text": [
      "\n",
      "  0%|                                                                                           | 0/20 [00:00<?, ?it/s]\n",
      "  5%|████▏                                                                              | 1/20 [00:11<03:32, 11.20s/it]\n",
      " 10%|████████▎                                                                          | 2/20 [00:13<02:02,  6.78s/it]\n",
      " 15%|████████████▍                                                                      | 3/20 [00:18<01:42,  6.03s/it]\n",
      " 20%|████████████████▌                                                                  | 4/20 [00:22<01:31,  5.73s/it]\n",
      " 25%|████████████████████▊                                                              | 5/20 [00:27<01:21,  5.45s/it]\n",
      " 30%|████████████████████████▉                                                          | 6/20 [00:32<01:15,  5.39s/it]\n",
      " 35%|█████████████████████████████                                                      | 7/20 [00:36<01:08,  5.27s/it]\n",
      " 40%|█████████████████████████████████▏                                                 | 8/20 [00:39<00:59,  4.99s/it]\n",
      " 45%|█████████████████████████████████████▎                                             | 9/20 [00:44<00:54,  4.95s/it]\n",
      " 50%|█████████████████████████████████████████                                         | 10/20 [00:47<00:47,  4.71s/it]\n",
      " 55%|█████████████████████████████████████████████                                     | 11/20 [00:51<00:42,  4.70s/it]\n",
      " 60%|█████████████████████████████████████████████████▏                                | 12/20 [00:56<00:37,  4.70s/it]\n",
      " 65%|█████████████████████████████████████████████████████▎                            | 13/20 [01:00<00:32,  4.68s/it]\n",
      " 70%|█████████████████████████████████████████████████████████▍                        | 14/20 [01:03<00:27,  4.55s/it]\n",
      " 75%|█████████████████████████████████████████████████████████████▌                    | 15/20 [01:08<00:22,  4.55s/it]\n",
      " 80%|█████████████████████████████████████████████████████████████████▌                | 16/20 [01:12<00:18,  4.54s/it]\n",
      " 85%|█████████████████████████████████████████████████████████████████████▋            | 17/20 [01:17<00:13,  4.56s/it]\n",
      " 90%|█████████████████████████████████████████████████████████████████████████▊        | 18/20 [01:22<00:09,  4.56s/it]\n",
      " 95%|█████████████████████████████████████████████████████████████████████████████▉    | 19/20 [01:25<00:04,  4.51s/it]\n",
      "100%|██████████████████████████████████████████████████████████████████████████████████| 20/20 [01:29<00:00,  4.48s/it]\n"
     ]
    },
    {
     "name": "stdout",
     "output_type": "stream",
     "text": [
      "fitness done\n"
     ]
    },
    {
     "name": "stderr",
     "output_type": "stream",
     "text": [
      "\n",
      "  0%|                                                                                           | 0/20 [00:00<?, ?it/s]\n",
      "100%|██████████████████████████████████████████████████████████████████████████████████████████| 20/20 [00:00<?, ?it/s]"
     ]
    },
    {
     "name": "stdout",
     "output_type": "stream",
     "text": [
      "complete48\n",
      "49\n"
     ]
    },
    {
     "name": "stderr",
     "output_type": "stream",
     "text": [
      "\n",
      "  0%|                                                                                           | 0/20 [00:00<?, ?it/s]\n",
      " 30%|████████████████████████▉                                                          | 6/20 [00:00<00:00, 59.85it/s]\n",
      " 60%|█████████████████████████████████████████████████▏                                | 12/20 [00:00<00:00, 59.84it/s]\n",
      " 90%|█████████████████████████████████████████████████████████████████████████▊        | 18/20 [00:00<00:00, 59.84it/s]\n",
      "100%|██████████████████████████████████████████████████████████████████████████████████| 20/20 [00:00<00:00, 49.87it/s]"
     ]
    },
    {
     "name": "stdout",
     "output_type": "stream",
     "text": [
      "transpose\n",
      "exp\n",
      "apply lambda\n",
      "copied\n"
     ]
    },
    {
     "name": "stderr",
     "output_type": "stream",
     "text": [
      "\n",
      "  0%|                                                                                           | 0/20 [00:00<?, ?it/s]\n",
      "100%|█████████████████████████████████████████████████████████████████████████████████| 20/20 [00:00<00:00, 272.39it/s]"
     ]
    },
    {
     "name": "stdout",
     "output_type": "stream",
     "text": [
      "running fitness\n"
     ]
    },
    {
     "name": "stderr",
     "output_type": "stream",
     "text": [
      "\n",
      "  0%|                                                                                           | 0/20 [00:00<?, ?it/s]\n",
      "  5%|████▏                                                                              | 1/20 [00:09<03:07,  9.85s/it]\n",
      " 10%|████████▎                                                                          | 2/20 [00:14<02:11,  7.28s/it]\n",
      " 15%|████████████▍                                                                      | 3/20 [00:19<01:49,  6.44s/it]\n",
      " 20%|████████████████▌                                                                  | 4/20 [00:24<01:37,  6.12s/it]\n",
      " 25%|████████████████████▊                                                              | 5/20 [00:29<01:28,  5.89s/it]\n",
      " 30%|████████████████████████▉                                                          | 6/20 [00:34<01:20,  5.77s/it]\n",
      " 35%|█████████████████████████████                                                      | 7/20 [00:37<01:09,  5.31s/it]\n",
      " 40%|█████████████████████████████████▏                                                 | 8/20 [00:41<01:02,  5.23s/it]\n",
      " 45%|█████████████████████████████████████▎                                             | 9/20 [00:44<00:54,  4.95s/it]\n",
      " 50%|█████████████████████████████████████████                                         | 10/20 [00:49<00:49,  4.96s/it]\n",
      " 55%|█████████████████████████████████████████████                                     | 11/20 [00:55<00:45,  5.02s/it]\n",
      " 60%|█████████████████████████████████████████████████▏                                | 12/20 [01:00<00:40,  5.02s/it]\n",
      " 65%|█████████████████████████████████████████████████████▎                            | 13/20 [01:05<00:35,  5.00s/it]\n",
      " 70%|█████████████████████████████████████████████████████████▍                        | 14/20 [01:09<00:29,  5.00s/it]\n",
      " 75%|█████████████████████████████████████████████████████████████▌                    | 15/20 [01:14<00:24,  4.99s/it]\n",
      " 80%|█████████████████████████████████████████████████████████████████▌                | 16/20 [01:20<00:20,  5.01s/it]\n",
      " 85%|█████████████████████████████████████████████████████████████████████▋            | 17/20 [01:25<00:15,  5.05s/it]\n",
      " 90%|█████████████████████████████████████████████████████████████████████████▊        | 18/20 [01:30<00:10,  5.03s/it]\n",
      " 95%|█████████████████████████████████████████████████████████████████████████████▉    | 19/20 [01:35<00:05,  5.04s/it]\n",
      "100%|██████████████████████████████████████████████████████████████████████████████████| 20/20 [01:39<00:00,  4.98s/it]\n"
     ]
    },
    {
     "name": "stdout",
     "output_type": "stream",
     "text": [
      "fitness done\n"
     ]
    },
    {
     "name": "stderr",
     "output_type": "stream",
     "text": [
      "\n",
      "  0%|                                                                                           | 0/20 [00:00<?, ?it/s]\n",
      "100%|██████████████████████████████████████████████████████████████████████████████████████████| 20/20 [00:00<?, ?it/s]"
     ]
    },
    {
     "name": "stdout",
     "output_type": "stream",
     "text": [
      "complete49\n",
      "192.07184628564485\n"
     ]
    }
   ],
   "source": [
    "tottime=0\n",
    "tmax=50\n",
    "#s=pd.DataFrame(z)\n",
    "#print(\"got s\")    # it is a formula to convert positions of each crow into 0 and 1 \n",
    "for t in range(tmax):\n",
    "    print(t)# no of iterations\n",
    "    time1=time.time()\n",
    "   \n",
    "    xnew_list = []\n",
    "    plotit.append(ft.max())\n",
    "    num = random.randint(0,m-1)  \n",
    "   # Generation of random candidate crows for following (chasing)\n",
    "    for i in tqdm(range(m)):   \n",
    "       \n",
    "        r=random.random()\n",
    "        if r>=Ap:\n",
    "            \n",
    "            xnew_list.append((xn.loc[i,:]+fl*r*(mem.loc[num,:]-xn.loc[i,:])).tolist())# Generation of a new position for crow i (state 1)\n",
    "            \n",
    "        else:\n",
    "            \n",
    "            xnew_list.append((xnew.loc[i,:].apply(lambda lam:random.random())).tolist())   # Generation of a new position for crow i (state 2)\n",
    "            \n",
    "            \n",
    "    xnew = pd.DataFrame(xnew_list)\n",
    "    del xnew_list\n",
    "    print('transpose')\n",
    "    xnew= 1/( 1 + np.expm1(( 10*(xnew-0.5))))    #  formula to convert positions of each crow into 0 and 1\n",
    "    print('exp')\n",
    "    xnew=xnew.apply(lambda l:l>=random.random()).astype(int)\n",
    "    print('apply lambda')\n",
    "    xn=xnew.copy()     \n",
    "    print('copied')\n",
    "    # it is the updated binary position of each crow\n",
    "    #feasibility test\n",
    "    # this is done so that to check if atleast one position of the crow has value equal to 1. if it is not true then every\n",
    "    # position value of the crow is made 1.\n",
    "    for i in tqdm(range(m)):\n",
    "        \n",
    "        if ((xn.loc[i,:])==0.0).all()==True:\n",
    "            xn.loc[i,:]=1.0\n",
    "    \n",
    "    print('running fitness')\n",
    "    ft_new=fitness(xn).reshape(ft.shape)# here the accuracy of each crows are calculated.\n",
    "\n",
    "    print('fitness done')\n",
    "    for i in tqdm(range(m)):\n",
    "         \n",
    "        if ft_new[i]>ft[i]:\n",
    "            ft[i]=ft_new[i]\n",
    "            for j in features:\n",
    "                mem.loc[i,j]= xn.loc[i,j]\n",
    "    \n",
    "    print('complete'+str(t))\n",
    "    time2=time.time()\n",
    "    tottime=tottime+(time2-time1)\n",
    "print(tottime/t+1)\n"
   ]
  },
  {
   "cell_type": "code",
   "execution_count": 10,
   "metadata": {},
   "outputs": [],
   "source": [
    "mem=pd.read_csv('memory.csv')"
   ]
  },
  {
   "cell_type": "code",
   "execution_count": 11,
   "metadata": {},
   "outputs": [],
   "source": [
    "mem = mem.dropna(how='all')\n",
    "mem=mem.drop(columns=['Unnamed: 0'])\n",
    "mem.columns=features"
   ]
  },
  {
   "cell_type": "markdown",
   "metadata": {},
   "source": [
    "# TESTING RESULTS"
   ]
  },
  {
   "cell_type": "markdown",
   "metadata": {},
   "source": [
    "## Without Grid-Search, Without Bio-inspired"
   ]
  },
  {
   "cell_type": "code",
   "execution_count": 26,
   "metadata": {},
   "outputs": [
    {
     "name": "stdout",
     "output_type": "stream",
     "text": [
      "1553560919.5732362\n",
      "1553561341.5669374\n",
      "1553561347.9873168\n",
      "1553561540.1038666\n",
      "1553591247.9768016\n",
      "0.7946666666666666 0.9173333333333333 0.8693333333333333 0.9386666666666666\n"
     ]
    }
   ],
   "source": [
    "print(time.time())\n",
    "\n",
    "neigh1 = KNeighborsClassifier()\n",
    "neigh1.fit(x_train, y_train)\n",
    "neigh1.predict(x_test)\n",
    "nacc=neigh1.score(x_test,y_test)\n",
    "\n",
    "print(nacc)\n",
    "\n",
    "#\n",
    "rforest1 = RandomForestClassifier()\n",
    "rforest1.fit(x_train, y_train)\n",
    "rforest1.predict(x_test)\n",
    "rfacc=rforest1.score(x_test,y_test)\n",
    "\n",
    "print(rfacc)\n",
    "\n",
    "#\n",
    "dtree1 = tree.DecisionTreeClassifier()\n",
    "dtree1.fit(x_train, y_train)\n",
    "dtree1.predict(x_test)\n",
    "dtacc=dtree1.score(x_test,y_test)\n",
    "\n",
    "print(dtacc)\n",
    "\n",
    "clf1 = svm.SVC()\n",
    "clf1.fit(x_train, y_train)\n",
    "clf1.predict(x_test)\n",
    "clfacc=clf1.score(x_test,y_test)\n",
    "\n",
    "print(clfacc)\n",
    "\n"
   ]
  },
  {
   "cell_type": "markdown",
   "metadata": {},
   "source": [
    "## WITH GRID-SEARCH WITHOUT BIO-INSPIRED"
   ]
  },
  {
   "cell_type": "code",
   "execution_count": 21,
   "metadata": {
    "scrolled": true
   },
   "outputs": [
    {
     "name": "stdout",
     "output_type": "stream",
     "text": [
      "Fitting 3 folds for each of 108 candidates, totalling 324 fits\n",
      "[CV] criterion=gini, max_depth=10, min_samples_leaf=2, min_samples_split=5, splitter=best \n",
      "[CV]  criterion=gini, max_depth=10, min_samples_leaf=2, min_samples_split=5, splitter=best, total= 1.2min\n"
     ]
    },
    {
     "name": "stderr",
     "output_type": "stream",
     "text": [
      "[Parallel(n_jobs=1)]: Done   1 out of   1 | elapsed:  1.2min remaining:    0.0s\n"
     ]
    },
    {
     "name": "stdout",
     "output_type": "stream",
     "text": [
      "[CV] criterion=gini, max_depth=10, min_samples_leaf=2, min_samples_split=5, splitter=best \n",
      "[CV]  criterion=gini, max_depth=10, min_samples_leaf=2, min_samples_split=5, splitter=best, total= 1.0min\n",
      "[CV] criterion=gini, max_depth=10, min_samples_leaf=2, min_samples_split=5, splitter=best \n",
      "[CV]  criterion=gini, max_depth=10, min_samples_leaf=2, min_samples_split=5, splitter=best, total= 1.1min\n",
      "[CV] criterion=gini, max_depth=10, min_samples_leaf=2, min_samples_split=5, splitter=random \n",
      "[CV]  criterion=gini, max_depth=10, min_samples_leaf=2, min_samples_split=5, splitter=random, total=  15.4s\n",
      "[CV] criterion=gini, max_depth=10, min_samples_leaf=2, min_samples_split=5, splitter=random \n",
      "[CV]  criterion=gini, max_depth=10, min_samples_leaf=2, min_samples_split=5, splitter=random, total=  13.0s\n",
      "[CV] criterion=gini, max_depth=10, min_samples_leaf=2, min_samples_split=5, splitter=random \n",
      "[CV]  criterion=gini, max_depth=10, min_samples_leaf=2, min_samples_split=5, splitter=random, total=  14.4s\n",
      "[CV] criterion=gini, max_depth=10, min_samples_leaf=2, min_samples_split=10, splitter=best \n",
      "[CV]  criterion=gini, max_depth=10, min_samples_leaf=2, min_samples_split=10, splitter=best, total=  56.2s\n",
      "[CV] criterion=gini, max_depth=10, min_samples_leaf=2, min_samples_split=10, splitter=best \n",
      "[CV]  criterion=gini, max_depth=10, min_samples_leaf=2, min_samples_split=10, splitter=best, total=  54.7s\n",
      "[CV] criterion=gini, max_depth=10, min_samples_leaf=2, min_samples_split=10, splitter=best \n",
      "[CV]  criterion=gini, max_depth=10, min_samples_leaf=2, min_samples_split=10, splitter=best, total=  52.9s\n",
      "[CV] criterion=gini, max_depth=10, min_samples_leaf=2, min_samples_split=10, splitter=random \n",
      "[CV]  criterion=gini, max_depth=10, min_samples_leaf=2, min_samples_split=10, splitter=random, total=  16.0s\n",
      "[CV] criterion=gini, max_depth=10, min_samples_leaf=2, min_samples_split=10, splitter=random \n",
      "[CV]  criterion=gini, max_depth=10, min_samples_leaf=2, min_samples_split=10, splitter=random, total=  13.4s\n",
      "[CV] criterion=gini, max_depth=10, min_samples_leaf=2, min_samples_split=10, splitter=random \n",
      "[CV]  criterion=gini, max_depth=10, min_samples_leaf=2, min_samples_split=10, splitter=random, total=  13.0s\n",
      "[CV] criterion=gini, max_depth=10, min_samples_leaf=2, min_samples_split=20, splitter=best \n",
      "[CV]  criterion=gini, max_depth=10, min_samples_leaf=2, min_samples_split=20, splitter=best, total= 1.1min\n",
      "[CV] criterion=gini, max_depth=10, min_samples_leaf=2, min_samples_split=20, splitter=best \n",
      "[CV]  criterion=gini, max_depth=10, min_samples_leaf=2, min_samples_split=20, splitter=best, total= 1.1min\n",
      "[CV] criterion=gini, max_depth=10, min_samples_leaf=2, min_samples_split=20, splitter=best \n",
      "[CV]  criterion=gini, max_depth=10, min_samples_leaf=2, min_samples_split=20, splitter=best, total= 1.1min\n",
      "[CV] criterion=gini, max_depth=10, min_samples_leaf=2, min_samples_split=20, splitter=random \n",
      "[CV]  criterion=gini, max_depth=10, min_samples_leaf=2, min_samples_split=20, splitter=random, total=  15.2s\n",
      "[CV] criterion=gini, max_depth=10, min_samples_leaf=2, min_samples_split=20, splitter=random \n",
      "[CV]  criterion=gini, max_depth=10, min_samples_leaf=2, min_samples_split=20, splitter=random, total=  12.5s\n",
      "[CV] criterion=gini, max_depth=10, min_samples_leaf=2, min_samples_split=20, splitter=random \n",
      "[CV]  criterion=gini, max_depth=10, min_samples_leaf=2, min_samples_split=20, splitter=random, total=  13.6s\n",
      "[CV] criterion=gini, max_depth=10, min_samples_leaf=4, min_samples_split=5, splitter=best \n",
      "[CV]  criterion=gini, max_depth=10, min_samples_leaf=4, min_samples_split=5, splitter=best, total= 1.1min\n",
      "[CV] criterion=gini, max_depth=10, min_samples_leaf=4, min_samples_split=5, splitter=best \n",
      "[CV]  criterion=gini, max_depth=10, min_samples_leaf=4, min_samples_split=5, splitter=best, total= 1.1min\n",
      "[CV] criterion=gini, max_depth=10, min_samples_leaf=4, min_samples_split=5, splitter=best \n",
      "[CV]  criterion=gini, max_depth=10, min_samples_leaf=4, min_samples_split=5, splitter=best, total=  57.8s\n",
      "[CV] criterion=gini, max_depth=10, min_samples_leaf=4, min_samples_split=5, splitter=random \n",
      "[CV]  criterion=gini, max_depth=10, min_samples_leaf=4, min_samples_split=5, splitter=random, total=  15.5s\n",
      "[CV] criterion=gini, max_depth=10, min_samples_leaf=4, min_samples_split=5, splitter=random \n",
      "[CV]  criterion=gini, max_depth=10, min_samples_leaf=4, min_samples_split=5, splitter=random, total=  13.0s\n",
      "[CV] criterion=gini, max_depth=10, min_samples_leaf=4, min_samples_split=5, splitter=random \n",
      "[CV]  criterion=gini, max_depth=10, min_samples_leaf=4, min_samples_split=5, splitter=random, total=  13.9s\n",
      "[CV] criterion=gini, max_depth=10, min_samples_leaf=4, min_samples_split=10, splitter=best \n",
      "[CV]  criterion=gini, max_depth=10, min_samples_leaf=4, min_samples_split=10, splitter=best, total= 1.0min\n",
      "[CV] criterion=gini, max_depth=10, min_samples_leaf=4, min_samples_split=10, splitter=best \n",
      "[CV]  criterion=gini, max_depth=10, min_samples_leaf=4, min_samples_split=10, splitter=best, total= 1.1min\n",
      "[CV] criterion=gini, max_depth=10, min_samples_leaf=4, min_samples_split=10, splitter=best \n",
      "[CV]  criterion=gini, max_depth=10, min_samples_leaf=4, min_samples_split=10, splitter=best, total= 1.0min\n",
      "[CV] criterion=gini, max_depth=10, min_samples_leaf=4, min_samples_split=10, splitter=random \n",
      "[CV]  criterion=gini, max_depth=10, min_samples_leaf=4, min_samples_split=10, splitter=random, total=  15.8s\n",
      "[CV] criterion=gini, max_depth=10, min_samples_leaf=4, min_samples_split=10, splitter=random \n",
      "[CV]  criterion=gini, max_depth=10, min_samples_leaf=4, min_samples_split=10, splitter=random, total=  14.1s\n",
      "[CV] criterion=gini, max_depth=10, min_samples_leaf=4, min_samples_split=10, splitter=random \n",
      "[CV]  criterion=gini, max_depth=10, min_samples_leaf=4, min_samples_split=10, splitter=random, total=  14.4s\n",
      "[CV] criterion=gini, max_depth=10, min_samples_leaf=4, min_samples_split=20, splitter=best \n",
      "[CV]  criterion=gini, max_depth=10, min_samples_leaf=4, min_samples_split=20, splitter=best, total= 1.1min\n",
      "[CV] criterion=gini, max_depth=10, min_samples_leaf=4, min_samples_split=20, splitter=best \n",
      "[CV]  criterion=gini, max_depth=10, min_samples_leaf=4, min_samples_split=20, splitter=best, total= 1.1min\n",
      "[CV] criterion=gini, max_depth=10, min_samples_leaf=4, min_samples_split=20, splitter=best \n",
      "[CV]  criterion=gini, max_depth=10, min_samples_leaf=4, min_samples_split=20, splitter=best, total=  53.1s\n",
      "[CV] criterion=gini, max_depth=10, min_samples_leaf=4, min_samples_split=20, splitter=random \n",
      "[CV]  criterion=gini, max_depth=10, min_samples_leaf=4, min_samples_split=20, splitter=random, total=   8.8s\n",
      "[CV] criterion=gini, max_depth=10, min_samples_leaf=4, min_samples_split=20, splitter=random \n",
      "[CV]  criterion=gini, max_depth=10, min_samples_leaf=4, min_samples_split=20, splitter=random, total=  11.4s\n",
      "[CV] criterion=gini, max_depth=10, min_samples_leaf=4, min_samples_split=20, splitter=random \n",
      "[CV]  criterion=gini, max_depth=10, min_samples_leaf=4, min_samples_split=20, splitter=random, total=  13.9s\n",
      "[CV] criterion=gini, max_depth=10, min_samples_leaf=6, min_samples_split=5, splitter=best \n",
      "[CV]  criterion=gini, max_depth=10, min_samples_leaf=6, min_samples_split=5, splitter=best, total=  53.2s\n",
      "[CV] criterion=gini, max_depth=10, min_samples_leaf=6, min_samples_split=5, splitter=best \n",
      "[CV]  criterion=gini, max_depth=10, min_samples_leaf=6, min_samples_split=5, splitter=best, total=  51.9s\n",
      "[CV] criterion=gini, max_depth=10, min_samples_leaf=6, min_samples_split=5, splitter=best \n",
      "[CV]  criterion=gini, max_depth=10, min_samples_leaf=6, min_samples_split=5, splitter=best, total=  47.3s\n",
      "[CV] criterion=gini, max_depth=10, min_samples_leaf=6, min_samples_split=5, splitter=random \n",
      "[CV]  criterion=gini, max_depth=10, min_samples_leaf=6, min_samples_split=5, splitter=random, total=  13.8s\n",
      "[CV] criterion=gini, max_depth=10, min_samples_leaf=6, min_samples_split=5, splitter=random \n",
      "[CV]  criterion=gini, max_depth=10, min_samples_leaf=6, min_samples_split=5, splitter=random, total=  12.3s\n",
      "[CV] criterion=gini, max_depth=10, min_samples_leaf=6, min_samples_split=5, splitter=random \n",
      "[CV]  criterion=gini, max_depth=10, min_samples_leaf=6, min_samples_split=5, splitter=random, total=  12.9s\n",
      "[CV] criterion=gini, max_depth=10, min_samples_leaf=6, min_samples_split=10, splitter=best \n",
      "[CV]  criterion=gini, max_depth=10, min_samples_leaf=6, min_samples_split=10, splitter=best, total=  54.9s\n",
      "[CV] criterion=gini, max_depth=10, min_samples_leaf=6, min_samples_split=10, splitter=best \n",
      "[CV]  criterion=gini, max_depth=10, min_samples_leaf=6, min_samples_split=10, splitter=best, total=  51.9s\n",
      "[CV] criterion=gini, max_depth=10, min_samples_leaf=6, min_samples_split=10, splitter=best \n",
      "[CV]  criterion=gini, max_depth=10, min_samples_leaf=6, min_samples_split=10, splitter=best, total=  57.4s\n",
      "[CV] criterion=gini, max_depth=10, min_samples_leaf=6, min_samples_split=10, splitter=random \n",
      "[CV]  criterion=gini, max_depth=10, min_samples_leaf=6, min_samples_split=10, splitter=random, total=  14.7s\n",
      "[CV] criterion=gini, max_depth=10, min_samples_leaf=6, min_samples_split=10, splitter=random \n",
      "[CV]  criterion=gini, max_depth=10, min_samples_leaf=6, min_samples_split=10, splitter=random, total=  11.9s\n",
      "[CV] criterion=gini, max_depth=10, min_samples_leaf=6, min_samples_split=10, splitter=random \n",
      "[CV]  criterion=gini, max_depth=10, min_samples_leaf=6, min_samples_split=10, splitter=random, total=  11.8s\n",
      "[CV] criterion=gini, max_depth=10, min_samples_leaf=6, min_samples_split=20, splitter=best \n",
      "[CV]  criterion=gini, max_depth=10, min_samples_leaf=6, min_samples_split=20, splitter=best, total= 1.0min\n",
      "[CV] criterion=gini, max_depth=10, min_samples_leaf=6, min_samples_split=20, splitter=best \n",
      "[CV]  criterion=gini, max_depth=10, min_samples_leaf=6, min_samples_split=20, splitter=best, total=  52.4s\n",
      "[CV] criterion=gini, max_depth=10, min_samples_leaf=6, min_samples_split=20, splitter=best \n",
      "[CV]  criterion=gini, max_depth=10, min_samples_leaf=6, min_samples_split=20, splitter=best, total=  53.5s\n",
      "[CV] criterion=gini, max_depth=10, min_samples_leaf=6, min_samples_split=20, splitter=random \n",
      "[CV]  criterion=gini, max_depth=10, min_samples_leaf=6, min_samples_split=20, splitter=random, total=  13.9s\n",
      "[CV] criterion=gini, max_depth=10, min_samples_leaf=6, min_samples_split=20, splitter=random \n",
      "[CV]  criterion=gini, max_depth=10, min_samples_leaf=6, min_samples_split=20, splitter=random, total=  12.0s\n",
      "[CV] criterion=gini, max_depth=10, min_samples_leaf=6, min_samples_split=20, splitter=random \n",
      "[CV]  criterion=gini, max_depth=10, min_samples_leaf=6, min_samples_split=20, splitter=random, total=  13.6s\n",
      "[CV] criterion=gini, max_depth=20, min_samples_leaf=2, min_samples_split=5, splitter=best \n",
      "[CV]  criterion=gini, max_depth=20, min_samples_leaf=2, min_samples_split=5, splitter=best, total= 1.4min\n",
      "[CV] criterion=gini, max_depth=20, min_samples_leaf=2, min_samples_split=5, splitter=best \n",
      "[CV]  criterion=gini, max_depth=20, min_samples_leaf=2, min_samples_split=5, splitter=best, total= 1.4min\n",
      "[CV] criterion=gini, max_depth=20, min_samples_leaf=2, min_samples_split=5, splitter=best \n",
      "[CV]  criterion=gini, max_depth=20, min_samples_leaf=2, min_samples_split=5, splitter=best, total= 1.3min\n",
      "[CV] criterion=gini, max_depth=20, min_samples_leaf=2, min_samples_split=5, splitter=random \n",
      "[CV]  criterion=gini, max_depth=20, min_samples_leaf=2, min_samples_split=5, splitter=random, total=  19.0s\n",
      "[CV] criterion=gini, max_depth=20, min_samples_leaf=2, min_samples_split=5, splitter=random \n",
      "[CV]  criterion=gini, max_depth=20, min_samples_leaf=2, min_samples_split=5, splitter=random, total=  18.9s\n",
      "[CV] criterion=gini, max_depth=20, min_samples_leaf=2, min_samples_split=5, splitter=random \n",
      "[CV]  criterion=gini, max_depth=20, min_samples_leaf=2, min_samples_split=5, splitter=random, total=  19.8s\n",
      "[CV] criterion=gini, max_depth=20, min_samples_leaf=2, min_samples_split=10, splitter=best \n",
      "[CV]  criterion=gini, max_depth=20, min_samples_leaf=2, min_samples_split=10, splitter=best, total= 1.3min\n",
      "[CV] criterion=gini, max_depth=20, min_samples_leaf=2, min_samples_split=10, splitter=best \n",
      "[CV]  criterion=gini, max_depth=20, min_samples_leaf=2, min_samples_split=10, splitter=best, total= 1.3min\n",
      "[CV] criterion=gini, max_depth=20, min_samples_leaf=2, min_samples_split=10, splitter=best \n",
      "[CV]  criterion=gini, max_depth=20, min_samples_leaf=2, min_samples_split=10, splitter=best, total= 1.1min\n",
      "[CV] criterion=gini, max_depth=20, min_samples_leaf=2, min_samples_split=10, splitter=random \n",
      "[CV]  criterion=gini, max_depth=20, min_samples_leaf=2, min_samples_split=10, splitter=random, total=  17.7s\n",
      "[CV] criterion=gini, max_depth=20, min_samples_leaf=2, min_samples_split=10, splitter=random \n",
      "[CV]  criterion=gini, max_depth=20, min_samples_leaf=2, min_samples_split=10, splitter=random, total=  20.0s\n",
      "[CV] criterion=gini, max_depth=20, min_samples_leaf=2, min_samples_split=10, splitter=random \n",
      "[CV]  criterion=gini, max_depth=20, min_samples_leaf=2, min_samples_split=10, splitter=random, total=  19.0s\n",
      "[CV] criterion=gini, max_depth=20, min_samples_leaf=2, min_samples_split=20, splitter=best \n",
      "[CV]  criterion=gini, max_depth=20, min_samples_leaf=2, min_samples_split=20, splitter=best, total= 1.4min\n",
      "[CV] criterion=gini, max_depth=20, min_samples_leaf=2, min_samples_split=20, splitter=best \n",
      "[CV]  criterion=gini, max_depth=20, min_samples_leaf=2, min_samples_split=20, splitter=best, total= 1.2min\n",
      "[CV] criterion=gini, max_depth=20, min_samples_leaf=2, min_samples_split=20, splitter=best \n",
      "[CV]  criterion=gini, max_depth=20, min_samples_leaf=2, min_samples_split=20, splitter=best, total= 1.3min\n",
      "[CV] criterion=gini, max_depth=20, min_samples_leaf=2, min_samples_split=20, splitter=random \n",
      "[CV]  criterion=gini, max_depth=20, min_samples_leaf=2, min_samples_split=20, splitter=random, total=  21.4s\n",
      "[CV] criterion=gini, max_depth=20, min_samples_leaf=2, min_samples_split=20, splitter=random \n",
      "[CV]  criterion=gini, max_depth=20, min_samples_leaf=2, min_samples_split=20, splitter=random, total=  18.6s\n",
      "[CV] criterion=gini, max_depth=20, min_samples_leaf=2, min_samples_split=20, splitter=random \n",
      "[CV]  criterion=gini, max_depth=20, min_samples_leaf=2, min_samples_split=20, splitter=random, total=  18.7s\n",
      "[CV] criterion=gini, max_depth=20, min_samples_leaf=4, min_samples_split=5, splitter=best \n",
      "[CV]  criterion=gini, max_depth=20, min_samples_leaf=4, min_samples_split=5, splitter=best, total= 1.5min\n",
      "[CV] criterion=gini, max_depth=20, min_samples_leaf=4, min_samples_split=5, splitter=best \n",
      "[CV]  criterion=gini, max_depth=20, min_samples_leaf=4, min_samples_split=5, splitter=best, total= 1.4min\n",
      "[CV] criterion=gini, max_depth=20, min_samples_leaf=4, min_samples_split=5, splitter=best \n",
      "[CV]  criterion=gini, max_depth=20, min_samples_leaf=4, min_samples_split=5, splitter=best, total= 1.1min\n",
      "[CV] criterion=gini, max_depth=20, min_samples_leaf=4, min_samples_split=5, splitter=random \n",
      "[CV]  criterion=gini, max_depth=20, min_samples_leaf=4, min_samples_split=5, splitter=random, total=  15.6s\n",
      "[CV] criterion=gini, max_depth=20, min_samples_leaf=4, min_samples_split=5, splitter=random \n",
      "[CV]  criterion=gini, max_depth=20, min_samples_leaf=4, min_samples_split=5, splitter=random, total=  18.4s\n",
      "[CV] criterion=gini, max_depth=20, min_samples_leaf=4, min_samples_split=5, splitter=random \n",
      "[CV]  criterion=gini, max_depth=20, min_samples_leaf=4, min_samples_split=5, splitter=random, total=  17.8s\n",
      "[CV] criterion=gini, max_depth=20, min_samples_leaf=4, min_samples_split=10, splitter=best \n",
      "[CV]  criterion=gini, max_depth=20, min_samples_leaf=4, min_samples_split=10, splitter=best, total= 1.4min\n",
      "[CV] criterion=gini, max_depth=20, min_samples_leaf=4, min_samples_split=10, splitter=best \n",
      "[CV]  criterion=gini, max_depth=20, min_samples_leaf=4, min_samples_split=10, splitter=best, total= 1.4min\n",
      "[CV] criterion=gini, max_depth=20, min_samples_leaf=4, min_samples_split=10, splitter=best \n",
      "[CV]  criterion=gini, max_depth=20, min_samples_leaf=4, min_samples_split=10, splitter=best, total= 1.2min\n",
      "[CV] criterion=gini, max_depth=20, min_samples_leaf=4, min_samples_split=10, splitter=random \n",
      "[CV]  criterion=gini, max_depth=20, min_samples_leaf=4, min_samples_split=10, splitter=random, total=  18.0s\n"
     ]
    },
    {
     "name": "stdout",
     "output_type": "stream",
     "text": [
      "[CV] criterion=gini, max_depth=20, min_samples_leaf=4, min_samples_split=10, splitter=random \n",
      "[CV]  criterion=gini, max_depth=20, min_samples_leaf=4, min_samples_split=10, splitter=random, total=  18.1s\n",
      "[CV] criterion=gini, max_depth=20, min_samples_leaf=4, min_samples_split=10, splitter=random \n",
      "[CV]  criterion=gini, max_depth=20, min_samples_leaf=4, min_samples_split=10, splitter=random, total=  18.8s\n",
      "[CV] criterion=gini, max_depth=20, min_samples_leaf=4, min_samples_split=20, splitter=best \n",
      "[CV]  criterion=gini, max_depth=20, min_samples_leaf=4, min_samples_split=20, splitter=best, total= 1.4min\n",
      "[CV] criterion=gini, max_depth=20, min_samples_leaf=4, min_samples_split=20, splitter=best \n",
      "[CV]  criterion=gini, max_depth=20, min_samples_leaf=4, min_samples_split=20, splitter=best, total= 1.3min\n",
      "[CV] criterion=gini, max_depth=20, min_samples_leaf=4, min_samples_split=20, splitter=best \n",
      "[CV]  criterion=gini, max_depth=20, min_samples_leaf=4, min_samples_split=20, splitter=best, total= 1.2min\n",
      "[CV] criterion=gini, max_depth=20, min_samples_leaf=4, min_samples_split=20, splitter=random \n",
      "[CV]  criterion=gini, max_depth=20, min_samples_leaf=4, min_samples_split=20, splitter=random, total=  15.1s\n",
      "[CV] criterion=gini, max_depth=20, min_samples_leaf=4, min_samples_split=20, splitter=random \n",
      "[CV]  criterion=gini, max_depth=20, min_samples_leaf=4, min_samples_split=20, splitter=random, total=  16.8s\n",
      "[CV] criterion=gini, max_depth=20, min_samples_leaf=4, min_samples_split=20, splitter=random \n",
      "[CV]  criterion=gini, max_depth=20, min_samples_leaf=4, min_samples_split=20, splitter=random, total=  16.0s\n",
      "[CV] criterion=gini, max_depth=20, min_samples_leaf=6, min_samples_split=5, splitter=best \n",
      "[CV]  criterion=gini, max_depth=20, min_samples_leaf=6, min_samples_split=5, splitter=best, total= 1.5min\n",
      "[CV] criterion=gini, max_depth=20, min_samples_leaf=6, min_samples_split=5, splitter=best \n",
      "[CV]  criterion=gini, max_depth=20, min_samples_leaf=6, min_samples_split=5, splitter=best, total= 1.2min\n",
      "[CV] criterion=gini, max_depth=20, min_samples_leaf=6, min_samples_split=5, splitter=best \n",
      "[CV]  criterion=gini, max_depth=20, min_samples_leaf=6, min_samples_split=5, splitter=best, total=  58.6s\n",
      "[CV] criterion=gini, max_depth=20, min_samples_leaf=6, min_samples_split=5, splitter=random \n",
      "[CV]  criterion=gini, max_depth=20, min_samples_leaf=6, min_samples_split=5, splitter=random, total=  17.8s\n",
      "[CV] criterion=gini, max_depth=20, min_samples_leaf=6, min_samples_split=5, splitter=random \n",
      "[CV]  criterion=gini, max_depth=20, min_samples_leaf=6, min_samples_split=5, splitter=random, total=  15.0s\n",
      "[CV] criterion=gini, max_depth=20, min_samples_leaf=6, min_samples_split=5, splitter=random \n",
      "[CV]  criterion=gini, max_depth=20, min_samples_leaf=6, min_samples_split=5, splitter=random, total=  17.4s\n",
      "[CV] criterion=gini, max_depth=20, min_samples_leaf=6, min_samples_split=10, splitter=best \n",
      "[CV]  criterion=gini, max_depth=20, min_samples_leaf=6, min_samples_split=10, splitter=best, total= 1.3min\n",
      "[CV] criterion=gini, max_depth=20, min_samples_leaf=6, min_samples_split=10, splitter=best \n",
      "[CV]  criterion=gini, max_depth=20, min_samples_leaf=6, min_samples_split=10, splitter=best, total= 1.2min\n",
      "[CV] criterion=gini, max_depth=20, min_samples_leaf=6, min_samples_split=10, splitter=best \n",
      "[CV]  criterion=gini, max_depth=20, min_samples_leaf=6, min_samples_split=10, splitter=best, total= 1.1min\n",
      "[CV] criterion=gini, max_depth=20, min_samples_leaf=6, min_samples_split=10, splitter=random \n",
      "[CV]  criterion=gini, max_depth=20, min_samples_leaf=6, min_samples_split=10, splitter=random, total=  14.1s\n",
      "[CV] criterion=gini, max_depth=20, min_samples_leaf=6, min_samples_split=10, splitter=random \n",
      "[CV]  criterion=gini, max_depth=20, min_samples_leaf=6, min_samples_split=10, splitter=random, total=  13.1s\n",
      "[CV] criterion=gini, max_depth=20, min_samples_leaf=6, min_samples_split=10, splitter=random \n",
      "[CV]  criterion=gini, max_depth=20, min_samples_leaf=6, min_samples_split=10, splitter=random, total=  13.7s\n",
      "[CV] criterion=gini, max_depth=20, min_samples_leaf=6, min_samples_split=20, splitter=best \n",
      "[CV]  criterion=gini, max_depth=20, min_samples_leaf=6, min_samples_split=20, splitter=best, total= 1.3min\n",
      "[CV] criterion=gini, max_depth=20, min_samples_leaf=6, min_samples_split=20, splitter=best \n",
      "[CV]  criterion=gini, max_depth=20, min_samples_leaf=6, min_samples_split=20, splitter=best, total= 1.2min\n",
      "[CV] criterion=gini, max_depth=20, min_samples_leaf=6, min_samples_split=20, splitter=best \n",
      "[CV]  criterion=gini, max_depth=20, min_samples_leaf=6, min_samples_split=20, splitter=best, total= 1.1min\n",
      "[CV] criterion=gini, max_depth=20, min_samples_leaf=6, min_samples_split=20, splitter=random \n",
      "[CV]  criterion=gini, max_depth=20, min_samples_leaf=6, min_samples_split=20, splitter=random, total=  12.8s\n",
      "[CV] criterion=gini, max_depth=20, min_samples_leaf=6, min_samples_split=20, splitter=random \n",
      "[CV]  criterion=gini, max_depth=20, min_samples_leaf=6, min_samples_split=20, splitter=random, total=  15.8s\n",
      "[CV] criterion=gini, max_depth=20, min_samples_leaf=6, min_samples_split=20, splitter=random \n",
      "[CV]  criterion=gini, max_depth=20, min_samples_leaf=6, min_samples_split=20, splitter=random, total=  14.1s\n",
      "[CV] criterion=gini, max_depth=30, min_samples_leaf=2, min_samples_split=5, splitter=best \n",
      "[CV]  criterion=gini, max_depth=30, min_samples_leaf=2, min_samples_split=5, splitter=best, total= 1.6min\n",
      "[CV] criterion=gini, max_depth=30, min_samples_leaf=2, min_samples_split=5, splitter=best \n",
      "[CV]  criterion=gini, max_depth=30, min_samples_leaf=2, min_samples_split=5, splitter=best, total= 1.5min\n",
      "[CV] criterion=gini, max_depth=30, min_samples_leaf=2, min_samples_split=5, splitter=best \n",
      "[CV]  criterion=gini, max_depth=30, min_samples_leaf=2, min_samples_split=5, splitter=best, total= 1.2min\n",
      "[CV] criterion=gini, max_depth=30, min_samples_leaf=2, min_samples_split=5, splitter=random \n",
      "[CV]  criterion=gini, max_depth=30, min_samples_leaf=2, min_samples_split=5, splitter=random, total=  17.8s\n",
      "[CV] criterion=gini, max_depth=30, min_samples_leaf=2, min_samples_split=5, splitter=random \n",
      "[CV]  criterion=gini, max_depth=30, min_samples_leaf=2, min_samples_split=5, splitter=random, total=  21.1s\n",
      "[CV] criterion=gini, max_depth=30, min_samples_leaf=2, min_samples_split=5, splitter=random \n",
      "[CV]  criterion=gini, max_depth=30, min_samples_leaf=2, min_samples_split=5, splitter=random, total=  20.8s\n",
      "[CV] criterion=gini, max_depth=30, min_samples_leaf=2, min_samples_split=10, splitter=best \n",
      "[CV]  criterion=gini, max_depth=30, min_samples_leaf=2, min_samples_split=10, splitter=best, total= 1.5min\n",
      "[CV] criterion=gini, max_depth=30, min_samples_leaf=2, min_samples_split=10, splitter=best \n",
      "[CV]  criterion=gini, max_depth=30, min_samples_leaf=2, min_samples_split=10, splitter=best, total= 1.3min\n",
      "[CV] criterion=gini, max_depth=30, min_samples_leaf=2, min_samples_split=10, splitter=best \n",
      "[CV]  criterion=gini, max_depth=30, min_samples_leaf=2, min_samples_split=10, splitter=best, total= 1.1min\n",
      "[CV] criterion=gini, max_depth=30, min_samples_leaf=2, min_samples_split=10, splitter=random \n",
      "[CV]  criterion=gini, max_depth=30, min_samples_leaf=2, min_samples_split=10, splitter=random, total=  19.5s\n",
      "[CV] criterion=gini, max_depth=30, min_samples_leaf=2, min_samples_split=10, splitter=random \n",
      "[CV]  criterion=gini, max_depth=30, min_samples_leaf=2, min_samples_split=10, splitter=random, total=  22.7s\n",
      "[CV] criterion=gini, max_depth=30, min_samples_leaf=2, min_samples_split=10, splitter=random \n",
      "[CV]  criterion=gini, max_depth=30, min_samples_leaf=2, min_samples_split=10, splitter=random, total=  19.6s\n",
      "[CV] criterion=gini, max_depth=30, min_samples_leaf=2, min_samples_split=20, splitter=best \n",
      "[CV]  criterion=gini, max_depth=30, min_samples_leaf=2, min_samples_split=20, splitter=best, total= 1.6min\n",
      "[CV] criterion=gini, max_depth=30, min_samples_leaf=2, min_samples_split=20, splitter=best \n",
      "[CV]  criterion=gini, max_depth=30, min_samples_leaf=2, min_samples_split=20, splitter=best, total= 1.3min\n",
      "[CV] criterion=gini, max_depth=30, min_samples_leaf=2, min_samples_split=20, splitter=best \n",
      "[CV]  criterion=gini, max_depth=30, min_samples_leaf=2, min_samples_split=20, splitter=best, total= 1.3min\n",
      "[CV] criterion=gini, max_depth=30, min_samples_leaf=2, min_samples_split=20, splitter=random \n",
      "[CV]  criterion=gini, max_depth=30, min_samples_leaf=2, min_samples_split=20, splitter=random, total=  19.4s\n",
      "[CV] criterion=gini, max_depth=30, min_samples_leaf=2, min_samples_split=20, splitter=random \n",
      "[CV]  criterion=gini, max_depth=30, min_samples_leaf=2, min_samples_split=20, splitter=random, total=  24.1s\n",
      "[CV] criterion=gini, max_depth=30, min_samples_leaf=2, min_samples_split=20, splitter=random \n",
      "[CV]  criterion=gini, max_depth=30, min_samples_leaf=2, min_samples_split=20, splitter=random, total=  21.3s\n",
      "[CV] criterion=gini, max_depth=30, min_samples_leaf=4, min_samples_split=5, splitter=best \n",
      "[CV]  criterion=gini, max_depth=30, min_samples_leaf=4, min_samples_split=5, splitter=best, total= 1.4min\n",
      "[CV] criterion=gini, max_depth=30, min_samples_leaf=4, min_samples_split=5, splitter=best \n",
      "[CV]  criterion=gini, max_depth=30, min_samples_leaf=4, min_samples_split=5, splitter=best, total= 1.2min\n",
      "[CV] criterion=gini, max_depth=30, min_samples_leaf=4, min_samples_split=5, splitter=best \n",
      "[CV]  criterion=gini, max_depth=30, min_samples_leaf=4, min_samples_split=5, splitter=best, total=  57.7s\n",
      "[CV] criterion=gini, max_depth=30, min_samples_leaf=4, min_samples_split=5, splitter=random \n",
      "[CV]  criterion=gini, max_depth=30, min_samples_leaf=4, min_samples_split=5, splitter=random, total=  18.3s\n",
      "[CV] criterion=gini, max_depth=30, min_samples_leaf=4, min_samples_split=5, splitter=random \n",
      "[CV]  criterion=gini, max_depth=30, min_samples_leaf=4, min_samples_split=5, splitter=random, total=  18.3s\n",
      "[CV] criterion=gini, max_depth=30, min_samples_leaf=4, min_samples_split=5, splitter=random \n",
      "[CV]  criterion=gini, max_depth=30, min_samples_leaf=4, min_samples_split=5, splitter=random, total=  14.5s\n",
      "[CV] criterion=gini, max_depth=30, min_samples_leaf=4, min_samples_split=10, splitter=best \n",
      "[CV]  criterion=gini, max_depth=30, min_samples_leaf=4, min_samples_split=10, splitter=best, total= 1.5min\n",
      "[CV] criterion=gini, max_depth=30, min_samples_leaf=4, min_samples_split=10, splitter=best \n",
      "[CV]  criterion=gini, max_depth=30, min_samples_leaf=4, min_samples_split=10, splitter=best, total= 1.3min\n",
      "[CV] criterion=gini, max_depth=30, min_samples_leaf=4, min_samples_split=10, splitter=best \n",
      "[CV]  criterion=gini, max_depth=30, min_samples_leaf=4, min_samples_split=10, splitter=best, total= 1.2min\n",
      "[CV] criterion=gini, max_depth=30, min_samples_leaf=4, min_samples_split=10, splitter=random \n",
      "[CV]  criterion=gini, max_depth=30, min_samples_leaf=4, min_samples_split=10, splitter=random, total=  18.4s\n",
      "[CV] criterion=gini, max_depth=30, min_samples_leaf=4, min_samples_split=10, splitter=random \n",
      "[CV]  criterion=gini, max_depth=30, min_samples_leaf=4, min_samples_split=10, splitter=random, total=  14.2s\n",
      "[CV] criterion=gini, max_depth=30, min_samples_leaf=4, min_samples_split=10, splitter=random \n",
      "[CV]  criterion=gini, max_depth=30, min_samples_leaf=4, min_samples_split=10, splitter=random, total=  18.0s\n",
      "[CV] criterion=gini, max_depth=30, min_samples_leaf=4, min_samples_split=20, splitter=best \n",
      "[CV]  criterion=gini, max_depth=30, min_samples_leaf=4, min_samples_split=20, splitter=best, total= 1.6min\n",
      "[CV] criterion=gini, max_depth=30, min_samples_leaf=4, min_samples_split=20, splitter=best \n",
      "[CV]  criterion=gini, max_depth=30, min_samples_leaf=4, min_samples_split=20, splitter=best, total= 1.3min\n",
      "[CV] criterion=gini, max_depth=30, min_samples_leaf=4, min_samples_split=20, splitter=best \n",
      "[CV]  criterion=gini, max_depth=30, min_samples_leaf=4, min_samples_split=20, splitter=best, total= 1.2min\n",
      "[CV] criterion=gini, max_depth=30, min_samples_leaf=4, min_samples_split=20, splitter=random \n",
      "[CV]  criterion=gini, max_depth=30, min_samples_leaf=4, min_samples_split=20, splitter=random, total=  17.9s\n",
      "[CV] criterion=gini, max_depth=30, min_samples_leaf=4, min_samples_split=20, splitter=random \n",
      "[CV]  criterion=gini, max_depth=30, min_samples_leaf=4, min_samples_split=20, splitter=random, total=  15.4s\n",
      "[CV] criterion=gini, max_depth=30, min_samples_leaf=4, min_samples_split=20, splitter=random \n",
      "[CV]  criterion=gini, max_depth=30, min_samples_leaf=4, min_samples_split=20, splitter=random, total=  18.7s\n",
      "[CV] criterion=gini, max_depth=30, min_samples_leaf=6, min_samples_split=5, splitter=best \n",
      "[CV]  criterion=gini, max_depth=30, min_samples_leaf=6, min_samples_split=5, splitter=best, total= 1.3min\n",
      "[CV] criterion=gini, max_depth=30, min_samples_leaf=6, min_samples_split=5, splitter=best \n",
      "[CV]  criterion=gini, max_depth=30, min_samples_leaf=6, min_samples_split=5, splitter=best, total= 1.2min\n",
      "[CV] criterion=gini, max_depth=30, min_samples_leaf=6, min_samples_split=5, splitter=best \n",
      "[CV]  criterion=gini, max_depth=30, min_samples_leaf=6, min_samples_split=5, splitter=best, total= 1.1min\n",
      "[CV] criterion=gini, max_depth=30, min_samples_leaf=6, min_samples_split=5, splitter=random \n",
      "[CV]  criterion=gini, max_depth=30, min_samples_leaf=6, min_samples_split=5, splitter=random, total=  13.7s\n",
      "[CV] criterion=gini, max_depth=30, min_samples_leaf=6, min_samples_split=5, splitter=random \n",
      "[CV]  criterion=gini, max_depth=30, min_samples_leaf=6, min_samples_split=5, splitter=random, total=  19.6s\n",
      "[CV] criterion=gini, max_depth=30, min_samples_leaf=6, min_samples_split=5, splitter=random \n",
      "[CV]  criterion=gini, max_depth=30, min_samples_leaf=6, min_samples_split=5, splitter=random, total=  15.8s\n",
      "[CV] criterion=gini, max_depth=30, min_samples_leaf=6, min_samples_split=10, splitter=best \n",
      "[CV]  criterion=gini, max_depth=30, min_samples_leaf=6, min_samples_split=10, splitter=best, total= 1.3min\n",
      "[CV] criterion=gini, max_depth=30, min_samples_leaf=6, min_samples_split=10, splitter=best \n",
      "[CV]  criterion=gini, max_depth=30, min_samples_leaf=6, min_samples_split=10, splitter=best, total= 1.2min\n",
      "[CV] criterion=gini, max_depth=30, min_samples_leaf=6, min_samples_split=10, splitter=best \n",
      "[CV]  criterion=gini, max_depth=30, min_samples_leaf=6, min_samples_split=10, splitter=best, total= 1.1min\n",
      "[CV] criterion=gini, max_depth=30, min_samples_leaf=6, min_samples_split=10, splitter=random \n",
      "[CV]  criterion=gini, max_depth=30, min_samples_leaf=6, min_samples_split=10, splitter=random, total=  16.9s\n",
      "[CV] criterion=gini, max_depth=30, min_samples_leaf=6, min_samples_split=10, splitter=random \n",
      "[CV]  criterion=gini, max_depth=30, min_samples_leaf=6, min_samples_split=10, splitter=random, total=  17.3s\n",
      "[CV] criterion=gini, max_depth=30, min_samples_leaf=6, min_samples_split=10, splitter=random \n",
      "[CV]  criterion=gini, max_depth=30, min_samples_leaf=6, min_samples_split=10, splitter=random, total=  14.6s\n",
      "[CV] criterion=gini, max_depth=30, min_samples_leaf=6, min_samples_split=20, splitter=best \n",
      "[CV]  criterion=gini, max_depth=30, min_samples_leaf=6, min_samples_split=20, splitter=best, total= 1.2min\n",
      "[CV] criterion=gini, max_depth=30, min_samples_leaf=6, min_samples_split=20, splitter=best \n",
      "[CV]  criterion=gini, max_depth=30, min_samples_leaf=6, min_samples_split=20, splitter=best, total= 1.2min\n",
      "[CV] criterion=gini, max_depth=30, min_samples_leaf=6, min_samples_split=20, splitter=best \n",
      "[CV]  criterion=gini, max_depth=30, min_samples_leaf=6, min_samples_split=20, splitter=best, total= 1.2min\n",
      "[CV] criterion=gini, max_depth=30, min_samples_leaf=6, min_samples_split=20, splitter=random \n",
      "[CV]  criterion=gini, max_depth=30, min_samples_leaf=6, min_samples_split=20, splitter=random, total=  15.0s\n",
      "[CV] criterion=gini, max_depth=30, min_samples_leaf=6, min_samples_split=20, splitter=random \n",
      "[CV]  criterion=gini, max_depth=30, min_samples_leaf=6, min_samples_split=20, splitter=random, total=  16.0s\n",
      "[CV] criterion=gini, max_depth=30, min_samples_leaf=6, min_samples_split=20, splitter=random \n",
      "[CV]  criterion=gini, max_depth=30, min_samples_leaf=6, min_samples_split=20, splitter=random, total=  15.0s\n",
      "[CV] criterion=entropy, max_depth=10, min_samples_leaf=2, min_samples_split=5, splitter=best \n",
      "[CV]  criterion=entropy, max_depth=10, min_samples_leaf=2, min_samples_split=5, splitter=best, total= 1.1min\n"
     ]
    },
    {
     "name": "stdout",
     "output_type": "stream",
     "text": [
      "[CV] criterion=entropy, max_depth=10, min_samples_leaf=2, min_samples_split=5, splitter=best \n",
      "[CV]  criterion=entropy, max_depth=10, min_samples_leaf=2, min_samples_split=5, splitter=best, total= 1.1min\n",
      "[CV] criterion=entropy, max_depth=10, min_samples_leaf=2, min_samples_split=5, splitter=best \n",
      "[CV]  criterion=entropy, max_depth=10, min_samples_leaf=2, min_samples_split=5, splitter=best, total= 1.1min\n",
      "[CV] criterion=entropy, max_depth=10, min_samples_leaf=2, min_samples_split=5, splitter=random \n",
      "[CV]  criterion=entropy, max_depth=10, min_samples_leaf=2, min_samples_split=5, splitter=random, total=  14.0s\n",
      "[CV] criterion=entropy, max_depth=10, min_samples_leaf=2, min_samples_split=5, splitter=random \n",
      "[CV]  criterion=entropy, max_depth=10, min_samples_leaf=2, min_samples_split=5, splitter=random, total=  12.3s\n",
      "[CV] criterion=entropy, max_depth=10, min_samples_leaf=2, min_samples_split=5, splitter=random \n",
      "[CV]  criterion=entropy, max_depth=10, min_samples_leaf=2, min_samples_split=5, splitter=random, total=  12.6s\n",
      "[CV] criterion=entropy, max_depth=10, min_samples_leaf=2, min_samples_split=10, splitter=best \n",
      "[CV]  criterion=entropy, max_depth=10, min_samples_leaf=2, min_samples_split=10, splitter=best, total= 1.1min\n",
      "[CV] criterion=entropy, max_depth=10, min_samples_leaf=2, min_samples_split=10, splitter=best \n",
      "[CV]  criterion=entropy, max_depth=10, min_samples_leaf=2, min_samples_split=10, splitter=best, total= 1.1min\n",
      "[CV] criterion=entropy, max_depth=10, min_samples_leaf=2, min_samples_split=10, splitter=best \n",
      "[CV]  criterion=entropy, max_depth=10, min_samples_leaf=2, min_samples_split=10, splitter=best, total= 1.0min\n",
      "[CV] criterion=entropy, max_depth=10, min_samples_leaf=2, min_samples_split=10, splitter=random \n",
      "[CV]  criterion=entropy, max_depth=10, min_samples_leaf=2, min_samples_split=10, splitter=random, total=  14.4s\n",
      "[CV] criterion=entropy, max_depth=10, min_samples_leaf=2, min_samples_split=10, splitter=random \n",
      "[CV]  criterion=entropy, max_depth=10, min_samples_leaf=2, min_samples_split=10, splitter=random, total=  12.3s\n",
      "[CV] criterion=entropy, max_depth=10, min_samples_leaf=2, min_samples_split=10, splitter=random \n",
      "[CV]  criterion=entropy, max_depth=10, min_samples_leaf=2, min_samples_split=10, splitter=random, total=  11.9s\n",
      "[CV] criterion=entropy, max_depth=10, min_samples_leaf=2, min_samples_split=20, splitter=best \n",
      "[CV]  criterion=entropy, max_depth=10, min_samples_leaf=2, min_samples_split=20, splitter=best, total= 1.1min\n",
      "[CV] criterion=entropy, max_depth=10, min_samples_leaf=2, min_samples_split=20, splitter=best \n",
      "[CV]  criterion=entropy, max_depth=10, min_samples_leaf=2, min_samples_split=20, splitter=best, total= 1.0min\n",
      "[CV] criterion=entropy, max_depth=10, min_samples_leaf=2, min_samples_split=20, splitter=best \n",
      "[CV]  criterion=entropy, max_depth=10, min_samples_leaf=2, min_samples_split=20, splitter=best, total=  57.4s\n",
      "[CV] criterion=entropy, max_depth=10, min_samples_leaf=2, min_samples_split=20, splitter=random \n",
      "[CV]  criterion=entropy, max_depth=10, min_samples_leaf=2, min_samples_split=20, splitter=random, total=  14.5s\n",
      "[CV] criterion=entropy, max_depth=10, min_samples_leaf=2, min_samples_split=20, splitter=random \n",
      "[CV]  criterion=entropy, max_depth=10, min_samples_leaf=2, min_samples_split=20, splitter=random, total=  13.5s\n",
      "[CV] criterion=entropy, max_depth=10, min_samples_leaf=2, min_samples_split=20, splitter=random \n",
      "[CV]  criterion=entropy, max_depth=10, min_samples_leaf=2, min_samples_split=20, splitter=random, total=  12.9s\n",
      "[CV] criterion=entropy, max_depth=10, min_samples_leaf=4, min_samples_split=5, splitter=best \n",
      "[CV]  criterion=entropy, max_depth=10, min_samples_leaf=4, min_samples_split=5, splitter=best, total= 1.1min\n",
      "[CV] criterion=entropy, max_depth=10, min_samples_leaf=4, min_samples_split=5, splitter=best \n",
      "[CV]  criterion=entropy, max_depth=10, min_samples_leaf=4, min_samples_split=5, splitter=best, total= 1.1min\n",
      "[CV] criterion=entropy, max_depth=10, min_samples_leaf=4, min_samples_split=5, splitter=best \n",
      "[CV]  criterion=entropy, max_depth=10, min_samples_leaf=4, min_samples_split=5, splitter=best, total=  54.2s\n",
      "[CV] criterion=entropy, max_depth=10, min_samples_leaf=4, min_samples_split=5, splitter=random \n",
      "[CV]  criterion=entropy, max_depth=10, min_samples_leaf=4, min_samples_split=5, splitter=random, total=  13.7s\n",
      "[CV] criterion=entropy, max_depth=10, min_samples_leaf=4, min_samples_split=5, splitter=random \n",
      "[CV]  criterion=entropy, max_depth=10, min_samples_leaf=4, min_samples_split=5, splitter=random, total=  13.2s\n",
      "[CV] criterion=entropy, max_depth=10, min_samples_leaf=4, min_samples_split=5, splitter=random \n",
      "[CV]  criterion=entropy, max_depth=10, min_samples_leaf=4, min_samples_split=5, splitter=random, total=  10.9s\n",
      "[CV] criterion=entropy, max_depth=10, min_samples_leaf=4, min_samples_split=10, splitter=best \n",
      "[CV]  criterion=entropy, max_depth=10, min_samples_leaf=4, min_samples_split=10, splitter=best, total= 1.0min\n",
      "[CV] criterion=entropy, max_depth=10, min_samples_leaf=4, min_samples_split=10, splitter=best \n",
      "[CV]  criterion=entropy, max_depth=10, min_samples_leaf=4, min_samples_split=10, splitter=best, total= 1.0min\n",
      "[CV] criterion=entropy, max_depth=10, min_samples_leaf=4, min_samples_split=10, splitter=best \n",
      "[CV]  criterion=entropy, max_depth=10, min_samples_leaf=4, min_samples_split=10, splitter=best, total=  53.3s\n",
      "[CV] criterion=entropy, max_depth=10, min_samples_leaf=4, min_samples_split=10, splitter=random \n",
      "[CV]  criterion=entropy, max_depth=10, min_samples_leaf=4, min_samples_split=10, splitter=random, total=  13.8s\n",
      "[CV] criterion=entropy, max_depth=10, min_samples_leaf=4, min_samples_split=10, splitter=random \n",
      "[CV]  criterion=entropy, max_depth=10, min_samples_leaf=4, min_samples_split=10, splitter=random, total=  12.7s\n",
      "[CV] criterion=entropy, max_depth=10, min_samples_leaf=4, min_samples_split=10, splitter=random \n",
      "[CV]  criterion=entropy, max_depth=10, min_samples_leaf=4, min_samples_split=10, splitter=random, total=  13.1s\n",
      "[CV] criterion=entropy, max_depth=10, min_samples_leaf=4, min_samples_split=20, splitter=best \n",
      "[CV]  criterion=entropy, max_depth=10, min_samples_leaf=4, min_samples_split=20, splitter=best, total= 1.0min\n",
      "[CV] criterion=entropy, max_depth=10, min_samples_leaf=4, min_samples_split=20, splitter=best \n",
      "[CV]  criterion=entropy, max_depth=10, min_samples_leaf=4, min_samples_split=20, splitter=best, total=  57.2s\n",
      "[CV] criterion=entropy, max_depth=10, min_samples_leaf=4, min_samples_split=20, splitter=best \n",
      "[CV]  criterion=entropy, max_depth=10, min_samples_leaf=4, min_samples_split=20, splitter=best, total= 1.0min\n",
      "[CV] criterion=entropy, max_depth=10, min_samples_leaf=4, min_samples_split=20, splitter=random \n",
      "[CV]  criterion=entropy, max_depth=10, min_samples_leaf=4, min_samples_split=20, splitter=random, total=  13.6s\n",
      "[CV] criterion=entropy, max_depth=10, min_samples_leaf=4, min_samples_split=20, splitter=random \n",
      "[CV]  criterion=entropy, max_depth=10, min_samples_leaf=4, min_samples_split=20, splitter=random, total=  11.8s\n",
      "[CV] criterion=entropy, max_depth=10, min_samples_leaf=4, min_samples_split=20, splitter=random \n",
      "[CV]  criterion=entropy, max_depth=10, min_samples_leaf=4, min_samples_split=20, splitter=random, total=   9.1s\n",
      "[CV] criterion=entropy, max_depth=10, min_samples_leaf=6, min_samples_split=5, splitter=best \n",
      "[CV]  criterion=entropy, max_depth=10, min_samples_leaf=6, min_samples_split=5, splitter=best, total=  57.7s\n",
      "[CV] criterion=entropy, max_depth=10, min_samples_leaf=6, min_samples_split=5, splitter=best \n",
      "[CV]  criterion=entropy, max_depth=10, min_samples_leaf=6, min_samples_split=5, splitter=best, total=  59.8s\n",
      "[CV] criterion=entropy, max_depth=10, min_samples_leaf=6, min_samples_split=5, splitter=best \n",
      "[CV]  criterion=entropy, max_depth=10, min_samples_leaf=6, min_samples_split=5, splitter=best, total=  54.0s\n",
      "[CV] criterion=entropy, max_depth=10, min_samples_leaf=6, min_samples_split=5, splitter=random \n",
      "[CV]  criterion=entropy, max_depth=10, min_samples_leaf=6, min_samples_split=5, splitter=random, total=  14.1s\n",
      "[CV] criterion=entropy, max_depth=10, min_samples_leaf=6, min_samples_split=5, splitter=random \n",
      "[CV]  criterion=entropy, max_depth=10, min_samples_leaf=6, min_samples_split=5, splitter=random, total=  12.1s\n",
      "[CV] criterion=entropy, max_depth=10, min_samples_leaf=6, min_samples_split=5, splitter=random \n",
      "[CV]  criterion=entropy, max_depth=10, min_samples_leaf=6, min_samples_split=5, splitter=random, total=  12.4s\n",
      "[CV] criterion=entropy, max_depth=10, min_samples_leaf=6, min_samples_split=10, splitter=best \n",
      "[CV]  criterion=entropy, max_depth=10, min_samples_leaf=6, min_samples_split=10, splitter=best, total= 1.0min\n",
      "[CV] criterion=entropy, max_depth=10, min_samples_leaf=6, min_samples_split=10, splitter=best \n",
      "[CV]  criterion=entropy, max_depth=10, min_samples_leaf=6, min_samples_split=10, splitter=best, total=  59.6s\n",
      "[CV] criterion=entropy, max_depth=10, min_samples_leaf=6, min_samples_split=10, splitter=best \n",
      "[CV]  criterion=entropy, max_depth=10, min_samples_leaf=6, min_samples_split=10, splitter=best, total=  45.8s\n",
      "[CV] criterion=entropy, max_depth=10, min_samples_leaf=6, min_samples_split=10, splitter=random \n",
      "[CV]  criterion=entropy, max_depth=10, min_samples_leaf=6, min_samples_split=10, splitter=random, total=  12.3s\n",
      "[CV] criterion=entropy, max_depth=10, min_samples_leaf=6, min_samples_split=10, splitter=random \n",
      "[CV]  criterion=entropy, max_depth=10, min_samples_leaf=6, min_samples_split=10, splitter=random, total=  11.6s\n",
      "[CV] criterion=entropy, max_depth=10, min_samples_leaf=6, min_samples_split=10, splitter=random \n",
      "[CV]  criterion=entropy, max_depth=10, min_samples_leaf=6, min_samples_split=10, splitter=random, total=  10.0s\n",
      "[CV] criterion=entropy, max_depth=10, min_samples_leaf=6, min_samples_split=20, splitter=best \n",
      "[CV]  criterion=entropy, max_depth=10, min_samples_leaf=6, min_samples_split=20, splitter=best, total= 1.1min\n",
      "[CV] criterion=entropy, max_depth=10, min_samples_leaf=6, min_samples_split=20, splitter=best \n",
      "[CV]  criterion=entropy, max_depth=10, min_samples_leaf=6, min_samples_split=20, splitter=best, total=  54.6s\n",
      "[CV] criterion=entropy, max_depth=10, min_samples_leaf=6, min_samples_split=20, splitter=best \n",
      "[CV]  criterion=entropy, max_depth=10, min_samples_leaf=6, min_samples_split=20, splitter=best, total=  52.0s\n",
      "[CV] criterion=entropy, max_depth=10, min_samples_leaf=6, min_samples_split=20, splitter=random \n",
      "[CV]  criterion=entropy, max_depth=10, min_samples_leaf=6, min_samples_split=20, splitter=random, total=  14.1s\n",
      "[CV] criterion=entropy, max_depth=10, min_samples_leaf=6, min_samples_split=20, splitter=random \n",
      "[CV]  criterion=entropy, max_depth=10, min_samples_leaf=6, min_samples_split=20, splitter=random, total=  12.6s\n",
      "[CV] criterion=entropy, max_depth=10, min_samples_leaf=6, min_samples_split=20, splitter=random \n",
      "[CV]  criterion=entropy, max_depth=10, min_samples_leaf=6, min_samples_split=20, splitter=random, total=  11.9s\n",
      "[CV] criterion=entropy, max_depth=20, min_samples_leaf=2, min_samples_split=5, splitter=best \n",
      "[CV]  criterion=entropy, max_depth=20, min_samples_leaf=2, min_samples_split=5, splitter=best, total= 1.3min\n",
      "[CV] criterion=entropy, max_depth=20, min_samples_leaf=2, min_samples_split=5, splitter=best \n",
      "[CV]  criterion=entropy, max_depth=20, min_samples_leaf=2, min_samples_split=5, splitter=best, total= 1.2min\n",
      "[CV] criterion=entropy, max_depth=20, min_samples_leaf=2, min_samples_split=5, splitter=best \n",
      "[CV]  criterion=entropy, max_depth=20, min_samples_leaf=2, min_samples_split=5, splitter=best, total= 1.1min\n",
      "[CV] criterion=entropy, max_depth=20, min_samples_leaf=2, min_samples_split=5, splitter=random \n",
      "[CV]  criterion=entropy, max_depth=20, min_samples_leaf=2, min_samples_split=5, splitter=random, total=  14.1s\n",
      "[CV] criterion=entropy, max_depth=20, min_samples_leaf=2, min_samples_split=5, splitter=random \n",
      "[CV]  criterion=entropy, max_depth=20, min_samples_leaf=2, min_samples_split=5, splitter=random, total=  14.7s\n",
      "[CV] criterion=entropy, max_depth=20, min_samples_leaf=2, min_samples_split=5, splitter=random \n",
      "[CV]  criterion=entropy, max_depth=20, min_samples_leaf=2, min_samples_split=5, splitter=random, total=  13.8s\n",
      "[CV] criterion=entropy, max_depth=20, min_samples_leaf=2, min_samples_split=10, splitter=best \n",
      "[CV]  criterion=entropy, max_depth=20, min_samples_leaf=2, min_samples_split=10, splitter=best, total= 1.4min\n",
      "[CV] criterion=entropy, max_depth=20, min_samples_leaf=2, min_samples_split=10, splitter=best \n",
      "[CV]  criterion=entropy, max_depth=20, min_samples_leaf=2, min_samples_split=10, splitter=best, total= 1.1min\n",
      "[CV] criterion=entropy, max_depth=20, min_samples_leaf=2, min_samples_split=10, splitter=best \n",
      "[CV]  criterion=entropy, max_depth=20, min_samples_leaf=2, min_samples_split=10, splitter=best, total=  54.8s\n",
      "[CV] criterion=entropy, max_depth=20, min_samples_leaf=2, min_samples_split=10, splitter=random \n",
      "[CV]  criterion=entropy, max_depth=20, min_samples_leaf=2, min_samples_split=10, splitter=random, total=  15.9s\n",
      "[CV] criterion=entropy, max_depth=20, min_samples_leaf=2, min_samples_split=10, splitter=random \n",
      "[CV]  criterion=entropy, max_depth=20, min_samples_leaf=2, min_samples_split=10, splitter=random, total=  14.8s\n",
      "[CV] criterion=entropy, max_depth=20, min_samples_leaf=2, min_samples_split=10, splitter=random \n",
      "[CV]  criterion=entropy, max_depth=20, min_samples_leaf=2, min_samples_split=10, splitter=random, total=  14.8s\n",
      "[CV] criterion=entropy, max_depth=20, min_samples_leaf=2, min_samples_split=20, splitter=best \n",
      "[CV]  criterion=entropy, max_depth=20, min_samples_leaf=2, min_samples_split=20, splitter=best, total= 1.4min\n",
      "[CV] criterion=entropy, max_depth=20, min_samples_leaf=2, min_samples_split=20, splitter=best \n",
      "[CV]  criterion=entropy, max_depth=20, min_samples_leaf=2, min_samples_split=20, splitter=best, total= 1.1min\n",
      "[CV] criterion=entropy, max_depth=20, min_samples_leaf=2, min_samples_split=20, splitter=best \n",
      "[CV]  criterion=entropy, max_depth=20, min_samples_leaf=2, min_samples_split=20, splitter=best, total= 1.0min\n",
      "[CV] criterion=entropy, max_depth=20, min_samples_leaf=2, min_samples_split=20, splitter=random \n",
      "[CV]  criterion=entropy, max_depth=20, min_samples_leaf=2, min_samples_split=20, splitter=random, total=  15.8s\n",
      "[CV] criterion=entropy, max_depth=20, min_samples_leaf=2, min_samples_split=20, splitter=random \n",
      "[CV]  criterion=entropy, max_depth=20, min_samples_leaf=2, min_samples_split=20, splitter=random, total=  12.8s\n",
      "[CV] criterion=entropy, max_depth=20, min_samples_leaf=2, min_samples_split=20, splitter=random \n",
      "[CV]  criterion=entropy, max_depth=20, min_samples_leaf=2, min_samples_split=20, splitter=random, total=  12.9s\n",
      "[CV] criterion=entropy, max_depth=20, min_samples_leaf=4, min_samples_split=5, splitter=best \n",
      "[CV]  criterion=entropy, max_depth=20, min_samples_leaf=4, min_samples_split=5, splitter=best, total= 1.3min\n",
      "[CV] criterion=entropy, max_depth=20, min_samples_leaf=4, min_samples_split=5, splitter=best \n",
      "[CV]  criterion=entropy, max_depth=20, min_samples_leaf=4, min_samples_split=5, splitter=best, total= 1.1min\n",
      "[CV] criterion=entropy, max_depth=20, min_samples_leaf=4, min_samples_split=5, splitter=best \n",
      "[CV]  criterion=entropy, max_depth=20, min_samples_leaf=4, min_samples_split=5, splitter=best, total= 1.0min\n",
      "[CV] criterion=entropy, max_depth=20, min_samples_leaf=4, min_samples_split=5, splitter=random \n",
      "[CV]  criterion=entropy, max_depth=20, min_samples_leaf=4, min_samples_split=5, splitter=random, total=  15.4s\n",
      "[CV] criterion=entropy, max_depth=20, min_samples_leaf=4, min_samples_split=5, splitter=random \n",
      "[CV]  criterion=entropy, max_depth=20, min_samples_leaf=4, min_samples_split=5, splitter=random, total=  12.0s\n",
      "[CV] criterion=entropy, max_depth=20, min_samples_leaf=4, min_samples_split=5, splitter=random \n",
      "[CV]  criterion=entropy, max_depth=20, min_samples_leaf=4, min_samples_split=5, splitter=random, total=  13.5s\n",
      "[CV] criterion=entropy, max_depth=20, min_samples_leaf=4, min_samples_split=10, splitter=best \n",
      "[CV]  criterion=entropy, max_depth=20, min_samples_leaf=4, min_samples_split=10, splitter=best, total= 1.5min\n",
      "[CV] criterion=entropy, max_depth=20, min_samples_leaf=4, min_samples_split=10, splitter=best \n",
      "[CV]  criterion=entropy, max_depth=20, min_samples_leaf=4, min_samples_split=10, splitter=best, total= 1.2min\n"
     ]
    },
    {
     "name": "stdout",
     "output_type": "stream",
     "text": [
      "[CV] criterion=entropy, max_depth=20, min_samples_leaf=4, min_samples_split=10, splitter=best \n",
      "[CV]  criterion=entropy, max_depth=20, min_samples_leaf=4, min_samples_split=10, splitter=best, total= 1.1min\n",
      "[CV] criterion=entropy, max_depth=20, min_samples_leaf=4, min_samples_split=10, splitter=random \n",
      "[CV]  criterion=entropy, max_depth=20, min_samples_leaf=4, min_samples_split=10, splitter=random, total=  17.8s\n",
      "[CV] criterion=entropy, max_depth=20, min_samples_leaf=4, min_samples_split=10, splitter=random \n",
      "[CV]  criterion=entropy, max_depth=20, min_samples_leaf=4, min_samples_split=10, splitter=random, total=  15.7s\n",
      "[CV] criterion=entropy, max_depth=20, min_samples_leaf=4, min_samples_split=10, splitter=random \n",
      "[CV]  criterion=entropy, max_depth=20, min_samples_leaf=4, min_samples_split=10, splitter=random, total=  15.3s\n",
      "[CV] criterion=entropy, max_depth=20, min_samples_leaf=4, min_samples_split=20, splitter=best \n",
      "[CV]  criterion=entropy, max_depth=20, min_samples_leaf=4, min_samples_split=20, splitter=best, total= 1.2min\n",
      "[CV] criterion=entropy, max_depth=20, min_samples_leaf=4, min_samples_split=20, splitter=best \n",
      "[CV]  criterion=entropy, max_depth=20, min_samples_leaf=4, min_samples_split=20, splitter=best, total= 1.0min\n",
      "[CV] criterion=entropy, max_depth=20, min_samples_leaf=4, min_samples_split=20, splitter=best \n",
      "[CV]  criterion=entropy, max_depth=20, min_samples_leaf=4, min_samples_split=20, splitter=best, total=  55.2s\n",
      "[CV] criterion=entropy, max_depth=20, min_samples_leaf=4, min_samples_split=20, splitter=random \n",
      "[CV]  criterion=entropy, max_depth=20, min_samples_leaf=4, min_samples_split=20, splitter=random, total=  13.2s\n",
      "[CV] criterion=entropy, max_depth=20, min_samples_leaf=4, min_samples_split=20, splitter=random \n",
      "[CV]  criterion=entropy, max_depth=20, min_samples_leaf=4, min_samples_split=20, splitter=random, total=  13.2s\n",
      "[CV] criterion=entropy, max_depth=20, min_samples_leaf=4, min_samples_split=20, splitter=random \n",
      "[CV]  criterion=entropy, max_depth=20, min_samples_leaf=4, min_samples_split=20, splitter=random, total=  12.5s\n",
      "[CV] criterion=entropy, max_depth=20, min_samples_leaf=6, min_samples_split=5, splitter=best \n",
      "[CV]  criterion=entropy, max_depth=20, min_samples_leaf=6, min_samples_split=5, splitter=best, total= 1.1min\n",
      "[CV] criterion=entropy, max_depth=20, min_samples_leaf=6, min_samples_split=5, splitter=best \n",
      "[CV]  criterion=entropy, max_depth=20, min_samples_leaf=6, min_samples_split=5, splitter=best, total= 1.0min\n",
      "[CV] criterion=entropy, max_depth=20, min_samples_leaf=6, min_samples_split=5, splitter=best \n",
      "[CV]  criterion=entropy, max_depth=20, min_samples_leaf=6, min_samples_split=5, splitter=best, total=  56.0s\n",
      "[CV] criterion=entropy, max_depth=20, min_samples_leaf=6, min_samples_split=5, splitter=random \n",
      "[CV]  criterion=entropy, max_depth=20, min_samples_leaf=6, min_samples_split=5, splitter=random, total=  15.7s\n",
      "[CV] criterion=entropy, max_depth=20, min_samples_leaf=6, min_samples_split=5, splitter=random \n",
      "[CV]  criterion=entropy, max_depth=20, min_samples_leaf=6, min_samples_split=5, splitter=random, total=  15.4s\n",
      "[CV] criterion=entropy, max_depth=20, min_samples_leaf=6, min_samples_split=5, splitter=random \n",
      "[CV]  criterion=entropy, max_depth=20, min_samples_leaf=6, min_samples_split=5, splitter=random, total=  12.0s\n",
      "[CV] criterion=entropy, max_depth=20, min_samples_leaf=6, min_samples_split=10, splitter=best \n",
      "[CV]  criterion=entropy, max_depth=20, min_samples_leaf=6, min_samples_split=10, splitter=best, total= 1.2min\n",
      "[CV] criterion=entropy, max_depth=20, min_samples_leaf=6, min_samples_split=10, splitter=best \n",
      "[CV]  criterion=entropy, max_depth=20, min_samples_leaf=6, min_samples_split=10, splitter=best, total= 1.0min\n",
      "[CV] criterion=entropy, max_depth=20, min_samples_leaf=6, min_samples_split=10, splitter=best \n",
      "[CV]  criterion=entropy, max_depth=20, min_samples_leaf=6, min_samples_split=10, splitter=best, total= 1.1min\n",
      "[CV] criterion=entropy, max_depth=20, min_samples_leaf=6, min_samples_split=10, splitter=random \n",
      "[CV]  criterion=entropy, max_depth=20, min_samples_leaf=6, min_samples_split=10, splitter=random, total=  14.8s\n",
      "[CV] criterion=entropy, max_depth=20, min_samples_leaf=6, min_samples_split=10, splitter=random \n",
      "[CV]  criterion=entropy, max_depth=20, min_samples_leaf=6, min_samples_split=10, splitter=random, total=  12.8s\n",
      "[CV] criterion=entropy, max_depth=20, min_samples_leaf=6, min_samples_split=10, splitter=random \n",
      "[CV]  criterion=entropy, max_depth=20, min_samples_leaf=6, min_samples_split=10, splitter=random, total=  12.5s\n",
      "[CV] criterion=entropy, max_depth=20, min_samples_leaf=6, min_samples_split=20, splitter=best \n",
      "[CV]  criterion=entropy, max_depth=20, min_samples_leaf=6, min_samples_split=20, splitter=best, total= 1.2min\n",
      "[CV] criterion=entropy, max_depth=20, min_samples_leaf=6, min_samples_split=20, splitter=best \n",
      "[CV]  criterion=entropy, max_depth=20, min_samples_leaf=6, min_samples_split=20, splitter=best, total=  59.1s\n",
      "[CV] criterion=entropy, max_depth=20, min_samples_leaf=6, min_samples_split=20, splitter=best \n",
      "[CV]  criterion=entropy, max_depth=20, min_samples_leaf=6, min_samples_split=20, splitter=best, total=  55.6s\n",
      "[CV] criterion=entropy, max_depth=20, min_samples_leaf=6, min_samples_split=20, splitter=random \n",
      "[CV]  criterion=entropy, max_depth=20, min_samples_leaf=6, min_samples_split=20, splitter=random, total=  14.2s\n",
      "[CV] criterion=entropy, max_depth=20, min_samples_leaf=6, min_samples_split=20, splitter=random \n",
      "[CV]  criterion=entropy, max_depth=20, min_samples_leaf=6, min_samples_split=20, splitter=random, total=  13.4s\n",
      "[CV] criterion=entropy, max_depth=20, min_samples_leaf=6, min_samples_split=20, splitter=random \n",
      "[CV]  criterion=entropy, max_depth=20, min_samples_leaf=6, min_samples_split=20, splitter=random, total=  11.9s\n",
      "[CV] criterion=entropy, max_depth=30, min_samples_leaf=2, min_samples_split=5, splitter=best \n",
      "[CV]  criterion=entropy, max_depth=30, min_samples_leaf=2, min_samples_split=5, splitter=best, total= 1.3min\n",
      "[CV] criterion=entropy, max_depth=30, min_samples_leaf=2, min_samples_split=5, splitter=best \n",
      "[CV]  criterion=entropy, max_depth=30, min_samples_leaf=2, min_samples_split=5, splitter=best, total= 1.1min\n",
      "[CV] criterion=entropy, max_depth=30, min_samples_leaf=2, min_samples_split=5, splitter=best \n",
      "[CV]  criterion=entropy, max_depth=30, min_samples_leaf=2, min_samples_split=5, splitter=best, total= 1.0min\n",
      "[CV] criterion=entropy, max_depth=30, min_samples_leaf=2, min_samples_split=5, splitter=random \n",
      "[CV]  criterion=entropy, max_depth=30, min_samples_leaf=2, min_samples_split=5, splitter=random, total=  17.1s\n",
      "[CV] criterion=entropy, max_depth=30, min_samples_leaf=2, min_samples_split=5, splitter=random \n",
      "[CV]  criterion=entropy, max_depth=30, min_samples_leaf=2, min_samples_split=5, splitter=random, total=  14.3s\n",
      "[CV] criterion=entropy, max_depth=30, min_samples_leaf=2, min_samples_split=5, splitter=random \n",
      "[CV]  criterion=entropy, max_depth=30, min_samples_leaf=2, min_samples_split=5, splitter=random, total=  14.4s\n",
      "[CV] criterion=entropy, max_depth=30, min_samples_leaf=2, min_samples_split=10, splitter=best \n",
      "[CV]  criterion=entropy, max_depth=30, min_samples_leaf=2, min_samples_split=10, splitter=best, total= 1.3min\n",
      "[CV] criterion=entropy, max_depth=30, min_samples_leaf=2, min_samples_split=10, splitter=best \n",
      "[CV]  criterion=entropy, max_depth=30, min_samples_leaf=2, min_samples_split=10, splitter=best, total= 1.0min\n",
      "[CV] criterion=entropy, max_depth=30, min_samples_leaf=2, min_samples_split=10, splitter=best \n",
      "[CV]  criterion=entropy, max_depth=30, min_samples_leaf=2, min_samples_split=10, splitter=best, total= 1.1min\n",
      "[CV] criterion=entropy, max_depth=30, min_samples_leaf=2, min_samples_split=10, splitter=random \n",
      "[CV]  criterion=entropy, max_depth=30, min_samples_leaf=2, min_samples_split=10, splitter=random, total=  15.7s\n",
      "[CV] criterion=entropy, max_depth=30, min_samples_leaf=2, min_samples_split=10, splitter=random \n",
      "[CV]  criterion=entropy, max_depth=30, min_samples_leaf=2, min_samples_split=10, splitter=random, total=  14.8s\n",
      "[CV] criterion=entropy, max_depth=30, min_samples_leaf=2, min_samples_split=10, splitter=random \n",
      "[CV]  criterion=entropy, max_depth=30, min_samples_leaf=2, min_samples_split=10, splitter=random, total=  13.4s\n",
      "[CV] criterion=entropy, max_depth=30, min_samples_leaf=2, min_samples_split=20, splitter=best \n",
      "[CV]  criterion=entropy, max_depth=30, min_samples_leaf=2, min_samples_split=20, splitter=best, total= 1.3min\n",
      "[CV] criterion=entropy, max_depth=30, min_samples_leaf=2, min_samples_split=20, splitter=best \n",
      "[CV]  criterion=entropy, max_depth=30, min_samples_leaf=2, min_samples_split=20, splitter=best, total= 1.0min\n",
      "[CV] criterion=entropy, max_depth=30, min_samples_leaf=2, min_samples_split=20, splitter=best \n",
      "[CV]  criterion=entropy, max_depth=30, min_samples_leaf=2, min_samples_split=20, splitter=best, total= 1.0min\n",
      "[CV] criterion=entropy, max_depth=30, min_samples_leaf=2, min_samples_split=20, splitter=random \n",
      "[CV]  criterion=entropy, max_depth=30, min_samples_leaf=2, min_samples_split=20, splitter=random, total=  15.7s\n",
      "[CV] criterion=entropy, max_depth=30, min_samples_leaf=2, min_samples_split=20, splitter=random \n",
      "[CV]  criterion=entropy, max_depth=30, min_samples_leaf=2, min_samples_split=20, splitter=random, total=  12.4s\n",
      "[CV] criterion=entropy, max_depth=30, min_samples_leaf=2, min_samples_split=20, splitter=random \n",
      "[CV]  criterion=entropy, max_depth=30, min_samples_leaf=2, min_samples_split=20, splitter=random, total=  12.7s\n",
      "[CV] criterion=entropy, max_depth=30, min_samples_leaf=4, min_samples_split=5, splitter=best \n",
      "[CV]  criterion=entropy, max_depth=30, min_samples_leaf=4, min_samples_split=5, splitter=best, total= 1.2min\n",
      "[CV] criterion=entropy, max_depth=30, min_samples_leaf=4, min_samples_split=5, splitter=best \n",
      "[CV]  criterion=entropy, max_depth=30, min_samples_leaf=4, min_samples_split=5, splitter=best, total= 1.0min\n",
      "[CV] criterion=entropy, max_depth=30, min_samples_leaf=4, min_samples_split=5, splitter=best \n",
      "[CV]  criterion=entropy, max_depth=30, min_samples_leaf=4, min_samples_split=5, splitter=best, total=  58.1s\n",
      "[CV] criterion=entropy, max_depth=30, min_samples_leaf=4, min_samples_split=5, splitter=random \n",
      "[CV]  criterion=entropy, max_depth=30, min_samples_leaf=4, min_samples_split=5, splitter=random, total=  15.8s\n",
      "[CV] criterion=entropy, max_depth=30, min_samples_leaf=4, min_samples_split=5, splitter=random \n",
      "[CV]  criterion=entropy, max_depth=30, min_samples_leaf=4, min_samples_split=5, splitter=random, total=  14.4s\n",
      "[CV] criterion=entropy, max_depth=30, min_samples_leaf=4, min_samples_split=5, splitter=random \n",
      "[CV]  criterion=entropy, max_depth=30, min_samples_leaf=4, min_samples_split=5, splitter=random, total=  12.7s\n",
      "[CV] criterion=entropy, max_depth=30, min_samples_leaf=4, min_samples_split=10, splitter=best \n",
      "[CV]  criterion=entropy, max_depth=30, min_samples_leaf=4, min_samples_split=10, splitter=best, total= 1.2min\n",
      "[CV] criterion=entropy, max_depth=30, min_samples_leaf=4, min_samples_split=10, splitter=best \n",
      "[CV]  criterion=entropy, max_depth=30, min_samples_leaf=4, min_samples_split=10, splitter=best, total= 1.1min\n",
      "[CV] criterion=entropy, max_depth=30, min_samples_leaf=4, min_samples_split=10, splitter=best \n",
      "[CV]  criterion=entropy, max_depth=30, min_samples_leaf=4, min_samples_split=10, splitter=best, total= 1.0min\n",
      "[CV] criterion=entropy, max_depth=30, min_samples_leaf=4, min_samples_split=10, splitter=random \n",
      "[CV]  criterion=entropy, max_depth=30, min_samples_leaf=4, min_samples_split=10, splitter=random, total=  13.4s\n",
      "[CV] criterion=entropy, max_depth=30, min_samples_leaf=4, min_samples_split=10, splitter=random \n",
      "[CV]  criterion=entropy, max_depth=30, min_samples_leaf=4, min_samples_split=10, splitter=random, total=  15.4s\n",
      "[CV] criterion=entropy, max_depth=30, min_samples_leaf=4, min_samples_split=10, splitter=random \n",
      "[CV]  criterion=entropy, max_depth=30, min_samples_leaf=4, min_samples_split=10, splitter=random, total=  13.6s\n",
      "[CV] criterion=entropy, max_depth=30, min_samples_leaf=4, min_samples_split=20, splitter=best \n",
      "[CV]  criterion=entropy, max_depth=30, min_samples_leaf=4, min_samples_split=20, splitter=best, total= 1.3min\n",
      "[CV] criterion=entropy, max_depth=30, min_samples_leaf=4, min_samples_split=20, splitter=best \n",
      "[CV]  criterion=entropy, max_depth=30, min_samples_leaf=4, min_samples_split=20, splitter=best, total= 1.0min\n",
      "[CV] criterion=entropy, max_depth=30, min_samples_leaf=4, min_samples_split=20, splitter=best \n",
      "[CV]  criterion=entropy, max_depth=30, min_samples_leaf=4, min_samples_split=20, splitter=best, total= 1.0min\n",
      "[CV] criterion=entropy, max_depth=30, min_samples_leaf=4, min_samples_split=20, splitter=random \n",
      "[CV]  criterion=entropy, max_depth=30, min_samples_leaf=4, min_samples_split=20, splitter=random, total=  13.1s\n",
      "[CV] criterion=entropy, max_depth=30, min_samples_leaf=4, min_samples_split=20, splitter=random \n",
      "[CV]  criterion=entropy, max_depth=30, min_samples_leaf=4, min_samples_split=20, splitter=random, total=  13.7s\n",
      "[CV] criterion=entropy, max_depth=30, min_samples_leaf=4, min_samples_split=20, splitter=random \n",
      "[CV]  criterion=entropy, max_depth=30, min_samples_leaf=4, min_samples_split=20, splitter=random, total=  12.5s\n",
      "[CV] criterion=entropy, max_depth=30, min_samples_leaf=6, min_samples_split=5, splitter=best \n",
      "[CV]  criterion=entropy, max_depth=30, min_samples_leaf=6, min_samples_split=5, splitter=best, total= 1.3min\n",
      "[CV] criterion=entropy, max_depth=30, min_samples_leaf=6, min_samples_split=5, splitter=best \n",
      "[CV]  criterion=entropy, max_depth=30, min_samples_leaf=6, min_samples_split=5, splitter=best, total=  59.4s\n",
      "[CV] criterion=entropy, max_depth=30, min_samples_leaf=6, min_samples_split=5, splitter=best \n",
      "[CV]  criterion=entropy, max_depth=30, min_samples_leaf=6, min_samples_split=5, splitter=best, total=  55.7s\n",
      "[CV] criterion=entropy, max_depth=30, min_samples_leaf=6, min_samples_split=5, splitter=random \n",
      "[CV]  criterion=entropy, max_depth=30, min_samples_leaf=6, min_samples_split=5, splitter=random, total=  16.1s\n",
      "[CV] criterion=entropy, max_depth=30, min_samples_leaf=6, min_samples_split=5, splitter=random \n",
      "[CV]  criterion=entropy, max_depth=30, min_samples_leaf=6, min_samples_split=5, splitter=random, total=  14.7s\n",
      "[CV] criterion=entropy, max_depth=30, min_samples_leaf=6, min_samples_split=5, splitter=random \n",
      "[CV]  criterion=entropy, max_depth=30, min_samples_leaf=6, min_samples_split=5, splitter=random, total=  13.6s\n",
      "[CV] criterion=entropy, max_depth=30, min_samples_leaf=6, min_samples_split=10, splitter=best \n",
      "[CV]  criterion=entropy, max_depth=30, min_samples_leaf=6, min_samples_split=10, splitter=best, total= 1.3min\n",
      "[CV] criterion=entropy, max_depth=30, min_samples_leaf=6, min_samples_split=10, splitter=best \n",
      "[CV]  criterion=entropy, max_depth=30, min_samples_leaf=6, min_samples_split=10, splitter=best, total=  58.4s\n",
      "[CV] criterion=entropy, max_depth=30, min_samples_leaf=6, min_samples_split=10, splitter=best \n",
      "[CV]  criterion=entropy, max_depth=30, min_samples_leaf=6, min_samples_split=10, splitter=best, total=  58.5s\n",
      "[CV] criterion=entropy, max_depth=30, min_samples_leaf=6, min_samples_split=10, splitter=random \n",
      "[CV]  criterion=entropy, max_depth=30, min_samples_leaf=6, min_samples_split=10, splitter=random, total=  15.8s\n",
      "[CV] criterion=entropy, max_depth=30, min_samples_leaf=6, min_samples_split=10, splitter=random \n",
      "[CV]  criterion=entropy, max_depth=30, min_samples_leaf=6, min_samples_split=10, splitter=random, total=  12.0s\n",
      "[CV] criterion=entropy, max_depth=30, min_samples_leaf=6, min_samples_split=10, splitter=random \n",
      "[CV]  criterion=entropy, max_depth=30, min_samples_leaf=6, min_samples_split=10, splitter=random, total=  10.5s\n",
      "[CV] criterion=entropy, max_depth=30, min_samples_leaf=6, min_samples_split=20, splitter=best \n",
      "[CV]  criterion=entropy, max_depth=30, min_samples_leaf=6, min_samples_split=20, splitter=best, total= 1.3min\n",
      "[CV] criterion=entropy, max_depth=30, min_samples_leaf=6, min_samples_split=20, splitter=best \n",
      "[CV]  criterion=entropy, max_depth=30, min_samples_leaf=6, min_samples_split=20, splitter=best, total=  47.0s\n",
      "[CV] criterion=entropy, max_depth=30, min_samples_leaf=6, min_samples_split=20, splitter=best \n",
      "[CV]  criterion=entropy, max_depth=30, min_samples_leaf=6, min_samples_split=20, splitter=best, total=  52.1s\n"
     ]
    },
    {
     "name": "stdout",
     "output_type": "stream",
     "text": [
      "[CV] criterion=entropy, max_depth=30, min_samples_leaf=6, min_samples_split=20, splitter=random \n",
      "[CV]  criterion=entropy, max_depth=30, min_samples_leaf=6, min_samples_split=20, splitter=random, total=  13.3s\n",
      "[CV] criterion=entropy, max_depth=30, min_samples_leaf=6, min_samples_split=20, splitter=random \n",
      "[CV]  criterion=entropy, max_depth=30, min_samples_leaf=6, min_samples_split=20, splitter=random, total=  12.4s\n",
      "[CV] criterion=entropy, max_depth=30, min_samples_leaf=6, min_samples_split=20, splitter=random \n",
      "[CV]  criterion=entropy, max_depth=30, min_samples_leaf=6, min_samples_split=20, splitter=random, total=  11.4s\n"
     ]
    },
    {
     "name": "stderr",
     "output_type": "stream",
     "text": [
      "[Parallel(n_jobs=1)]: Done 324 out of 324 | elapsed: 227.9min finished\n"
     ]
    },
    {
     "name": "stdout",
     "output_type": "stream",
     "text": [
      "0.6425087108013937\n",
      "{'criterion': 'entropy', 'max_depth': 20, 'min_samples_leaf': 4, 'min_samples_split': 10, 'splitter': 'random'}\n"
     ]
    },
    {
     "data": {
      "text/html": [
       "\n",
       "                <audio controls=\"controls\" autoplay=\"autoplay\">\n",
       "                    <source src=\"https://sound.peal.io/ps/audios/000/000/707/original/Good_Job!.wav\" type=\"audio/wav\" />\n",
       "                    Your browser does not support the audio element.\n",
       "                </audio>\n",
       "              "
      ],
      "text/plain": [
       "<IPython.lib.display.Audio object>"
      ]
     },
     "metadata": {},
     "output_type": "display_data"
    }
   ],
   "source": [
    "dtree1 = tree.DecisionTreeClassifier()\n",
    "# criterion=’gini’, splitter=’best’, max_depth=None, min_samples_split=2, min_samples_leaf=1,\n",
    "dtparams = {'criterion':['gini', 'entropy'], 'splitter':['best','random'], 'max_depth':[30,40,50], 'min_samples_split':[10,20,30,40], 'min_samples_leaf':[4,6,8]}\n",
    "grid_dt = GridSearchCV(dtree1, dtparams, verbose=2)\n",
    "grid_dt.fit(x_train, y_train)\n",
    "grid_dt.predict(x_test)\n",
    "print(grid_dt.best_score_)\n",
    "print(grid_dt.best_params_)\n",
    "allDone()"
   ]
  },
  {
   "cell_type": "code",
   "execution_count": null,
   "metadata": {},
   "outputs": [
    {
     "data": {
      "text/html": [
       "\n",
       "                <audio controls=\"controls\" autoplay=\"autoplay\">\n",
       "                    <source src=\"https://sound.peal.io/ps/audios/000/000/707/original/Good_Job!.wav\" type=\"audio/wav\" />\n",
       "                    Your browser does not support the audio element.\n",
       "                </audio>\n",
       "              "
      ],
      "text/plain": [
       "<IPython.lib.display.Audio object>"
      ]
     },
     "metadata": {},
     "output_type": "display_data"
    },
    {
     "name": "stdout",
     "output_type": "stream",
     "text": [
      "Fitting 3 folds for each of 39600 candidates, totalling 118800 fits\n"
     ]
    }
   ],
   "source": [
    "# from sklearn.model_selection import RandomizedSearchCV\n",
    "rforest1 = RandomForestClassifier()\n",
    "n_estimators = [int(x) for x in np.linspace(start = 200, stop = 800, num = 100)]\n",
    "# Number of features to consider at every split\n",
    "max_features = ['auto', 'sqrt']\n",
    "# Maximum number of levels in tree\n",
    "max_depth = [int(x) for x in np.linspace(10, 110, num = 10)]\n",
    "max_depth.append(None)\n",
    "# Minimum number of samples required to split a node\n",
    "min_samples_split = [2, 5, 10]\n",
    "# Minimum number of samples required at each leaf node\n",
    "min_samples_leaf = [1, 2, 4]\n",
    "# Method of selecting samples for training each tree\n",
    "bootstrap = [True, False]\n",
    "\n",
    "# Create the random grid\n",
    "rfparams = {'criterion':['gini', 'entropy'],\n",
    "            'n_estimators': n_estimators,\n",
    "               'max_features': max_features,\n",
    "               'max_depth': max_depth,\n",
    "               'min_samples_split': min_samples_split,\n",
    "               'min_samples_leaf': min_samples_leaf,\n",
    "               'bootstrap': bootstrap}\n",
    "\n",
    "grid_rf = GridSearchCV(estimator = rforest1, param_grid= rfparams,  cv = 3, verbose=2,  n_jobs = -1)\n",
    "allDone()\n",
    "\n",
    "grid_rf.fit(x_train, y_train)\n",
    "allDone()\n",
    "print(grid_rf.grid_scores_)\n",
    "print(grid_rf.best_score_)\n",
    "print(grid_rf.best_params_)\n",
    "\n",
    "allDone()\n",
    "\n",
    "grid_rf.predict(x_test)\n",
    "gridacc=grid_rf.score(x_test,y_test)\n",
    "\n",
    "\n",
    "allDone()"
   ]
  },
  {
   "cell_type": "code",
   "execution_count": 32,
   "metadata": {},
   "outputs": [
    {
     "data": {
      "text/plain": [
       "<bound method BaseSearchCV.score of GridSearchCV(cv=3, error_score='raise',\n",
       "       estimator=RandomForestClassifier(bootstrap=True, class_weight=None, criterion='gini',\n",
       "            max_depth=None, max_features='auto', max_leaf_nodes=None,\n",
       "            min_impurity_decrease=0.0, min_impurity_split=None,\n",
       "            min_samples_leaf=1, min_samples_split=2,\n",
       "            min_weight_fraction_leaf=0.0, n_estimators=10, n_jobs=1,\n",
       "            oob_score=False, random_state=None, verbose=0,\n",
       "            warm_start=False),\n",
       "       fit_params=None, iid=True, n_jobs=-1,\n",
       "       param_grid={'n_estimators': [200, 400, 600, 800, 1000, 1200, 1400, 1600, 1800, 2000], 'max_features': ['auto', 'sqrt'], 'max_depth': [10, 20, 30, 40, 50, 60, 70, 80, 90, 100, 110, None], 'min_samples_split': [2, 5, 10], 'min_samples_leaf': [1, 2, 4], 'bootstrap': [True, False]},\n",
       "       pre_dispatch='2*n_jobs', refit=True, return_train_score='warn',\n",
       "       scoring=None, verbose=2)>"
      ]
     },
     "execution_count": 32,
     "metadata": {},
     "output_type": "execute_result"
    }
   ],
   "source": [
    "grid_rf.score()"
   ]
  },
  {
   "cell_type": "markdown",
   "metadata": {},
   "source": [
    "## Without Grid-Seach ,With Bio-Inspired"
   ]
  },
  {
   "cell_type": "code",
   "execution_count": 24,
   "metadata": {
    "colab": {},
    "colab_type": "code",
    "id": "UWaVv43_fj6r",
    "outputId": "4f74a579-a407-46f5-da84-45edd05a6d62"
   },
   "outputs": [
    {
     "name": "stderr",
     "output_type": "stream",
     "text": [
      "\n",
      "  0%|                                                                                           | 0/20 [00:00<?, ?it/s]"
     ]
    },
    {
     "name": "stdout",
     "output_type": "stream",
     "text": [
      "0\n",
      "[0.784]\n",
      "[0.90133333]\n",
      "[0.864]\n",
      "[0.93866667]\n"
     ]
    },
    {
     "name": "stderr",
     "output_type": "stream",
     "text": [
      "\n",
      "  5%|████                                                                            | 1/20 [06:00<1:54:07, 360.38s/it]"
     ]
    },
    {
     "name": "stdout",
     "output_type": "stream",
     "text": [
      "1\n",
      "[0.76266667]\n",
      "[0.904]\n",
      "[0.864]\n",
      "[0.93866667]\n"
     ]
    },
    {
     "name": "stderr",
     "output_type": "stream",
     "text": [
      "\n",
      " 10%|████████▏                                                                         | 2/20 [06:14<56:09, 187.20s/it]"
     ]
    },
    {
     "name": "stdout",
     "output_type": "stream",
     "text": [
      "2\n",
      "[0.76266667]\n",
      "[0.89866667]\n",
      "[0.84266667]\n",
      "[0.93866667]\n"
     ]
    },
    {
     "name": "stderr",
     "output_type": "stream",
     "text": [
      "\n",
      " 15%|████████████▎                                                                     | 3/20 [06:29<36:49, 129.97s/it]"
     ]
    },
    {
     "name": "stdout",
     "output_type": "stream",
     "text": [
      "3\n",
      "[0.76266667]\n",
      "[0.89866667]\n",
      "[0.86933333]\n",
      "[0.93866667]\n"
     ]
    },
    {
     "name": "stderr",
     "output_type": "stream",
     "text": [
      "\n",
      " 20%|████████████████▍                                                                 | 4/20 [06:45<27:00, 101.28s/it]"
     ]
    },
    {
     "name": "stdout",
     "output_type": "stream",
     "text": [
      "4\n",
      "[0.76266667]\n",
      "[0.90666667]\n",
      "[0.85333333]\n",
      "[0.93866667]\n"
     ]
    },
    {
     "name": "stderr",
     "output_type": "stream",
     "text": [
      "\n",
      " 25%|████████████████████▊                                                              | 5/20 [06:59<20:58, 83.93s/it]"
     ]
    },
    {
     "name": "stdout",
     "output_type": "stream",
     "text": [
      "5\n",
      "[0.76266667]\n",
      "[0.896]\n",
      "[0.85333333]\n",
      "[0.93866667]\n"
     ]
    },
    {
     "name": "stderr",
     "output_type": "stream",
     "text": [
      "\n",
      " 30%|████████████████████████▉                                                          | 6/20 [07:14<16:53, 72.39s/it]"
     ]
    },
    {
     "name": "stdout",
     "output_type": "stream",
     "text": [
      "6\n",
      "[0.76266667]\n",
      "[0.896]\n",
      "[0.84266667]\n",
      "[0.93866667]\n"
     ]
    },
    {
     "name": "stderr",
     "output_type": "stream",
     "text": [
      "\n",
      " 35%|█████████████████████████████                                                      | 7/20 [07:29<13:54, 64.16s/it]"
     ]
    },
    {
     "name": "stdout",
     "output_type": "stream",
     "text": [
      "7\n",
      "[0.76266667]\n",
      "[0.888]\n",
      "[0.848]\n",
      "[0.93866667]\n"
     ]
    },
    {
     "name": "stderr",
     "output_type": "stream",
     "text": [
      "\n",
      " 40%|█████████████████████████████████▏                                                 | 8/20 [07:43<11:34, 57.90s/it]"
     ]
    },
    {
     "name": "stdout",
     "output_type": "stream",
     "text": [
      "8\n",
      "[0.76266667]\n",
      "[0.91466667]\n",
      "[0.85066667]\n",
      "[0.93866667]\n"
     ]
    },
    {
     "name": "stderr",
     "output_type": "stream",
     "text": [
      "\n",
      " 45%|█████████████████████████████████████▎                                             | 9/20 [07:57<09:43, 53.09s/it]"
     ]
    },
    {
     "name": "stdout",
     "output_type": "stream",
     "text": [
      "9\n",
      "[0.76266667]\n",
      "[0.89866667]\n",
      "[0.86133333]\n",
      "[0.93866667]\n"
     ]
    },
    {
     "name": "stderr",
     "output_type": "stream",
     "text": [
      "\n",
      " 50%|█████████████████████████████████████████                                         | 10/20 [08:10<08:10, 49.09s/it]"
     ]
    },
    {
     "name": "stdout",
     "output_type": "stream",
     "text": [
      "10\n",
      "[0.76266667]\n",
      "[0.90933333]\n",
      "[0.82666667]\n",
      "[0.93866667]\n"
     ]
    },
    {
     "name": "stderr",
     "output_type": "stream",
     "text": [
      "\n",
      " 55%|█████████████████████████████████████████████                                     | 11/20 [08:21<06:50, 45.62s/it]"
     ]
    },
    {
     "name": "stdout",
     "output_type": "stream",
     "text": [
      "11\n",
      "[0.76266667]\n",
      "[0.90933333]\n",
      "[0.81866667]\n",
      "[0.93866667]\n"
     ]
    },
    {
     "name": "stderr",
     "output_type": "stream",
     "text": [
      "\n",
      " 60%|█████████████████████████████████████████████████▏                                | 12/20 [08:32<05:41, 42.71s/it]"
     ]
    },
    {
     "name": "stdout",
     "output_type": "stream",
     "text": [
      "12\n",
      "[0.76266667]\n",
      "[0.87733333]\n",
      "[0.85066667]\n",
      "[0.93866667]\n"
     ]
    },
    {
     "name": "stderr",
     "output_type": "stream",
     "text": [
      "\n",
      " 65%|█████████████████████████████████████████████████████▎                            | 13/20 [08:42<04:41, 40.21s/it]"
     ]
    },
    {
     "name": "stdout",
     "output_type": "stream",
     "text": [
      "13\n",
      "[0.76266667]\n",
      "[0.90666667]\n",
      "[0.84533333]\n",
      "[0.93866667]\n"
     ]
    },
    {
     "name": "stderr",
     "output_type": "stream",
     "text": [
      "\n",
      " 70%|█████████████████████████████████████████████████████████▍                        | 14/20 [08:53<03:48, 38.09s/it]"
     ]
    },
    {
     "name": "stdout",
     "output_type": "stream",
     "text": [
      "14\n",
      "[0.76266667]\n",
      "[0.89866667]\n",
      "[0.856]\n",
      "[0.93866667]\n"
     ]
    },
    {
     "name": "stderr",
     "output_type": "stream",
     "text": [
      "\n",
      " 75%|█████████████████████████████████████████████████████████████▌                    | 15/20 [09:03<03:01, 36.25s/it]"
     ]
    },
    {
     "name": "stdout",
     "output_type": "stream",
     "text": [
      "15\n",
      "[0.76266667]\n",
      "[0.89866667]\n",
      "[0.84533333]\n",
      "[0.93866667]\n"
     ]
    },
    {
     "name": "stderr",
     "output_type": "stream",
     "text": [
      "\n",
      " 80%|█████████████████████████████████████████████████████████████████▌                | 16/20 [09:14<02:18, 34.64s/it]"
     ]
    },
    {
     "name": "stdout",
     "output_type": "stream",
     "text": [
      "16\n",
      "[0.76266667]\n",
      "[0.91466667]\n",
      "[0.848]\n",
      "[0.93866667]\n"
     ]
    },
    {
     "name": "stderr",
     "output_type": "stream",
     "text": [
      "\n",
      " 85%|█████████████████████████████████████████████████████████████████████▋            | 17/20 [09:24<01:39, 33.23s/it]"
     ]
    },
    {
     "name": "stdout",
     "output_type": "stream",
     "text": [
      "17\n",
      "[0.76266667]\n",
      "[0.904]\n",
      "[0.85333333]\n",
      "[0.93866667]\n"
     ]
    },
    {
     "name": "stderr",
     "output_type": "stream",
     "text": [
      "\n",
      " 90%|█████████████████████████████████████████████████████████████████████████▊        | 18/20 [09:35<01:03, 31.99s/it]"
     ]
    },
    {
     "name": "stdout",
     "output_type": "stream",
     "text": [
      "18\n",
      "[0.76266667]\n",
      "[0.904]\n",
      "[0.85333333]\n",
      "[0.93866667]\n"
     ]
    },
    {
     "name": "stderr",
     "output_type": "stream",
     "text": [
      "\n",
      " 95%|█████████████████████████████████████████████████████████████████████████████▉    | 19/20 [09:46<00:30, 30.86s/it]"
     ]
    },
    {
     "name": "stdout",
     "output_type": "stream",
     "text": [
      "19\n",
      "[0.76266667]\n",
      "[0.89333333]\n",
      "[0.84266667]\n",
      "[0.93866667]\n"
     ]
    },
    {
     "name": "stderr",
     "output_type": "stream",
     "text": [
      "\n",
      "100%|██████████████████████████████████████████████████████████████████████████████████| 20/20 [09:56<00:00, 29.83s/it]\n"
     ]
    },
    {
     "ename": "NameError",
     "evalue": "name 'clf1' is not defined",
     "output_type": "error",
     "traceback": [
      "\u001b[1;31m---------------------------------------------------------------------------\u001b[0m",
      "\u001b[1;31mNameError\u001b[0m                                 Traceback (most recent call last)",
      "\u001b[1;32m<ipython-input-24-88bb84b40115>\u001b[0m in \u001b[0;36m<module>\u001b[1;34m()\u001b[0m\n\u001b[0;32m     38\u001b[0m     \u001b[0mprint\u001b[0m\u001b[1;33m(\u001b[0m\u001b[0mclfacc1\u001b[0m\u001b[1;33m[\u001b[0m\u001b[0mi\u001b[0m\u001b[1;33m]\u001b[0m\u001b[1;33m)\u001b[0m\u001b[1;33m\u001b[0m\u001b[0m\n\u001b[0;32m     39\u001b[0m \u001b[1;33m\u001b[0m\u001b[0m\n\u001b[1;32m---> 40\u001b[1;33m \u001b[0mprint\u001b[0m \u001b[1;33m(\u001b[0m\u001b[0mnacc1\u001b[0m\u001b[1;33m.\u001b[0m\u001b[0mmax\u001b[0m\u001b[1;33m(\u001b[0m\u001b[1;33m)\u001b[0m\u001b[1;33m,\u001b[0m \u001b[0mrfacc1\u001b[0m\u001b[1;33m.\u001b[0m\u001b[0mmax\u001b[0m\u001b[1;33m(\u001b[0m\u001b[1;33m)\u001b[0m\u001b[1;33m,\u001b[0m \u001b[0mdtacc1\u001b[0m\u001b[1;33m.\u001b[0m\u001b[0mmax\u001b[0m\u001b[1;33m(\u001b[0m\u001b[1;33m)\u001b[0m\u001b[1;33m,\u001b[0m\u001b[0mclf1\u001b[0m\u001b[1;33m.\u001b[0m\u001b[0mmax\u001b[0m\u001b[1;33m(\u001b[0m\u001b[1;33m)\u001b[0m\u001b[1;33m)\u001b[0m \u001b[1;31m# the crow with maximum accuracy is printed\u001b[0m\u001b[1;33m\u001b[0m\u001b[0m\n\u001b[0m",
      "\u001b[1;31mNameError\u001b[0m: name 'clf1' is not defined"
     ]
    }
   ],
   "source": [
    "# here the accuracy of each crows are calculated.\n",
    "neigh = KNeighborsClassifier()\n",
    "rforest =RandomForestClassifier()\n",
    "dtree = tree.DecisionTreeClassifier()\n",
    "clf = svm.SVC()\n",
    "\n",
    "nacc1=np.zeros((m,1),dtype='float64')\n",
    "rfacc1=np.zeros((m,1),dtype='float64')\n",
    "dtacc1=np.zeros((m,1),dtype='float64')\n",
    "clfacc1=np.zeros((m,1),dtype='float64')\n",
    "\n",
    "q=0\n",
    "for i in tqdm(range(m)):\n",
    "    print(i)\n",
    "    select=[]\n",
    "    for p in list(features):\n",
    "        if mem.loc[i,p]==1:\n",
    "            select.insert(q,p)\n",
    "            q=q+1\n",
    "    neigh.fit(x_train[select], y_train)\n",
    "    neigh.predict(x_test[select])\n",
    "    nacc1[i]=neigh.score(x_test[select],y_test) \n",
    "    print(nacc1[i])\n",
    "    \n",
    "    rforest.fit(x_train[select], y_train)\n",
    "    rforest.predict(x_test[select])\n",
    "    rfacc1[i]=rforest.score(x_test[select],y_test) \n",
    "    print(rfacc1[i])\n",
    "    \n",
    "    dtree.fit(x_train[select], y_train)\n",
    "    dtree.predict(x_test[select])\n",
    "    dtacc1[i]=dtree.score(x_test[select],y_test)\n",
    "    print(dtacc1[i])\n",
    "    \n",
    "    clf.fit(x_train[select], y_train)\n",
    "    clf.predict(x_test[select])\n",
    "    clfacc1[i]=clf.score(x_test[select],y_test)\n",
    "    print(clfacc1[i])\n",
    "\n",
    "print (nacc1.max(), rfacc1.max(), dtacc1.max(),clfacc1.max()) # the crow with maximum accuracy is printed"
   ]
  },
  {
   "cell_type": "code",
   "execution_count": 25,
   "metadata": {},
   "outputs": [
    {
     "name": "stdout",
     "output_type": "stream",
     "text": [
      "0.784 0.9146666666666666 0.8693333333333333 0.9386666666666666\n"
     ]
    }
   ],
   "source": [
    "print (nacc1.max(), rfacc1.max(), dtacc1.max(),clfacc1.max()) # the crow with maximum accuracy is printed"
   ]
  },
  {
   "cell_type": "markdown",
   "metadata": {},
   "source": [
    "**NUMBER OF FEATURES SELECTED**"
   ]
  },
  {
   "cell_type": "code",
   "execution_count": 28,
   "metadata": {
    "colab": {},
    "colab_type": "code",
    "id": "pAMS1eJkfj6_",
    "outputId": "f05d8b75-894c-480c-9657-c461161a125b"
   },
   "outputs": [
    {
     "name": "stdout",
     "output_type": "stream",
     "text": [
      "14368\n",
      "469\n",
      "469\n",
      "14368\n"
     ]
    }
   ],
   "source": [
    "print ((mem.loc[nacc1.argmax(),:]==1.0).sum())\n",
    "\n",
    "print ((mem.loc[rfacc1.argmax(),:]==1.0).sum())\n",
    "print ((mem.loc[dtacc1.argmax(),:]==1.0).sum())\n",
    "print ((mem.loc[clfacc1.argmax(),:]==1.0).sum())"
   ]
  },
  {
   "cell_type": "markdown",
   "metadata": {},
   "source": [
    "**No. of Iterations  VS Fitness Value**"
   ]
  },
  {
   "cell_type": "code",
   "execution_count": 30,
   "metadata": {
    "colab": {},
    "colab_type": "code",
    "id": "wp1Gtqy1fj7p",
    "outputId": "d23b913e-5000-4872-dbf8-807683a8e2d4"
   },
   "outputs": [
    {
     "ename": "NameError",
     "evalue": "name 'plotit' is not defined",
     "output_type": "error",
     "traceback": [
      "\u001b[1;31m---------------------------------------------------------------------------\u001b[0m",
      "\u001b[1;31mNameError\u001b[0m                                 Traceback (most recent call last)",
      "\u001b[1;32m<ipython-input-30-7dd202089067>\u001b[0m in \u001b[0;36m<module>\u001b[1;34m()\u001b[0m\n\u001b[1;32m----> 1\u001b[1;33m \u001b[0mplt\u001b[0m\u001b[1;33m.\u001b[0m\u001b[0mplot\u001b[0m\u001b[1;33m(\u001b[0m\u001b[0mplotit\u001b[0m\u001b[1;33m)\u001b[0m\u001b[1;33m\u001b[0m\u001b[0m\n\u001b[0m\u001b[0;32m      2\u001b[0m \u001b[0mplt\u001b[0m\u001b[1;33m.\u001b[0m\u001b[0mxlabel\u001b[0m\u001b[1;33m(\u001b[0m\u001b[1;34m'No of iterations'\u001b[0m\u001b[1;33m)\u001b[0m\u001b[1;33m\u001b[0m\u001b[0m\n\u001b[0;32m      3\u001b[0m \u001b[0mplt\u001b[0m\u001b[1;33m.\u001b[0m\u001b[0mylabel\u001b[0m\u001b[1;33m(\u001b[0m\u001b[1;34m'Fitness value'\u001b[0m\u001b[1;33m)\u001b[0m\u001b[1;33m\u001b[0m\u001b[0m\n\u001b[0;32m      4\u001b[0m \u001b[0mplt\u001b[0m\u001b[1;33m.\u001b[0m\u001b[0mshow\u001b[0m\u001b[1;33m(\u001b[0m\u001b[1;33m)\u001b[0m\u001b[1;33m\u001b[0m\u001b[0m\n",
      "\u001b[1;31mNameError\u001b[0m: name 'plotit' is not defined"
     ]
    }
   ],
   "source": [
    "plotse=pd.Series(plotit)\n",
    "plt.plot(plotse)\n",
    "plt.xlabel('No of iterations')\n",
    "plt.ylabel('Fitness value')\n",
    "plt.show()"
   ]
  },
  {
   "cell_type": "code",
   "execution_count": 75,
   "metadata": {},
   "outputs": [],
   "source": [
    "mem.to_csv('memory.csv')"
   ]
  },
  {
   "cell_type": "code",
   "execution_count": null,
   "metadata": {},
   "outputs": [],
   "source": []
  }
 ],
 "metadata": {
  "colab": {
   "collapsed_sections": [],
   "name": "myccsa.ipynb",
   "provenance": [],
   "version": "0.3.2"
  },
  "kernelspec": {
   "display_name": "Python 3",
   "language": "python",
   "name": "python3"
  },
  "language_info": {
   "codemirror_mode": {
    "name": "ipython",
    "version": 3
   },
   "file_extension": ".py",
   "mimetype": "text/x-python",
   "name": "python",
   "nbconvert_exporter": "python",
   "pygments_lexer": "ipython3",
   "version": "3.6.4"
  }
 },
 "nbformat": 4,
 "nbformat_minor": 1
}
