{
 "cells": [
  {
   "cell_type": "code",
   "execution_count": 1,
   "metadata": {
    "colab": {},
    "colab_type": "code",
    "id": "8bW5uwdFfj5K"
   },
   "outputs": [
    {
     "name": "stderr",
     "output_type": "stream",
     "text": [
      "C:\\Users\\SONAL BANSAL\\Anaconda3\\lib\\site-packages\\sklearn\\ensemble\\weight_boosting.py:29: DeprecationWarning: numpy.core.umath_tests is an internal NumPy module and should not be imported. It will be removed in a future NumPy release.\n",
      "  from numpy.core.umath_tests import inner1d\n"
     ]
    }
   ],
   "source": [
    "import random,math,copy,time\n",
    "from sklearn.neighbors import KNeighborsClassifier\n",
    "from sklearn.ensemble import (RandomForestClassifier,GradientBoostingClassifier)\n",
    "from sklearn import tree\n",
    "import numpy as np\n",
    "import pandas as pd\n",
    "from sklearn.model_selection import train_test_split,cross_val_score\n",
    "import matplotlib.pyplot as plt\n",
    "from sklearn import preprocessing, svm\n",
    "from tqdm import tqdm\n",
    "import time\n",
    "from sklearn.model_selection import GridSearchCV\n"
   ]
  },
  {
   "cell_type": "code",
   "execution_count": 8,
   "metadata": {},
   "outputs": [],
   "source": [
    "## Import up sound alert dependencies\n",
    "from IPython.display import Audio, display\n",
    "\n",
    "def allDone():\n",
    "    display(Audio(url='https://sound.peal.io/ps/audios/000/000/707/original/Good_Job!.wav', autoplay=True))\n",
    "## Insert whatever audio file you want above"
   ]
  },
  {
   "cell_type": "code",
   "execution_count": 2,
   "metadata": {
    "colab": {},
    "colab_type": "code",
    "id": "S6-dFa8Jfj5Q"
   },
   "outputs": [],
   "source": [
    "m=20  # Problem dimension (number of decision variables\n",
    "Ap=0.1  # Awareness probability\n",
    "fl=2   # Flight length (fl)\n",
    "wf=1.2# wf is used to control the importance of classification accuracy and number of selected features.\n",
    "d=67600# Flock (population) size\n",
    "lt=67600"
   ]
  },
  {
   "cell_type": "code",
   "execution_count": 3,
   "metadata": {
    "colab": {},
    "colab_type": "code",
    "id": "VSQ4rCRjfj5V"
   },
   "outputs": [
    {
     "data": {
      "text/html": [
       "<div>\n",
       "<style scoped>\n",
       "    .dataframe tbody tr th:only-of-type {\n",
       "        vertical-align: middle;\n",
       "    }\n",
       "\n",
       "    .dataframe tbody tr th {\n",
       "        vertical-align: top;\n",
       "    }\n",
       "\n",
       "    .dataframe thead th {\n",
       "        text-align: right;\n",
       "    }\n",
       "</style>\n",
       "<table border=\"1\" class=\"dataframe\">\n",
       "  <thead>\n",
       "    <tr style=\"text-align: right;\">\n",
       "      <th></th>\n",
       "      <th>label</th>\n",
       "      <th>0</th>\n",
       "      <th>1</th>\n",
       "      <th>2</th>\n",
       "      <th>3</th>\n",
       "      <th>4</th>\n",
       "      <th>5</th>\n",
       "      <th>6</th>\n",
       "      <th>7</th>\n",
       "      <th>8</th>\n",
       "      <th>...</th>\n",
       "      <th>67590</th>\n",
       "      <th>67591</th>\n",
       "      <th>67592</th>\n",
       "      <th>67593</th>\n",
       "      <th>67594</th>\n",
       "      <th>67595</th>\n",
       "      <th>67596</th>\n",
       "      <th>67597</th>\n",
       "      <th>67598</th>\n",
       "      <th>67599</th>\n",
       "    </tr>\n",
       "  </thead>\n",
       "  <tbody>\n",
       "    <tr>\n",
       "      <th>0</th>\n",
       "      <td>2</td>\n",
       "      <td>255</td>\n",
       "      <td>255</td>\n",
       "      <td>255</td>\n",
       "      <td>255</td>\n",
       "      <td>255</td>\n",
       "      <td>255</td>\n",
       "      <td>254</td>\n",
       "      <td>253</td>\n",
       "      <td>254</td>\n",
       "      <td>...</td>\n",
       "      <td>255</td>\n",
       "      <td>255</td>\n",
       "      <td>255</td>\n",
       "      <td>255</td>\n",
       "      <td>255</td>\n",
       "      <td>255</td>\n",
       "      <td>255</td>\n",
       "      <td>255</td>\n",
       "      <td>255</td>\n",
       "      <td>255</td>\n",
       "    </tr>\n",
       "    <tr>\n",
       "      <th>1</th>\n",
       "      <td>2</td>\n",
       "      <td>255</td>\n",
       "      <td>255</td>\n",
       "      <td>255</td>\n",
       "      <td>255</td>\n",
       "      <td>255</td>\n",
       "      <td>255</td>\n",
       "      <td>254</td>\n",
       "      <td>253</td>\n",
       "      <td>254</td>\n",
       "      <td>...</td>\n",
       "      <td>255</td>\n",
       "      <td>255</td>\n",
       "      <td>255</td>\n",
       "      <td>255</td>\n",
       "      <td>255</td>\n",
       "      <td>255</td>\n",
       "      <td>255</td>\n",
       "      <td>255</td>\n",
       "      <td>255</td>\n",
       "      <td>255</td>\n",
       "    </tr>\n",
       "    <tr>\n",
       "      <th>2</th>\n",
       "      <td>2</td>\n",
       "      <td>255</td>\n",
       "      <td>255</td>\n",
       "      <td>255</td>\n",
       "      <td>255</td>\n",
       "      <td>255</td>\n",
       "      <td>255</td>\n",
       "      <td>254</td>\n",
       "      <td>253</td>\n",
       "      <td>254</td>\n",
       "      <td>...</td>\n",
       "      <td>255</td>\n",
       "      <td>255</td>\n",
       "      <td>255</td>\n",
       "      <td>255</td>\n",
       "      <td>255</td>\n",
       "      <td>255</td>\n",
       "      <td>255</td>\n",
       "      <td>255</td>\n",
       "      <td>255</td>\n",
       "      <td>255</td>\n",
       "    </tr>\n",
       "    <tr>\n",
       "      <th>3</th>\n",
       "      <td>2</td>\n",
       "      <td>255</td>\n",
       "      <td>255</td>\n",
       "      <td>255</td>\n",
       "      <td>255</td>\n",
       "      <td>255</td>\n",
       "      <td>255</td>\n",
       "      <td>254</td>\n",
       "      <td>253</td>\n",
       "      <td>254</td>\n",
       "      <td>...</td>\n",
       "      <td>255</td>\n",
       "      <td>255</td>\n",
       "      <td>255</td>\n",
       "      <td>255</td>\n",
       "      <td>255</td>\n",
       "      <td>255</td>\n",
       "      <td>255</td>\n",
       "      <td>255</td>\n",
       "      <td>255</td>\n",
       "      <td>255</td>\n",
       "    </tr>\n",
       "    <tr>\n",
       "      <th>4</th>\n",
       "      <td>2</td>\n",
       "      <td>255</td>\n",
       "      <td>255</td>\n",
       "      <td>255</td>\n",
       "      <td>255</td>\n",
       "      <td>255</td>\n",
       "      <td>255</td>\n",
       "      <td>255</td>\n",
       "      <td>255</td>\n",
       "      <td>255</td>\n",
       "      <td>...</td>\n",
       "      <td>255</td>\n",
       "      <td>255</td>\n",
       "      <td>255</td>\n",
       "      <td>255</td>\n",
       "      <td>255</td>\n",
       "      <td>255</td>\n",
       "      <td>255</td>\n",
       "      <td>255</td>\n",
       "      <td>255</td>\n",
       "      <td>255</td>\n",
       "    </tr>\n",
       "  </tbody>\n",
       "</table>\n",
       "<p>5 rows × 67601 columns</p>\n",
       "</div>"
      ],
      "text/plain": [
       "   label    0    1    2    3    4    5    6    7    8  ...    67590  67591  \\\n",
       "0      2  255  255  255  255  255  255  254  253  254  ...      255    255   \n",
       "1      2  255  255  255  255  255  255  254  253  254  ...      255    255   \n",
       "2      2  255  255  255  255  255  255  254  253  254  ...      255    255   \n",
       "3      2  255  255  255  255  255  255  254  253  254  ...      255    255   \n",
       "4      2  255  255  255  255  255  255  255  255  255  ...      255    255   \n",
       "\n",
       "   67592  67593  67594  67595  67596  67597  67598  67599  \n",
       "0    255    255    255    255    255    255    255    255  \n",
       "1    255    255    255    255    255    255    255    255  \n",
       "2    255    255    255    255    255    255    255    255  \n",
       "3    255    255    255    255    255    255    255    255  \n",
       "4    255    255    255    255    255    255    255    255  \n",
       "\n",
       "[5 rows x 67601 columns]"
      ]
     },
     "execution_count": 3,
     "metadata": {},
     "output_type": "execute_result"
    }
   ],
   "source": [
    "df=pd.read_csv(\"MCI-CN.csv\")\n",
    "df = df.dropna(how='all')\n",
    "df.head()"
   ]
  },
  {
   "cell_type": "code",
   "execution_count": null,
   "metadata": {
    "colab": {},
    "colab_type": "code",
    "id": "yBZV56q2m6-s"
   },
   "outputs": [],
   "source": [
    "df=df.drop(columns=['Unnamed: 0'])\n"
   ]
  },
  {
   "cell_type": "code",
   "execution_count": 11,
   "metadata": {
    "colab": {
     "base_uri": "https://localhost:8080/",
     "height": 235
    },
    "colab_type": "code",
    "id": "i5qnzPEforlt",
    "outputId": "e49cbf0d-6390-45dd-f8ee-52397198c00f"
   },
   "outputs": [
    {
     "name": "stdout",
     "output_type": "stream",
     "text": [
      "<class 'pandas.core.frame.DataFrame'>\n",
      "Int64Index: 1722 entries, 0 to 1721\n",
      "Columns: 67601 entries, label to 67599\n",
      "dtypes: int64(67601)\n",
      "memory usage: 888.1 MB\n"
     ]
    }
   ],
   "source": [
    "df.info()\n"
   ]
  },
  {
   "cell_type": "code",
   "execution_count": 4,
   "metadata": {
    "colab": {
     "base_uri": "https://localhost:8080/",
     "height": 235
    },
    "colab_type": "code",
    "id": "wmWJFkWDgu_7",
    "outputId": "c147cdca-b994-4f9b-8b49-22c8ca7d71e1"
   },
   "outputs": [
    {
     "data": {
      "text/html": [
       "<div>\n",
       "<style scoped>\n",
       "    .dataframe tbody tr th:only-of-type {\n",
       "        vertical-align: middle;\n",
       "    }\n",
       "\n",
       "    .dataframe tbody tr th {\n",
       "        vertical-align: top;\n",
       "    }\n",
       "\n",
       "    .dataframe thead th {\n",
       "        text-align: right;\n",
       "    }\n",
       "</style>\n",
       "<table border=\"1\" class=\"dataframe\">\n",
       "  <thead>\n",
       "    <tr style=\"text-align: right;\">\n",
       "      <th></th>\n",
       "      <th>label</th>\n",
       "      <th>0</th>\n",
       "      <th>1</th>\n",
       "      <th>2</th>\n",
       "      <th>3</th>\n",
       "      <th>4</th>\n",
       "      <th>5</th>\n",
       "      <th>6</th>\n",
       "      <th>7</th>\n",
       "      <th>8</th>\n",
       "      <th>...</th>\n",
       "      <th>67590</th>\n",
       "      <th>67591</th>\n",
       "      <th>67592</th>\n",
       "      <th>67593</th>\n",
       "      <th>67594</th>\n",
       "      <th>67595</th>\n",
       "      <th>67596</th>\n",
       "      <th>67597</th>\n",
       "      <th>67598</th>\n",
       "      <th>67599</th>\n",
       "    </tr>\n",
       "  </thead>\n",
       "  <tbody>\n",
       "    <tr>\n",
       "      <th>0</th>\n",
       "      <td>2</td>\n",
       "      <td>255</td>\n",
       "      <td>255</td>\n",
       "      <td>255</td>\n",
       "      <td>255</td>\n",
       "      <td>255</td>\n",
       "      <td>255</td>\n",
       "      <td>254</td>\n",
       "      <td>253</td>\n",
       "      <td>254</td>\n",
       "      <td>...</td>\n",
       "      <td>255</td>\n",
       "      <td>255</td>\n",
       "      <td>255</td>\n",
       "      <td>255</td>\n",
       "      <td>255</td>\n",
       "      <td>255</td>\n",
       "      <td>255</td>\n",
       "      <td>255</td>\n",
       "      <td>255</td>\n",
       "      <td>255</td>\n",
       "    </tr>\n",
       "    <tr>\n",
       "      <th>1</th>\n",
       "      <td>2</td>\n",
       "      <td>255</td>\n",
       "      <td>255</td>\n",
       "      <td>255</td>\n",
       "      <td>255</td>\n",
       "      <td>255</td>\n",
       "      <td>255</td>\n",
       "      <td>254</td>\n",
       "      <td>253</td>\n",
       "      <td>254</td>\n",
       "      <td>...</td>\n",
       "      <td>255</td>\n",
       "      <td>255</td>\n",
       "      <td>255</td>\n",
       "      <td>255</td>\n",
       "      <td>255</td>\n",
       "      <td>255</td>\n",
       "      <td>255</td>\n",
       "      <td>255</td>\n",
       "      <td>255</td>\n",
       "      <td>255</td>\n",
       "    </tr>\n",
       "    <tr>\n",
       "      <th>2</th>\n",
       "      <td>2</td>\n",
       "      <td>255</td>\n",
       "      <td>255</td>\n",
       "      <td>255</td>\n",
       "      <td>255</td>\n",
       "      <td>255</td>\n",
       "      <td>255</td>\n",
       "      <td>254</td>\n",
       "      <td>253</td>\n",
       "      <td>254</td>\n",
       "      <td>...</td>\n",
       "      <td>255</td>\n",
       "      <td>255</td>\n",
       "      <td>255</td>\n",
       "      <td>255</td>\n",
       "      <td>255</td>\n",
       "      <td>255</td>\n",
       "      <td>255</td>\n",
       "      <td>255</td>\n",
       "      <td>255</td>\n",
       "      <td>255</td>\n",
       "    </tr>\n",
       "    <tr>\n",
       "      <th>3</th>\n",
       "      <td>2</td>\n",
       "      <td>255</td>\n",
       "      <td>255</td>\n",
       "      <td>255</td>\n",
       "      <td>255</td>\n",
       "      <td>255</td>\n",
       "      <td>255</td>\n",
       "      <td>254</td>\n",
       "      <td>253</td>\n",
       "      <td>254</td>\n",
       "      <td>...</td>\n",
       "      <td>255</td>\n",
       "      <td>255</td>\n",
       "      <td>255</td>\n",
       "      <td>255</td>\n",
       "      <td>255</td>\n",
       "      <td>255</td>\n",
       "      <td>255</td>\n",
       "      <td>255</td>\n",
       "      <td>255</td>\n",
       "      <td>255</td>\n",
       "    </tr>\n",
       "    <tr>\n",
       "      <th>4</th>\n",
       "      <td>2</td>\n",
       "      <td>255</td>\n",
       "      <td>255</td>\n",
       "      <td>255</td>\n",
       "      <td>255</td>\n",
       "      <td>255</td>\n",
       "      <td>255</td>\n",
       "      <td>254</td>\n",
       "      <td>253</td>\n",
       "      <td>254</td>\n",
       "      <td>...</td>\n",
       "      <td>255</td>\n",
       "      <td>255</td>\n",
       "      <td>255</td>\n",
       "      <td>255</td>\n",
       "      <td>255</td>\n",
       "      <td>255</td>\n",
       "      <td>255</td>\n",
       "      <td>255</td>\n",
       "      <td>255</td>\n",
       "      <td>255</td>\n",
       "    </tr>\n",
       "  </tbody>\n",
       "</table>\n",
       "<p>5 rows × 67601 columns</p>\n",
       "</div>"
      ],
      "text/plain": [
       "   label    0    1    2    3    4    5    6    7    8  ...    67590  67591  \\\n",
       "0      2  255  255  255  255  255  255  254  253  254  ...      255    255   \n",
       "1      2  255  255  255  255  255  255  254  253  254  ...      255    255   \n",
       "2      2  255  255  255  255  255  255  254  253  254  ...      255    255   \n",
       "3      2  255  255  255  255  255  255  254  253  254  ...      255    255   \n",
       "4      2  255  255  255  255  255  255  254  253  254  ...      255    255   \n",
       "\n",
       "   67592  67593  67594  67595  67596  67597  67598  67599  \n",
       "0    255    255    255    255    255    255    255    255  \n",
       "1    255    255    255    255    255    255    255    255  \n",
       "2    255    255    255    255    255    255    255    255  \n",
       "3    255    255    255    255    255    255    255    255  \n",
       "4    255    255    255    255    255    255    255    255  \n",
       "\n",
       "[5 rows x 67601 columns]"
      ]
     },
     "execution_count": 4,
     "metadata": {},
     "output_type": "execute_result"
    }
   ],
   "source": [
    "val_Data = pd.read_csv(\"MCI-CN_val.csv\")\n",
    "val_Data = val_Data.dropna(how='all')\n",
    "#val_Data=val_Data.drop(columns=['Unnamed: 0'])\n",
    "\n",
    "val_Data.head()"
   ]
  },
  {
   "cell_type": "code",
   "execution_count": 14,
   "metadata": {},
   "outputs": [
    {
     "name": "stdout",
     "output_type": "stream",
     "text": [
      "<class 'pandas.core.frame.DataFrame'>\n",
      "Int64Index: 531 entries, 0 to 530\n",
      "Columns: 67601 entries, label to 67599\n",
      "dtypes: int64(67601)\n",
      "memory usage: 273.9 MB\n"
     ]
    }
   ],
   "source": [
    "val_Data.info()"
   ]
  },
  {
   "cell_type": "code",
   "execution_count": 5,
   "metadata": {
    "colab": {},
    "colab_type": "code",
    "id": "_W4D-XnDfj5j"
   },
   "outputs": [],
   "source": [
    "features = [i for i in range(0,67600)]"
   ]
  },
  {
   "cell_type": "code",
   "execution_count": 6,
   "metadata": {
    "colab": {},
    "colab_type": "code",
    "id": "VvAFiZhvfj5n"
   },
   "outputs": [],
   "source": [
    "\n",
    "y_train=df['label']\n",
    "x_train=df[df.columns[1:]]\n",
    "x_train.columns=features"
   ]
  },
  {
   "cell_type": "code",
   "execution_count": 7,
   "metadata": {
    "colab": {},
    "colab_type": "code",
    "id": "K-e_XSa4pKr8"
   },
   "outputs": [],
   "source": [
    "y_test = val_Data['label']\n",
    "x_test = val_Data[val_Data.columns[1:]]\n",
    "x_test.columns=features"
   ]
  },
  {
   "cell_type": "markdown",
   "metadata": {},
   "source": [
    "## WITHOUT GRID-SEARCH AND WITHOUT BIO-INSPIRED"
   ]
  },
  {
   "cell_type": "code",
   "execution_count": 18,
   "metadata": {
    "colab": {},
    "colab_type": "code",
    "id": "Kgvbr_X7fj51"
   },
   "outputs": [
    {
     "name": "stdout",
     "output_type": "stream",
     "text": [
      "1553592908.84151\n",
      "0.6308851224105462\n",
      "0.664783427495292\n",
      "0.7080979284369114\n",
      "0.6836158192090396\n"
     ]
    }
   ],
   "source": [
    "print(time.time())\n",
    "\n",
    "neigh1 = KNeighborsClassifier()\n",
    "neigh1.fit(x_train, y_train)\n",
    "neigh1.predict(x_test)\n",
    "nacc1=neigh1.score(x_test,y_test)\n",
    "\n",
    "print(nacc1)\n",
    "\n",
    "#\n",
    "rforest1 = RandomForestClassifier()\n",
    "rforest1.fit(x_train, y_train)\n",
    "rforest1.predict(x_test)\n",
    "rfacc1=rforest1.score(x_test,y_test)\n",
    "\n",
    "print(rfacc1)\n",
    "\n",
    "#\n",
    "dtree1 = tree.DecisionTreeClassifier()\n",
    "dtree1.fit(x_train, y_train)\n",
    "dtree1.predict(x_test)\n",
    "dtacc1=dtree1.score(x_test,y_test)\n",
    "\n",
    "print(dtacc1)\n",
    "\n",
    "clf1 = svm.SVC()\n",
    "clf1.fit(x_train, y_train)\n",
    "clf1.predict(x_test)\n",
    "clfacc1=clf1.score(x_test,y_test)\n",
    "\n",
    "print(clfacc1)\n"
   ]
  },
  {
   "cell_type": "code",
   "execution_count": 20,
   "metadata": {},
   "outputs": [
    {
     "name": "stdout",
     "output_type": "stream",
     "text": [
      "[0. 0. 0. ... 0. 0. 0.]\n"
     ]
    }
   ],
   "source": [
    "im=(rforest1.feature_importances_)\n",
    "print(im)"
   ]
  },
  {
   "cell_type": "code",
   "execution_count": 21,
   "metadata": {},
   "outputs": [
    {
     "name": "stderr",
     "output_type": "stream",
     "text": [
      "  0%|                                                                                        | 0/67600 [00:00<?, ?it/s]C:\\Users\\SONAL BANSAL\\Anaconda3\\lib\\site-packages\\ipykernel_launcher.py:3: FutureWarning: set_value is deprecated and will be removed in a future release. Please use .at[] or .iat[] accessors instead\n",
      "  This is separate from the ipykernel package so we can avoid doing imports until\n",
      "100%|███████████████████████████████████████████████████████████████████████████| 67600/67600 [08:17<00:00, 135.75it/s]\n"
     ]
    }
   ],
   "source": [
    "imo=pd.Series()\n",
    "for i in tqdm(range(d)):\n",
    "    imo= imo.set_value(features[i],im[i])"
   ]
  },
  {
   "cell_type": "code",
   "execution_count": 23,
   "metadata": {},
   "outputs": [
    {
     "data": {
      "text/plain": [
       "67600"
      ]
     },
     "execution_count": 23,
     "metadata": {},
     "output_type": "execute_result"
    }
   ],
   "source": [
    "imo.to_csv('importance_feature_MCI-CN.csv')\n",
    "len(imo)"
   ]
  },
  {
   "cell_type": "markdown",
   "metadata": {},
   "source": [
    "## WITH GRID-SEARCH WITHOUT BIO-INSPIRED"
   ]
  },
  {
   "cell_type": "code",
   "execution_count": null,
   "metadata": {
    "scrolled": true
   },
   "outputs": [
    {
     "name": "stdout",
     "output_type": "stream",
     "text": [
      "Fitting 3 folds for each of 108 candidates, totalling 324 fits\n",
      "[CV] criterion=gini, max_depth=10, min_samples_leaf=2, min_samples_split=5, splitter=best \n",
      "[CV]  criterion=gini, max_depth=10, min_samples_leaf=2, min_samples_split=5, splitter=best, total= 1.0min\n"
     ]
    },
    {
     "name": "stderr",
     "output_type": "stream",
     "text": [
      "[Parallel(n_jobs=1)]: Done   1 out of   1 | elapsed:  1.1min remaining:    0.0s\n"
     ]
    },
    {
     "name": "stdout",
     "output_type": "stream",
     "text": [
      "[CV] criterion=gini, max_depth=10, min_samples_leaf=2, min_samples_split=5, splitter=best \n",
      "[CV]  criterion=gini, max_depth=10, min_samples_leaf=2, min_samples_split=5, splitter=best, total= 1.4min\n",
      "[CV] criterion=gini, max_depth=10, min_samples_leaf=2, min_samples_split=5, splitter=best \n",
      "[CV]  criterion=gini, max_depth=10, min_samples_leaf=2, min_samples_split=5, splitter=best, total= 1.4min\n",
      "[CV] criterion=gini, max_depth=10, min_samples_leaf=2, min_samples_split=5, splitter=random \n",
      "[CV]  criterion=gini, max_depth=10, min_samples_leaf=2, min_samples_split=5, splitter=random, total=  14.4s\n",
      "[CV] criterion=gini, max_depth=10, min_samples_leaf=2, min_samples_split=5, splitter=random \n",
      "[CV]  criterion=gini, max_depth=10, min_samples_leaf=2, min_samples_split=5, splitter=random, total=  19.2s\n",
      "[CV] criterion=gini, max_depth=10, min_samples_leaf=2, min_samples_split=5, splitter=random \n",
      "[CV]  criterion=gini, max_depth=10, min_samples_leaf=2, min_samples_split=5, splitter=random, total=  19.9s\n",
      "[CV] criterion=gini, max_depth=10, min_samples_leaf=2, min_samples_split=10, splitter=best \n",
      "[CV]  criterion=gini, max_depth=10, min_samples_leaf=2, min_samples_split=10, splitter=best, total=  59.3s\n",
      "[CV] criterion=gini, max_depth=10, min_samples_leaf=2, min_samples_split=10, splitter=best \n",
      "[CV]  criterion=gini, max_depth=10, min_samples_leaf=2, min_samples_split=10, splitter=best, total= 1.2min\n",
      "[CV] criterion=gini, max_depth=10, min_samples_leaf=2, min_samples_split=10, splitter=best \n",
      "[CV]  criterion=gini, max_depth=10, min_samples_leaf=2, min_samples_split=10, splitter=best, total= 1.2min\n",
      "[CV] criterion=gini, max_depth=10, min_samples_leaf=2, min_samples_split=10, splitter=random \n",
      "[CV]  criterion=gini, max_depth=10, min_samples_leaf=2, min_samples_split=10, splitter=random, total=  14.0s\n",
      "[CV] criterion=gini, max_depth=10, min_samples_leaf=2, min_samples_split=10, splitter=random \n",
      "[CV]  criterion=gini, max_depth=10, min_samples_leaf=2, min_samples_split=10, splitter=random, total=  14.7s\n",
      "[CV] criterion=gini, max_depth=10, min_samples_leaf=2, min_samples_split=10, splitter=random \n",
      "[CV]  criterion=gini, max_depth=10, min_samples_leaf=2, min_samples_split=10, splitter=random, total=  17.4s\n",
      "[CV] criterion=gini, max_depth=10, min_samples_leaf=2, min_samples_split=20, splitter=best \n",
      "[CV]  criterion=gini, max_depth=10, min_samples_leaf=2, min_samples_split=20, splitter=best, total= 1.2min\n",
      "[CV] criterion=gini, max_depth=10, min_samples_leaf=2, min_samples_split=20, splitter=best \n",
      "[CV]  criterion=gini, max_depth=10, min_samples_leaf=2, min_samples_split=20, splitter=best, total= 1.4min\n",
      "[CV] criterion=gini, max_depth=10, min_samples_leaf=2, min_samples_split=20, splitter=best \n",
      "[CV]  criterion=gini, max_depth=10, min_samples_leaf=2, min_samples_split=20, splitter=best, total= 1.4min\n",
      "[CV] criterion=gini, max_depth=10, min_samples_leaf=2, min_samples_split=20, splitter=random \n",
      "[CV]  criterion=gini, max_depth=10, min_samples_leaf=2, min_samples_split=20, splitter=random, total=  14.3s\n",
      "[CV] criterion=gini, max_depth=10, min_samples_leaf=2, min_samples_split=20, splitter=random \n",
      "[CV]  criterion=gini, max_depth=10, min_samples_leaf=2, min_samples_split=20, splitter=random, total=  17.3s\n",
      "[CV] criterion=gini, max_depth=10, min_samples_leaf=2, min_samples_split=20, splitter=random \n",
      "[CV]  criterion=gini, max_depth=10, min_samples_leaf=2, min_samples_split=20, splitter=random, total=  18.6s\n",
      "[CV] criterion=gini, max_depth=10, min_samples_leaf=4, min_samples_split=5, splitter=best \n",
      "[CV]  criterion=gini, max_depth=10, min_samples_leaf=4, min_samples_split=5, splitter=best, total= 1.1min\n",
      "[CV] criterion=gini, max_depth=10, min_samples_leaf=4, min_samples_split=5, splitter=best \n",
      "[CV]  criterion=gini, max_depth=10, min_samples_leaf=4, min_samples_split=5, splitter=best, total= 1.3min\n",
      "[CV] criterion=gini, max_depth=10, min_samples_leaf=4, min_samples_split=5, splitter=best \n",
      "[CV]  criterion=gini, max_depth=10, min_samples_leaf=4, min_samples_split=5, splitter=best, total= 1.3min\n",
      "[CV] criterion=gini, max_depth=10, min_samples_leaf=4, min_samples_split=5, splitter=random \n",
      "[CV]  criterion=gini, max_depth=10, min_samples_leaf=4, min_samples_split=5, splitter=random, total=  14.9s\n",
      "[CV] criterion=gini, max_depth=10, min_samples_leaf=4, min_samples_split=5, splitter=random \n",
      "[CV]  criterion=gini, max_depth=10, min_samples_leaf=4, min_samples_split=5, splitter=random, total=  17.8s\n",
      "[CV] criterion=gini, max_depth=10, min_samples_leaf=4, min_samples_split=5, splitter=random \n",
      "[CV]  criterion=gini, max_depth=10, min_samples_leaf=4, min_samples_split=5, splitter=random, total=  20.0s\n",
      "[CV] criterion=gini, max_depth=10, min_samples_leaf=4, min_samples_split=10, splitter=best \n",
      "[CV]  criterion=gini, max_depth=10, min_samples_leaf=4, min_samples_split=10, splitter=best, total= 1.2min\n",
      "[CV] criterion=gini, max_depth=10, min_samples_leaf=4, min_samples_split=10, splitter=best \n",
      "[CV]  criterion=gini, max_depth=10, min_samples_leaf=4, min_samples_split=10, splitter=best, total= 1.3min\n",
      "[CV] criterion=gini, max_depth=10, min_samples_leaf=4, min_samples_split=10, splitter=best \n",
      "[CV]  criterion=gini, max_depth=10, min_samples_leaf=4, min_samples_split=10, splitter=best, total= 1.4min\n",
      "[CV] criterion=gini, max_depth=10, min_samples_leaf=4, min_samples_split=10, splitter=random \n",
      "[CV]  criterion=gini, max_depth=10, min_samples_leaf=4, min_samples_split=10, splitter=random, total=  16.5s\n",
      "[CV] criterion=gini, max_depth=10, min_samples_leaf=4, min_samples_split=10, splitter=random \n",
      "[CV]  criterion=gini, max_depth=10, min_samples_leaf=4, min_samples_split=10, splitter=random, total=  16.7s\n",
      "[CV] criterion=gini, max_depth=10, min_samples_leaf=4, min_samples_split=10, splitter=random \n",
      "[CV]  criterion=gini, max_depth=10, min_samples_leaf=4, min_samples_split=10, splitter=random, total=  16.1s\n",
      "[CV] criterion=gini, max_depth=10, min_samples_leaf=4, min_samples_split=20, splitter=best \n",
      "[CV]  criterion=gini, max_depth=10, min_samples_leaf=4, min_samples_split=20, splitter=best, total=  58.8s\n",
      "[CV] criterion=gini, max_depth=10, min_samples_leaf=4, min_samples_split=20, splitter=best \n",
      "[CV]  criterion=gini, max_depth=10, min_samples_leaf=4, min_samples_split=20, splitter=best, total= 1.0min\n",
      "[CV] criterion=gini, max_depth=10, min_samples_leaf=4, min_samples_split=20, splitter=best \n",
      "[CV]  criterion=gini, max_depth=10, min_samples_leaf=4, min_samples_split=20, splitter=best, total= 1.1min\n",
      "[CV] criterion=gini, max_depth=10, min_samples_leaf=4, min_samples_split=20, splitter=random \n",
      "[CV]  criterion=gini, max_depth=10, min_samples_leaf=4, min_samples_split=20, splitter=random, total=  13.1s\n",
      "[CV] criterion=gini, max_depth=10, min_samples_leaf=4, min_samples_split=20, splitter=random \n",
      "[CV]  criterion=gini, max_depth=10, min_samples_leaf=4, min_samples_split=20, splitter=random, total=  16.4s\n",
      "[CV] criterion=gini, max_depth=10, min_samples_leaf=4, min_samples_split=20, splitter=random \n",
      "[CV]  criterion=gini, max_depth=10, min_samples_leaf=4, min_samples_split=20, splitter=random, total=  17.8s\n",
      "[CV] criterion=gini, max_depth=10, min_samples_leaf=6, min_samples_split=5, splitter=best \n",
      "[CV]  criterion=gini, max_depth=10, min_samples_leaf=6, min_samples_split=5, splitter=best, total=  59.1s\n",
      "[CV] criterion=gini, max_depth=10, min_samples_leaf=6, min_samples_split=5, splitter=best \n",
      "[CV]  criterion=gini, max_depth=10, min_samples_leaf=6, min_samples_split=5, splitter=best, total= 1.0min\n",
      "[CV] criterion=gini, max_depth=10, min_samples_leaf=6, min_samples_split=5, splitter=best \n",
      "[CV]  criterion=gini, max_depth=10, min_samples_leaf=6, min_samples_split=5, splitter=best, total= 1.3min\n",
      "[CV] criterion=gini, max_depth=10, min_samples_leaf=6, min_samples_split=5, splitter=random \n",
      "[CV]  criterion=gini, max_depth=10, min_samples_leaf=6, min_samples_split=5, splitter=random, total=  12.6s\n",
      "[CV] criterion=gini, max_depth=10, min_samples_leaf=6, min_samples_split=5, splitter=random \n",
      "[CV]  criterion=gini, max_depth=10, min_samples_leaf=6, min_samples_split=5, splitter=random, total=  15.7s\n",
      "[CV] criterion=gini, max_depth=10, min_samples_leaf=6, min_samples_split=5, splitter=random \n"
     ]
    },
    {
     "name": "stdout",
     "output_type": "stream",
     "text": [
      "[CV]  criterion=gini, max_depth=10, min_samples_leaf=6, min_samples_split=5, splitter=random, total=  18.7s\n",
      "[CV] criterion=gini, max_depth=10, min_samples_leaf=6, min_samples_split=10, splitter=best \n",
      "[CV]  criterion=gini, max_depth=10, min_samples_leaf=6, min_samples_split=10, splitter=best, total= 1.0min\n",
      "[CV] criterion=gini, max_depth=10, min_samples_leaf=6, min_samples_split=10, splitter=best \n",
      "[CV]  criterion=gini, max_depth=10, min_samples_leaf=6, min_samples_split=10, splitter=best, total= 1.1min\n",
      "[CV] criterion=gini, max_depth=10, min_samples_leaf=6, min_samples_split=10, splitter=best \n",
      "[CV]  criterion=gini, max_depth=10, min_samples_leaf=6, min_samples_split=10, splitter=best, total= 1.3min\n",
      "[CV] criterion=gini, max_depth=10, min_samples_leaf=6, min_samples_split=10, splitter=random \n",
      "[CV]  criterion=gini, max_depth=10, min_samples_leaf=6, min_samples_split=10, splitter=random, total=  14.1s\n",
      "[CV] criterion=gini, max_depth=10, min_samples_leaf=6, min_samples_split=10, splitter=random \n",
      "[CV]  criterion=gini, max_depth=10, min_samples_leaf=6, min_samples_split=10, splitter=random, total=  14.1s\n",
      "[CV] criterion=gini, max_depth=10, min_samples_leaf=6, min_samples_split=10, splitter=random \n",
      "[CV]  criterion=gini, max_depth=10, min_samples_leaf=6, min_samples_split=10, splitter=random, total=  15.4s\n",
      "[CV] criterion=gini, max_depth=10, min_samples_leaf=6, min_samples_split=20, splitter=best \n",
      "[CV]  criterion=gini, max_depth=10, min_samples_leaf=6, min_samples_split=20, splitter=best, total=  59.6s\n",
      "[CV] criterion=gini, max_depth=10, min_samples_leaf=6, min_samples_split=20, splitter=best \n",
      "[CV]  criterion=gini, max_depth=10, min_samples_leaf=6, min_samples_split=20, splitter=best, total=  58.9s\n",
      "[CV] criterion=gini, max_depth=10, min_samples_leaf=6, min_samples_split=20, splitter=best \n",
      "[CV]  criterion=gini, max_depth=10, min_samples_leaf=6, min_samples_split=20, splitter=best, total= 1.2min\n",
      "[CV] criterion=gini, max_depth=10, min_samples_leaf=6, min_samples_split=20, splitter=random \n",
      "[CV]  criterion=gini, max_depth=10, min_samples_leaf=6, min_samples_split=20, splitter=random, total=  13.7s\n",
      "[CV] criterion=gini, max_depth=10, min_samples_leaf=6, min_samples_split=20, splitter=random \n",
      "[CV]  criterion=gini, max_depth=10, min_samples_leaf=6, min_samples_split=20, splitter=random, total=  15.9s\n",
      "[CV] criterion=gini, max_depth=10, min_samples_leaf=6, min_samples_split=20, splitter=random \n",
      "[CV]  criterion=gini, max_depth=10, min_samples_leaf=6, min_samples_split=20, splitter=random, total=  10.5s\n",
      "[CV] criterion=gini, max_depth=20, min_samples_leaf=2, min_samples_split=5, splitter=best \n",
      "[CV]  criterion=gini, max_depth=20, min_samples_leaf=2, min_samples_split=5, splitter=best, total= 1.5min\n",
      "[CV] criterion=gini, max_depth=20, min_samples_leaf=2, min_samples_split=5, splitter=best \n",
      "[CV]  criterion=gini, max_depth=20, min_samples_leaf=2, min_samples_split=5, splitter=best, total= 1.3min\n",
      "[CV] criterion=gini, max_depth=20, min_samples_leaf=2, min_samples_split=5, splitter=best \n",
      "[CV]  criterion=gini, max_depth=20, min_samples_leaf=2, min_samples_split=5, splitter=best, total= 1.2min\n",
      "[CV] criterion=gini, max_depth=20, min_samples_leaf=2, min_samples_split=5, splitter=random \n",
      "[CV]  criterion=gini, max_depth=20, min_samples_leaf=2, min_samples_split=5, splitter=random, total=  22.3s\n",
      "[CV] criterion=gini, max_depth=20, min_samples_leaf=2, min_samples_split=5, splitter=random \n",
      "[CV]  criterion=gini, max_depth=20, min_samples_leaf=2, min_samples_split=5, splitter=random, total=  21.3s\n",
      "[CV] criterion=gini, max_depth=20, min_samples_leaf=2, min_samples_split=5, splitter=random \n",
      "[CV]  criterion=gini, max_depth=20, min_samples_leaf=2, min_samples_split=5, splitter=random, total=  21.9s\n",
      "[CV] criterion=gini, max_depth=20, min_samples_leaf=2, min_samples_split=10, splitter=best \n",
      "[CV]  criterion=gini, max_depth=20, min_samples_leaf=2, min_samples_split=10, splitter=best, total= 1.5min\n",
      "[CV] criterion=gini, max_depth=20, min_samples_leaf=2, min_samples_split=10, splitter=best \n",
      "[CV]  criterion=gini, max_depth=20, min_samples_leaf=2, min_samples_split=10, splitter=best, total= 1.0min\n",
      "[CV] criterion=gini, max_depth=20, min_samples_leaf=2, min_samples_split=10, splitter=best \n",
      "[CV]  criterion=gini, max_depth=20, min_samples_leaf=2, min_samples_split=10, splitter=best, total= 1.5min\n",
      "[CV] criterion=gini, max_depth=20, min_samples_leaf=2, min_samples_split=10, splitter=random \n",
      "[CV]  criterion=gini, max_depth=20, min_samples_leaf=2, min_samples_split=10, splitter=random, total=  23.0s\n",
      "[CV] criterion=gini, max_depth=20, min_samples_leaf=2, min_samples_split=10, splitter=random \n",
      "[CV]  criterion=gini, max_depth=20, min_samples_leaf=2, min_samples_split=10, splitter=random, total=  23.8s\n",
      "[CV] criterion=gini, max_depth=20, min_samples_leaf=2, min_samples_split=10, splitter=random \n",
      "[CV]  criterion=gini, max_depth=20, min_samples_leaf=2, min_samples_split=10, splitter=random, total=  22.4s\n",
      "[CV] criterion=gini, max_depth=20, min_samples_leaf=2, min_samples_split=20, splitter=best \n",
      "[CV]  criterion=gini, max_depth=20, min_samples_leaf=2, min_samples_split=20, splitter=best, total= 1.8min\n",
      "[CV] criterion=gini, max_depth=20, min_samples_leaf=2, min_samples_split=20, splitter=best \n",
      "[CV]  criterion=gini, max_depth=20, min_samples_leaf=2, min_samples_split=20, splitter=best, total= 1.2min\n",
      "[CV] criterion=gini, max_depth=20, min_samples_leaf=2, min_samples_split=20, splitter=best \n",
      "[CV]  criterion=gini, max_depth=20, min_samples_leaf=2, min_samples_split=20, splitter=best, total= 1.4min\n",
      "[CV] criterion=gini, max_depth=20, min_samples_leaf=2, min_samples_split=20, splitter=random \n",
      "[CV]  criterion=gini, max_depth=20, min_samples_leaf=2, min_samples_split=20, splitter=random, total=  19.6s\n",
      "[CV] criterion=gini, max_depth=20, min_samples_leaf=2, min_samples_split=20, splitter=random \n",
      "[CV]  criterion=gini, max_depth=20, min_samples_leaf=2, min_samples_split=20, splitter=random, total=  13.4s\n",
      "[CV] criterion=gini, max_depth=20, min_samples_leaf=2, min_samples_split=20, splitter=random \n",
      "[CV]  criterion=gini, max_depth=20, min_samples_leaf=2, min_samples_split=20, splitter=random, total=  19.0s\n",
      "[CV] criterion=gini, max_depth=20, min_samples_leaf=4, min_samples_split=5, splitter=best \n",
      "[CV]  criterion=gini, max_depth=20, min_samples_leaf=4, min_samples_split=5, splitter=best, total= 1.7min\n",
      "[CV] criterion=gini, max_depth=20, min_samples_leaf=4, min_samples_split=5, splitter=best \n",
      "[CV]  criterion=gini, max_depth=20, min_samples_leaf=4, min_samples_split=5, splitter=best, total= 1.3min\n",
      "[CV] criterion=gini, max_depth=20, min_samples_leaf=4, min_samples_split=5, splitter=best \n",
      "[CV]  criterion=gini, max_depth=20, min_samples_leaf=4, min_samples_split=5, splitter=best, total= 1.3min\n",
      "[CV] criterion=gini, max_depth=20, min_samples_leaf=4, min_samples_split=5, splitter=random \n",
      "[CV]  criterion=gini, max_depth=20, min_samples_leaf=4, min_samples_split=5, splitter=random, total=  21.2s\n",
      "[CV] criterion=gini, max_depth=20, min_samples_leaf=4, min_samples_split=5, splitter=random \n",
      "[CV]  criterion=gini, max_depth=20, min_samples_leaf=4, min_samples_split=5, splitter=random, total=  15.0s\n",
      "[CV] criterion=gini, max_depth=20, min_samples_leaf=4, min_samples_split=5, splitter=random \n",
      "[CV]  criterion=gini, max_depth=20, min_samples_leaf=4, min_samples_split=5, splitter=random, total=  20.7s\n",
      "[CV] criterion=gini, max_depth=20, min_samples_leaf=4, min_samples_split=10, splitter=best \n",
      "[CV]  criterion=gini, max_depth=20, min_samples_leaf=4, min_samples_split=10, splitter=best, total= 1.8min\n",
      "[CV] criterion=gini, max_depth=20, min_samples_leaf=4, min_samples_split=10, splitter=best \n",
      "[CV]  criterion=gini, max_depth=20, min_samples_leaf=4, min_samples_split=10, splitter=best, total= 1.2min\n",
      "[CV] criterion=gini, max_depth=20, min_samples_leaf=4, min_samples_split=10, splitter=best \n",
      "[CV]  criterion=gini, max_depth=20, min_samples_leaf=4, min_samples_split=10, splitter=best, total= 1.4min\n",
      "[CV] criterion=gini, max_depth=20, min_samples_leaf=4, min_samples_split=10, splitter=random \n",
      "[CV]  criterion=gini, max_depth=20, min_samples_leaf=4, min_samples_split=10, splitter=random, total=  22.1s\n"
     ]
    },
    {
     "name": "stdout",
     "output_type": "stream",
     "text": [
      "[CV] criterion=gini, max_depth=20, min_samples_leaf=4, min_samples_split=10, splitter=random \n",
      "[CV]  criterion=gini, max_depth=20, min_samples_leaf=4, min_samples_split=10, splitter=random, total=  18.0s\n",
      "[CV] criterion=gini, max_depth=20, min_samples_leaf=4, min_samples_split=10, splitter=random \n",
      "[CV]  criterion=gini, max_depth=20, min_samples_leaf=4, min_samples_split=10, splitter=random, total=  18.2s\n",
      "[CV] criterion=gini, max_depth=20, min_samples_leaf=4, min_samples_split=20, splitter=best \n",
      "[CV]  criterion=gini, max_depth=20, min_samples_leaf=4, min_samples_split=20, splitter=best, total= 1.5min\n",
      "[CV] criterion=gini, max_depth=20, min_samples_leaf=4, min_samples_split=20, splitter=best \n",
      "[CV]  criterion=gini, max_depth=20, min_samples_leaf=4, min_samples_split=20, splitter=best, total= 1.2min\n",
      "[CV] criterion=gini, max_depth=20, min_samples_leaf=4, min_samples_split=20, splitter=best \n",
      "[CV]  criterion=gini, max_depth=20, min_samples_leaf=4, min_samples_split=20, splitter=best, total= 1.3min\n",
      "[CV] criterion=gini, max_depth=20, min_samples_leaf=4, min_samples_split=20, splitter=random \n",
      "[CV]  criterion=gini, max_depth=20, min_samples_leaf=4, min_samples_split=20, splitter=random, total=  19.2s\n",
      "[CV] criterion=gini, max_depth=20, min_samples_leaf=4, min_samples_split=20, splitter=random \n",
      "[CV]  criterion=gini, max_depth=20, min_samples_leaf=4, min_samples_split=20, splitter=random, total=  18.0s\n",
      "[CV] criterion=gini, max_depth=20, min_samples_leaf=4, min_samples_split=20, splitter=random \n",
      "[CV]  criterion=gini, max_depth=20, min_samples_leaf=4, min_samples_split=20, splitter=random, total=  20.2s\n",
      "[CV] criterion=gini, max_depth=20, min_samples_leaf=6, min_samples_split=5, splitter=best \n",
      "[CV]  criterion=gini, max_depth=20, min_samples_leaf=6, min_samples_split=5, splitter=best, total= 1.6min\n",
      "[CV] criterion=gini, max_depth=20, min_samples_leaf=6, min_samples_split=5, splitter=best \n",
      "[CV]  criterion=gini, max_depth=20, min_samples_leaf=6, min_samples_split=5, splitter=best, total= 1.1min\n",
      "[CV] criterion=gini, max_depth=20, min_samples_leaf=6, min_samples_split=5, splitter=best \n",
      "[CV]  criterion=gini, max_depth=20, min_samples_leaf=6, min_samples_split=5, splitter=best, total= 1.1min\n",
      "[CV] criterion=gini, max_depth=20, min_samples_leaf=6, min_samples_split=5, splitter=random \n",
      "[CV]  criterion=gini, max_depth=20, min_samples_leaf=6, min_samples_split=5, splitter=random, total=  15.6s\n",
      "[CV] criterion=gini, max_depth=20, min_samples_leaf=6, min_samples_split=5, splitter=random \n",
      "[CV]  criterion=gini, max_depth=20, min_samples_leaf=6, min_samples_split=5, splitter=random, total=  20.4s\n",
      "[CV] criterion=gini, max_depth=20, min_samples_leaf=6, min_samples_split=5, splitter=random \n",
      "[CV]  criterion=gini, max_depth=20, min_samples_leaf=6, min_samples_split=5, splitter=random, total=  20.3s\n",
      "[CV] criterion=gini, max_depth=20, min_samples_leaf=6, min_samples_split=10, splitter=best \n",
      "[CV]  criterion=gini, max_depth=20, min_samples_leaf=6, min_samples_split=10, splitter=best, total= 1.6min\n",
      "[CV] criterion=gini, max_depth=20, min_samples_leaf=6, min_samples_split=10, splitter=best \n",
      "[CV]  criterion=gini, max_depth=20, min_samples_leaf=6, min_samples_split=10, splitter=best, total= 1.1min\n",
      "[CV] criterion=gini, max_depth=20, min_samples_leaf=6, min_samples_split=10, splitter=best \n",
      "[CV]  criterion=gini, max_depth=20, min_samples_leaf=6, min_samples_split=10, splitter=best, total= 1.2min\n",
      "[CV] criterion=gini, max_depth=20, min_samples_leaf=6, min_samples_split=10, splitter=random \n",
      "[CV]  criterion=gini, max_depth=20, min_samples_leaf=6, min_samples_split=10, splitter=random, total=  18.8s\n",
      "[CV] criterion=gini, max_depth=20, min_samples_leaf=6, min_samples_split=10, splitter=random \n",
      "[CV]  criterion=gini, max_depth=20, min_samples_leaf=6, min_samples_split=10, splitter=random, total=  15.2s\n",
      "[CV] criterion=gini, max_depth=20, min_samples_leaf=6, min_samples_split=10, splitter=random \n",
      "[CV]  criterion=gini, max_depth=20, min_samples_leaf=6, min_samples_split=10, splitter=random, total=  17.8s\n",
      "[CV] criterion=gini, max_depth=20, min_samples_leaf=6, min_samples_split=20, splitter=best \n",
      "[CV]  criterion=gini, max_depth=20, min_samples_leaf=6, min_samples_split=20, splitter=best, total= 1.6min\n",
      "[CV] criterion=gini, max_depth=20, min_samples_leaf=6, min_samples_split=20, splitter=best \n",
      "[CV]  criterion=gini, max_depth=20, min_samples_leaf=6, min_samples_split=20, splitter=best, total= 1.2min\n",
      "[CV] criterion=gini, max_depth=20, min_samples_leaf=6, min_samples_split=20, splitter=best \n",
      "[CV]  criterion=gini, max_depth=20, min_samples_leaf=6, min_samples_split=20, splitter=best, total= 1.2min\n",
      "[CV] criterion=gini, max_depth=20, min_samples_leaf=6, min_samples_split=20, splitter=random \n",
      "[CV]  criterion=gini, max_depth=20, min_samples_leaf=6, min_samples_split=20, splitter=random, total=  16.1s\n",
      "[CV] criterion=gini, max_depth=20, min_samples_leaf=6, min_samples_split=20, splitter=random \n",
      "[CV]  criterion=gini, max_depth=20, min_samples_leaf=6, min_samples_split=20, splitter=random, total=  15.6s\n",
      "[CV] criterion=gini, max_depth=20, min_samples_leaf=6, min_samples_split=20, splitter=random \n",
      "[CV]  criterion=gini, max_depth=20, min_samples_leaf=6, min_samples_split=20, splitter=random, total=  14.1s\n",
      "[CV] criterion=gini, max_depth=30, min_samples_leaf=2, min_samples_split=5, splitter=best \n",
      "[CV]  criterion=gini, max_depth=30, min_samples_leaf=2, min_samples_split=5, splitter=best, total= 2.4min\n",
      "[CV] criterion=gini, max_depth=30, min_samples_leaf=2, min_samples_split=5, splitter=best \n",
      "[CV]  criterion=gini, max_depth=30, min_samples_leaf=2, min_samples_split=5, splitter=best, total= 1.2min\n",
      "[CV] criterion=gini, max_depth=30, min_samples_leaf=2, min_samples_split=5, splitter=best \n",
      "[CV]  criterion=gini, max_depth=30, min_samples_leaf=2, min_samples_split=5, splitter=best, total= 1.3min\n",
      "[CV] criterion=gini, max_depth=30, min_samples_leaf=2, min_samples_split=5, splitter=random \n",
      "[CV]  criterion=gini, max_depth=30, min_samples_leaf=2, min_samples_split=5, splitter=random, total=  22.0s\n",
      "[CV] criterion=gini, max_depth=30, min_samples_leaf=2, min_samples_split=5, splitter=random \n",
      "[CV]  criterion=gini, max_depth=30, min_samples_leaf=2, min_samples_split=5, splitter=random, total=  17.9s\n",
      "[CV] criterion=gini, max_depth=30, min_samples_leaf=2, min_samples_split=5, splitter=random \n",
      "[CV]  criterion=gini, max_depth=30, min_samples_leaf=2, min_samples_split=5, splitter=random, total=  20.4s\n",
      "[CV] criterion=gini, max_depth=30, min_samples_leaf=2, min_samples_split=10, splitter=best \n",
      "[CV]  criterion=gini, max_depth=30, min_samples_leaf=2, min_samples_split=10, splitter=best, total= 2.3min\n",
      "[CV] criterion=gini, max_depth=30, min_samples_leaf=2, min_samples_split=10, splitter=best \n",
      "[CV]  criterion=gini, max_depth=30, min_samples_leaf=2, min_samples_split=10, splitter=best, total= 1.3min\n",
      "[CV] criterion=gini, max_depth=30, min_samples_leaf=2, min_samples_split=10, splitter=best \n",
      "[CV]  criterion=gini, max_depth=30, min_samples_leaf=2, min_samples_split=10, splitter=best, total= 1.1min\n",
      "[CV] criterion=gini, max_depth=30, min_samples_leaf=2, min_samples_split=10, splitter=random \n",
      "[CV]  criterion=gini, max_depth=30, min_samples_leaf=2, min_samples_split=10, splitter=random, total=  26.2s\n",
      "[CV] criterion=gini, max_depth=30, min_samples_leaf=2, min_samples_split=10, splitter=random \n",
      "[CV]  criterion=gini, max_depth=30, min_samples_leaf=2, min_samples_split=10, splitter=random, total=  16.2s\n",
      "[CV] criterion=gini, max_depth=30, min_samples_leaf=2, min_samples_split=10, splitter=random \n",
      "[CV]  criterion=gini, max_depth=30, min_samples_leaf=2, min_samples_split=10, splitter=random, total=  23.0s\n",
      "[CV] criterion=gini, max_depth=30, min_samples_leaf=2, min_samples_split=20, splitter=best \n",
      "[CV]  criterion=gini, max_depth=30, min_samples_leaf=2, min_samples_split=20, splitter=best, total= 2.3min\n",
      "[CV] criterion=gini, max_depth=30, min_samples_leaf=2, min_samples_split=20, splitter=best \n",
      "[CV]  criterion=gini, max_depth=30, min_samples_leaf=2, min_samples_split=20, splitter=best, total= 1.3min\n",
      "[CV] criterion=gini, max_depth=30, min_samples_leaf=2, min_samples_split=20, splitter=best \n"
     ]
    },
    {
     "name": "stdout",
     "output_type": "stream",
     "text": [
      "[CV]  criterion=gini, max_depth=30, min_samples_leaf=2, min_samples_split=20, splitter=best, total= 1.3min\n",
      "[CV] criterion=gini, max_depth=30, min_samples_leaf=2, min_samples_split=20, splitter=random \n",
      "[CV]  criterion=gini, max_depth=30, min_samples_leaf=2, min_samples_split=20, splitter=random, total=  18.1s\n",
      "[CV] criterion=gini, max_depth=30, min_samples_leaf=2, min_samples_split=20, splitter=random \n",
      "[CV]  criterion=gini, max_depth=30, min_samples_leaf=2, min_samples_split=20, splitter=random, total=  18.5s\n",
      "[CV] criterion=gini, max_depth=30, min_samples_leaf=2, min_samples_split=20, splitter=random \n",
      "[CV]  criterion=gini, max_depth=30, min_samples_leaf=2, min_samples_split=20, splitter=random, total=  21.5s\n",
      "[CV] criterion=gini, max_depth=30, min_samples_leaf=4, min_samples_split=5, splitter=best \n",
      "[CV]  criterion=gini, max_depth=30, min_samples_leaf=4, min_samples_split=5, splitter=best, total= 2.3min\n",
      "[CV] criterion=gini, max_depth=30, min_samples_leaf=4, min_samples_split=5, splitter=best \n",
      "[CV]  criterion=gini, max_depth=30, min_samples_leaf=4, min_samples_split=5, splitter=best, total= 1.3min\n",
      "[CV] criterion=gini, max_depth=30, min_samples_leaf=4, min_samples_split=5, splitter=best \n",
      "[CV]  criterion=gini, max_depth=30, min_samples_leaf=4, min_samples_split=5, splitter=best, total= 1.3min\n",
      "[CV] criterion=gini, max_depth=30, min_samples_leaf=4, min_samples_split=5, splitter=random \n",
      "[CV]  criterion=gini, max_depth=30, min_samples_leaf=4, min_samples_split=5, splitter=random, total=  18.9s\n",
      "[CV] criterion=gini, max_depth=30, min_samples_leaf=4, min_samples_split=5, splitter=random \n",
      "[CV]  criterion=gini, max_depth=30, min_samples_leaf=4, min_samples_split=5, splitter=random, total=  19.9s\n",
      "[CV] criterion=gini, max_depth=30, min_samples_leaf=4, min_samples_split=5, splitter=random \n",
      "[CV]  criterion=gini, max_depth=30, min_samples_leaf=4, min_samples_split=5, splitter=random, total=  21.2s\n",
      "[CV] criterion=gini, max_depth=30, min_samples_leaf=4, min_samples_split=10, splitter=best \n",
      "[CV]  criterion=gini, max_depth=30, min_samples_leaf=4, min_samples_split=10, splitter=best, total= 2.2min\n",
      "[CV] criterion=gini, max_depth=30, min_samples_leaf=4, min_samples_split=10, splitter=best \n",
      "[CV]  criterion=gini, max_depth=30, min_samples_leaf=4, min_samples_split=10, splitter=best, total= 1.2min\n",
      "[CV] criterion=gini, max_depth=30, min_samples_leaf=4, min_samples_split=10, splitter=best \n",
      "[CV]  criterion=gini, max_depth=30, min_samples_leaf=4, min_samples_split=10, splitter=best, total= 1.1min\n",
      "[CV] criterion=gini, max_depth=30, min_samples_leaf=4, min_samples_split=10, splitter=random \n",
      "[CV]  criterion=gini, max_depth=30, min_samples_leaf=4, min_samples_split=10, splitter=random, total=  27.0s\n",
      "[CV] criterion=gini, max_depth=30, min_samples_leaf=4, min_samples_split=10, splitter=random \n",
      "[CV]  criterion=gini, max_depth=30, min_samples_leaf=4, min_samples_split=10, splitter=random, total=  19.7s\n",
      "[CV] criterion=gini, max_depth=30, min_samples_leaf=4, min_samples_split=10, splitter=random \n",
      "[CV]  criterion=gini, max_depth=30, min_samples_leaf=4, min_samples_split=10, splitter=random, total=  22.3s\n",
      "[CV] criterion=gini, max_depth=30, min_samples_leaf=4, min_samples_split=20, splitter=best \n",
      "[CV]  criterion=gini, max_depth=30, min_samples_leaf=4, min_samples_split=20, splitter=best, total= 2.1min\n",
      "[CV] criterion=gini, max_depth=30, min_samples_leaf=4, min_samples_split=20, splitter=best \n",
      "[CV]  criterion=gini, max_depth=30, min_samples_leaf=4, min_samples_split=20, splitter=best, total= 1.2min\n",
      "[CV] criterion=gini, max_depth=30, min_samples_leaf=4, min_samples_split=20, splitter=best \n",
      "[CV]  criterion=gini, max_depth=30, min_samples_leaf=4, min_samples_split=20, splitter=best, total= 1.4min\n",
      "[CV] criterion=gini, max_depth=30, min_samples_leaf=4, min_samples_split=20, splitter=random \n",
      "[CV]  criterion=gini, max_depth=30, min_samples_leaf=4, min_samples_split=20, splitter=random, total=  18.3s\n",
      "[CV] criterion=gini, max_depth=30, min_samples_leaf=4, min_samples_split=20, splitter=random \n",
      "[CV]  criterion=gini, max_depth=30, min_samples_leaf=4, min_samples_split=20, splitter=random, total=  17.4s\n",
      "[CV] criterion=gini, max_depth=30, min_samples_leaf=4, min_samples_split=20, splitter=random \n",
      "[CV]  criterion=gini, max_depth=30, min_samples_leaf=4, min_samples_split=20, splitter=random, total=  17.7s\n",
      "[CV] criterion=gini, max_depth=30, min_samples_leaf=6, min_samples_split=5, splitter=best \n",
      "[CV]  criterion=gini, max_depth=30, min_samples_leaf=6, min_samples_split=5, splitter=best, total= 2.0min\n",
      "[CV] criterion=gini, max_depth=30, min_samples_leaf=6, min_samples_split=5, splitter=best \n",
      "[CV]  criterion=gini, max_depth=30, min_samples_leaf=6, min_samples_split=5, splitter=best, total= 1.2min\n",
      "[CV] criterion=gini, max_depth=30, min_samples_leaf=6, min_samples_split=5, splitter=best \n",
      "[CV]  criterion=gini, max_depth=30, min_samples_leaf=6, min_samples_split=5, splitter=best, total= 1.2min\n",
      "[CV] criterion=gini, max_depth=30, min_samples_leaf=6, min_samples_split=5, splitter=random \n",
      "[CV]  criterion=gini, max_depth=30, min_samples_leaf=6, min_samples_split=5, splitter=random, total=  21.9s\n",
      "[CV] criterion=gini, max_depth=30, min_samples_leaf=6, min_samples_split=5, splitter=random \n",
      "[CV]  criterion=gini, max_depth=30, min_samples_leaf=6, min_samples_split=5, splitter=random, total=  17.0s\n",
      "[CV] criterion=gini, max_depth=30, min_samples_leaf=6, min_samples_split=5, splitter=random \n",
      "[CV]  criterion=gini, max_depth=30, min_samples_leaf=6, min_samples_split=5, splitter=random, total=  21.5s\n",
      "[CV] criterion=gini, max_depth=30, min_samples_leaf=6, min_samples_split=10, splitter=best \n",
      "[CV]  criterion=gini, max_depth=30, min_samples_leaf=6, min_samples_split=10, splitter=best, total= 2.3min\n",
      "[CV] criterion=gini, max_depth=30, min_samples_leaf=6, min_samples_split=10, splitter=best \n",
      "[CV]  criterion=gini, max_depth=30, min_samples_leaf=6, min_samples_split=10, splitter=best, total= 1.1min\n",
      "[CV] criterion=gini, max_depth=30, min_samples_leaf=6, min_samples_split=10, splitter=best \n",
      "[CV]  criterion=gini, max_depth=30, min_samples_leaf=6, min_samples_split=10, splitter=best, total= 1.2min\n",
      "[CV] criterion=gini, max_depth=30, min_samples_leaf=6, min_samples_split=10, splitter=random \n",
      "[CV]  criterion=gini, max_depth=30, min_samples_leaf=6, min_samples_split=10, splitter=random, total=  18.0s\n",
      "[CV] criterion=gini, max_depth=30, min_samples_leaf=6, min_samples_split=10, splitter=random \n",
      "[CV]  criterion=gini, max_depth=30, min_samples_leaf=6, min_samples_split=10, splitter=random, total=  19.8s\n",
      "[CV] criterion=gini, max_depth=30, min_samples_leaf=6, min_samples_split=10, splitter=random \n",
      "[CV]  criterion=gini, max_depth=30, min_samples_leaf=6, min_samples_split=10, splitter=random, total=  20.3s\n",
      "[CV] criterion=gini, max_depth=30, min_samples_leaf=6, min_samples_split=20, splitter=best \n",
      "[CV]  criterion=gini, max_depth=30, min_samples_leaf=6, min_samples_split=20, splitter=best, total= 2.4min\n",
      "[CV] criterion=gini, max_depth=30, min_samples_leaf=6, min_samples_split=20, splitter=best \n",
      "[CV]  criterion=gini, max_depth=30, min_samples_leaf=6, min_samples_split=20, splitter=best, total= 1.1min\n",
      "[CV] criterion=gini, max_depth=30, min_samples_leaf=6, min_samples_split=20, splitter=best \n",
      "[CV]  criterion=gini, max_depth=30, min_samples_leaf=6, min_samples_split=20, splitter=best, total= 1.1min\n",
      "[CV] criterion=gini, max_depth=30, min_samples_leaf=6, min_samples_split=20, splitter=random \n",
      "[CV]  criterion=gini, max_depth=30, min_samples_leaf=6, min_samples_split=20, splitter=random, total=  20.7s\n",
      "[CV] criterion=gini, max_depth=30, min_samples_leaf=6, min_samples_split=20, splitter=random \n",
      "[CV]  criterion=gini, max_depth=30, min_samples_leaf=6, min_samples_split=20, splitter=random, total=  17.2s\n",
      "[CV] criterion=gini, max_depth=30, min_samples_leaf=6, min_samples_split=20, splitter=random \n",
      "[CV]  criterion=gini, max_depth=30, min_samples_leaf=6, min_samples_split=20, splitter=random, total=  17.5s\n",
      "[CV] criterion=entropy, max_depth=10, min_samples_leaf=2, min_samples_split=5, splitter=best \n",
      "[CV]  criterion=entropy, max_depth=10, min_samples_leaf=2, min_samples_split=5, splitter=best, total=  59.8s\n"
     ]
    },
    {
     "name": "stdout",
     "output_type": "stream",
     "text": [
      "[CV] criterion=entropy, max_depth=10, min_samples_leaf=2, min_samples_split=5, splitter=best \n",
      "[CV]  criterion=entropy, max_depth=10, min_samples_leaf=2, min_samples_split=5, splitter=best, total= 1.3min\n",
      "[CV] criterion=entropy, max_depth=10, min_samples_leaf=2, min_samples_split=5, splitter=best \n",
      "[CV]  criterion=entropy, max_depth=10, min_samples_leaf=2, min_samples_split=5, splitter=best, total= 1.3min\n",
      "[CV] criterion=entropy, max_depth=10, min_samples_leaf=2, min_samples_split=5, splitter=random \n",
      "[CV]  criterion=entropy, max_depth=10, min_samples_leaf=2, min_samples_split=5, splitter=random, total=  13.9s\n",
      "[CV] criterion=entropy, max_depth=10, min_samples_leaf=2, min_samples_split=5, splitter=random \n",
      "[CV]  criterion=entropy, max_depth=10, min_samples_leaf=2, min_samples_split=5, splitter=random, total=  14.3s\n",
      "[CV] criterion=entropy, max_depth=10, min_samples_leaf=2, min_samples_split=5, splitter=random \n",
      "[CV]  criterion=entropy, max_depth=10, min_samples_leaf=2, min_samples_split=5, splitter=random, total=  18.2s\n",
      "[CV] criterion=entropy, max_depth=10, min_samples_leaf=2, min_samples_split=10, splitter=best \n",
      "[CV]  criterion=entropy, max_depth=10, min_samples_leaf=2, min_samples_split=10, splitter=best, total= 1.1min\n",
      "[CV] criterion=entropy, max_depth=10, min_samples_leaf=2, min_samples_split=10, splitter=best \n",
      "[CV]  criterion=entropy, max_depth=10, min_samples_leaf=2, min_samples_split=10, splitter=best, total= 1.2min\n",
      "[CV] criterion=entropy, max_depth=10, min_samples_leaf=2, min_samples_split=10, splitter=best \n",
      "[CV]  criterion=entropy, max_depth=10, min_samples_leaf=2, min_samples_split=10, splitter=best, total= 1.4min\n",
      "[CV] criterion=entropy, max_depth=10, min_samples_leaf=2, min_samples_split=10, splitter=random \n",
      "[CV]  criterion=entropy, max_depth=10, min_samples_leaf=2, min_samples_split=10, splitter=random, total=  14.8s\n",
      "[CV] criterion=entropy, max_depth=10, min_samples_leaf=2, min_samples_split=10, splitter=random \n",
      "[CV]  criterion=entropy, max_depth=10, min_samples_leaf=2, min_samples_split=10, splitter=random, total=  16.0s\n",
      "[CV] criterion=entropy, max_depth=10, min_samples_leaf=2, min_samples_split=10, splitter=random \n",
      "[CV]  criterion=entropy, max_depth=10, min_samples_leaf=2, min_samples_split=10, splitter=random, total=  16.2s\n",
      "[CV] criterion=entropy, max_depth=10, min_samples_leaf=2, min_samples_split=20, splitter=best \n",
      "[CV]  criterion=entropy, max_depth=10, min_samples_leaf=2, min_samples_split=20, splitter=best, total= 1.0min\n",
      "[CV] criterion=entropy, max_depth=10, min_samples_leaf=2, min_samples_split=20, splitter=best \n",
      "[CV]  criterion=entropy, max_depth=10, min_samples_leaf=2, min_samples_split=20, splitter=best, total= 1.1min\n",
      "[CV] criterion=entropy, max_depth=10, min_samples_leaf=2, min_samples_split=20, splitter=best \n",
      "[CV]  criterion=entropy, max_depth=10, min_samples_leaf=2, min_samples_split=20, splitter=best, total= 1.3min\n",
      "[CV] criterion=entropy, max_depth=10, min_samples_leaf=2, min_samples_split=20, splitter=random \n",
      "[CV]  criterion=entropy, max_depth=10, min_samples_leaf=2, min_samples_split=20, splitter=random, total=  13.6s\n",
      "[CV] criterion=entropy, max_depth=10, min_samples_leaf=2, min_samples_split=20, splitter=random \n",
      "[CV]  criterion=entropy, max_depth=10, min_samples_leaf=2, min_samples_split=20, splitter=random, total=  13.3s\n",
      "[CV] criterion=entropy, max_depth=10, min_samples_leaf=2, min_samples_split=20, splitter=random \n",
      "[CV]  criterion=entropy, max_depth=10, min_samples_leaf=2, min_samples_split=20, splitter=random, total=  16.1s\n",
      "[CV] criterion=entropy, max_depth=10, min_samples_leaf=4, min_samples_split=5, splitter=best \n",
      "[CV]  criterion=entropy, max_depth=10, min_samples_leaf=4, min_samples_split=5, splitter=best, total=  59.1s\n",
      "[CV] criterion=entropy, max_depth=10, min_samples_leaf=4, min_samples_split=5, splitter=best \n",
      "[CV]  criterion=entropy, max_depth=10, min_samples_leaf=4, min_samples_split=5, splitter=best, total= 1.2min\n",
      "[CV] criterion=entropy, max_depth=10, min_samples_leaf=4, min_samples_split=5, splitter=best \n",
      "[CV]  criterion=entropy, max_depth=10, min_samples_leaf=4, min_samples_split=5, splitter=best, total= 1.3min\n",
      "[CV] criterion=entropy, max_depth=10, min_samples_leaf=4, min_samples_split=5, splitter=random \n",
      "[CV]  criterion=entropy, max_depth=10, min_samples_leaf=4, min_samples_split=5, splitter=random, total=  13.9s\n",
      "[CV] criterion=entropy, max_depth=10, min_samples_leaf=4, min_samples_split=5, splitter=random \n",
      "[CV]  criterion=entropy, max_depth=10, min_samples_leaf=4, min_samples_split=5, splitter=random, total=  14.0s\n",
      "[CV] criterion=entropy, max_depth=10, min_samples_leaf=4, min_samples_split=5, splitter=random \n",
      "[CV]  criterion=entropy, max_depth=10, min_samples_leaf=4, min_samples_split=5, splitter=random, total=  16.7s\n",
      "[CV] criterion=entropy, max_depth=10, min_samples_leaf=4, min_samples_split=10, splitter=best \n",
      "[CV]  criterion=entropy, max_depth=10, min_samples_leaf=4, min_samples_split=10, splitter=best, total= 1.2min\n",
      "[CV] criterion=entropy, max_depth=10, min_samples_leaf=4, min_samples_split=10, splitter=best \n",
      "[CV]  criterion=entropy, max_depth=10, min_samples_leaf=4, min_samples_split=10, splitter=best, total= 1.2min\n",
      "[CV] criterion=entropy, max_depth=10, min_samples_leaf=4, min_samples_split=10, splitter=best \n",
      "[CV]  criterion=entropy, max_depth=10, min_samples_leaf=4, min_samples_split=10, splitter=best, total= 1.3min\n",
      "[CV] criterion=entropy, max_depth=10, min_samples_leaf=4, min_samples_split=10, splitter=random \n",
      "[CV]  criterion=entropy, max_depth=10, min_samples_leaf=4, min_samples_split=10, splitter=random, total=  13.3s\n",
      "[CV] criterion=entropy, max_depth=10, min_samples_leaf=4, min_samples_split=10, splitter=random \n",
      "[CV]  criterion=entropy, max_depth=10, min_samples_leaf=4, min_samples_split=10, splitter=random, total=  13.8s\n",
      "[CV] criterion=entropy, max_depth=10, min_samples_leaf=4, min_samples_split=10, splitter=random \n",
      "[CV]  criterion=entropy, max_depth=10, min_samples_leaf=4, min_samples_split=10, splitter=random, total=  16.2s\n",
      "[CV] criterion=entropy, max_depth=10, min_samples_leaf=4, min_samples_split=20, splitter=best \n",
      "[CV]  criterion=entropy, max_depth=10, min_samples_leaf=4, min_samples_split=20, splitter=best, total=  54.6s\n",
      "[CV] criterion=entropy, max_depth=10, min_samples_leaf=4, min_samples_split=20, splitter=best \n",
      "[CV]  criterion=entropy, max_depth=10, min_samples_leaf=4, min_samples_split=20, splitter=best, total= 1.3min\n",
      "[CV] criterion=entropy, max_depth=10, min_samples_leaf=4, min_samples_split=20, splitter=best \n",
      "[CV]  criterion=entropy, max_depth=10, min_samples_leaf=4, min_samples_split=20, splitter=best, total= 1.4min\n",
      "[CV] criterion=entropy, max_depth=10, min_samples_leaf=4, min_samples_split=20, splitter=random \n",
      "[CV]  criterion=entropy, max_depth=10, min_samples_leaf=4, min_samples_split=20, splitter=random, total=  14.4s\n",
      "[CV] criterion=entropy, max_depth=10, min_samples_leaf=4, min_samples_split=20, splitter=random \n",
      "[CV]  criterion=entropy, max_depth=10, min_samples_leaf=4, min_samples_split=20, splitter=random, total=  13.9s\n",
      "[CV] criterion=entropy, max_depth=10, min_samples_leaf=4, min_samples_split=20, splitter=random \n",
      "[CV]  criterion=entropy, max_depth=10, min_samples_leaf=4, min_samples_split=20, splitter=random, total=  15.9s\n",
      "[CV] criterion=entropy, max_depth=10, min_samples_leaf=6, min_samples_split=5, splitter=best \n",
      "[CV]  criterion=entropy, max_depth=10, min_samples_leaf=6, min_samples_split=5, splitter=best, total= 1.0min\n",
      "[CV] criterion=entropy, max_depth=10, min_samples_leaf=6, min_samples_split=5, splitter=best \n",
      "[CV]  criterion=entropy, max_depth=10, min_samples_leaf=6, min_samples_split=5, splitter=best, total= 1.2min\n",
      "[CV] criterion=entropy, max_depth=10, min_samples_leaf=6, min_samples_split=5, splitter=best \n",
      "[CV]  criterion=entropy, max_depth=10, min_samples_leaf=6, min_samples_split=5, splitter=best, total= 1.3min\n",
      "[CV] criterion=entropy, max_depth=10, min_samples_leaf=6, min_samples_split=5, splitter=random \n",
      "[CV]  criterion=entropy, max_depth=10, min_samples_leaf=6, min_samples_split=5, splitter=random, total=  14.8s\n",
      "[CV] criterion=entropy, max_depth=10, min_samples_leaf=6, min_samples_split=5, splitter=random \n"
     ]
    },
    {
     "name": "stdout",
     "output_type": "stream",
     "text": [
      "[CV]  criterion=entropy, max_depth=10, min_samples_leaf=6, min_samples_split=5, splitter=random, total=  14.9s\n",
      "[CV] criterion=entropy, max_depth=10, min_samples_leaf=6, min_samples_split=5, splitter=random \n",
      "[CV]  criterion=entropy, max_depth=10, min_samples_leaf=6, min_samples_split=5, splitter=random, total=  15.1s\n",
      "[CV] criterion=entropy, max_depth=10, min_samples_leaf=6, min_samples_split=10, splitter=best \n",
      "[CV]  criterion=entropy, max_depth=10, min_samples_leaf=6, min_samples_split=10, splitter=best, total= 1.0min\n",
      "[CV] criterion=entropy, max_depth=10, min_samples_leaf=6, min_samples_split=10, splitter=best \n",
      "[CV]  criterion=entropy, max_depth=10, min_samples_leaf=6, min_samples_split=10, splitter=best, total= 1.2min\n",
      "[CV] criterion=entropy, max_depth=10, min_samples_leaf=6, min_samples_split=10, splitter=best \n",
      "[CV]  criterion=entropy, max_depth=10, min_samples_leaf=6, min_samples_split=10, splitter=best, total= 1.5min\n",
      "[CV] criterion=entropy, max_depth=10, min_samples_leaf=6, min_samples_split=10, splitter=random \n",
      "[CV]  criterion=entropy, max_depth=10, min_samples_leaf=6, min_samples_split=10, splitter=random, total=  14.6s\n",
      "[CV] criterion=entropy, max_depth=10, min_samples_leaf=6, min_samples_split=10, splitter=random \n",
      "[CV]  criterion=entropy, max_depth=10, min_samples_leaf=6, min_samples_split=10, splitter=random, total=  17.5s\n",
      "[CV] criterion=entropy, max_depth=10, min_samples_leaf=6, min_samples_split=10, splitter=random \n",
      "[CV]  criterion=entropy, max_depth=10, min_samples_leaf=6, min_samples_split=10, splitter=random, total=  18.5s\n",
      "[CV] criterion=entropy, max_depth=10, min_samples_leaf=6, min_samples_split=20, splitter=best \n",
      "[CV]  criterion=entropy, max_depth=10, min_samples_leaf=6, min_samples_split=20, splitter=best, total= 1.2min\n",
      "[CV] criterion=entropy, max_depth=10, min_samples_leaf=6, min_samples_split=20, splitter=best \n",
      "[CV]  criterion=entropy, max_depth=10, min_samples_leaf=6, min_samples_split=20, splitter=best, total= 1.3min\n",
      "[CV] criterion=entropy, max_depth=10, min_samples_leaf=6, min_samples_split=20, splitter=best \n",
      "[CV]  criterion=entropy, max_depth=10, min_samples_leaf=6, min_samples_split=20, splitter=best, total= 1.3min\n",
      "[CV] criterion=entropy, max_depth=10, min_samples_leaf=6, min_samples_split=20, splitter=random \n",
      "[CV]  criterion=entropy, max_depth=10, min_samples_leaf=6, min_samples_split=20, splitter=random, total=  13.1s\n",
      "[CV] criterion=entropy, max_depth=10, min_samples_leaf=6, min_samples_split=20, splitter=random \n",
      "[CV]  criterion=entropy, max_depth=10, min_samples_leaf=6, min_samples_split=20, splitter=random, total=  13.3s\n",
      "[CV] criterion=entropy, max_depth=10, min_samples_leaf=6, min_samples_split=20, splitter=random \n",
      "[CV]  criterion=entropy, max_depth=10, min_samples_leaf=6, min_samples_split=20, splitter=random, total=  13.4s\n",
      "[CV] criterion=entropy, max_depth=20, min_samples_leaf=2, min_samples_split=5, splitter=best \n",
      "[CV]  criterion=entropy, max_depth=20, min_samples_leaf=2, min_samples_split=5, splitter=best, total= 1.5min\n",
      "[CV] criterion=entropy, max_depth=20, min_samples_leaf=2, min_samples_split=5, splitter=best \n",
      "[CV]  criterion=entropy, max_depth=20, min_samples_leaf=2, min_samples_split=5, splitter=best, total= 1.3min\n",
      "[CV] criterion=entropy, max_depth=20, min_samples_leaf=2, min_samples_split=5, splitter=best \n",
      "[CV]  criterion=entropy, max_depth=20, min_samples_leaf=2, min_samples_split=5, splitter=best, total= 1.6min\n",
      "[CV] criterion=entropy, max_depth=20, min_samples_leaf=2, min_samples_split=5, splitter=random \n",
      "[CV]  criterion=entropy, max_depth=20, min_samples_leaf=2, min_samples_split=5, splitter=random, total=  13.6s\n",
      "[CV] criterion=entropy, max_depth=20, min_samples_leaf=2, min_samples_split=5, splitter=random \n",
      "[CV]  criterion=entropy, max_depth=20, min_samples_leaf=2, min_samples_split=5, splitter=random, total=  19.9s\n",
      "[CV] criterion=entropy, max_depth=20, min_samples_leaf=2, min_samples_split=5, splitter=random \n",
      "[CV]  criterion=entropy, max_depth=20, min_samples_leaf=2, min_samples_split=5, splitter=random, total=  20.3s\n",
      "[CV] criterion=entropy, max_depth=20, min_samples_leaf=2, min_samples_split=10, splitter=best \n",
      "[CV]  criterion=entropy, max_depth=20, min_samples_leaf=2, min_samples_split=10, splitter=best, total= 1.3min\n",
      "[CV] criterion=entropy, max_depth=20, min_samples_leaf=2, min_samples_split=10, splitter=best \n",
      "[CV]  criterion=entropy, max_depth=20, min_samples_leaf=2, min_samples_split=10, splitter=best, total= 1.6min\n",
      "[CV] criterion=entropy, max_depth=20, min_samples_leaf=2, min_samples_split=10, splitter=best \n",
      "[CV]  criterion=entropy, max_depth=20, min_samples_leaf=2, min_samples_split=10, splitter=best, total= 1.7min\n",
      "[CV] criterion=entropy, max_depth=20, min_samples_leaf=2, min_samples_split=10, splitter=random \n",
      "[CV]  criterion=entropy, max_depth=20, min_samples_leaf=2, min_samples_split=10, splitter=random, total=  15.5s\n",
      "[CV] criterion=entropy, max_depth=20, min_samples_leaf=2, min_samples_split=10, splitter=random \n",
      "[CV]  criterion=entropy, max_depth=20, min_samples_leaf=2, min_samples_split=10, splitter=random, total=  18.2s\n",
      "[CV] criterion=entropy, max_depth=20, min_samples_leaf=2, min_samples_split=10, splitter=random \n",
      "[CV]  criterion=entropy, max_depth=20, min_samples_leaf=2, min_samples_split=10, splitter=random, total=  20.5s\n",
      "[CV] criterion=entropy, max_depth=20, min_samples_leaf=2, min_samples_split=20, splitter=best \n",
      "[CV]  criterion=entropy, max_depth=20, min_samples_leaf=2, min_samples_split=20, splitter=best, total= 1.4min\n",
      "[CV] criterion=entropy, max_depth=20, min_samples_leaf=2, min_samples_split=20, splitter=best \n",
      "[CV]  criterion=entropy, max_depth=20, min_samples_leaf=2, min_samples_split=20, splitter=best, total= 1.4min\n",
      "[CV] criterion=entropy, max_depth=20, min_samples_leaf=2, min_samples_split=20, splitter=best \n",
      "[CV]  criterion=entropy, max_depth=20, min_samples_leaf=2, min_samples_split=20, splitter=best, total= 1.6min\n",
      "[CV] criterion=entropy, max_depth=20, min_samples_leaf=2, min_samples_split=20, splitter=random \n",
      "[CV]  criterion=entropy, max_depth=20, min_samples_leaf=2, min_samples_split=20, splitter=random, total=  17.8s\n",
      "[CV] criterion=entropy, max_depth=20, min_samples_leaf=2, min_samples_split=20, splitter=random \n",
      "[CV]  criterion=entropy, max_depth=20, min_samples_leaf=2, min_samples_split=20, splitter=random, total=  18.6s\n",
      "[CV] criterion=entropy, max_depth=20, min_samples_leaf=2, min_samples_split=20, splitter=random \n",
      "[CV]  criterion=entropy, max_depth=20, min_samples_leaf=2, min_samples_split=20, splitter=random, total=  18.4s\n",
      "[CV] criterion=entropy, max_depth=20, min_samples_leaf=4, min_samples_split=5, splitter=best \n",
      "[CV]  criterion=entropy, max_depth=20, min_samples_leaf=4, min_samples_split=5, splitter=best, total= 1.5min\n",
      "[CV] criterion=entropy, max_depth=20, min_samples_leaf=4, min_samples_split=5, splitter=best \n",
      "[CV]  criterion=entropy, max_depth=20, min_samples_leaf=4, min_samples_split=5, splitter=best, total= 1.3min\n",
      "[CV] criterion=entropy, max_depth=20, min_samples_leaf=4, min_samples_split=5, splitter=best \n",
      "[CV]  criterion=entropy, max_depth=20, min_samples_leaf=4, min_samples_split=5, splitter=best, total= 1.6min\n",
      "[CV] criterion=entropy, max_depth=20, min_samples_leaf=4, min_samples_split=5, splitter=random \n",
      "[CV]  criterion=entropy, max_depth=20, min_samples_leaf=4, min_samples_split=5, splitter=random, total=  17.7s\n",
      "[CV] criterion=entropy, max_depth=20, min_samples_leaf=4, min_samples_split=5, splitter=random \n",
      "[CV]  criterion=entropy, max_depth=20, min_samples_leaf=4, min_samples_split=5, splitter=random, total=  18.4s\n",
      "[CV] criterion=entropy, max_depth=20, min_samples_leaf=4, min_samples_split=5, splitter=random \n",
      "[CV]  criterion=entropy, max_depth=20, min_samples_leaf=4, min_samples_split=5, splitter=random, total=  22.1s\n",
      "[CV] criterion=entropy, max_depth=20, min_samples_leaf=4, min_samples_split=10, splitter=best \n",
      "[CV]  criterion=entropy, max_depth=20, min_samples_leaf=4, min_samples_split=10, splitter=best, total= 1.4min\n",
      "[CV] criterion=entropy, max_depth=20, min_samples_leaf=4, min_samples_split=10, splitter=best \n",
      "[CV]  criterion=entropy, max_depth=20, min_samples_leaf=4, min_samples_split=10, splitter=best, total= 1.4min\n"
     ]
    },
    {
     "name": "stdout",
     "output_type": "stream",
     "text": [
      "[CV] criterion=entropy, max_depth=20, min_samples_leaf=4, min_samples_split=10, splitter=best \n",
      "[CV]  criterion=entropy, max_depth=20, min_samples_leaf=4, min_samples_split=10, splitter=best, total= 1.6min\n",
      "[CV] criterion=entropy, max_depth=20, min_samples_leaf=4, min_samples_split=10, splitter=random \n",
      "[CV]  criterion=entropy, max_depth=20, min_samples_leaf=4, min_samples_split=10, splitter=random, total=  16.5s\n",
      "[CV] criterion=entropy, max_depth=20, min_samples_leaf=4, min_samples_split=10, splitter=random \n",
      "[CV]  criterion=entropy, max_depth=20, min_samples_leaf=4, min_samples_split=10, splitter=random, total=  13.9s\n",
      "[CV] criterion=entropy, max_depth=20, min_samples_leaf=4, min_samples_split=10, splitter=random \n",
      "[CV]  criterion=entropy, max_depth=20, min_samples_leaf=4, min_samples_split=10, splitter=random, total=  18.2s\n",
      "[CV] criterion=entropy, max_depth=20, min_samples_leaf=4, min_samples_split=20, splitter=best \n",
      "[CV]  criterion=entropy, max_depth=20, min_samples_leaf=4, min_samples_split=20, splitter=best, total= 1.4min\n",
      "[CV] criterion=entropy, max_depth=20, min_samples_leaf=4, min_samples_split=20, splitter=best \n",
      "[CV]  criterion=entropy, max_depth=20, min_samples_leaf=4, min_samples_split=20, splitter=best, total= 1.4min\n",
      "[CV] criterion=entropy, max_depth=20, min_samples_leaf=4, min_samples_split=20, splitter=best \n",
      "[CV]  criterion=entropy, max_depth=20, min_samples_leaf=4, min_samples_split=20, splitter=best, total= 1.5min\n",
      "[CV] criterion=entropy, max_depth=20, min_samples_leaf=4, min_samples_split=20, splitter=random \n",
      "[CV]  criterion=entropy, max_depth=20, min_samples_leaf=4, min_samples_split=20, splitter=random, total=  17.2s\n",
      "[CV] criterion=entropy, max_depth=20, min_samples_leaf=4, min_samples_split=20, splitter=random \n",
      "[CV]  criterion=entropy, max_depth=20, min_samples_leaf=4, min_samples_split=20, splitter=random, total=  16.4s\n",
      "[CV] criterion=entropy, max_depth=20, min_samples_leaf=4, min_samples_split=20, splitter=random \n",
      "[CV]  criterion=entropy, max_depth=20, min_samples_leaf=4, min_samples_split=20, splitter=random, total=  19.4s\n",
      "[CV] criterion=entropy, max_depth=20, min_samples_leaf=6, min_samples_split=5, splitter=best \n",
      "[CV]  criterion=entropy, max_depth=20, min_samples_leaf=6, min_samples_split=5, splitter=best, total= 1.4min\n",
      "[CV] criterion=entropy, max_depth=20, min_samples_leaf=6, min_samples_split=5, splitter=best \n",
      "[CV]  criterion=entropy, max_depth=20, min_samples_leaf=6, min_samples_split=5, splitter=best, total= 1.3min\n",
      "[CV] criterion=entropy, max_depth=20, min_samples_leaf=6, min_samples_split=5, splitter=best \n",
      "[CV]  criterion=entropy, max_depth=20, min_samples_leaf=6, min_samples_split=5, splitter=best, total= 1.5min\n",
      "[CV] criterion=entropy, max_depth=20, min_samples_leaf=6, min_samples_split=5, splitter=random \n",
      "[CV]  criterion=entropy, max_depth=20, min_samples_leaf=6, min_samples_split=5, splitter=random, total=  15.8s\n",
      "[CV] criterion=entropy, max_depth=20, min_samples_leaf=6, min_samples_split=5, splitter=random \n",
      "[CV]  criterion=entropy, max_depth=20, min_samples_leaf=6, min_samples_split=5, splitter=random, total=  18.4s\n",
      "[CV] criterion=entropy, max_depth=20, min_samples_leaf=6, min_samples_split=5, splitter=random \n",
      "[CV]  criterion=entropy, max_depth=20, min_samples_leaf=6, min_samples_split=5, splitter=random, total=  18.1s\n",
      "[CV] criterion=entropy, max_depth=20, min_samples_leaf=6, min_samples_split=10, splitter=best \n",
      "[CV]  criterion=entropy, max_depth=20, min_samples_leaf=6, min_samples_split=10, splitter=best, total= 1.4min\n",
      "[CV] criterion=entropy, max_depth=20, min_samples_leaf=6, min_samples_split=10, splitter=best \n",
      "[CV]  criterion=entropy, max_depth=20, min_samples_leaf=6, min_samples_split=10, splitter=best, total= 1.3min\n",
      "[CV] criterion=entropy, max_depth=20, min_samples_leaf=6, min_samples_split=10, splitter=best \n",
      "[CV]  criterion=entropy, max_depth=20, min_samples_leaf=6, min_samples_split=10, splitter=best, total= 1.5min\n",
      "[CV] criterion=entropy, max_depth=20, min_samples_leaf=6, min_samples_split=10, splitter=random \n",
      "[CV]  criterion=entropy, max_depth=20, min_samples_leaf=6, min_samples_split=10, splitter=random, total=  17.3s\n",
      "[CV] criterion=entropy, max_depth=20, min_samples_leaf=6, min_samples_split=10, splitter=random \n",
      "[CV]  criterion=entropy, max_depth=20, min_samples_leaf=6, min_samples_split=10, splitter=random, total=  17.8s\n",
      "[CV] criterion=entropy, max_depth=20, min_samples_leaf=6, min_samples_split=10, splitter=random \n",
      "[CV]  criterion=entropy, max_depth=20, min_samples_leaf=6, min_samples_split=10, splitter=random, total=  19.3s\n",
      "[CV] criterion=entropy, max_depth=20, min_samples_leaf=6, min_samples_split=20, splitter=best \n",
      "[CV]  criterion=entropy, max_depth=20, min_samples_leaf=6, min_samples_split=20, splitter=best, total= 1.4min\n",
      "[CV] criterion=entropy, max_depth=20, min_samples_leaf=6, min_samples_split=20, splitter=best \n",
      "[CV]  criterion=entropy, max_depth=20, min_samples_leaf=6, min_samples_split=20, splitter=best, total= 1.3min\n",
      "[CV] criterion=entropy, max_depth=20, min_samples_leaf=6, min_samples_split=20, splitter=best \n",
      "[CV]  criterion=entropy, max_depth=20, min_samples_leaf=6, min_samples_split=20, splitter=best, total= 1.5min\n",
      "[CV] criterion=entropy, max_depth=20, min_samples_leaf=6, min_samples_split=20, splitter=random \n",
      "[CV]  criterion=entropy, max_depth=20, min_samples_leaf=6, min_samples_split=20, splitter=random, total=  17.1s\n",
      "[CV] criterion=entropy, max_depth=20, min_samples_leaf=6, min_samples_split=20, splitter=random \n",
      "[CV]  criterion=entropy, max_depth=20, min_samples_leaf=6, min_samples_split=20, splitter=random, total=  15.8s\n",
      "[CV] criterion=entropy, max_depth=20, min_samples_leaf=6, min_samples_split=20, splitter=random \n",
      "[CV]  criterion=entropy, max_depth=20, min_samples_leaf=6, min_samples_split=20, splitter=random, total=  12.8s\n",
      "[CV] criterion=entropy, max_depth=30, min_samples_leaf=2, min_samples_split=5, splitter=best \n",
      "[CV]  criterion=entropy, max_depth=30, min_samples_leaf=2, min_samples_split=5, splitter=best, total= 1.3min\n",
      "[CV] criterion=entropy, max_depth=30, min_samples_leaf=2, min_samples_split=5, splitter=best \n",
      "[CV]  criterion=entropy, max_depth=30, min_samples_leaf=2, min_samples_split=5, splitter=best, total= 1.4min\n",
      "[CV] criterion=entropy, max_depth=30, min_samples_leaf=2, min_samples_split=5, splitter=best \n",
      "[CV]  criterion=entropy, max_depth=30, min_samples_leaf=2, min_samples_split=5, splitter=best, total= 1.8min\n",
      "[CV] criterion=entropy, max_depth=30, min_samples_leaf=2, min_samples_split=5, splitter=random \n",
      "[CV]  criterion=entropy, max_depth=30, min_samples_leaf=2, min_samples_split=5, splitter=random, total=  23.2s\n",
      "[CV] criterion=entropy, max_depth=30, min_samples_leaf=2, min_samples_split=5, splitter=random \n",
      "[CV]  criterion=entropy, max_depth=30, min_samples_leaf=2, min_samples_split=5, splitter=random, total=  19.2s\n",
      "[CV] criterion=entropy, max_depth=30, min_samples_leaf=2, min_samples_split=5, splitter=random \n",
      "[CV]  criterion=entropy, max_depth=30, min_samples_leaf=2, min_samples_split=5, splitter=random, total=  25.6s\n",
      "[CV] criterion=entropy, max_depth=30, min_samples_leaf=2, min_samples_split=10, splitter=best \n",
      "[CV]  criterion=entropy, max_depth=30, min_samples_leaf=2, min_samples_split=10, splitter=best, total= 1.7min\n",
      "[CV] criterion=entropy, max_depth=30, min_samples_leaf=2, min_samples_split=10, splitter=best \n",
      "[CV]  criterion=entropy, max_depth=30, min_samples_leaf=2, min_samples_split=10, splitter=best, total= 1.7min\n",
      "[CV] criterion=entropy, max_depth=30, min_samples_leaf=2, min_samples_split=10, splitter=best \n",
      "[CV]  criterion=entropy, max_depth=30, min_samples_leaf=2, min_samples_split=10, splitter=best, total= 1.8min\n",
      "[CV] criterion=entropy, max_depth=30, min_samples_leaf=2, min_samples_split=10, splitter=random \n",
      "[CV]  criterion=entropy, max_depth=30, min_samples_leaf=2, min_samples_split=10, splitter=random, total=  21.0s\n",
      "[CV] criterion=entropy, max_depth=30, min_samples_leaf=2, min_samples_split=10, splitter=random \n",
      "[CV]  criterion=entropy, max_depth=30, min_samples_leaf=2, min_samples_split=10, splitter=random, total=  20.2s\n",
      "[CV] criterion=entropy, max_depth=30, min_samples_leaf=2, min_samples_split=10, splitter=random \n"
     ]
    },
    {
     "name": "stdout",
     "output_type": "stream",
     "text": [
      "[CV]  criterion=entropy, max_depth=30, min_samples_leaf=2, min_samples_split=10, splitter=random, total=  23.1s\n",
      "[CV] criterion=entropy, max_depth=30, min_samples_leaf=2, min_samples_split=20, splitter=best \n",
      "[CV]  criterion=entropy, max_depth=30, min_samples_leaf=2, min_samples_split=20, splitter=best, total= 1.5min\n",
      "[CV] criterion=entropy, max_depth=30, min_samples_leaf=2, min_samples_split=20, splitter=best \n",
      "[CV]  criterion=entropy, max_depth=30, min_samples_leaf=2, min_samples_split=20, splitter=best, total= 1.5min\n",
      "[CV] criterion=entropy, max_depth=30, min_samples_leaf=2, min_samples_split=20, splitter=best \n",
      "[CV]  criterion=entropy, max_depth=30, min_samples_leaf=2, min_samples_split=20, splitter=best, total= 1.8min\n",
      "[CV] criterion=entropy, max_depth=30, min_samples_leaf=2, min_samples_split=20, splitter=random \n",
      "[CV]  criterion=entropy, max_depth=30, min_samples_leaf=2, min_samples_split=20, splitter=random, total=  20.6s\n",
      "[CV] criterion=entropy, max_depth=30, min_samples_leaf=2, min_samples_split=20, splitter=random \n",
      "[CV]  criterion=entropy, max_depth=30, min_samples_leaf=2, min_samples_split=20, splitter=random, total=  23.9s\n",
      "[CV] criterion=entropy, max_depth=30, min_samples_leaf=2, min_samples_split=20, splitter=random \n",
      "[CV]  criterion=entropy, max_depth=30, min_samples_leaf=2, min_samples_split=20, splitter=random, total=  25.3s\n",
      "[CV] criterion=entropy, max_depth=30, min_samples_leaf=4, min_samples_split=5, splitter=best \n",
      "[CV]  criterion=entropy, max_depth=30, min_samples_leaf=4, min_samples_split=5, splitter=best, total= 1.7min\n",
      "[CV] criterion=entropy, max_depth=30, min_samples_leaf=4, min_samples_split=5, splitter=best \n",
      "[CV]  criterion=entropy, max_depth=30, min_samples_leaf=4, min_samples_split=5, splitter=best, total= 1.5min\n",
      "[CV] criterion=entropy, max_depth=30, min_samples_leaf=4, min_samples_split=5, splitter=best \n",
      "[CV]  criterion=entropy, max_depth=30, min_samples_leaf=4, min_samples_split=5, splitter=best, total= 1.7min\n",
      "[CV] criterion=entropy, max_depth=30, min_samples_leaf=4, min_samples_split=5, splitter=random \n",
      "[CV]  criterion=entropy, max_depth=30, min_samples_leaf=4, min_samples_split=5, splitter=random, total=  17.5s\n",
      "[CV] criterion=entropy, max_depth=30, min_samples_leaf=4, min_samples_split=5, splitter=random \n",
      "[CV]  criterion=entropy, max_depth=30, min_samples_leaf=4, min_samples_split=5, splitter=random, total=  22.4s\n",
      "[CV] criterion=entropy, max_depth=30, min_samples_leaf=4, min_samples_split=5, splitter=random \n",
      "[CV]  criterion=entropy, max_depth=30, min_samples_leaf=4, min_samples_split=5, splitter=random, total=  23.7s\n",
      "[CV] criterion=entropy, max_depth=30, min_samples_leaf=4, min_samples_split=10, splitter=best \n",
      "[CV]  criterion=entropy, max_depth=30, min_samples_leaf=4, min_samples_split=10, splitter=best, total= 1.6min\n",
      "[CV] criterion=entropy, max_depth=30, min_samples_leaf=4, min_samples_split=10, splitter=best \n",
      "[CV]  criterion=entropy, max_depth=30, min_samples_leaf=4, min_samples_split=10, splitter=best, total= 1.6min\n",
      "[CV] criterion=entropy, max_depth=30, min_samples_leaf=4, min_samples_split=10, splitter=best \n",
      "[CV]  criterion=entropy, max_depth=30, min_samples_leaf=4, min_samples_split=10, splitter=best, total= 1.9min\n",
      "[CV] criterion=entropy, max_depth=30, min_samples_leaf=4, min_samples_split=10, splitter=random \n",
      "[CV]  criterion=entropy, max_depth=30, min_samples_leaf=4, min_samples_split=10, splitter=random, total=  19.9s\n",
      "[CV] criterion=entropy, max_depth=30, min_samples_leaf=4, min_samples_split=10, splitter=random \n",
      "[CV]  criterion=entropy, max_depth=30, min_samples_leaf=4, min_samples_split=10, splitter=random, total=  22.5s\n",
      "[CV] criterion=entropy, max_depth=30, min_samples_leaf=4, min_samples_split=10, splitter=random \n",
      "[CV]  criterion=entropy, max_depth=30, min_samples_leaf=4, min_samples_split=10, splitter=random, total=  22.1s\n",
      "[CV] criterion=entropy, max_depth=30, min_samples_leaf=4, min_samples_split=20, splitter=best \n",
      "[CV]  criterion=entropy, max_depth=30, min_samples_leaf=4, min_samples_split=20, splitter=best, total= 1.7min\n",
      "[CV] criterion=entropy, max_depth=30, min_samples_leaf=4, min_samples_split=20, splitter=best \n",
      "[CV]  criterion=entropy, max_depth=30, min_samples_leaf=4, min_samples_split=20, splitter=best, total= 1.6min\n",
      "[CV] criterion=entropy, max_depth=30, min_samples_leaf=4, min_samples_split=20, splitter=best \n",
      "[CV]  criterion=entropy, max_depth=30, min_samples_leaf=4, min_samples_split=20, splitter=best, total= 1.9min\n",
      "[CV] criterion=entropy, max_depth=30, min_samples_leaf=4, min_samples_split=20, splitter=random \n",
      "[CV]  criterion=entropy, max_depth=30, min_samples_leaf=4, min_samples_split=20, splitter=random, total=  17.9s\n",
      "[CV] criterion=entropy, max_depth=30, min_samples_leaf=4, min_samples_split=20, splitter=random \n",
      "[CV]  criterion=entropy, max_depth=30, min_samples_leaf=4, min_samples_split=20, splitter=random, total=  21.0s\n",
      "[CV] criterion=entropy, max_depth=30, min_samples_leaf=4, min_samples_split=20, splitter=random \n",
      "[CV]  criterion=entropy, max_depth=30, min_samples_leaf=4, min_samples_split=20, splitter=random, total=  23.1s\n",
      "[CV] criterion=entropy, max_depth=30, min_samples_leaf=6, min_samples_split=5, splitter=best \n",
      "[CV]  criterion=entropy, max_depth=30, min_samples_leaf=6, min_samples_split=5, splitter=best, total= 1.6min\n",
      "[CV] criterion=entropy, max_depth=30, min_samples_leaf=6, min_samples_split=5, splitter=best \n",
      "[CV]  criterion=entropy, max_depth=30, min_samples_leaf=6, min_samples_split=5, splitter=best, total= 1.5min\n",
      "[CV] criterion=entropy, max_depth=30, min_samples_leaf=6, min_samples_split=5, splitter=best \n",
      "[CV]  criterion=entropy, max_depth=30, min_samples_leaf=6, min_samples_split=5, splitter=best, total= 1.7min\n",
      "[CV] criterion=entropy, max_depth=30, min_samples_leaf=6, min_samples_split=5, splitter=random \n",
      "[CV]  criterion=entropy, max_depth=30, min_samples_leaf=6, min_samples_split=5, splitter=random, total=  21.0s\n",
      "[CV] criterion=entropy, max_depth=30, min_samples_leaf=6, min_samples_split=5, splitter=random \n",
      "[CV]  criterion=entropy, max_depth=30, min_samples_leaf=6, min_samples_split=5, splitter=random, total=  20.6s\n",
      "[CV] criterion=entropy, max_depth=30, min_samples_leaf=6, min_samples_split=5, splitter=random \n",
      "[CV]  criterion=entropy, max_depth=30, min_samples_leaf=6, min_samples_split=5, splitter=random, total=  25.1s\n",
      "[CV] criterion=entropy, max_depth=30, min_samples_leaf=6, min_samples_split=10, splitter=best \n",
      "[CV]  criterion=entropy, max_depth=30, min_samples_leaf=6, min_samples_split=10, splitter=best, total= 1.6min\n",
      "[CV] criterion=entropy, max_depth=30, min_samples_leaf=6, min_samples_split=10, splitter=best \n",
      "[CV]  criterion=entropy, max_depth=30, min_samples_leaf=6, min_samples_split=10, splitter=best, total= 1.4min\n",
      "[CV] criterion=entropy, max_depth=30, min_samples_leaf=6, min_samples_split=10, splitter=best \n",
      "[CV]  criterion=entropy, max_depth=30, min_samples_leaf=6, min_samples_split=10, splitter=best, total= 1.6min\n",
      "[CV] criterion=entropy, max_depth=30, min_samples_leaf=6, min_samples_split=10, splitter=random \n",
      "[CV]  criterion=entropy, max_depth=30, min_samples_leaf=6, min_samples_split=10, splitter=random, total=  19.8s\n",
      "[CV] criterion=entropy, max_depth=30, min_samples_leaf=6, min_samples_split=10, splitter=random \n",
      "[CV]  criterion=entropy, max_depth=30, min_samples_leaf=6, min_samples_split=10, splitter=random, total=  22.8s\n",
      "[CV] criterion=entropy, max_depth=30, min_samples_leaf=6, min_samples_split=10, splitter=random \n",
      "[CV]  criterion=entropy, max_depth=30, min_samples_leaf=6, min_samples_split=10, splitter=random, total=  22.6s\n",
      "[CV] criterion=entropy, max_depth=30, min_samples_leaf=6, min_samples_split=20, splitter=best \n",
      "[CV]  criterion=entropy, max_depth=30, min_samples_leaf=6, min_samples_split=20, splitter=best, total= 1.6min\n",
      "[CV] criterion=entropy, max_depth=30, min_samples_leaf=6, min_samples_split=20, splitter=best \n",
      "[CV]  criterion=entropy, max_depth=30, min_samples_leaf=6, min_samples_split=20, splitter=best, total= 1.2min\n",
      "[CV] criterion=entropy, max_depth=30, min_samples_leaf=6, min_samples_split=20, splitter=best \n",
      "[CV]  criterion=entropy, max_depth=30, min_samples_leaf=6, min_samples_split=20, splitter=best, total=  56.7s\n"
     ]
    },
    {
     "name": "stdout",
     "output_type": "stream",
     "text": [
      "[CV] criterion=entropy, max_depth=30, min_samples_leaf=6, min_samples_split=20, splitter=random \n",
      "[CV]  criterion=entropy, max_depth=30, min_samples_leaf=6, min_samples_split=20, splitter=random, total=  13.2s\n",
      "[CV] criterion=entropy, max_depth=30, min_samples_leaf=6, min_samples_split=20, splitter=random \n",
      "[CV]  criterion=entropy, max_depth=30, min_samples_leaf=6, min_samples_split=20, splitter=random, total=  15.6s\n",
      "[CV] criterion=entropy, max_depth=30, min_samples_leaf=6, min_samples_split=20, splitter=random \n",
      "[CV]  criterion=entropy, max_depth=30, min_samples_leaf=6, min_samples_split=20, splitter=random, total=  17.8s\n"
     ]
    },
    {
     "name": "stderr",
     "output_type": "stream",
     "text": [
      "[Parallel(n_jobs=1)]: Done 324 out of 324 | elapsed: 280.7min finished\n"
     ]
    },
    {
     "name": "stdout",
     "output_type": "stream",
     "text": [
      "0.6509872241579558\n",
      "{'criterion': 'entropy', 'max_depth': 20, 'min_samples_leaf': 2, 'min_samples_split': 5, 'splitter': 'random'}\n"
     ]
    },
    {
     "data": {
      "text/html": [
       "\n",
       "                <audio controls=\"controls\" autoplay=\"autoplay\">\n",
       "                    <source src=\"https://sound.peal.io/ps/audios/000/000/707/original/Good_Job!.wav\" type=\"audio/wav\" />\n",
       "                    Your browser does not support the audio element.\n",
       "                </audio>\n",
       "              "
      ],
      "text/plain": [
       "<IPython.lib.display.Audio object>"
      ]
     },
     "metadata": {},
     "output_type": "display_data"
    }
   ],
   "source": [
    "dtree1 = tree.DecisionTreeClassifier()\n",
    "dtparams = {'criterion':['gini', 'entropy'], 'splitter':['best','random'], 'max_depth':[10,20,30], 'min_samples_split':[5,10,20], 'min_samples_leaf':[2,4,6]}\n",
    "grid_dt = GridSearchCV(dtree1, dtparams, verbose=2)\n",
    "grid_dt.fit(x_train, y_train)\n",
    "grid_dt.predict(x_test)\n",
    "print(grid_dt.best_score_)\n",
    "print(grid_dt.best_params_)\n",
    "allDone()"
   ]
  },
  {
   "cell_type": "code",
   "execution_count": null,
   "metadata": {},
   "outputs": [
    {
     "name": "stdout",
     "output_type": "stream",
     "text": [
      "Fitting 3 folds for each of 324 candidates, totalling 972 fits\n",
      "[CV] criterion=gini, max_depth=10, min_samples_leaf=2, min_samples_split=5, n_estimators=10 \n",
      "[CV]  criterion=gini, max_depth=10, min_samples_leaf=2, min_samples_split=5, n_estimators=10, total=   4.6s\n"
     ]
    },
    {
     "name": "stderr",
     "output_type": "stream",
     "text": [
      "[Parallel(n_jobs=1)]: Done   1 out of   1 | elapsed:    5.6s remaining:    0.0s\n"
     ]
    },
    {
     "name": "stdout",
     "output_type": "stream",
     "text": [
      "[CV] criterion=gini, max_depth=10, min_samples_leaf=2, min_samples_split=5, n_estimators=10 \n",
      "[CV]  criterion=gini, max_depth=10, min_samples_leaf=2, min_samples_split=5, n_estimators=10, total=   4.1s\n",
      "[CV] criterion=gini, max_depth=10, min_samples_leaf=2, min_samples_split=5, n_estimators=10 \n",
      "[CV]  criterion=gini, max_depth=10, min_samples_leaf=2, min_samples_split=5, n_estimators=10, total=   3.9s\n",
      "[CV] criterion=gini, max_depth=10, min_samples_leaf=2, min_samples_split=5, n_estimators=100 \n",
      "[CV]  criterion=gini, max_depth=10, min_samples_leaf=2, min_samples_split=5, n_estimators=100, total=  16.1s\n",
      "[CV] criterion=gini, max_depth=10, min_samples_leaf=2, min_samples_split=5, n_estimators=100 \n",
      "[CV]  criterion=gini, max_depth=10, min_samples_leaf=2, min_samples_split=5, n_estimators=100, total=  17.1s\n",
      "[CV] criterion=gini, max_depth=10, min_samples_leaf=2, min_samples_split=5, n_estimators=100 \n",
      "[CV]  criterion=gini, max_depth=10, min_samples_leaf=2, min_samples_split=5, n_estimators=100, total=  18.9s\n",
      "[CV] criterion=gini, max_depth=10, min_samples_leaf=2, min_samples_split=5, n_estimators=200 \n",
      "[CV]  criterion=gini, max_depth=10, min_samples_leaf=2, min_samples_split=5, n_estimators=200, total=  28.0s\n",
      "[CV] criterion=gini, max_depth=10, min_samples_leaf=2, min_samples_split=5, n_estimators=200 \n",
      "[CV]  criterion=gini, max_depth=10, min_samples_leaf=2, min_samples_split=5, n_estimators=200, total=  33.9s\n",
      "[CV] criterion=gini, max_depth=10, min_samples_leaf=2, min_samples_split=5, n_estimators=200 \n",
      "[CV]  criterion=gini, max_depth=10, min_samples_leaf=2, min_samples_split=5, n_estimators=200, total=  40.6s\n",
      "[CV] criterion=gini, max_depth=10, min_samples_leaf=2, min_samples_split=5, n_estimators=300 \n",
      "[CV]  criterion=gini, max_depth=10, min_samples_leaf=2, min_samples_split=5, n_estimators=300, total=  45.8s\n",
      "[CV] criterion=gini, max_depth=10, min_samples_leaf=2, min_samples_split=5, n_estimators=300 \n",
      "[CV]  criterion=gini, max_depth=10, min_samples_leaf=2, min_samples_split=5, n_estimators=300, total=  52.1s\n",
      "[CV] criterion=gini, max_depth=10, min_samples_leaf=2, min_samples_split=5, n_estimators=300 \n",
      "[CV]  criterion=gini, max_depth=10, min_samples_leaf=2, min_samples_split=5, n_estimators=300, total=  46.9s\n",
      "[CV] criterion=gini, max_depth=10, min_samples_leaf=2, min_samples_split=5, n_estimators=400 \n",
      "[CV]  criterion=gini, max_depth=10, min_samples_leaf=2, min_samples_split=5, n_estimators=400, total=  55.5s\n",
      "[CV] criterion=gini, max_depth=10, min_samples_leaf=2, min_samples_split=5, n_estimators=400 \n",
      "[CV]  criterion=gini, max_depth=10, min_samples_leaf=2, min_samples_split=5, n_estimators=400, total= 1.1min\n",
      "[CV] criterion=gini, max_depth=10, min_samples_leaf=2, min_samples_split=5, n_estimators=400 \n",
      "[CV]  criterion=gini, max_depth=10, min_samples_leaf=2, min_samples_split=5, n_estimators=400, total= 1.2min\n",
      "[CV] criterion=gini, max_depth=10, min_samples_leaf=2, min_samples_split=5, n_estimators=500 \n",
      "[CV]  criterion=gini, max_depth=10, min_samples_leaf=2, min_samples_split=5, n_estimators=500, total= 1.2min\n",
      "[CV] criterion=gini, max_depth=10, min_samples_leaf=2, min_samples_split=5, n_estimators=500 \n",
      "[CV]  criterion=gini, max_depth=10, min_samples_leaf=2, min_samples_split=5, n_estimators=500, total= 1.1min\n",
      "[CV] criterion=gini, max_depth=10, min_samples_leaf=2, min_samples_split=5, n_estimators=500 \n",
      "[CV]  criterion=gini, max_depth=10, min_samples_leaf=2, min_samples_split=5, n_estimators=500, total= 1.2min\n",
      "[CV] criterion=gini, max_depth=10, min_samples_leaf=2, min_samples_split=10, n_estimators=10 \n",
      "[CV]  criterion=gini, max_depth=10, min_samples_leaf=2, min_samples_split=10, n_estimators=10, total=   3.9s\n",
      "[CV] criterion=gini, max_depth=10, min_samples_leaf=2, min_samples_split=10, n_estimators=10 \n",
      "[CV]  criterion=gini, max_depth=10, min_samples_leaf=2, min_samples_split=10, n_estimators=10, total=   3.8s\n",
      "[CV] criterion=gini, max_depth=10, min_samples_leaf=2, min_samples_split=10, n_estimators=10 \n",
      "[CV]  criterion=gini, max_depth=10, min_samples_leaf=2, min_samples_split=10, n_estimators=10, total=   4.1s\n",
      "[CV] criterion=gini, max_depth=10, min_samples_leaf=2, min_samples_split=10, n_estimators=100 \n",
      "[CV]  criterion=gini, max_depth=10, min_samples_leaf=2, min_samples_split=10, n_estimators=100, total=  16.2s\n",
      "[CV] criterion=gini, max_depth=10, min_samples_leaf=2, min_samples_split=10, n_estimators=100 \n",
      "[CV]  criterion=gini, max_depth=10, min_samples_leaf=2, min_samples_split=10, n_estimators=100, total=  17.8s\n",
      "[CV] criterion=gini, max_depth=10, min_samples_leaf=2, min_samples_split=10, n_estimators=100 \n",
      "[CV]  criterion=gini, max_depth=10, min_samples_leaf=2, min_samples_split=10, n_estimators=100, total=  19.0s\n",
      "[CV] criterion=gini, max_depth=10, min_samples_leaf=2, min_samples_split=10, n_estimators=200 \n",
      "[CV]  criterion=gini, max_depth=10, min_samples_leaf=2, min_samples_split=10, n_estimators=200, total=  28.2s\n",
      "[CV] criterion=gini, max_depth=10, min_samples_leaf=2, min_samples_split=10, n_estimators=200 \n",
      "[CV]  criterion=gini, max_depth=10, min_samples_leaf=2, min_samples_split=10, n_estimators=200, total=  32.7s\n",
      "[CV] criterion=gini, max_depth=10, min_samples_leaf=2, min_samples_split=10, n_estimators=200 \n",
      "[CV]  criterion=gini, max_depth=10, min_samples_leaf=2, min_samples_split=10, n_estimators=200, total=  35.0s\n",
      "[CV] criterion=gini, max_depth=10, min_samples_leaf=2, min_samples_split=10, n_estimators=300 \n",
      "[CV]  criterion=gini, max_depth=10, min_samples_leaf=2, min_samples_split=10, n_estimators=300, total=  39.7s\n",
      "[CV] criterion=gini, max_depth=10, min_samples_leaf=2, min_samples_split=10, n_estimators=300 \n",
      "[CV]  criterion=gini, max_depth=10, min_samples_leaf=2, min_samples_split=10, n_estimators=300, total=  46.6s\n",
      "[CV] criterion=gini, max_depth=10, min_samples_leaf=2, min_samples_split=10, n_estimators=300 \n",
      "[CV]  criterion=gini, max_depth=10, min_samples_leaf=2, min_samples_split=10, n_estimators=300, total=  46.2s\n",
      "[CV] criterion=gini, max_depth=10, min_samples_leaf=2, min_samples_split=10, n_estimators=400 \n",
      "[CV]  criterion=gini, max_depth=10, min_samples_leaf=2, min_samples_split=10, n_estimators=400, total=  58.0s\n",
      "[CV] criterion=gini, max_depth=10, min_samples_leaf=2, min_samples_split=10, n_estimators=400 \n",
      "[CV]  criterion=gini, max_depth=10, min_samples_leaf=2, min_samples_split=10, n_estimators=400, total=  51.0s\n",
      "[CV] criterion=gini, max_depth=10, min_samples_leaf=2, min_samples_split=10, n_estimators=400 \n",
      "[CV]  criterion=gini, max_depth=10, min_samples_leaf=2, min_samples_split=10, n_estimators=400, total=  58.4s\n",
      "[CV] criterion=gini, max_depth=10, min_samples_leaf=2, min_samples_split=10, n_estimators=500 \n",
      "[CV]  criterion=gini, max_depth=10, min_samples_leaf=2, min_samples_split=10, n_estimators=500, total= 1.2min\n",
      "[CV] criterion=gini, max_depth=10, min_samples_leaf=2, min_samples_split=10, n_estimators=500 \n",
      "[CV]  criterion=gini, max_depth=10, min_samples_leaf=2, min_samples_split=10, n_estimators=500, total= 1.3min\n",
      "[CV] criterion=gini, max_depth=10, min_samples_leaf=2, min_samples_split=10, n_estimators=500 \n",
      "[CV]  criterion=gini, max_depth=10, min_samples_leaf=2, min_samples_split=10, n_estimators=500, total= 1.4min\n",
      "[CV] criterion=gini, max_depth=10, min_samples_leaf=2, min_samples_split=20, n_estimators=10 \n",
      "[CV]  criterion=gini, max_depth=10, min_samples_leaf=2, min_samples_split=20, n_estimators=10, total=   3.9s\n",
      "[CV] criterion=gini, max_depth=10, min_samples_leaf=2, min_samples_split=20, n_estimators=10 \n",
      "[CV]  criterion=gini, max_depth=10, min_samples_leaf=2, min_samples_split=20, n_estimators=10, total=   3.9s\n",
      "[CV] criterion=gini, max_depth=10, min_samples_leaf=2, min_samples_split=20, n_estimators=10 \n",
      "[CV]  criterion=gini, max_depth=10, min_samples_leaf=2, min_samples_split=20, n_estimators=10, total=   4.0s\n",
      "[CV] criterion=gini, max_depth=10, min_samples_leaf=2, min_samples_split=20, n_estimators=100 \n",
      "[CV]  criterion=gini, max_depth=10, min_samples_leaf=2, min_samples_split=20, n_estimators=100, total=  14.9s\n",
      "[CV] criterion=gini, max_depth=10, min_samples_leaf=2, min_samples_split=20, n_estimators=100 \n",
      "[CV]  criterion=gini, max_depth=10, min_samples_leaf=2, min_samples_split=20, n_estimators=100, total=  17.7s\n"
     ]
    },
    {
     "name": "stdout",
     "output_type": "stream",
     "text": [
      "[CV] criterion=gini, max_depth=10, min_samples_leaf=2, min_samples_split=20, n_estimators=100 \n",
      "[CV]  criterion=gini, max_depth=10, min_samples_leaf=2, min_samples_split=20, n_estimators=100, total=  17.7s\n",
      "[CV] criterion=gini, max_depth=10, min_samples_leaf=2, min_samples_split=20, n_estimators=200 \n",
      "[CV]  criterion=gini, max_depth=10, min_samples_leaf=2, min_samples_split=20, n_estimators=200, total=  27.3s\n",
      "[CV] criterion=gini, max_depth=10, min_samples_leaf=2, min_samples_split=20, n_estimators=200 \n",
      "[CV]  criterion=gini, max_depth=10, min_samples_leaf=2, min_samples_split=20, n_estimators=200, total=  30.3s\n",
      "[CV] criterion=gini, max_depth=10, min_samples_leaf=2, min_samples_split=20, n_estimators=200 \n",
      "[CV]  criterion=gini, max_depth=10, min_samples_leaf=2, min_samples_split=20, n_estimators=200, total=  33.5s\n",
      "[CV] criterion=gini, max_depth=10, min_samples_leaf=2, min_samples_split=20, n_estimators=300 \n",
      "[CV]  criterion=gini, max_depth=10, min_samples_leaf=2, min_samples_split=20, n_estimators=300, total=  33.6s\n",
      "[CV] criterion=gini, max_depth=10, min_samples_leaf=2, min_samples_split=20, n_estimators=300 \n",
      "[CV]  criterion=gini, max_depth=10, min_samples_leaf=2, min_samples_split=20, n_estimators=300, total=  38.6s\n",
      "[CV] criterion=gini, max_depth=10, min_samples_leaf=2, min_samples_split=20, n_estimators=300 \n",
      "[CV]  criterion=gini, max_depth=10, min_samples_leaf=2, min_samples_split=20, n_estimators=300, total=  48.4s\n",
      "[CV] criterion=gini, max_depth=10, min_samples_leaf=2, min_samples_split=20, n_estimators=400 \n",
      "[CV]  criterion=gini, max_depth=10, min_samples_leaf=2, min_samples_split=20, n_estimators=400, total=  53.7s\n",
      "[CV] criterion=gini, max_depth=10, min_samples_leaf=2, min_samples_split=20, n_estimators=400 \n",
      "[CV]  criterion=gini, max_depth=10, min_samples_leaf=2, min_samples_split=20, n_estimators=400, total= 1.0min\n",
      "[CV] criterion=gini, max_depth=10, min_samples_leaf=2, min_samples_split=20, n_estimators=400 \n",
      "[CV]  criterion=gini, max_depth=10, min_samples_leaf=2, min_samples_split=20, n_estimators=400, total=  54.2s\n",
      "[CV] criterion=gini, max_depth=10, min_samples_leaf=2, min_samples_split=20, n_estimators=500 \n",
      "[CV]  criterion=gini, max_depth=10, min_samples_leaf=2, min_samples_split=20, n_estimators=500, total= 1.0min\n",
      "[CV] criterion=gini, max_depth=10, min_samples_leaf=2, min_samples_split=20, n_estimators=500 \n",
      "[CV]  criterion=gini, max_depth=10, min_samples_leaf=2, min_samples_split=20, n_estimators=500, total= 1.2min\n",
      "[CV] criterion=gini, max_depth=10, min_samples_leaf=2, min_samples_split=20, n_estimators=500 \n",
      "[CV]  criterion=gini, max_depth=10, min_samples_leaf=2, min_samples_split=20, n_estimators=500, total= 1.3min\n",
      "[CV] criterion=gini, max_depth=10, min_samples_leaf=4, min_samples_split=5, n_estimators=10 \n",
      "[CV]  criterion=gini, max_depth=10, min_samples_leaf=4, min_samples_split=5, n_estimators=10, total=   3.6s\n",
      "[CV] criterion=gini, max_depth=10, min_samples_leaf=4, min_samples_split=5, n_estimators=10 \n",
      "[CV]  criterion=gini, max_depth=10, min_samples_leaf=4, min_samples_split=5, n_estimators=10, total=   3.9s\n",
      "[CV] criterion=gini, max_depth=10, min_samples_leaf=4, min_samples_split=5, n_estimators=10 \n",
      "[CV]  criterion=gini, max_depth=10, min_samples_leaf=4, min_samples_split=5, n_estimators=10, total=   4.2s\n",
      "[CV] criterion=gini, max_depth=10, min_samples_leaf=4, min_samples_split=5, n_estimators=100 \n",
      "[CV]  criterion=gini, max_depth=10, min_samples_leaf=4, min_samples_split=5, n_estimators=100, total=  13.2s\n",
      "[CV] criterion=gini, max_depth=10, min_samples_leaf=4, min_samples_split=5, n_estimators=100 \n",
      "[CV]  criterion=gini, max_depth=10, min_samples_leaf=4, min_samples_split=5, n_estimators=100, total=  16.4s\n",
      "[CV] criterion=gini, max_depth=10, min_samples_leaf=4, min_samples_split=5, n_estimators=100 \n",
      "[CV]  criterion=gini, max_depth=10, min_samples_leaf=4, min_samples_split=5, n_estimators=100, total=  17.2s\n",
      "[CV] criterion=gini, max_depth=10, min_samples_leaf=4, min_samples_split=5, n_estimators=200 \n",
      "[CV]  criterion=gini, max_depth=10, min_samples_leaf=4, min_samples_split=5, n_estimators=200, total=  23.2s\n",
      "[CV] criterion=gini, max_depth=10, min_samples_leaf=4, min_samples_split=5, n_estimators=200 \n",
      "[CV]  criterion=gini, max_depth=10, min_samples_leaf=4, min_samples_split=5, n_estimators=200, total=  29.2s\n",
      "[CV] criterion=gini, max_depth=10, min_samples_leaf=4, min_samples_split=5, n_estimators=200 \n",
      "[CV]  criterion=gini, max_depth=10, min_samples_leaf=4, min_samples_split=5, n_estimators=200, total=  35.2s\n",
      "[CV] criterion=gini, max_depth=10, min_samples_leaf=4, min_samples_split=5, n_estimators=300 \n",
      "[CV]  criterion=gini, max_depth=10, min_samples_leaf=4, min_samples_split=5, n_estimators=300, total=  38.9s\n",
      "[CV] criterion=gini, max_depth=10, min_samples_leaf=4, min_samples_split=5, n_estimators=300 \n",
      "[CV]  criterion=gini, max_depth=10, min_samples_leaf=4, min_samples_split=5, n_estimators=300, total=  46.3s\n",
      "[CV] criterion=gini, max_depth=10, min_samples_leaf=4, min_samples_split=5, n_estimators=300 \n",
      "[CV]  criterion=gini, max_depth=10, min_samples_leaf=4, min_samples_split=5, n_estimators=300, total=  44.9s\n",
      "[CV] criterion=gini, max_depth=10, min_samples_leaf=4, min_samples_split=5, n_estimators=400 \n",
      "[CV]  criterion=gini, max_depth=10, min_samples_leaf=4, min_samples_split=5, n_estimators=400, total=  52.1s\n",
      "[CV] criterion=gini, max_depth=10, min_samples_leaf=4, min_samples_split=5, n_estimators=400 \n",
      "[CV]  criterion=gini, max_depth=10, min_samples_leaf=4, min_samples_split=5, n_estimators=400, total=  52.4s\n",
      "[CV] criterion=gini, max_depth=10, min_samples_leaf=4, min_samples_split=5, n_estimators=400 \n",
      "[CV]  criterion=gini, max_depth=10, min_samples_leaf=4, min_samples_split=5, n_estimators=400, total=  51.9s\n",
      "[CV] criterion=gini, max_depth=10, min_samples_leaf=4, min_samples_split=5, n_estimators=500 \n",
      "[CV]  criterion=gini, max_depth=10, min_samples_leaf=4, min_samples_split=5, n_estimators=500, total= 1.0min\n",
      "[CV] criterion=gini, max_depth=10, min_samples_leaf=4, min_samples_split=5, n_estimators=500 \n",
      "[CV]  criterion=gini, max_depth=10, min_samples_leaf=4, min_samples_split=5, n_estimators=500, total= 1.3min\n",
      "[CV] criterion=gini, max_depth=10, min_samples_leaf=4, min_samples_split=5, n_estimators=500 \n",
      "[CV]  criterion=gini, max_depth=10, min_samples_leaf=4, min_samples_split=5, n_estimators=500, total= 1.2min\n",
      "[CV] criterion=gini, max_depth=10, min_samples_leaf=4, min_samples_split=10, n_estimators=10 \n",
      "[CV]  criterion=gini, max_depth=10, min_samples_leaf=4, min_samples_split=10, n_estimators=10, total=   3.7s\n",
      "[CV] criterion=gini, max_depth=10, min_samples_leaf=4, min_samples_split=10, n_estimators=10 \n",
      "[CV]  criterion=gini, max_depth=10, min_samples_leaf=4, min_samples_split=10, n_estimators=10, total=   3.7s\n",
      "[CV] criterion=gini, max_depth=10, min_samples_leaf=4, min_samples_split=10, n_estimators=10 \n",
      "[CV]  criterion=gini, max_depth=10, min_samples_leaf=4, min_samples_split=10, n_estimators=10, total=   4.0s\n",
      "[CV] criterion=gini, max_depth=10, min_samples_leaf=4, min_samples_split=10, n_estimators=100 \n",
      "[CV]  criterion=gini, max_depth=10, min_samples_leaf=4, min_samples_split=10, n_estimators=100, total=  15.8s\n",
      "[CV] criterion=gini, max_depth=10, min_samples_leaf=4, min_samples_split=10, n_estimators=100 \n",
      "[CV]  criterion=gini, max_depth=10, min_samples_leaf=4, min_samples_split=10, n_estimators=100, total=  16.1s\n",
      "[CV] criterion=gini, max_depth=10, min_samples_leaf=4, min_samples_split=10, n_estimators=100 \n",
      "[CV]  criterion=gini, max_depth=10, min_samples_leaf=4, min_samples_split=10, n_estimators=100, total=  17.6s\n",
      "[CV] criterion=gini, max_depth=10, min_samples_leaf=4, min_samples_split=10, n_estimators=200 \n",
      "[CV]  criterion=gini, max_depth=10, min_samples_leaf=4, min_samples_split=10, n_estimators=200, total=  29.0s\n",
      "[CV] criterion=gini, max_depth=10, min_samples_leaf=4, min_samples_split=10, n_estimators=200 \n",
      "[CV]  criterion=gini, max_depth=10, min_samples_leaf=4, min_samples_split=10, n_estimators=200, total=  30.2s\n",
      "[CV] criterion=gini, max_depth=10, min_samples_leaf=4, min_samples_split=10, n_estimators=200 \n",
      "[CV]  criterion=gini, max_depth=10, min_samples_leaf=4, min_samples_split=10, n_estimators=200, total=  32.1s\n"
     ]
    },
    {
     "name": "stdout",
     "output_type": "stream",
     "text": [
      "[CV] criterion=gini, max_depth=10, min_samples_leaf=4, min_samples_split=10, n_estimators=300 \n",
      "[CV]  criterion=gini, max_depth=10, min_samples_leaf=4, min_samples_split=10, n_estimators=300, total=  40.8s\n",
      "[CV] criterion=gini, max_depth=10, min_samples_leaf=4, min_samples_split=10, n_estimators=300 \n",
      "[CV]  criterion=gini, max_depth=10, min_samples_leaf=4, min_samples_split=10, n_estimators=300, total=  41.0s\n",
      "[CV] criterion=gini, max_depth=10, min_samples_leaf=4, min_samples_split=10, n_estimators=300 \n",
      "[CV]  criterion=gini, max_depth=10, min_samples_leaf=4, min_samples_split=10, n_estimators=300, total=  44.5s\n",
      "[CV] criterion=gini, max_depth=10, min_samples_leaf=4, min_samples_split=10, n_estimators=400 \n",
      "[CV]  criterion=gini, max_depth=10, min_samples_leaf=4, min_samples_split=10, n_estimators=400, total=  52.1s\n",
      "[CV] criterion=gini, max_depth=10, min_samples_leaf=4, min_samples_split=10, n_estimators=400 \n",
      "[CV]  criterion=gini, max_depth=10, min_samples_leaf=4, min_samples_split=10, n_estimators=400, total=  54.2s\n",
      "[CV] criterion=gini, max_depth=10, min_samples_leaf=4, min_samples_split=10, n_estimators=400 \n",
      "[CV]  criterion=gini, max_depth=10, min_samples_leaf=4, min_samples_split=10, n_estimators=400, total=  54.1s\n",
      "[CV] criterion=gini, max_depth=10, min_samples_leaf=4, min_samples_split=10, n_estimators=500 \n",
      "[CV]  criterion=gini, max_depth=10, min_samples_leaf=4, min_samples_split=10, n_estimators=500, total= 1.0min\n",
      "[CV] criterion=gini, max_depth=10, min_samples_leaf=4, min_samples_split=10, n_estimators=500 \n",
      "[CV]  criterion=gini, max_depth=10, min_samples_leaf=4, min_samples_split=10, n_estimators=500, total= 1.3min\n",
      "[CV] criterion=gini, max_depth=10, min_samples_leaf=4, min_samples_split=10, n_estimators=500 \n",
      "[CV]  criterion=gini, max_depth=10, min_samples_leaf=4, min_samples_split=10, n_estimators=500, total= 1.2min\n",
      "[CV] criterion=gini, max_depth=10, min_samples_leaf=4, min_samples_split=20, n_estimators=10 \n",
      "[CV]  criterion=gini, max_depth=10, min_samples_leaf=4, min_samples_split=20, n_estimators=10, total=   3.5s\n",
      "[CV] criterion=gini, max_depth=10, min_samples_leaf=4, min_samples_split=20, n_estimators=10 \n",
      "[CV]  criterion=gini, max_depth=10, min_samples_leaf=4, min_samples_split=20, n_estimators=10, total=   3.5s\n",
      "[CV] criterion=gini, max_depth=10, min_samples_leaf=4, min_samples_split=20, n_estimators=10 \n",
      "[CV]  criterion=gini, max_depth=10, min_samples_leaf=4, min_samples_split=20, n_estimators=10, total=   3.8s\n",
      "[CV] criterion=gini, max_depth=10, min_samples_leaf=4, min_samples_split=20, n_estimators=100 \n",
      "[CV]  criterion=gini, max_depth=10, min_samples_leaf=4, min_samples_split=20, n_estimators=100, total=  14.7s\n",
      "[CV] criterion=gini, max_depth=10, min_samples_leaf=4, min_samples_split=20, n_estimators=100 \n",
      "[CV]  criterion=gini, max_depth=10, min_samples_leaf=4, min_samples_split=20, n_estimators=100, total=  16.4s\n",
      "[CV] criterion=gini, max_depth=10, min_samples_leaf=4, min_samples_split=20, n_estimators=100 \n",
      "[CV]  criterion=gini, max_depth=10, min_samples_leaf=4, min_samples_split=20, n_estimators=100, total=  17.3s\n",
      "[CV] criterion=gini, max_depth=10, min_samples_leaf=4, min_samples_split=20, n_estimators=200 \n",
      "[CV]  criterion=gini, max_depth=10, min_samples_leaf=4, min_samples_split=20, n_estimators=200, total=  28.4s\n",
      "[CV] criterion=gini, max_depth=10, min_samples_leaf=4, min_samples_split=20, n_estimators=200 \n",
      "[CV]  criterion=gini, max_depth=10, min_samples_leaf=4, min_samples_split=20, n_estimators=200, total=  27.2s\n",
      "[CV] criterion=gini, max_depth=10, min_samples_leaf=4, min_samples_split=20, n_estimators=200 \n",
      "[CV]  criterion=gini, max_depth=10, min_samples_leaf=4, min_samples_split=20, n_estimators=200, total=  32.7s\n",
      "[CV] criterion=gini, max_depth=10, min_samples_leaf=4, min_samples_split=20, n_estimators=300 \n",
      "[CV]  criterion=gini, max_depth=10, min_samples_leaf=4, min_samples_split=20, n_estimators=300, total=  26.8s\n",
      "[CV] criterion=gini, max_depth=10, min_samples_leaf=4, min_samples_split=20, n_estimators=300 \n",
      "[CV]  criterion=gini, max_depth=10, min_samples_leaf=4, min_samples_split=20, n_estimators=300, total=  44.0s\n",
      "[CV] criterion=gini, max_depth=10, min_samples_leaf=4, min_samples_split=20, n_estimators=300 \n",
      "[CV]  criterion=gini, max_depth=10, min_samples_leaf=4, min_samples_split=20, n_estimators=300, total=  39.7s\n",
      "[CV] criterion=gini, max_depth=10, min_samples_leaf=4, min_samples_split=20, n_estimators=400 \n",
      "[CV]  criterion=gini, max_depth=10, min_samples_leaf=4, min_samples_split=20, n_estimators=400, total=  47.6s\n",
      "[CV] criterion=gini, max_depth=10, min_samples_leaf=4, min_samples_split=20, n_estimators=400 \n",
      "[CV]  criterion=gini, max_depth=10, min_samples_leaf=4, min_samples_split=20, n_estimators=400, total=  51.8s\n",
      "[CV] criterion=gini, max_depth=10, min_samples_leaf=4, min_samples_split=20, n_estimators=400 \n",
      "[CV]  criterion=gini, max_depth=10, min_samples_leaf=4, min_samples_split=20, n_estimators=400, total=  52.2s\n",
      "[CV] criterion=gini, max_depth=10, min_samples_leaf=4, min_samples_split=20, n_estimators=500 \n",
      "[CV]  criterion=gini, max_depth=10, min_samples_leaf=4, min_samples_split=20, n_estimators=500, total=  51.7s\n",
      "[CV] criterion=gini, max_depth=10, min_samples_leaf=4, min_samples_split=20, n_estimators=500 \n",
      "[CV]  criterion=gini, max_depth=10, min_samples_leaf=4, min_samples_split=20, n_estimators=500, total= 1.2min\n",
      "[CV] criterion=gini, max_depth=10, min_samples_leaf=4, min_samples_split=20, n_estimators=500 \n",
      "[CV]  criterion=gini, max_depth=10, min_samples_leaf=4, min_samples_split=20, n_estimators=500, total= 1.1min\n",
      "[CV] criterion=gini, max_depth=10, min_samples_leaf=6, min_samples_split=5, n_estimators=10 \n",
      "[CV]  criterion=gini, max_depth=10, min_samples_leaf=6, min_samples_split=5, n_estimators=10, total=   3.3s\n",
      "[CV] criterion=gini, max_depth=10, min_samples_leaf=6, min_samples_split=5, n_estimators=10 \n",
      "[CV]  criterion=gini, max_depth=10, min_samples_leaf=6, min_samples_split=5, n_estimators=10, total=   3.5s\n",
      "[CV] criterion=gini, max_depth=10, min_samples_leaf=6, min_samples_split=5, n_estimators=10 \n",
      "[CV]  criterion=gini, max_depth=10, min_samples_leaf=6, min_samples_split=5, n_estimators=10, total=   3.9s\n",
      "[CV] criterion=gini, max_depth=10, min_samples_leaf=6, min_samples_split=5, n_estimators=100 \n",
      "[CV]  criterion=gini, max_depth=10, min_samples_leaf=6, min_samples_split=5, n_estimators=100, total=  15.5s\n",
      "[CV] criterion=gini, max_depth=10, min_samples_leaf=6, min_samples_split=5, n_estimators=100 \n",
      "[CV]  criterion=gini, max_depth=10, min_samples_leaf=6, min_samples_split=5, n_estimators=100, total=  15.9s\n",
      "[CV] criterion=gini, max_depth=10, min_samples_leaf=6, min_samples_split=5, n_estimators=100 \n",
      "[CV]  criterion=gini, max_depth=10, min_samples_leaf=6, min_samples_split=5, n_estimators=100, total=  17.4s\n",
      "[CV] criterion=gini, max_depth=10, min_samples_leaf=6, min_samples_split=5, n_estimators=200 \n",
      "[CV]  criterion=gini, max_depth=10, min_samples_leaf=6, min_samples_split=5, n_estimators=200, total=  23.9s\n",
      "[CV] criterion=gini, max_depth=10, min_samples_leaf=6, min_samples_split=5, n_estimators=200 \n",
      "[CV]  criterion=gini, max_depth=10, min_samples_leaf=6, min_samples_split=5, n_estimators=200, total=  29.0s\n",
      "[CV] criterion=gini, max_depth=10, min_samples_leaf=6, min_samples_split=5, n_estimators=200 \n",
      "[CV]  criterion=gini, max_depth=10, min_samples_leaf=6, min_samples_split=5, n_estimators=200, total=  27.0s\n",
      "[CV] criterion=gini, max_depth=10, min_samples_leaf=6, min_samples_split=5, n_estimators=300 \n",
      "[CV]  criterion=gini, max_depth=10, min_samples_leaf=6, min_samples_split=5, n_estimators=300, total=  38.2s\n",
      "[CV] criterion=gini, max_depth=10, min_samples_leaf=6, min_samples_split=5, n_estimators=300 \n",
      "[CV]  criterion=gini, max_depth=10, min_samples_leaf=6, min_samples_split=5, n_estimators=300, total=  38.6s\n",
      "[CV] criterion=gini, max_depth=10, min_samples_leaf=6, min_samples_split=5, n_estimators=300 \n",
      "[CV]  criterion=gini, max_depth=10, min_samples_leaf=6, min_samples_split=5, n_estimators=300, total=  45.7s\n",
      "[CV] criterion=gini, max_depth=10, min_samples_leaf=6, min_samples_split=5, n_estimators=400 \n",
      "[CV]  criterion=gini, max_depth=10, min_samples_leaf=6, min_samples_split=5, n_estimators=400, total=  52.5s\n"
     ]
    },
    {
     "name": "stdout",
     "output_type": "stream",
     "text": [
      "[CV] criterion=gini, max_depth=10, min_samples_leaf=6, min_samples_split=5, n_estimators=400 \n",
      "[CV]  criterion=gini, max_depth=10, min_samples_leaf=6, min_samples_split=5, n_estimators=400, total=  51.0s\n",
      "[CV] criterion=gini, max_depth=10, min_samples_leaf=6, min_samples_split=5, n_estimators=400 \n",
      "[CV]  criterion=gini, max_depth=10, min_samples_leaf=6, min_samples_split=5, n_estimators=400, total=  35.7s\n",
      "[CV] criterion=gini, max_depth=10, min_samples_leaf=6, min_samples_split=5, n_estimators=500 \n",
      "[CV]  criterion=gini, max_depth=10, min_samples_leaf=6, min_samples_split=5, n_estimators=500, total= 1.1min\n",
      "[CV] criterion=gini, max_depth=10, min_samples_leaf=6, min_samples_split=5, n_estimators=500 \n",
      "[CV]  criterion=gini, max_depth=10, min_samples_leaf=6, min_samples_split=5, n_estimators=500, total=  57.4s\n",
      "[CV] criterion=gini, max_depth=10, min_samples_leaf=6, min_samples_split=5, n_estimators=500 \n",
      "[CV]  criterion=gini, max_depth=10, min_samples_leaf=6, min_samples_split=5, n_estimators=500, total= 1.3min\n",
      "[CV] criterion=gini, max_depth=10, min_samples_leaf=6, min_samples_split=10, n_estimators=10 \n",
      "[CV]  criterion=gini, max_depth=10, min_samples_leaf=6, min_samples_split=10, n_estimators=10, total=   3.7s\n",
      "[CV] criterion=gini, max_depth=10, min_samples_leaf=6, min_samples_split=10, n_estimators=10 \n",
      "[CV]  criterion=gini, max_depth=10, min_samples_leaf=6, min_samples_split=10, n_estimators=10, total=   3.6s\n",
      "[CV] criterion=gini, max_depth=10, min_samples_leaf=6, min_samples_split=10, n_estimators=10 \n",
      "[CV]  criterion=gini, max_depth=10, min_samples_leaf=6, min_samples_split=10, n_estimators=10, total=   4.3s\n",
      "[CV] criterion=gini, max_depth=10, min_samples_leaf=6, min_samples_split=10, n_estimators=100 \n",
      "[CV]  criterion=gini, max_depth=10, min_samples_leaf=6, min_samples_split=10, n_estimators=100, total=  14.6s\n",
      "[CV] criterion=gini, max_depth=10, min_samples_leaf=6, min_samples_split=10, n_estimators=100 \n",
      "[CV]  criterion=gini, max_depth=10, min_samples_leaf=6, min_samples_split=10, n_estimators=100, total=  14.6s\n",
      "[CV] criterion=gini, max_depth=10, min_samples_leaf=6, min_samples_split=10, n_estimators=100 \n",
      "[CV]  criterion=gini, max_depth=10, min_samples_leaf=6, min_samples_split=10, n_estimators=100, total=  16.7s\n",
      "[CV] criterion=gini, max_depth=10, min_samples_leaf=6, min_samples_split=10, n_estimators=200 \n",
      "[CV]  criterion=gini, max_depth=10, min_samples_leaf=6, min_samples_split=10, n_estimators=200, total=  22.6s\n",
      "[CV] criterion=gini, max_depth=10, min_samples_leaf=6, min_samples_split=10, n_estimators=200 \n",
      "[CV]  criterion=gini, max_depth=10, min_samples_leaf=6, min_samples_split=10, n_estimators=200, total=  28.4s\n",
      "[CV] criterion=gini, max_depth=10, min_samples_leaf=6, min_samples_split=10, n_estimators=200 \n",
      "[CV]  criterion=gini, max_depth=10, min_samples_leaf=6, min_samples_split=10, n_estimators=200, total=  26.1s\n",
      "[CV] criterion=gini, max_depth=10, min_samples_leaf=6, min_samples_split=10, n_estimators=300 \n",
      "[CV]  criterion=gini, max_depth=10, min_samples_leaf=6, min_samples_split=10, n_estimators=300, total=  37.0s\n",
      "[CV] criterion=gini, max_depth=10, min_samples_leaf=6, min_samples_split=10, n_estimators=300 \n",
      "[CV]  criterion=gini, max_depth=10, min_samples_leaf=6, min_samples_split=10, n_estimators=300, total=  42.0s\n",
      "[CV] criterion=gini, max_depth=10, min_samples_leaf=6, min_samples_split=10, n_estimators=300 \n",
      "[CV]  criterion=gini, max_depth=10, min_samples_leaf=6, min_samples_split=10, n_estimators=300, total=  38.4s\n",
      "[CV] criterion=gini, max_depth=10, min_samples_leaf=6, min_samples_split=10, n_estimators=400 \n",
      "[CV]  criterion=gini, max_depth=10, min_samples_leaf=6, min_samples_split=10, n_estimators=400, total=  43.5s\n",
      "[CV] criterion=gini, max_depth=10, min_samples_leaf=6, min_samples_split=10, n_estimators=400 \n",
      "[CV]  criterion=gini, max_depth=10, min_samples_leaf=6, min_samples_split=10, n_estimators=400, total=  49.2s\n",
      "[CV] criterion=gini, max_depth=10, min_samples_leaf=6, min_samples_split=10, n_estimators=400 \n",
      "[CV]  criterion=gini, max_depth=10, min_samples_leaf=6, min_samples_split=10, n_estimators=400, total=  59.8s\n",
      "[CV] criterion=gini, max_depth=10, min_samples_leaf=6, min_samples_split=10, n_estimators=500 \n",
      "[CV]  criterion=gini, max_depth=10, min_samples_leaf=6, min_samples_split=10, n_estimators=500, total=  56.5s\n",
      "[CV] criterion=gini, max_depth=10, min_samples_leaf=6, min_samples_split=10, n_estimators=500 \n",
      "[CV]  criterion=gini, max_depth=10, min_samples_leaf=6, min_samples_split=10, n_estimators=500, total= 1.1min\n",
      "[CV] criterion=gini, max_depth=10, min_samples_leaf=6, min_samples_split=10, n_estimators=500 \n",
      "[CV]  criterion=gini, max_depth=10, min_samples_leaf=6, min_samples_split=10, n_estimators=500, total=  52.5s\n",
      "[CV] criterion=gini, max_depth=10, min_samples_leaf=6, min_samples_split=20, n_estimators=10 \n",
      "[CV]  criterion=gini, max_depth=10, min_samples_leaf=6, min_samples_split=20, n_estimators=10, total=   3.5s\n",
      "[CV] criterion=gini, max_depth=10, min_samples_leaf=6, min_samples_split=20, n_estimators=10 \n",
      "[CV]  criterion=gini, max_depth=10, min_samples_leaf=6, min_samples_split=20, n_estimators=10, total=   3.6s\n",
      "[CV] criterion=gini, max_depth=10, min_samples_leaf=6, min_samples_split=20, n_estimators=10 \n",
      "[CV]  criterion=gini, max_depth=10, min_samples_leaf=6, min_samples_split=20, n_estimators=10, total=   3.8s\n",
      "[CV] criterion=gini, max_depth=10, min_samples_leaf=6, min_samples_split=20, n_estimators=100 \n",
      "[CV]  criterion=gini, max_depth=10, min_samples_leaf=6, min_samples_split=20, n_estimators=100, total=  14.2s\n",
      "[CV] criterion=gini, max_depth=10, min_samples_leaf=6, min_samples_split=20, n_estimators=100 \n",
      "[CV]  criterion=gini, max_depth=10, min_samples_leaf=6, min_samples_split=20, n_estimators=100, total=  15.1s\n",
      "[CV] criterion=gini, max_depth=10, min_samples_leaf=6, min_samples_split=20, n_estimators=100 \n",
      "[CV]  criterion=gini, max_depth=10, min_samples_leaf=6, min_samples_split=20, n_estimators=100, total=  12.4s\n",
      "[CV] criterion=gini, max_depth=10, min_samples_leaf=6, min_samples_split=20, n_estimators=200 \n",
      "[CV]  criterion=gini, max_depth=10, min_samples_leaf=6, min_samples_split=20, n_estimators=200, total=  24.1s\n",
      "[CV] criterion=gini, max_depth=10, min_samples_leaf=6, min_samples_split=20, n_estimators=200 \n",
      "[CV]  criterion=gini, max_depth=10, min_samples_leaf=6, min_samples_split=20, n_estimators=200, total=  23.2s\n",
      "[CV] criterion=gini, max_depth=10, min_samples_leaf=6, min_samples_split=20, n_estimators=200 \n",
      "[CV]  criterion=gini, max_depth=10, min_samples_leaf=6, min_samples_split=20, n_estimators=200, total=  22.6s\n",
      "[CV] criterion=gini, max_depth=10, min_samples_leaf=6, min_samples_split=20, n_estimators=300 \n",
      "[CV]  criterion=gini, max_depth=10, min_samples_leaf=6, min_samples_split=20, n_estimators=300, total=  34.5s\n",
      "[CV] criterion=gini, max_depth=10, min_samples_leaf=6, min_samples_split=20, n_estimators=300 \n",
      "[CV]  criterion=gini, max_depth=10, min_samples_leaf=6, min_samples_split=20, n_estimators=300, total=  38.1s\n",
      "[CV] criterion=gini, max_depth=10, min_samples_leaf=6, min_samples_split=20, n_estimators=300 \n",
      "[CV]  criterion=gini, max_depth=10, min_samples_leaf=6, min_samples_split=20, n_estimators=300, total=  41.7s\n",
      "[CV] criterion=gini, max_depth=10, min_samples_leaf=6, min_samples_split=20, n_estimators=400 \n",
      "[CV]  criterion=gini, max_depth=10, min_samples_leaf=6, min_samples_split=20, n_estimators=400, total=  47.9s\n",
      "[CV] criterion=gini, max_depth=10, min_samples_leaf=6, min_samples_split=20, n_estimators=400 \n",
      "[CV]  criterion=gini, max_depth=10, min_samples_leaf=6, min_samples_split=20, n_estimators=400, total=  37.0s\n",
      "[CV] criterion=gini, max_depth=10, min_samples_leaf=6, min_samples_split=20, n_estimators=400 \n",
      "[CV]  criterion=gini, max_depth=10, min_samples_leaf=6, min_samples_split=20, n_estimators=400, total=  49.7s\n",
      "[CV] criterion=gini, max_depth=10, min_samples_leaf=6, min_samples_split=20, n_estimators=500 \n",
      "[CV]  criterion=gini, max_depth=10, min_samples_leaf=6, min_samples_split=20, n_estimators=500, total=  56.0s\n",
      "[CV] criterion=gini, max_depth=10, min_samples_leaf=6, min_samples_split=20, n_estimators=500 \n",
      "[CV]  criterion=gini, max_depth=10, min_samples_leaf=6, min_samples_split=20, n_estimators=500, total=  57.8s\n"
     ]
    },
    {
     "name": "stdout",
     "output_type": "stream",
     "text": [
      "[CV] criterion=gini, max_depth=10, min_samples_leaf=6, min_samples_split=20, n_estimators=500 \n",
      "[CV]  criterion=gini, max_depth=10, min_samples_leaf=6, min_samples_split=20, n_estimators=500, total= 1.2min\n",
      "[CV] criterion=gini, max_depth=20, min_samples_leaf=2, min_samples_split=5, n_estimators=10 \n",
      "[CV]  criterion=gini, max_depth=20, min_samples_leaf=2, min_samples_split=5, n_estimators=10, total=   5.2s\n",
      "[CV] criterion=gini, max_depth=20, min_samples_leaf=2, min_samples_split=5, n_estimators=10 \n",
      "[CV]  criterion=gini, max_depth=20, min_samples_leaf=2, min_samples_split=5, n_estimators=10, total=   4.9s\n",
      "[CV] criterion=gini, max_depth=20, min_samples_leaf=2, min_samples_split=5, n_estimators=10 \n",
      "[CV]  criterion=gini, max_depth=20, min_samples_leaf=2, min_samples_split=5, n_estimators=10, total=   4.3s\n",
      "[CV] criterion=gini, max_depth=20, min_samples_leaf=2, min_samples_split=5, n_estimators=100 \n",
      "[CV]  criterion=gini, max_depth=20, min_samples_leaf=2, min_samples_split=5, n_estimators=100, total=  21.9s\n",
      "[CV] criterion=gini, max_depth=20, min_samples_leaf=2, min_samples_split=5, n_estimators=100 \n",
      "[CV]  criterion=gini, max_depth=20, min_samples_leaf=2, min_samples_split=5, n_estimators=100, total=  20.7s\n",
      "[CV] criterion=gini, max_depth=20, min_samples_leaf=2, min_samples_split=5, n_estimators=100 \n",
      "[CV]  criterion=gini, max_depth=20, min_samples_leaf=2, min_samples_split=5, n_estimators=100, total=  20.0s\n",
      "[CV] criterion=gini, max_depth=20, min_samples_leaf=2, min_samples_split=5, n_estimators=200 \n",
      "[CV]  criterion=gini, max_depth=20, min_samples_leaf=2, min_samples_split=5, n_estimators=200, total=  34.1s\n",
      "[CV] criterion=gini, max_depth=20, min_samples_leaf=2, min_samples_split=5, n_estimators=200 \n",
      "[CV]  criterion=gini, max_depth=20, min_samples_leaf=2, min_samples_split=5, n_estimators=200, total=  37.1s\n",
      "[CV] criterion=gini, max_depth=20, min_samples_leaf=2, min_samples_split=5, n_estimators=200 \n",
      "[CV]  criterion=gini, max_depth=20, min_samples_leaf=2, min_samples_split=5, n_estimators=200, total=  28.9s\n",
      "[CV] criterion=gini, max_depth=20, min_samples_leaf=2, min_samples_split=5, n_estimators=300 \n",
      "[CV]  criterion=gini, max_depth=20, min_samples_leaf=2, min_samples_split=5, n_estimators=300, total=  54.1s\n",
      "[CV] criterion=gini, max_depth=20, min_samples_leaf=2, min_samples_split=5, n_estimators=300 \n",
      "[CV]  criterion=gini, max_depth=20, min_samples_leaf=2, min_samples_split=5, n_estimators=300, total=  56.3s\n",
      "[CV] criterion=gini, max_depth=20, min_samples_leaf=2, min_samples_split=5, n_estimators=300 \n",
      "[CV]  criterion=gini, max_depth=20, min_samples_leaf=2, min_samples_split=5, n_estimators=300, total=  58.7s\n",
      "[CV] criterion=gini, max_depth=20, min_samples_leaf=2, min_samples_split=5, n_estimators=400 \n",
      "[CV]  criterion=gini, max_depth=20, min_samples_leaf=2, min_samples_split=5, n_estimators=400, total= 1.3min\n",
      "[CV] criterion=gini, max_depth=20, min_samples_leaf=2, min_samples_split=5, n_estimators=400 \n",
      "[CV]  criterion=gini, max_depth=20, min_samples_leaf=2, min_samples_split=5, n_estimators=400, total= 1.0min\n",
      "[CV] criterion=gini, max_depth=20, min_samples_leaf=2, min_samples_split=5, n_estimators=400 \n",
      "[CV]  criterion=gini, max_depth=20, min_samples_leaf=2, min_samples_split=5, n_estimators=400, total= 1.2min\n",
      "[CV] criterion=gini, max_depth=20, min_samples_leaf=2, min_samples_split=5, n_estimators=500 \n",
      "[CV]  criterion=gini, max_depth=20, min_samples_leaf=2, min_samples_split=5, n_estimators=500, total= 1.7min\n",
      "[CV] criterion=gini, max_depth=20, min_samples_leaf=2, min_samples_split=5, n_estimators=500 \n",
      "[CV]  criterion=gini, max_depth=20, min_samples_leaf=2, min_samples_split=5, n_estimators=500, total= 1.5min\n",
      "[CV] criterion=gini, max_depth=20, min_samples_leaf=2, min_samples_split=5, n_estimators=500 \n",
      "[CV]  criterion=gini, max_depth=20, min_samples_leaf=2, min_samples_split=5, n_estimators=500, total= 1.5min\n",
      "[CV] criterion=gini, max_depth=20, min_samples_leaf=2, min_samples_split=10, n_estimators=10 \n",
      "[CV]  criterion=gini, max_depth=20, min_samples_leaf=2, min_samples_split=10, n_estimators=10, total=   4.7s\n",
      "[CV] criterion=gini, max_depth=20, min_samples_leaf=2, min_samples_split=10, n_estimators=10 \n",
      "[CV]  criterion=gini, max_depth=20, min_samples_leaf=2, min_samples_split=10, n_estimators=10, total=   4.2s\n",
      "[CV] criterion=gini, max_depth=20, min_samples_leaf=2, min_samples_split=10, n_estimators=10 \n",
      "[CV]  criterion=gini, max_depth=20, min_samples_leaf=2, min_samples_split=10, n_estimators=10, total=   4.2s\n",
      "[CV] criterion=gini, max_depth=20, min_samples_leaf=2, min_samples_split=10, n_estimators=100 \n",
      "[CV]  criterion=gini, max_depth=20, min_samples_leaf=2, min_samples_split=10, n_estimators=100, total=  14.4s\n",
      "[CV] criterion=gini, max_depth=20, min_samples_leaf=2, min_samples_split=10, n_estimators=100 \n",
      "[CV]  criterion=gini, max_depth=20, min_samples_leaf=2, min_samples_split=10, n_estimators=100, total=  18.1s\n",
      "[CV] criterion=gini, max_depth=20, min_samples_leaf=2, min_samples_split=10, n_estimators=100 \n",
      "[CV]  criterion=gini, max_depth=20, min_samples_leaf=2, min_samples_split=10, n_estimators=100, total=  22.0s\n",
      "[CV] criterion=gini, max_depth=20, min_samples_leaf=2, min_samples_split=10, n_estimators=200 \n",
      "[CV]  criterion=gini, max_depth=20, min_samples_leaf=2, min_samples_split=10, n_estimators=200, total=  37.9s\n",
      "[CV] criterion=gini, max_depth=20, min_samples_leaf=2, min_samples_split=10, n_estimators=200 \n",
      "[CV]  criterion=gini, max_depth=20, min_samples_leaf=2, min_samples_split=10, n_estimators=200, total=  36.5s\n",
      "[CV] criterion=gini, max_depth=20, min_samples_leaf=2, min_samples_split=10, n_estimators=200 \n",
      "[CV]  criterion=gini, max_depth=20, min_samples_leaf=2, min_samples_split=10, n_estimators=200, total=  40.3s\n",
      "[CV] criterion=gini, max_depth=20, min_samples_leaf=2, min_samples_split=10, n_estimators=300 \n",
      "[CV]  criterion=gini, max_depth=20, min_samples_leaf=2, min_samples_split=10, n_estimators=300, total=  52.3s\n",
      "[CV] criterion=gini, max_depth=20, min_samples_leaf=2, min_samples_split=10, n_estimators=300 \n",
      "[CV]  criterion=gini, max_depth=20, min_samples_leaf=2, min_samples_split=10, n_estimators=300, total=  43.7s\n",
      "[CV] criterion=gini, max_depth=20, min_samples_leaf=2, min_samples_split=10, n_estimators=300 \n",
      "[CV]  criterion=gini, max_depth=20, min_samples_leaf=2, min_samples_split=10, n_estimators=300, total=  49.6s\n",
      "[CV] criterion=gini, max_depth=20, min_samples_leaf=2, min_samples_split=10, n_estimators=400 \n",
      "[CV]  criterion=gini, max_depth=20, min_samples_leaf=2, min_samples_split=10, n_estimators=400, total= 1.2min\n",
      "[CV] criterion=gini, max_depth=20, min_samples_leaf=2, min_samples_split=10, n_estimators=400 \n",
      "[CV]  criterion=gini, max_depth=20, min_samples_leaf=2, min_samples_split=10, n_estimators=400, total= 1.2min\n",
      "[CV] criterion=gini, max_depth=20, min_samples_leaf=2, min_samples_split=10, n_estimators=400 \n",
      "[CV]  criterion=gini, max_depth=20, min_samples_leaf=2, min_samples_split=10, n_estimators=400, total=  57.3s\n",
      "[CV] criterion=gini, max_depth=20, min_samples_leaf=2, min_samples_split=10, n_estimators=500 \n",
      "[CV]  criterion=gini, max_depth=20, min_samples_leaf=2, min_samples_split=10, n_estimators=500, total= 1.4min\n",
      "[CV] criterion=gini, max_depth=20, min_samples_leaf=2, min_samples_split=10, n_estimators=500 \n",
      "[CV]  criterion=gini, max_depth=20, min_samples_leaf=2, min_samples_split=10, n_estimators=500, total= 1.6min\n",
      "[CV] criterion=gini, max_depth=20, min_samples_leaf=2, min_samples_split=10, n_estimators=500 \n",
      "[CV]  criterion=gini, max_depth=20, min_samples_leaf=2, min_samples_split=10, n_estimators=500, total= 1.5min\n",
      "[CV] criterion=gini, max_depth=20, min_samples_leaf=2, min_samples_split=20, n_estimators=10 \n",
      "[CV]  criterion=gini, max_depth=20, min_samples_leaf=2, min_samples_split=20, n_estimators=10, total=   5.1s\n",
      "[CV] criterion=gini, max_depth=20, min_samples_leaf=2, min_samples_split=20, n_estimators=10 \n",
      "[CV]  criterion=gini, max_depth=20, min_samples_leaf=2, min_samples_split=20, n_estimators=10, total=   4.8s\n",
      "[CV] criterion=gini, max_depth=20, min_samples_leaf=2, min_samples_split=20, n_estimators=10 \n",
      "[CV]  criterion=gini, max_depth=20, min_samples_leaf=2, min_samples_split=20, n_estimators=10, total=   4.9s\n"
     ]
    },
    {
     "name": "stdout",
     "output_type": "stream",
     "text": [
      "[CV] criterion=gini, max_depth=20, min_samples_leaf=2, min_samples_split=20, n_estimators=100 \n",
      "[CV]  criterion=gini, max_depth=20, min_samples_leaf=2, min_samples_split=20, n_estimators=100, total=  19.2s\n",
      "[CV] criterion=gini, max_depth=20, min_samples_leaf=2, min_samples_split=20, n_estimators=100 \n",
      "[CV]  criterion=gini, max_depth=20, min_samples_leaf=2, min_samples_split=20, n_estimators=100, total=  15.4s\n",
      "[CV] criterion=gini, max_depth=20, min_samples_leaf=2, min_samples_split=20, n_estimators=100 \n",
      "[CV]  criterion=gini, max_depth=20, min_samples_leaf=2, min_samples_split=20, n_estimators=100, total=  20.9s\n",
      "[CV] criterion=gini, max_depth=20, min_samples_leaf=2, min_samples_split=20, n_estimators=200 \n",
      "[CV]  criterion=gini, max_depth=20, min_samples_leaf=2, min_samples_split=20, n_estimators=200, total=  38.7s\n",
      "[CV] criterion=gini, max_depth=20, min_samples_leaf=2, min_samples_split=20, n_estimators=200 \n",
      "[CV]  criterion=gini, max_depth=20, min_samples_leaf=2, min_samples_split=20, n_estimators=200, total=  38.1s\n",
      "[CV] criterion=gini, max_depth=20, min_samples_leaf=2, min_samples_split=20, n_estimators=200 \n",
      "[CV]  criterion=gini, max_depth=20, min_samples_leaf=2, min_samples_split=20, n_estimators=200, total=  37.3s\n",
      "[CV] criterion=gini, max_depth=20, min_samples_leaf=2, min_samples_split=20, n_estimators=300 \n",
      "[CV]  criterion=gini, max_depth=20, min_samples_leaf=2, min_samples_split=20, n_estimators=300, total=  52.3s\n",
      "[CV] criterion=gini, max_depth=20, min_samples_leaf=2, min_samples_split=20, n_estimators=300 \n",
      "[CV]  criterion=gini, max_depth=20, min_samples_leaf=2, min_samples_split=20, n_estimators=300, total=  53.1s\n",
      "[CV] criterion=gini, max_depth=20, min_samples_leaf=2, min_samples_split=20, n_estimators=300 \n",
      "[CV]  criterion=gini, max_depth=20, min_samples_leaf=2, min_samples_split=20, n_estimators=300, total=  49.5s\n",
      "[CV] criterion=gini, max_depth=20, min_samples_leaf=2, min_samples_split=20, n_estimators=400 \n",
      "[CV]  criterion=gini, max_depth=20, min_samples_leaf=2, min_samples_split=20, n_estimators=400, total= 1.1min\n",
      "[CV] criterion=gini, max_depth=20, min_samples_leaf=2, min_samples_split=20, n_estimators=400 \n",
      "[CV]  criterion=gini, max_depth=20, min_samples_leaf=2, min_samples_split=20, n_estimators=400, total= 1.3min\n",
      "[CV] criterion=gini, max_depth=20, min_samples_leaf=2, min_samples_split=20, n_estimators=400 \n",
      "[CV]  criterion=gini, max_depth=20, min_samples_leaf=2, min_samples_split=20, n_estimators=400, total= 1.2min\n",
      "[CV] criterion=gini, max_depth=20, min_samples_leaf=2, min_samples_split=20, n_estimators=500 \n",
      "[CV]  criterion=gini, max_depth=20, min_samples_leaf=2, min_samples_split=20, n_estimators=500, total= 1.1min\n",
      "[CV] criterion=gini, max_depth=20, min_samples_leaf=2, min_samples_split=20, n_estimators=500 \n",
      "[CV]  criterion=gini, max_depth=20, min_samples_leaf=2, min_samples_split=20, n_estimators=500, total= 1.6min\n",
      "[CV] criterion=gini, max_depth=20, min_samples_leaf=2, min_samples_split=20, n_estimators=500 \n",
      "[CV]  criterion=gini, max_depth=20, min_samples_leaf=2, min_samples_split=20, n_estimators=500, total= 1.5min\n",
      "[CV] criterion=gini, max_depth=20, min_samples_leaf=4, min_samples_split=5, n_estimators=10 \n",
      "[CV]  criterion=gini, max_depth=20, min_samples_leaf=4, min_samples_split=5, n_estimators=10, total=   4.3s\n",
      "[CV] criterion=gini, max_depth=20, min_samples_leaf=4, min_samples_split=5, n_estimators=10 \n",
      "[CV]  criterion=gini, max_depth=20, min_samples_leaf=4, min_samples_split=5, n_estimators=10, total=   4.1s\n",
      "[CV] criterion=gini, max_depth=20, min_samples_leaf=4, min_samples_split=5, n_estimators=10 \n",
      "[CV]  criterion=gini, max_depth=20, min_samples_leaf=4, min_samples_split=5, n_estimators=10, total=   4.1s\n",
      "[CV] criterion=gini, max_depth=20, min_samples_leaf=4, min_samples_split=5, n_estimators=100 \n",
      "[CV]  criterion=gini, max_depth=20, min_samples_leaf=4, min_samples_split=5, n_estimators=100, total=  20.4s\n",
      "[CV] criterion=gini, max_depth=20, min_samples_leaf=4, min_samples_split=5, n_estimators=100 \n",
      "[CV]  criterion=gini, max_depth=20, min_samples_leaf=4, min_samples_split=5, n_estimators=100, total=  17.8s\n",
      "[CV] criterion=gini, max_depth=20, min_samples_leaf=4, min_samples_split=5, n_estimators=100 \n",
      "[CV]  criterion=gini, max_depth=20, min_samples_leaf=4, min_samples_split=5, n_estimators=100, total=  22.4s\n",
      "[CV] criterion=gini, max_depth=20, min_samples_leaf=4, min_samples_split=5, n_estimators=200 \n",
      "[CV]  criterion=gini, max_depth=20, min_samples_leaf=4, min_samples_split=5, n_estimators=200, total=  45.2s\n",
      "[CV] criterion=gini, max_depth=20, min_samples_leaf=4, min_samples_split=5, n_estimators=200 \n",
      "[CV]  criterion=gini, max_depth=20, min_samples_leaf=4, min_samples_split=5, n_estimators=200, total=  35.0s\n",
      "[CV] criterion=gini, max_depth=20, min_samples_leaf=4, min_samples_split=5, n_estimators=200 \n",
      "[CV]  criterion=gini, max_depth=20, min_samples_leaf=4, min_samples_split=5, n_estimators=200, total=  36.4s\n",
      "[CV] criterion=gini, max_depth=20, min_samples_leaf=4, min_samples_split=5, n_estimators=300 \n",
      "[CV]  criterion=gini, max_depth=20, min_samples_leaf=4, min_samples_split=5, n_estimators=300, total=  47.3s\n",
      "[CV] criterion=gini, max_depth=20, min_samples_leaf=4, min_samples_split=5, n_estimators=300 \n",
      "[CV]  criterion=gini, max_depth=20, min_samples_leaf=4, min_samples_split=5, n_estimators=300, total=  52.6s\n",
      "[CV] criterion=gini, max_depth=20, min_samples_leaf=4, min_samples_split=5, n_estimators=300 \n",
      "[CV]  criterion=gini, max_depth=20, min_samples_leaf=4, min_samples_split=5, n_estimators=300, total=  56.6s\n",
      "[CV] criterion=gini, max_depth=20, min_samples_leaf=4, min_samples_split=5, n_estimators=400 \n",
      "[CV]  criterion=gini, max_depth=20, min_samples_leaf=4, min_samples_split=5, n_estimators=400, total= 1.3min\n",
      "[CV] criterion=gini, max_depth=20, min_samples_leaf=4, min_samples_split=5, n_estimators=400 \n",
      "[CV]  criterion=gini, max_depth=20, min_samples_leaf=4, min_samples_split=5, n_estimators=400, total= 1.2min\n",
      "[CV] criterion=gini, max_depth=20, min_samples_leaf=4, min_samples_split=5, n_estimators=400 \n",
      "[CV]  criterion=gini, max_depth=20, min_samples_leaf=4, min_samples_split=5, n_estimators=400, total= 1.1min\n",
      "[CV] criterion=gini, max_depth=20, min_samples_leaf=4, min_samples_split=5, n_estimators=500 \n",
      "[CV]  criterion=gini, max_depth=20, min_samples_leaf=4, min_samples_split=5, n_estimators=500, total= 1.4min\n",
      "[CV] criterion=gini, max_depth=20, min_samples_leaf=4, min_samples_split=5, n_estimators=500 \n",
      "[CV]  criterion=gini, max_depth=20, min_samples_leaf=4, min_samples_split=5, n_estimators=500, total= 1.1min\n",
      "[CV] criterion=gini, max_depth=20, min_samples_leaf=4, min_samples_split=5, n_estimators=500 \n",
      "[CV]  criterion=gini, max_depth=20, min_samples_leaf=4, min_samples_split=5, n_estimators=500, total= 1.3min\n",
      "[CV] criterion=gini, max_depth=20, min_samples_leaf=4, min_samples_split=10, n_estimators=10 \n",
      "[CV]  criterion=gini, max_depth=20, min_samples_leaf=4, min_samples_split=10, n_estimators=10, total=   4.3s\n",
      "[CV] criterion=gini, max_depth=20, min_samples_leaf=4, min_samples_split=10, n_estimators=10 \n",
      "[CV]  criterion=gini, max_depth=20, min_samples_leaf=4, min_samples_split=10, n_estimators=10, total=   4.1s\n",
      "[CV] criterion=gini, max_depth=20, min_samples_leaf=4, min_samples_split=10, n_estimators=10 \n",
      "[CV]  criterion=gini, max_depth=20, min_samples_leaf=4, min_samples_split=10, n_estimators=10, total=   4.3s\n",
      "[CV] criterion=gini, max_depth=20, min_samples_leaf=4, min_samples_split=10, n_estimators=100 \n",
      "[CV]  criterion=gini, max_depth=20, min_samples_leaf=4, min_samples_split=10, n_estimators=100, total=  20.6s\n",
      "[CV] criterion=gini, max_depth=20, min_samples_leaf=4, min_samples_split=10, n_estimators=100 \n",
      "[CV]  criterion=gini, max_depth=20, min_samples_leaf=4, min_samples_split=10, n_estimators=100, total=  18.3s\n",
      "[CV] criterion=gini, max_depth=20, min_samples_leaf=4, min_samples_split=10, n_estimators=100 \n",
      "[CV]  criterion=gini, max_depth=20, min_samples_leaf=4, min_samples_split=10, n_estimators=100, total=  19.8s\n",
      "[CV] criterion=gini, max_depth=20, min_samples_leaf=4, min_samples_split=10, n_estimators=200 \n",
      "[CV]  criterion=gini, max_depth=20, min_samples_leaf=4, min_samples_split=10, n_estimators=200, total=  37.6s\n"
     ]
    },
    {
     "name": "stdout",
     "output_type": "stream",
     "text": [
      "[CV] criterion=gini, max_depth=20, min_samples_leaf=4, min_samples_split=10, n_estimators=200 \n",
      "[CV]  criterion=gini, max_depth=20, min_samples_leaf=4, min_samples_split=10, n_estimators=200, total=  32.2s\n",
      "[CV] criterion=gini, max_depth=20, min_samples_leaf=4, min_samples_split=10, n_estimators=200 \n",
      "[CV]  criterion=gini, max_depth=20, min_samples_leaf=4, min_samples_split=10, n_estimators=200, total=  32.3s\n",
      "[CV] criterion=gini, max_depth=20, min_samples_leaf=4, min_samples_split=10, n_estimators=300 \n",
      "[CV]  criterion=gini, max_depth=20, min_samples_leaf=4, min_samples_split=10, n_estimators=300, total=  48.0s\n",
      "[CV] criterion=gini, max_depth=20, min_samples_leaf=4, min_samples_split=10, n_estimators=300 \n",
      "[CV]  criterion=gini, max_depth=20, min_samples_leaf=4, min_samples_split=10, n_estimators=300, total=  53.1s\n",
      "[CV] criterion=gini, max_depth=20, min_samples_leaf=4, min_samples_split=10, n_estimators=300 \n",
      "[CV]  criterion=gini, max_depth=20, min_samples_leaf=4, min_samples_split=10, n_estimators=300, total=  54.1s\n",
      "[CV] criterion=gini, max_depth=20, min_samples_leaf=4, min_samples_split=10, n_estimators=400 \n",
      "[CV]  criterion=gini, max_depth=20, min_samples_leaf=4, min_samples_split=10, n_estimators=400, total= 1.2min\n",
      "[CV] criterion=gini, max_depth=20, min_samples_leaf=4, min_samples_split=10, n_estimators=400 \n",
      "[CV]  criterion=gini, max_depth=20, min_samples_leaf=4, min_samples_split=10, n_estimators=400, total=  59.9s\n",
      "[CV] criterion=gini, max_depth=20, min_samples_leaf=4, min_samples_split=10, n_estimators=400 \n",
      "[CV]  criterion=gini, max_depth=20, min_samples_leaf=4, min_samples_split=10, n_estimators=400, total= 1.0min\n",
      "[CV] criterion=gini, max_depth=20, min_samples_leaf=4, min_samples_split=10, n_estimators=500 \n",
      "[CV]  criterion=gini, max_depth=20, min_samples_leaf=4, min_samples_split=10, n_estimators=500, total= 1.4min\n",
      "[CV] criterion=gini, max_depth=20, min_samples_leaf=4, min_samples_split=10, n_estimators=500 \n",
      "[CV]  criterion=gini, max_depth=20, min_samples_leaf=4, min_samples_split=10, n_estimators=500, total= 1.3min\n",
      "[CV] criterion=gini, max_depth=20, min_samples_leaf=4, min_samples_split=10, n_estimators=500 \n",
      "[CV]  criterion=gini, max_depth=20, min_samples_leaf=4, min_samples_split=10, n_estimators=500, total= 1.5min\n",
      "[CV] criterion=gini, max_depth=20, min_samples_leaf=4, min_samples_split=20, n_estimators=10 \n",
      "[CV]  criterion=gini, max_depth=20, min_samples_leaf=4, min_samples_split=20, n_estimators=10, total=   4.5s\n",
      "[CV] criterion=gini, max_depth=20, min_samples_leaf=4, min_samples_split=20, n_estimators=10 \n",
      "[CV]  criterion=gini, max_depth=20, min_samples_leaf=4, min_samples_split=20, n_estimators=10, total=   4.1s\n",
      "[CV] criterion=gini, max_depth=20, min_samples_leaf=4, min_samples_split=20, n_estimators=10 \n",
      "[CV]  criterion=gini, max_depth=20, min_samples_leaf=4, min_samples_split=20, n_estimators=10, total=   4.1s\n",
      "[CV] criterion=gini, max_depth=20, min_samples_leaf=4, min_samples_split=20, n_estimators=100 \n",
      "[CV]  criterion=gini, max_depth=20, min_samples_leaf=4, min_samples_split=20, n_estimators=100, total=  17.5s\n",
      "[CV] criterion=gini, max_depth=20, min_samples_leaf=4, min_samples_split=20, n_estimators=100 \n",
      "[CV]  criterion=gini, max_depth=20, min_samples_leaf=4, min_samples_split=20, n_estimators=100, total=  18.5s\n",
      "[CV] criterion=gini, max_depth=20, min_samples_leaf=4, min_samples_split=20, n_estimators=100 \n",
      "[CV]  criterion=gini, max_depth=20, min_samples_leaf=4, min_samples_split=20, n_estimators=100, total=  18.4s\n",
      "[CV] criterion=gini, max_depth=20, min_samples_leaf=4, min_samples_split=20, n_estimators=200 \n",
      "[CV]  criterion=gini, max_depth=20, min_samples_leaf=4, min_samples_split=20, n_estimators=200, total=  36.5s\n",
      "[CV] criterion=gini, max_depth=20, min_samples_leaf=4, min_samples_split=20, n_estimators=200 \n",
      "[CV]  criterion=gini, max_depth=20, min_samples_leaf=4, min_samples_split=20, n_estimators=200, total=  31.4s\n",
      "[CV] criterion=gini, max_depth=20, min_samples_leaf=4, min_samples_split=20, n_estimators=200 \n",
      "[CV]  criterion=gini, max_depth=20, min_samples_leaf=4, min_samples_split=20, n_estimators=200, total=  27.5s\n",
      "[CV] criterion=gini, max_depth=20, min_samples_leaf=4, min_samples_split=20, n_estimators=300 \n",
      "[CV]  criterion=gini, max_depth=20, min_samples_leaf=4, min_samples_split=20, n_estimators=300, total=  49.7s\n",
      "[CV] criterion=gini, max_depth=20, min_samples_leaf=4, min_samples_split=20, n_estimators=300 \n",
      "[CV]  criterion=gini, max_depth=20, min_samples_leaf=4, min_samples_split=20, n_estimators=300, total=  49.5s\n",
      "[CV] criterion=gini, max_depth=20, min_samples_leaf=4, min_samples_split=20, n_estimators=300 \n",
      "[CV]  criterion=gini, max_depth=20, min_samples_leaf=4, min_samples_split=20, n_estimators=300, total=  47.6s\n",
      "[CV] criterion=gini, max_depth=20, min_samples_leaf=4, min_samples_split=20, n_estimators=400 \n",
      "[CV]  criterion=gini, max_depth=20, min_samples_leaf=4, min_samples_split=20, n_estimators=400, total= 1.1min\n",
      "[CV] criterion=gini, max_depth=20, min_samples_leaf=4, min_samples_split=20, n_estimators=400 \n",
      "[CV]  criterion=gini, max_depth=20, min_samples_leaf=4, min_samples_split=20, n_estimators=400, total= 1.1min\n",
      "[CV] criterion=gini, max_depth=20, min_samples_leaf=4, min_samples_split=20, n_estimators=400 \n",
      "[CV]  criterion=gini, max_depth=20, min_samples_leaf=4, min_samples_split=20, n_estimators=400, total= 1.1min\n",
      "[CV] criterion=gini, max_depth=20, min_samples_leaf=4, min_samples_split=20, n_estimators=500 \n",
      "[CV]  criterion=gini, max_depth=20, min_samples_leaf=4, min_samples_split=20, n_estimators=500, total= 1.4min\n",
      "[CV] criterion=gini, max_depth=20, min_samples_leaf=4, min_samples_split=20, n_estimators=500 \n",
      "[CV]  criterion=gini, max_depth=20, min_samples_leaf=4, min_samples_split=20, n_estimators=500, total= 1.4min\n",
      "[CV] criterion=gini, max_depth=20, min_samples_leaf=4, min_samples_split=20, n_estimators=500 \n",
      "[CV]  criterion=gini, max_depth=20, min_samples_leaf=4, min_samples_split=20, n_estimators=500, total= 1.4min\n",
      "[CV] criterion=gini, max_depth=20, min_samples_leaf=6, min_samples_split=5, n_estimators=10 \n",
      "[CV]  criterion=gini, max_depth=20, min_samples_leaf=6, min_samples_split=5, n_estimators=10, total=   4.1s\n",
      "[CV] criterion=gini, max_depth=20, min_samples_leaf=6, min_samples_split=5, n_estimators=10 \n",
      "[CV]  criterion=gini, max_depth=20, min_samples_leaf=6, min_samples_split=5, n_estimators=10, total=   3.9s\n",
      "[CV] criterion=gini, max_depth=20, min_samples_leaf=6, min_samples_split=5, n_estimators=10 \n",
      "[CV]  criterion=gini, max_depth=20, min_samples_leaf=6, min_samples_split=5, n_estimators=10, total=   4.0s\n",
      "[CV] criterion=gini, max_depth=20, min_samples_leaf=6, min_samples_split=5, n_estimators=100 \n",
      "[CV]  criterion=gini, max_depth=20, min_samples_leaf=6, min_samples_split=5, n_estimators=100, total=  18.8s\n",
      "[CV] criterion=gini, max_depth=20, min_samples_leaf=6, min_samples_split=5, n_estimators=100 \n",
      "[CV]  criterion=gini, max_depth=20, min_samples_leaf=6, min_samples_split=5, n_estimators=100, total=  17.9s\n",
      "[CV] criterion=gini, max_depth=20, min_samples_leaf=6, min_samples_split=5, n_estimators=100 \n",
      "[CV]  criterion=gini, max_depth=20, min_samples_leaf=6, min_samples_split=5, n_estimators=100, total=  18.9s\n",
      "[CV] criterion=gini, max_depth=20, min_samples_leaf=6, min_samples_split=5, n_estimators=200 \n",
      "[CV]  criterion=gini, max_depth=20, min_samples_leaf=6, min_samples_split=5, n_estimators=200, total=  35.6s\n",
      "[CV] criterion=gini, max_depth=20, min_samples_leaf=6, min_samples_split=5, n_estimators=200 \n",
      "[CV]  criterion=gini, max_depth=20, min_samples_leaf=6, min_samples_split=5, n_estimators=200, total=  30.2s\n",
      "[CV] criterion=gini, max_depth=20, min_samples_leaf=6, min_samples_split=5, n_estimators=200 \n",
      "[CV]  criterion=gini, max_depth=20, min_samples_leaf=6, min_samples_split=5, n_estimators=200, total=  33.8s\n",
      "[CV] criterion=gini, max_depth=20, min_samples_leaf=6, min_samples_split=5, n_estimators=300 \n",
      "[CV]  criterion=gini, max_depth=20, min_samples_leaf=6, min_samples_split=5, n_estimators=300, total=  45.9s\n",
      "[CV] criterion=gini, max_depth=20, min_samples_leaf=6, min_samples_split=5, n_estimators=300 \n",
      "[CV]  criterion=gini, max_depth=20, min_samples_leaf=6, min_samples_split=5, n_estimators=300, total=  49.5s\n"
     ]
    },
    {
     "name": "stdout",
     "output_type": "stream",
     "text": [
      "[CV] criterion=gini, max_depth=20, min_samples_leaf=6, min_samples_split=5, n_estimators=300 \n",
      "[CV]  criterion=gini, max_depth=20, min_samples_leaf=6, min_samples_split=5, n_estimators=300, total=  50.6s\n",
      "[CV] criterion=gini, max_depth=20, min_samples_leaf=6, min_samples_split=5, n_estimators=400 \n",
      "[CV]  criterion=gini, max_depth=20, min_samples_leaf=6, min_samples_split=5, n_estimators=400, total= 1.2min\n",
      "[CV] criterion=gini, max_depth=20, min_samples_leaf=6, min_samples_split=5, n_estimators=400 \n",
      "[CV]  criterion=gini, max_depth=20, min_samples_leaf=6, min_samples_split=5, n_estimators=400, total= 1.0min\n",
      "[CV] criterion=gini, max_depth=20, min_samples_leaf=6, min_samples_split=5, n_estimators=400 \n",
      "[CV]  criterion=gini, max_depth=20, min_samples_leaf=6, min_samples_split=5, n_estimators=400, total= 1.3min\n",
      "[CV] criterion=gini, max_depth=20, min_samples_leaf=6, min_samples_split=5, n_estimators=500 \n",
      "[CV]  criterion=gini, max_depth=20, min_samples_leaf=6, min_samples_split=5, n_estimators=500, total= 1.8min\n",
      "[CV] criterion=gini, max_depth=20, min_samples_leaf=6, min_samples_split=5, n_estimators=500 \n",
      "[CV]  criterion=gini, max_depth=20, min_samples_leaf=6, min_samples_split=5, n_estimators=500, total= 2.0min\n",
      "[CV] criterion=gini, max_depth=20, min_samples_leaf=6, min_samples_split=5, n_estimators=500 \n",
      "[CV]  criterion=gini, max_depth=20, min_samples_leaf=6, min_samples_split=5, n_estimators=500, total= 2.0min\n",
      "[CV] criterion=gini, max_depth=20, min_samples_leaf=6, min_samples_split=10, n_estimators=10 \n",
      "[CV]  criterion=gini, max_depth=20, min_samples_leaf=6, min_samples_split=10, n_estimators=10, total=   5.3s\n",
      "[CV] criterion=gini, max_depth=20, min_samples_leaf=6, min_samples_split=10, n_estimators=10 \n",
      "[CV]  criterion=gini, max_depth=20, min_samples_leaf=6, min_samples_split=10, n_estimators=10, total=   5.2s\n",
      "[CV] criterion=gini, max_depth=20, min_samples_leaf=6, min_samples_split=10, n_estimators=10 \n",
      "[CV]  criterion=gini, max_depth=20, min_samples_leaf=6, min_samples_split=10, n_estimators=10, total=   5.2s\n",
      "[CV] criterion=gini, max_depth=20, min_samples_leaf=6, min_samples_split=10, n_estimators=100 \n",
      "[CV]  criterion=gini, max_depth=20, min_samples_leaf=6, min_samples_split=10, n_estimators=100, total=  25.2s\n",
      "[CV] criterion=gini, max_depth=20, min_samples_leaf=6, min_samples_split=10, n_estimators=100 \n",
      "[CV]  criterion=gini, max_depth=20, min_samples_leaf=6, min_samples_split=10, n_estimators=100, total=  26.8s\n",
      "[CV] criterion=gini, max_depth=20, min_samples_leaf=6, min_samples_split=10, n_estimators=100 \n",
      "[CV]  criterion=gini, max_depth=20, min_samples_leaf=6, min_samples_split=10, n_estimators=100, total=  25.3s\n",
      "[CV] criterion=gini, max_depth=20, min_samples_leaf=6, min_samples_split=10, n_estimators=200 \n",
      "[CV]  criterion=gini, max_depth=20, min_samples_leaf=6, min_samples_split=10, n_estimators=200, total=  44.7s\n",
      "[CV] criterion=gini, max_depth=20, min_samples_leaf=6, min_samples_split=10, n_estimators=200 \n",
      "[CV]  criterion=gini, max_depth=20, min_samples_leaf=6, min_samples_split=10, n_estimators=200, total=  42.5s\n",
      "[CV] criterion=gini, max_depth=20, min_samples_leaf=6, min_samples_split=10, n_estimators=200 \n",
      "[CV]  criterion=gini, max_depth=20, min_samples_leaf=6, min_samples_split=10, n_estimators=200, total=  42.6s\n",
      "[CV] criterion=gini, max_depth=20, min_samples_leaf=6, min_samples_split=10, n_estimators=300 \n",
      "[CV]  criterion=gini, max_depth=20, min_samples_leaf=6, min_samples_split=10, n_estimators=300, total= 1.1min\n",
      "[CV] criterion=gini, max_depth=20, min_samples_leaf=6, min_samples_split=10, n_estimators=300 \n",
      "[CV]  criterion=gini, max_depth=20, min_samples_leaf=6, min_samples_split=10, n_estimators=300, total= 1.1min\n",
      "[CV] criterion=gini, max_depth=20, min_samples_leaf=6, min_samples_split=10, n_estimators=300 \n",
      "[CV]  criterion=gini, max_depth=20, min_samples_leaf=6, min_samples_split=10, n_estimators=300, total=  52.7s\n",
      "[CV] criterion=gini, max_depth=20, min_samples_leaf=6, min_samples_split=10, n_estimators=400 \n",
      "[CV]  criterion=gini, max_depth=20, min_samples_leaf=6, min_samples_split=10, n_estimators=400, total= 1.2min\n",
      "[CV] criterion=gini, max_depth=20, min_samples_leaf=6, min_samples_split=10, n_estimators=400 \n",
      "[CV]  criterion=gini, max_depth=20, min_samples_leaf=6, min_samples_split=10, n_estimators=400, total= 1.2min\n",
      "[CV] criterion=gini, max_depth=20, min_samples_leaf=6, min_samples_split=10, n_estimators=400 \n",
      "[CV]  criterion=gini, max_depth=20, min_samples_leaf=6, min_samples_split=10, n_estimators=400, total= 1.5min\n",
      "[CV] criterion=gini, max_depth=20, min_samples_leaf=6, min_samples_split=10, n_estimators=500 \n",
      "[CV]  criterion=gini, max_depth=20, min_samples_leaf=6, min_samples_split=10, n_estimators=500, total= 1.8min\n",
      "[CV] criterion=gini, max_depth=20, min_samples_leaf=6, min_samples_split=10, n_estimators=500 \n",
      "[CV]  criterion=gini, max_depth=20, min_samples_leaf=6, min_samples_split=10, n_estimators=500, total= 1.9min\n",
      "[CV] criterion=gini, max_depth=20, min_samples_leaf=6, min_samples_split=10, n_estimators=500 \n",
      "[CV]  criterion=gini, max_depth=20, min_samples_leaf=6, min_samples_split=10, n_estimators=500, total= 2.3min\n",
      "[CV] criterion=gini, max_depth=20, min_samples_leaf=6, min_samples_split=20, n_estimators=10 \n",
      "[CV]  criterion=gini, max_depth=20, min_samples_leaf=6, min_samples_split=20, n_estimators=10, total=   6.0s\n",
      "[CV] criterion=gini, max_depth=20, min_samples_leaf=6, min_samples_split=20, n_estimators=10 "
     ]
    }
   ],
   "source": [
    "rforest1 = RandomForestClassifier()\n",
    "rfparams = {'n_estimators':[10,100,200,300,400,500], 'criterion':['gini','entropy'], 'max_depth':[10,20,30], 'min_samples_split':[5,10,20], 'min_samples_leaf':[2,4,6]}\n",
    "grid_rf = GridSearchCV(rforest1, rfparams, verbose=2)\n",
    "grid_rf.fit(x_train, y_train)\n",
    "grid_rf.predict(x_test)\n",
    "print(grid_rf.best_score_)\n",
    "print(grid_rf.best_params_)\n",
    "allDone()"
   ]
  },
  {
   "cell_type": "code",
   "execution_count": null,
   "metadata": {
    "scrolled": true
   },
   "outputs": [],
   "source": [
    "knnparams = {'algorithm':['auto', 'ball_tree', 'kd_tree', 'brute'], 'n_neighbors':[3, 4, 5, 6, 7], 'leaf_size':[10, 20, 30, 40], 'p':[1, 2, 3]}\n",
    "grid_knn = GridSearchCV(neigh1, knnparams, verbose=2)\n",
    "grid_knn.fit(x_train, y_train)\n",
    "grid_knn.predict(x_test)\n",
    "print(grid_knn.best_score_)\n",
    "print(grid_knn.best_params_)\n",
    "allDone()"
   ]
  },
  {
   "cell_type": "code",
   "execution_count": null,
   "metadata": {},
   "outputs": [],
   "source": [
    "svcparams = {'C':[1.0,10,100,1000], 'kernel':['rbf','linear', 'poly', 'sigmoid'], 'degree':[3,4,5], 'gamma':['auto',0.1,0.01,0.001]}\n",
    "grid_svc = GridSearchCV(clf1, svcparams, verbose=2)\n",
    "grid_svc.fit(x_train, y_train)\n",
    "grid_svc.predict(x_test)\n",
    "print(grid_svc.best_score_)\n",
    "print(grid_svc.best_params_)"
   ]
  },
  {
   "cell_type": "code",
   "execution_count": 24,
   "metadata": {
    "colab": {},
    "colab_type": "code",
    "id": "JSz_SiuQfj6S"
   },
   "outputs": [],
   "source": [
    "def init():   #initialization function\n",
    "    df2=pd.DataFrame(np.ones((m,d),dtype='int'),columns=features)\n",
    "    return df2\n",
    "#df2=init()"
   ]
  },
  {
   "cell_type": "markdown",
   "metadata": {},
   "source": [
    "## FITNESS FUNCTION"
   ]
  },
  {
   "cell_type": "code",
   "execution_count": 25,
   "metadata": {
    "colab": {},
    "colab_type": "code",
    "id": "ylLmuEVjfj6X"
   },
   "outputs": [],
   "source": [
    "# this defines the fitness of each crow by calculating their accuracy and no features selected using the below formula\n",
    "def fitness(df2):      # fitness function whose 1 parameter takes the crows and their position as input\n",
    "    fnt=np.zeros((m,1))  # fnt is the fitness function\n",
    "    for k in tqdm(range(m)):    \n",
    "        global sel\n",
    "        sel=[]\n",
    "        q=0\n",
    "        imp=0\n",
    "        a=(df2.iloc[k,:])==0.0\n",
    "        if a.all()==True:\n",
    "            df2.iloc[k,:]=1.0\n",
    "        for p in list(features):\n",
    "            if df2.loc[k,p]==1.0:\n",
    "                sel.insert(q,p)\n",
    "                temp=imo[p]\n",
    "                imp=imp+temp\n",
    "            q=q+1\n",
    "        lf=len(sel)\n",
    "        divide=lf/lt\n",
    "        fnt[k]=imp+wf*(1-float(lf/lt))     # fitness formula\n",
    "    return fnt\n"
   ]
  },
  {
   "cell_type": "code",
   "execution_count": 26,
   "metadata": {
    "colab": {},
    "colab_type": "code",
    "id": "3JX1sTSufj6c"
   },
   "outputs": [
    {
     "name": "stderr",
     "output_type": "stream",
     "text": [
      "100%|██████████████████████████████████████████████████████████████████████████████████| 20/20 [02:17<00:00,  6.88s/it]\n"
     ]
    }
   ],
   "source": [
    "z=init()   #crow memory with initial position\n",
    "tmax=50   # Maximum number of iterations (itermax)\n",
    "xn=z.copy()  # the position of the crow\n",
    "mem=init()  # memory is initialized using the init function\n",
    "xnew=(xn).copy()   # the positions of the crow\n",
    "ft=fitness(xn)\n",
    "plotit=[]"
   ]
  },
  {
   "cell_type": "markdown",
   "metadata": {},
   "source": [
    "## FEATURES IMPORTANCE"
   ]
  },
  {
   "cell_type": "code",
   "execution_count": 27,
   "metadata": {
    "colab": {},
    "colab_type": "code",
    "id": "cRGlsQ57fj6j",
    "outputId": "ecb5e6e9-c09c-4581-d79f-55308fae3400"
   },
   "outputs": [
    {
     "name": "stdout",
     "output_type": "stream",
     "text": [
      "0\n"
     ]
    },
    {
     "name": "stderr",
     "output_type": "stream",
     "text": [
      "100%|██████████████████████████████████████████████████████████████████████████████████| 20/20 [00:01<00:00, 19.11it/s]\n"
     ]
    },
    {
     "name": "stdout",
     "output_type": "stream",
     "text": [
      "transpose\n",
      "exp\n",
      "apply lambda\n",
      "copied\n"
     ]
    },
    {
     "name": "stderr",
     "output_type": "stream",
     "text": [
      "100%|█████████████████████████████████████████████████████████████████████████████████| 20/20 [00:00<00:00, 182.84it/s]\n"
     ]
    },
    {
     "name": "stdout",
     "output_type": "stream",
     "text": [
      "running fitness\n"
     ]
    },
    {
     "name": "stderr",
     "output_type": "stream",
     "text": [
      "100%|██████████████████████████████████████████████████████████████████████████████████| 20/20 [01:19<00:00,  3.96s/it]\n"
     ]
    },
    {
     "name": "stdout",
     "output_type": "stream",
     "text": [
      "fitness done\n"
     ]
    },
    {
     "name": "stderr",
     "output_type": "stream",
     "text": [
      "100%|██████████████████████████████████████████████████████████████████████████████████| 20/20 [29:50<00:00, 89.50s/it]\n"
     ]
    },
    {
     "name": "stdout",
     "output_type": "stream",
     "text": [
      "complete0\n",
      "1\n"
     ]
    },
    {
     "name": "stderr",
     "output_type": "stream",
     "text": [
      "100%|██████████████████████████████████████████████████████████████████████████████████| 20/20 [00:00<00:00, 47.42it/s]\n"
     ]
    },
    {
     "name": "stdout",
     "output_type": "stream",
     "text": [
      "transpose\n",
      "exp\n",
      "apply lambda\n",
      "copied\n"
     ]
    },
    {
     "name": "stderr",
     "output_type": "stream",
     "text": [
      "100%|█████████████████████████████████████████████████████████████████████████████████| 20/20 [00:00<00:00, 182.84it/s]\n"
     ]
    },
    {
     "name": "stdout",
     "output_type": "stream",
     "text": [
      "running fitness\n"
     ]
    },
    {
     "name": "stderr",
     "output_type": "stream",
     "text": [
      "100%|██████████████████████████████████████████████████████████████████████████████████| 20/20 [02:16<00:00,  6.85s/it]\n"
     ]
    },
    {
     "name": "stdout",
     "output_type": "stream",
     "text": [
      "fitness done\n"
     ]
    },
    {
     "name": "stderr",
     "output_type": "stream",
     "text": [
      "100%|██████████████████████████████████████████████████████████████████████████████████████████| 20/20 [00:00<?, ?it/s]\n"
     ]
    },
    {
     "name": "stdout",
     "output_type": "stream",
     "text": [
      "complete1\n",
      "2\n"
     ]
    },
    {
     "name": "stderr",
     "output_type": "stream",
     "text": [
      "100%|██████████████████████████████████████████████████████████████████████████████████| 20/20 [00:00<00:00, 37.66it/s]\n"
     ]
    },
    {
     "name": "stdout",
     "output_type": "stream",
     "text": [
      "transpose\n",
      "exp\n",
      "apply lambda\n",
      "copied\n"
     ]
    },
    {
     "name": "stderr",
     "output_type": "stream",
     "text": [
      "100%|█████████████████████████████████████████████████████████████████████████████████| 20/20 [00:00<00:00, 182.89it/s]\n"
     ]
    },
    {
     "name": "stdout",
     "output_type": "stream",
     "text": [
      "running fitness\n"
     ]
    },
    {
     "name": "stderr",
     "output_type": "stream",
     "text": [
      "100%|██████████████████████████████████████████████████████████████████████████████████| 20/20 [02:24<00:00,  7.23s/it]\n"
     ]
    },
    {
     "name": "stdout",
     "output_type": "stream",
     "text": [
      "fitness done\n"
     ]
    },
    {
     "name": "stderr",
     "output_type": "stream",
     "text": [
      "100%|██████████████████████████████████████████████████████████████████████████████████████████| 20/20 [00:00<?, ?it/s]\n"
     ]
    },
    {
     "name": "stdout",
     "output_type": "stream",
     "text": [
      "complete2\n",
      "3\n"
     ]
    },
    {
     "name": "stderr",
     "output_type": "stream",
     "text": [
      "100%|██████████████████████████████████████████████████████████████████████████████████| 20/20 [00:00<00:00, 55.07it/s]\n"
     ]
    },
    {
     "name": "stdout",
     "output_type": "stream",
     "text": [
      "transpose\n",
      "exp\n",
      "apply lambda\n",
      "copied\n"
     ]
    },
    {
     "name": "stderr",
     "output_type": "stream",
     "text": [
      "100%|█████████████████████████████████████████████████████████████████████████████████| 20/20 [00:00<00:00, 217.36it/s]\n"
     ]
    },
    {
     "name": "stdout",
     "output_type": "stream",
     "text": [
      "running fitness\n"
     ]
    },
    {
     "name": "stderr",
     "output_type": "stream",
     "text": [
      "100%|██████████████████████████████████████████████████████████████████████████████████| 20/20 [02:10<00:00,  6.55s/it]\n"
     ]
    },
    {
     "name": "stdout",
     "output_type": "stream",
     "text": [
      "fitness done\n"
     ]
    },
    {
     "name": "stderr",
     "output_type": "stream",
     "text": [
      "100%|██████████████████████████████████████████████████████████████████████████████████| 20/20 [01:49<00:00,  5.50s/it]\n"
     ]
    },
    {
     "name": "stdout",
     "output_type": "stream",
     "text": [
      "complete3\n",
      "4\n"
     ]
    },
    {
     "name": "stderr",
     "output_type": "stream",
     "text": [
      "100%|██████████████████████████████████████████████████████████████████████████████████| 20/20 [00:00<00:00, 58.93it/s]\n"
     ]
    },
    {
     "name": "stdout",
     "output_type": "stream",
     "text": [
      "transpose\n",
      "exp\n",
      "apply lambda\n",
      "copied\n"
     ]
    },
    {
     "name": "stderr",
     "output_type": "stream",
     "text": [
      "100%|█████████████████████████████████████████████████████████████████████████████████| 20/20 [00:00<00:00, 217.89it/s]\n"
     ]
    },
    {
     "name": "stdout",
     "output_type": "stream",
     "text": [
      "running fitness\n"
     ]
    },
    {
     "name": "stderr",
     "output_type": "stream",
     "text": [
      "100%|██████████████████████████████████████████████████████████████████████████████████| 20/20 [02:33<00:00,  7.69s/it]\n"
     ]
    },
    {
     "name": "stdout",
     "output_type": "stream",
     "text": [
      "fitness done\n"
     ]
    },
    {
     "name": "stderr",
     "output_type": "stream",
     "text": [
      "100%|██████████████████████████████████████████████████████████████████████████████████████████| 20/20 [00:00<?, ?it/s]\n"
     ]
    },
    {
     "name": "stdout",
     "output_type": "stream",
     "text": [
      "complete4\n",
      "5\n"
     ]
    },
    {
     "name": "stderr",
     "output_type": "stream",
     "text": [
      "100%|██████████████████████████████████████████████████████████████████████████████████| 20/20 [00:00<00:00, 36.40it/s]\n"
     ]
    },
    {
     "name": "stdout",
     "output_type": "stream",
     "text": [
      "transpose\n",
      "exp\n",
      "apply lambda\n",
      "copied\n"
     ]
    },
    {
     "name": "stderr",
     "output_type": "stream",
     "text": [
      "100%|█████████████████████████████████████████████████████████████████████████████████| 20/20 [00:00<00:00, 159.50it/s]\n"
     ]
    },
    {
     "name": "stdout",
     "output_type": "stream",
     "text": [
      "running fitness\n"
     ]
    },
    {
     "name": "stderr",
     "output_type": "stream",
     "text": [
      "100%|██████████████████████████████████████████████████████████████████████████████████| 20/20 [02:01<00:00,  6.09s/it]\n"
     ]
    },
    {
     "name": "stdout",
     "output_type": "stream",
     "text": [
      "fitness done\n"
     ]
    },
    {
     "name": "stderr",
     "output_type": "stream",
     "text": [
      "100%|██████████████████████████████████████████████████████████████████████████████████| 20/20 [06:22<00:00, 19.13s/it]\n"
     ]
    },
    {
     "name": "stdout",
     "output_type": "stream",
     "text": [
      "complete5\n",
      "6\n"
     ]
    },
    {
     "name": "stderr",
     "output_type": "stream",
     "text": [
      "100%|██████████████████████████████████████████████████████████████████████████████████| 20/20 [00:00<00:00, 32.00it/s]\n"
     ]
    },
    {
     "name": "stdout",
     "output_type": "stream",
     "text": [
      "transpose\n",
      "exp\n",
      "apply lambda\n",
      "copied\n"
     ]
    },
    {
     "name": "stderr",
     "output_type": "stream",
     "text": [
      "100%|█████████████████████████████████████████████████████████████████████████████████| 20/20 [00:00<00:00, 174.35it/s]\n"
     ]
    },
    {
     "name": "stdout",
     "output_type": "stream",
     "text": [
      "running fitness\n"
     ]
    },
    {
     "name": "stderr",
     "output_type": "stream",
     "text": [
      "100%|██████████████████████████████████████████████████████████████████████████████████| 20/20 [02:40<00:00,  8.02s/it]\n"
     ]
    },
    {
     "name": "stdout",
     "output_type": "stream",
     "text": [
      "fitness done\n"
     ]
    },
    {
     "name": "stderr",
     "output_type": "stream",
     "text": [
      "100%|██████████████████████████████████████████████████████████████████████████████████████████| 20/20 [00:00<?, ?it/s]\n"
     ]
    },
    {
     "name": "stdout",
     "output_type": "stream",
     "text": [
      "complete6\n",
      "7\n"
     ]
    },
    {
     "name": "stderr",
     "output_type": "stream",
     "text": [
      "100%|██████████████████████████████████████████████████████████████████████████████████| 20/20 [00:00<00:00, 44.47it/s]\n"
     ]
    },
    {
     "name": "stdout",
     "output_type": "stream",
     "text": [
      "transpose\n",
      "exp\n",
      "apply lambda\n",
      "copied\n"
     ]
    },
    {
     "name": "stderr",
     "output_type": "stream",
     "text": [
      "100%|█████████████████████████████████████████████████████████████████████████████████| 20/20 [00:00<00:00, 210.49it/s]\n"
     ]
    },
    {
     "name": "stdout",
     "output_type": "stream",
     "text": [
      "running fitness\n"
     ]
    },
    {
     "name": "stderr",
     "output_type": "stream",
     "text": [
      "100%|██████████████████████████████████████████████████████████████████████████████████| 20/20 [02:43<00:00,  8.17s/it]\n"
     ]
    },
    {
     "name": "stdout",
     "output_type": "stream",
     "text": [
      "fitness done\n"
     ]
    },
    {
     "name": "stderr",
     "output_type": "stream",
     "text": [
      "100%|██████████████████████████████████████████████████████████████████████████████████████████| 20/20 [00:00<?, ?it/s]\n"
     ]
    },
    {
     "name": "stdout",
     "output_type": "stream",
     "text": [
      "complete7\n",
      "8\n"
     ]
    },
    {
     "name": "stderr",
     "output_type": "stream",
     "text": [
      "100%|██████████████████████████████████████████████████████████████████████████████████| 20/20 [00:00<00:00, 53.35it/s]\n"
     ]
    },
    {
     "name": "stdout",
     "output_type": "stream",
     "text": [
      "transpose\n",
      "exp\n",
      "apply lambda\n",
      "copied\n"
     ]
    },
    {
     "name": "stderr",
     "output_type": "stream",
     "text": [
      "100%|█████████████████████████████████████████████████████████████████████████████████| 20/20 [00:00<00:00, 210.51it/s]\n"
     ]
    },
    {
     "name": "stdout",
     "output_type": "stream",
     "text": [
      "running fitness\n"
     ]
    },
    {
     "name": "stderr",
     "output_type": "stream",
     "text": [
      "100%|██████████████████████████████████████████████████████████████████████████████████| 20/20 [02:42<00:00,  8.12s/it]\n"
     ]
    },
    {
     "name": "stdout",
     "output_type": "stream",
     "text": [
      "fitness done\n"
     ]
    },
    {
     "name": "stderr",
     "output_type": "stream",
     "text": [
      "100%|██████████████████████████████████████████████████████████████████████████████████████████| 20/20 [00:00<?, ?it/s]\n"
     ]
    },
    {
     "name": "stdout",
     "output_type": "stream",
     "text": [
      "complete8\n",
      "9\n"
     ]
    },
    {
     "name": "stderr",
     "output_type": "stream",
     "text": [
      "100%|██████████████████████████████████████████████████████████████████████████████████| 20/20 [00:00<00:00, 53.99it/s]\n"
     ]
    },
    {
     "name": "stdout",
     "output_type": "stream",
     "text": [
      "transpose\n",
      "exp\n",
      "apply lambda\n",
      "copied\n"
     ]
    },
    {
     "name": "stderr",
     "output_type": "stream",
     "text": [
      "100%|█████████████████████████████████████████████████████████████████████████████████| 20/20 [00:00<00:00, 133.01it/s]\n"
     ]
    },
    {
     "name": "stdout",
     "output_type": "stream",
     "text": [
      "running fitness\n"
     ]
    },
    {
     "name": "stderr",
     "output_type": "stream",
     "text": [
      "100%|██████████████████████████████████████████████████████████████████████████████████| 20/20 [02:09<00:00,  6.49s/it]\n"
     ]
    },
    {
     "name": "stdout",
     "output_type": "stream",
     "text": [
      "fitness done\n"
     ]
    },
    {
     "name": "stderr",
     "output_type": "stream",
     "text": [
      "100%|██████████████████████████████████████████████████████████████████████████████████| 20/20 [06:41<00:00, 20.09s/it]\n"
     ]
    },
    {
     "name": "stdout",
     "output_type": "stream",
     "text": [
      "complete9\n",
      "10\n"
     ]
    },
    {
     "name": "stderr",
     "output_type": "stream",
     "text": [
      "100%|██████████████████████████████████████████████████████████████████████████████████| 20/20 [00:00<00:00, 33.39it/s]\n"
     ]
    },
    {
     "name": "stdout",
     "output_type": "stream",
     "text": [
      "transpose\n",
      "exp\n",
      "apply lambda\n",
      "copied\n"
     ]
    },
    {
     "name": "stderr",
     "output_type": "stream",
     "text": [
      "100%|█████████████████████████████████████████████████████████████████████████████████| 20/20 [00:00<00:00, 199.91it/s]\n"
     ]
    },
    {
     "name": "stdout",
     "output_type": "stream",
     "text": [
      "running fitness\n"
     ]
    },
    {
     "name": "stderr",
     "output_type": "stream",
     "text": [
      "100%|██████████████████████████████████████████████████████████████████████████████████| 20/20 [02:24<00:00,  7.23s/it]\n"
     ]
    },
    {
     "name": "stdout",
     "output_type": "stream",
     "text": [
      "fitness done\n"
     ]
    },
    {
     "name": "stderr",
     "output_type": "stream",
     "text": [
      "100%|██████████████████████████████████████████████████████████████████████████████████████████| 20/20 [00:00<?, ?it/s]\n"
     ]
    },
    {
     "name": "stdout",
     "output_type": "stream",
     "text": [
      "complete10\n",
      "11\n"
     ]
    },
    {
     "name": "stderr",
     "output_type": "stream",
     "text": [
      "100%|██████████████████████████████████████████████████████████████████████████████████| 20/20 [00:00<00:00, 37.75it/s]\n"
     ]
    },
    {
     "name": "stdout",
     "output_type": "stream",
     "text": [
      "transpose\n",
      "exp\n",
      "apply lambda\n",
      "copied\n"
     ]
    },
    {
     "name": "stderr",
     "output_type": "stream",
     "text": [
      "100%|█████████████████████████████████████████████████████████████████████████████████| 20/20 [00:00<00:00, 163.90it/s]\n"
     ]
    },
    {
     "name": "stdout",
     "output_type": "stream",
     "text": [
      "running fitness\n"
     ]
    },
    {
     "name": "stderr",
     "output_type": "stream",
     "text": [
      "100%|██████████████████████████████████████████████████████████████████████████████████| 20/20 [02:22<00:00,  7.14s/it]\n"
     ]
    },
    {
     "name": "stdout",
     "output_type": "stream",
     "text": [
      "fitness done\n"
     ]
    },
    {
     "name": "stderr",
     "output_type": "stream",
     "text": [
      "100%|██████████████████████████████████████████████████████████████████████████████████████████| 20/20 [00:00<?, ?it/s]\n"
     ]
    },
    {
     "name": "stdout",
     "output_type": "stream",
     "text": [
      "complete11\n",
      "12\n"
     ]
    },
    {
     "name": "stderr",
     "output_type": "stream",
     "text": [
      "100%|██████████████████████████████████████████████████████████████████████████████████| 20/20 [00:00<00:00, 25.00it/s]\n"
     ]
    },
    {
     "name": "stdout",
     "output_type": "stream",
     "text": [
      "transpose\n",
      "exp\n",
      "apply lambda\n",
      "copied\n"
     ]
    },
    {
     "name": "stderr",
     "output_type": "stream",
     "text": [
      "100%|█████████████████████████████████████████████████████████████████████████████████| 20/20 [00:00<00:00, 181.54it/s]\n"
     ]
    },
    {
     "name": "stdout",
     "output_type": "stream",
     "text": [
      "running fitness\n"
     ]
    },
    {
     "name": "stderr",
     "output_type": "stream",
     "text": [
      "100%|██████████████████████████████████████████████████████████████████████████████████| 20/20 [02:44<00:00,  8.22s/it]\n"
     ]
    },
    {
     "name": "stdout",
     "output_type": "stream",
     "text": [
      "fitness done\n"
     ]
    },
    {
     "name": "stderr",
     "output_type": "stream",
     "text": [
      "100%|████████████████████████████████████████████████████████████████████████████████| 20/20 [00:00<00:00, 1997.34it/s]\n"
     ]
    },
    {
     "name": "stdout",
     "output_type": "stream",
     "text": [
      "complete12\n",
      "13\n"
     ]
    },
    {
     "name": "stderr",
     "output_type": "stream",
     "text": [
      "100%|██████████████████████████████████████████████████████████████████████████████████| 20/20 [00:00<00:00, 33.83it/s]\n"
     ]
    },
    {
     "name": "stdout",
     "output_type": "stream",
     "text": [
      "transpose\n",
      "exp\n",
      "apply lambda\n",
      "copied\n"
     ]
    },
    {
     "name": "stderr",
     "output_type": "stream",
     "text": [
      "100%|█████████████████████████████████████████████████████████████████████████████████| 20/20 [00:00<00:00, 153.46it/s]\n"
     ]
    },
    {
     "name": "stdout",
     "output_type": "stream",
     "text": [
      "running fitness\n"
     ]
    },
    {
     "name": "stderr",
     "output_type": "stream",
     "text": [
      "100%|██████████████████████████████████████████████████████████████████████████████████| 20/20 [02:40<00:00,  8.03s/it]\n"
     ]
    },
    {
     "name": "stdout",
     "output_type": "stream",
     "text": [
      "fitness done\n"
     ]
    },
    {
     "name": "stderr",
     "output_type": "stream",
     "text": [
      "100%|██████████████████████████████████████████████████████████████████████████████████| 20/20 [02:12<00:00,  6.61s/it]\n"
     ]
    },
    {
     "name": "stdout",
     "output_type": "stream",
     "text": [
      "complete13\n",
      "14\n"
     ]
    },
    {
     "name": "stderr",
     "output_type": "stream",
     "text": [
      "100%|██████████████████████████████████████████████████████████████████████████████████| 20/20 [00:00<00:00, 43.00it/s]\n"
     ]
    },
    {
     "name": "stdout",
     "output_type": "stream",
     "text": [
      "transpose\n",
      "exp\n",
      "apply lambda\n",
      "copied\n"
     ]
    },
    {
     "name": "stderr",
     "output_type": "stream",
     "text": [
      "100%|█████████████████████████████████████████████████████████████████████████████████| 20/20 [00:00<00:00, 199.87it/s]\n"
     ]
    },
    {
     "name": "stdout",
     "output_type": "stream",
     "text": [
      "running fitness\n"
     ]
    },
    {
     "name": "stderr",
     "output_type": "stream",
     "text": [
      "100%|██████████████████████████████████████████████████████████████████████████████████| 20/20 [02:38<00:00,  7.92s/it]\n"
     ]
    },
    {
     "name": "stdout",
     "output_type": "stream",
     "text": [
      "fitness done\n"
     ]
    },
    {
     "name": "stderr",
     "output_type": "stream",
     "text": [
      "100%|██████████████████████████████████████████████████████████████████████████████████████████| 20/20 [00:00<?, ?it/s]\n"
     ]
    },
    {
     "name": "stdout",
     "output_type": "stream",
     "text": [
      "complete14\n",
      "15\n"
     ]
    },
    {
     "name": "stderr",
     "output_type": "stream",
     "text": [
      "100%|██████████████████████████████████████████████████████████████████████████████████| 20/20 [00:00<00:00, 50.00it/s]\n"
     ]
    },
    {
     "name": "stdout",
     "output_type": "stream",
     "text": [
      "transpose\n",
      "exp\n",
      "apply lambda\n",
      "copied\n"
     ]
    },
    {
     "name": "stderr",
     "output_type": "stream",
     "text": [
      "100%|█████████████████████████████████████████████████████████████████████████████████| 20/20 [00:00<00:00, 210.32it/s]\n"
     ]
    },
    {
     "name": "stdout",
     "output_type": "stream",
     "text": [
      "running fitness\n"
     ]
    },
    {
     "name": "stderr",
     "output_type": "stream",
     "text": [
      "100%|██████████████████████████████████████████████████████████████████████████████████| 20/20 [02:30<00:00,  7.53s/it]\n"
     ]
    },
    {
     "name": "stdout",
     "output_type": "stream",
     "text": [
      "fitness done\n"
     ]
    },
    {
     "name": "stderr",
     "output_type": "stream",
     "text": [
      "100%|██████████████████████████████████████████████████████████████████████████████████████████| 20/20 [00:00<?, ?it/s]\n"
     ]
    },
    {
     "name": "stdout",
     "output_type": "stream",
     "text": [
      "complete15\n",
      "16\n"
     ]
    },
    {
     "name": "stderr",
     "output_type": "stream",
     "text": [
      "100%|██████████████████████████████████████████████████████████████████████████████████| 20/20 [00:00<00:00, 48.35it/s]\n"
     ]
    },
    {
     "name": "stdout",
     "output_type": "stream",
     "text": [
      "transpose\n",
      "exp\n",
      "apply lambda\n",
      "copied\n"
     ]
    },
    {
     "name": "stderr",
     "output_type": "stream",
     "text": [
      "100%|█████████████████████████████████████████████████████████████████████████████████| 20/20 [00:00<00:00, 223.03it/s]\n"
     ]
    },
    {
     "name": "stdout",
     "output_type": "stream",
     "text": [
      "running fitness\n"
     ]
    },
    {
     "name": "stderr",
     "output_type": "stream",
     "text": [
      "100%|██████████████████████████████████████████████████████████████████████████████████| 20/20 [02:51<00:00,  8.58s/it]\n"
     ]
    },
    {
     "name": "stdout",
     "output_type": "stream",
     "text": [
      "fitness done\n"
     ]
    },
    {
     "name": "stderr",
     "output_type": "stream",
     "text": [
      "100%|███████████████████████████████████████████████████████████████████████████████| 20/20 [00:00<00:00, 20034.89it/s]\n"
     ]
    },
    {
     "name": "stdout",
     "output_type": "stream",
     "text": [
      "complete16\n",
      "17\n"
     ]
    },
    {
     "name": "stderr",
     "output_type": "stream",
     "text": [
      "100%|██████████████████████████████████████████████████████████████████████████████████| 20/20 [00:00<00:00, 25.74it/s]\n"
     ]
    },
    {
     "name": "stdout",
     "output_type": "stream",
     "text": [
      "transpose\n",
      "exp\n",
      "apply lambda\n",
      "copied\n"
     ]
    },
    {
     "name": "stderr",
     "output_type": "stream",
     "text": [
      "100%|█████████████████████████████████████████████████████████████████████████████████| 20/20 [00:00<00:00, 154.26it/s]\n"
     ]
    },
    {
     "name": "stdout",
     "output_type": "stream",
     "text": [
      "running fitness\n"
     ]
    },
    {
     "name": "stderr",
     "output_type": "stream",
     "text": [
      "100%|██████████████████████████████████████████████████████████████████████████████████| 20/20 [02:53<00:00,  8.66s/it]\n"
     ]
    },
    {
     "name": "stdout",
     "output_type": "stream",
     "text": [
      "fitness done\n"
     ]
    },
    {
     "name": "stderr",
     "output_type": "stream",
     "text": [
      "100%|███████████████████████████████████████████████████████████████████████████████| 20/20 [00:00<00:00, 10007.88it/s]\n"
     ]
    },
    {
     "name": "stdout",
     "output_type": "stream",
     "text": [
      "complete17\n",
      "18\n"
     ]
    },
    {
     "name": "stderr",
     "output_type": "stream",
     "text": [
      "100%|██████████████████████████████████████████████████████████████████████████████████| 20/20 [00:00<00:00, 26.40it/s]\n"
     ]
    },
    {
     "name": "stdout",
     "output_type": "stream",
     "text": [
      "transpose\n",
      "exp\n",
      "apply lambda\n",
      "copied\n"
     ]
    },
    {
     "name": "stderr",
     "output_type": "stream",
     "text": [
      "100%|█████████████████████████████████████████████████████████████████████████████████| 20/20 [00:00<00:00, 196.61it/s]\n"
     ]
    },
    {
     "name": "stdout",
     "output_type": "stream",
     "text": [
      "running fitness\n"
     ]
    },
    {
     "name": "stderr",
     "output_type": "stream",
     "text": [
      "100%|██████████████████████████████████████████████████████████████████████████████████| 20/20 [02:02<00:00,  6.14s/it]\n"
     ]
    },
    {
     "name": "stdout",
     "output_type": "stream",
     "text": [
      "fitness done\n"
     ]
    },
    {
     "name": "stderr",
     "output_type": "stream",
     "text": [
      "100%|██████████████████████████████████████████████████████████████████████████████████████████| 20/20 [00:00<?, ?it/s]\n"
     ]
    },
    {
     "name": "stdout",
     "output_type": "stream",
     "text": [
      "complete18\n",
      "19\n"
     ]
    },
    {
     "name": "stderr",
     "output_type": "stream",
     "text": [
      "100%|██████████████████████████████████████████████████████████████████████████████████| 20/20 [00:00<00:00, 36.02it/s]\n"
     ]
    },
    {
     "name": "stdout",
     "output_type": "stream",
     "text": [
      "transpose\n",
      "exp\n",
      "apply lambda\n",
      "copied\n"
     ]
    },
    {
     "name": "stderr",
     "output_type": "stream",
     "text": [
      "100%|█████████████████████████████████████████████████████████████████████████████████| 20/20 [00:00<00:00, 195.86it/s]\n"
     ]
    },
    {
     "name": "stdout",
     "output_type": "stream",
     "text": [
      "running fitness\n"
     ]
    },
    {
     "name": "stderr",
     "output_type": "stream",
     "text": [
      "100%|██████████████████████████████████████████████████████████████████████████████████| 20/20 [01:32<00:00,  4.61s/it]\n"
     ]
    },
    {
     "name": "stdout",
     "output_type": "stream",
     "text": [
      "fitness done\n"
     ]
    },
    {
     "name": "stderr",
     "output_type": "stream",
     "text": [
      "100%|██████████████████████████████████████████████████████████████████████████████████████████| 20/20 [00:00<?, ?it/s]\n"
     ]
    },
    {
     "name": "stdout",
     "output_type": "stream",
     "text": [
      "complete19\n",
      "20\n"
     ]
    },
    {
     "name": "stderr",
     "output_type": "stream",
     "text": [
      "100%|██████████████████████████████████████████████████████████████████████████████████| 20/20 [00:00<00:00, 66.48it/s]\n"
     ]
    },
    {
     "name": "stdout",
     "output_type": "stream",
     "text": [
      "transpose\n",
      "exp\n",
      "apply lambda\n",
      "copied\n"
     ]
    },
    {
     "name": "stderr",
     "output_type": "stream",
     "text": [
      "100%|█████████████████████████████████████████████████████████████████████████████████| 20/20 [00:00<00:00, 245.17it/s]\n"
     ]
    },
    {
     "name": "stdout",
     "output_type": "stream",
     "text": [
      "running fitness\n"
     ]
    },
    {
     "name": "stderr",
     "output_type": "stream",
     "text": [
      "100%|██████████████████████████████████████████████████████████████████████████████████| 20/20 [01:47<00:00,  5.39s/it]\n"
     ]
    },
    {
     "name": "stdout",
     "output_type": "stream",
     "text": [
      "fitness done\n"
     ]
    },
    {
     "name": "stderr",
     "output_type": "stream",
     "text": [
      "100%|██████████████████████████████████████████████████████████████████████████████████████████| 20/20 [00:00<?, ?it/s]\n"
     ]
    },
    {
     "name": "stdout",
     "output_type": "stream",
     "text": [
      "complete20\n",
      "21\n"
     ]
    },
    {
     "name": "stderr",
     "output_type": "stream",
     "text": [
      "100%|██████████████████████████████████████████████████████████████████████████████████| 20/20 [00:00<00:00, 67.57it/s]\n"
     ]
    },
    {
     "name": "stdout",
     "output_type": "stream",
     "text": [
      "transpose\n",
      "exp\n",
      "apply lambda\n",
      "copied\n"
     ]
    },
    {
     "name": "stderr",
     "output_type": "stream",
     "text": [
      "100%|█████████████████████████████████████████████████████████████████████████████████| 20/20 [00:00<00:00, 218.20it/s]\n"
     ]
    },
    {
     "name": "stdout",
     "output_type": "stream",
     "text": [
      "running fitness\n"
     ]
    },
    {
     "name": "stderr",
     "output_type": "stream",
     "text": [
      "100%|██████████████████████████████████████████████████████████████████████████████████| 20/20 [01:44<00:00,  5.21s/it]\n"
     ]
    },
    {
     "name": "stdout",
     "output_type": "stream",
     "text": [
      "fitness done\n"
     ]
    },
    {
     "name": "stderr",
     "output_type": "stream",
     "text": [
      "100%|██████████████████████████████████████████████████████████████████████████████████| 20/20 [01:38<00:00,  4.92s/it]\n"
     ]
    },
    {
     "name": "stdout",
     "output_type": "stream",
     "text": [
      "complete21\n",
      "22\n"
     ]
    },
    {
     "name": "stderr",
     "output_type": "stream",
     "text": [
      "100%|██████████████████████████████████████████████████████████████████████████████████| 20/20 [00:00<00:00, 56.35it/s]\n"
     ]
    },
    {
     "name": "stdout",
     "output_type": "stream",
     "text": [
      "transpose\n",
      "exp\n",
      "apply lambda\n",
      "copied\n"
     ]
    },
    {
     "name": "stderr",
     "output_type": "stream",
     "text": [
      "100%|█████████████████████████████████████████████████████████████████████████████████| 20/20 [00:00<00:00, 244.36it/s]\n"
     ]
    },
    {
     "name": "stdout",
     "output_type": "stream",
     "text": [
      "running fitness\n"
     ]
    },
    {
     "name": "stderr",
     "output_type": "stream",
     "text": [
      "100%|██████████████████████████████████████████████████████████████████████████████████| 20/20 [01:57<00:00,  5.90s/it]\n"
     ]
    },
    {
     "name": "stdout",
     "output_type": "stream",
     "text": [
      "fitness done\n"
     ]
    },
    {
     "name": "stderr",
     "output_type": "stream",
     "text": [
      "100%|██████████████████████████████████████████████████████████████████████████████████████████| 20/20 [00:00<?, ?it/s]\n"
     ]
    },
    {
     "name": "stdout",
     "output_type": "stream",
     "text": [
      "complete22\n",
      "23\n"
     ]
    },
    {
     "name": "stderr",
     "output_type": "stream",
     "text": [
      "100%|██████████████████████████████████████████████████████████████████████████████████| 20/20 [00:00<00:00, 69.47it/s]\n"
     ]
    },
    {
     "name": "stdout",
     "output_type": "stream",
     "text": [
      "transpose\n",
      "exp\n",
      "apply lambda\n",
      "copied\n"
     ]
    },
    {
     "name": "stderr",
     "output_type": "stream",
     "text": [
      "100%|█████████████████████████████████████████████████████████████████████████████████| 20/20 [00:00<00:00, 218.14it/s]\n"
     ]
    },
    {
     "name": "stdout",
     "output_type": "stream",
     "text": [
      "running fitness\n"
     ]
    },
    {
     "name": "stderr",
     "output_type": "stream",
     "text": [
      "100%|██████████████████████████████████████████████████████████████████████████████████| 20/20 [01:43<00:00,  5.19s/it]\n"
     ]
    },
    {
     "name": "stdout",
     "output_type": "stream",
     "text": [
      "fitness done\n"
     ]
    },
    {
     "name": "stderr",
     "output_type": "stream",
     "text": [
      "100%|██████████████████████████████████████████████████████████████████████████████████████████| 20/20 [00:00<?, ?it/s]\n"
     ]
    },
    {
     "name": "stdout",
     "output_type": "stream",
     "text": [
      "complete23\n",
      "24\n"
     ]
    },
    {
     "name": "stderr",
     "output_type": "stream",
     "text": [
      "100%|██████████████████████████████████████████████████████████████████████████████████| 20/20 [00:00<00:00, 40.13it/s]\n"
     ]
    },
    {
     "name": "stdout",
     "output_type": "stream",
     "text": [
      "transpose\n",
      "exp\n",
      "apply lambda\n",
      "copied\n"
     ]
    },
    {
     "name": "stderr",
     "output_type": "stream",
     "text": [
      "100%|█████████████████████████████████████████████████████████████████████████████████| 20/20 [00:00<00:00, 245.53it/s]\n"
     ]
    },
    {
     "name": "stdout",
     "output_type": "stream",
     "text": [
      "running fitness\n"
     ]
    },
    {
     "name": "stderr",
     "output_type": "stream",
     "text": [
      "100%|██████████████████████████████████████████████████████████████████████████████████| 20/20 [01:49<00:00,  5.46s/it]\n"
     ]
    },
    {
     "name": "stdout",
     "output_type": "stream",
     "text": [
      "fitness done\n"
     ]
    },
    {
     "name": "stderr",
     "output_type": "stream",
     "text": [
      "100%|██████████████████████████████████████████████████████████████████████████████████████████| 20/20 [00:00<?, ?it/s]\n"
     ]
    },
    {
     "name": "stdout",
     "output_type": "stream",
     "text": [
      "complete24\n",
      "25\n"
     ]
    },
    {
     "name": "stderr",
     "output_type": "stream",
     "text": [
      "100%|██████████████████████████████████████████████████████████████████████████████████| 20/20 [00:00<00:00, 64.18it/s]\n"
     ]
    },
    {
     "name": "stdout",
     "output_type": "stream",
     "text": [
      "transpose\n",
      "exp\n",
      "apply lambda\n",
      "copied\n"
     ]
    },
    {
     "name": "stderr",
     "output_type": "stream",
     "text": [
      "100%|█████████████████████████████████████████████████████████████████████████████████| 20/20 [00:00<00:00, 218.33it/s]\n"
     ]
    },
    {
     "name": "stdout",
     "output_type": "stream",
     "text": [
      "running fitness\n"
     ]
    },
    {
     "name": "stderr",
     "output_type": "stream",
     "text": [
      "100%|██████████████████████████████████████████████████████████████████████████████████| 20/20 [01:52<00:00,  5.64s/it]\n"
     ]
    },
    {
     "name": "stdout",
     "output_type": "stream",
     "text": [
      "fitness done\n"
     ]
    },
    {
     "name": "stderr",
     "output_type": "stream",
     "text": [
      "100%|██████████████████████████████████████████████████████████████████████████████████████████| 20/20 [00:00<?, ?it/s]\n"
     ]
    },
    {
     "name": "stdout",
     "output_type": "stream",
     "text": [
      "complete25\n",
      "26\n"
     ]
    },
    {
     "name": "stderr",
     "output_type": "stream",
     "text": [
      "100%|██████████████████████████████████████████████████████████████████████████████████| 20/20 [00:00<00:00, 77.16it/s]\n"
     ]
    },
    {
     "name": "stdout",
     "output_type": "stream",
     "text": [
      "transpose\n",
      "exp\n",
      "apply lambda\n",
      "copied\n"
     ]
    },
    {
     "name": "stderr",
     "output_type": "stream",
     "text": [
      "100%|█████████████████████████████████████████████████████████████████████████████████| 20/20 [00:00<00:00, 288.65it/s]\n"
     ]
    },
    {
     "name": "stdout",
     "output_type": "stream",
     "text": [
      "running fitness\n"
     ]
    },
    {
     "name": "stderr",
     "output_type": "stream",
     "text": [
      "100%|██████████████████████████████████████████████████████████████████████████████████| 20/20 [01:49<00:00,  5.48s/it]\n"
     ]
    },
    {
     "name": "stdout",
     "output_type": "stream",
     "text": [
      "fitness done\n"
     ]
    },
    {
     "name": "stderr",
     "output_type": "stream",
     "text": [
      "100%|██████████████████████████████████████████████████████████████████████████████████████████| 20/20 [00:00<?, ?it/s]\n"
     ]
    },
    {
     "name": "stdout",
     "output_type": "stream",
     "text": [
      "complete26\n",
      "27\n"
     ]
    },
    {
     "name": "stderr",
     "output_type": "stream",
     "text": [
      "100%|██████████████████████████████████████████████████████████████████████████████████| 20/20 [00:00<00:00, 82.46it/s]\n"
     ]
    },
    {
     "name": "stdout",
     "output_type": "stream",
     "text": [
      "transpose\n",
      "exp\n",
      "apply lambda\n",
      "copied\n"
     ]
    },
    {
     "name": "stderr",
     "output_type": "stream",
     "text": [
      "100%|█████████████████████████████████████████████████████████████████████████████████| 20/20 [00:00<00:00, 245.44it/s]\n"
     ]
    },
    {
     "name": "stdout",
     "output_type": "stream",
     "text": [
      "running fitness\n"
     ]
    },
    {
     "name": "stderr",
     "output_type": "stream",
     "text": [
      "100%|██████████████████████████████████████████████████████████████████████████████████| 20/20 [01:45<00:00,  5.27s/it]\n"
     ]
    },
    {
     "name": "stdout",
     "output_type": "stream",
     "text": [
      "fitness done\n"
     ]
    },
    {
     "name": "stderr",
     "output_type": "stream",
     "text": [
      "100%|██████████████████████████████████████████████████████████████████████████████████| 20/20 [01:36<00:00,  4.84s/it]\n"
     ]
    },
    {
     "name": "stdout",
     "output_type": "stream",
     "text": [
      "complete27\n",
      "28\n"
     ]
    },
    {
     "name": "stderr",
     "output_type": "stream",
     "text": [
      "100%|██████████████████████████████████████████████████████████████████████████████████| 20/20 [00:00<00:00, 66.34it/s]\n"
     ]
    },
    {
     "name": "stdout",
     "output_type": "stream",
     "text": [
      "transpose\n",
      "exp\n",
      "apply lambda\n",
      "copied\n"
     ]
    },
    {
     "name": "stderr",
     "output_type": "stream",
     "text": [
      "100%|█████████████████████████████████████████████████████████████████████████████████| 20/20 [00:00<00:00, 216.50it/s]\n"
     ]
    },
    {
     "name": "stdout",
     "output_type": "stream",
     "text": [
      "running fitness\n"
     ]
    },
    {
     "name": "stderr",
     "output_type": "stream",
     "text": [
      "100%|██████████████████████████████████████████████████████████████████████████████████| 20/20 [01:44<00:00,  5.25s/it]\n"
     ]
    },
    {
     "name": "stdout",
     "output_type": "stream",
     "text": [
      "fitness done\n"
     ]
    },
    {
     "name": "stderr",
     "output_type": "stream",
     "text": [
      "100%|██████████████████████████████████████████████████████████████████████████████████████████| 20/20 [00:00<?, ?it/s]\n"
     ]
    },
    {
     "name": "stdout",
     "output_type": "stream",
     "text": [
      "complete28\n",
      "29\n"
     ]
    },
    {
     "name": "stderr",
     "output_type": "stream",
     "text": [
      "100%|██████████████████████████████████████████████████████████████████████████████████| 20/20 [00:00<00:00, 56.35it/s]\n"
     ]
    },
    {
     "name": "stdout",
     "output_type": "stream",
     "text": [
      "transpose\n",
      "exp\n",
      "apply lambda\n",
      "copied\n"
     ]
    },
    {
     "name": "stderr",
     "output_type": "stream",
     "text": [
      "100%|█████████████████████████████████████████████████████████████████████████████████| 20/20 [00:00<00:00, 218.23it/s]\n"
     ]
    },
    {
     "name": "stdout",
     "output_type": "stream",
     "text": [
      "running fitness\n"
     ]
    },
    {
     "name": "stderr",
     "output_type": "stream",
     "text": [
      "100%|██████████████████████████████████████████████████████████████████████████████████| 20/20 [01:47<00:00,  5.38s/it]\n"
     ]
    },
    {
     "name": "stdout",
     "output_type": "stream",
     "text": [
      "fitness done\n"
     ]
    },
    {
     "name": "stderr",
     "output_type": "stream",
     "text": [
      "100%|██████████████████████████████████████████████████████████████████████████████████████████| 20/20 [00:00<?, ?it/s]\n"
     ]
    },
    {
     "name": "stdout",
     "output_type": "stream",
     "text": [
      "complete29\n",
      "30\n"
     ]
    },
    {
     "name": "stderr",
     "output_type": "stream",
     "text": [
      "100%|██████████████████████████████████████████████████████████████████████████████████| 20/20 [00:00<00:00, 67.55it/s]\n"
     ]
    },
    {
     "name": "stdout",
     "output_type": "stream",
     "text": [
      "transpose\n",
      "exp\n",
      "apply lambda\n",
      "copied\n"
     ]
    },
    {
     "name": "stderr",
     "output_type": "stream",
     "text": [
      "100%|█████████████████████████████████████████████████████████████████████████████████| 20/20 [00:00<00:00, 245.82it/s]\n"
     ]
    },
    {
     "name": "stdout",
     "output_type": "stream",
     "text": [
      "running fitness\n"
     ]
    },
    {
     "name": "stderr",
     "output_type": "stream",
     "text": [
      "100%|██████████████████████████████████████████████████████████████████████████████████| 20/20 [01:47<00:00,  5.38s/it]\n"
     ]
    },
    {
     "name": "stdout",
     "output_type": "stream",
     "text": [
      "fitness done\n"
     ]
    },
    {
     "name": "stderr",
     "output_type": "stream",
     "text": [
      "100%|██████████████████████████████████████████████████████████████████████████████████████████| 20/20 [00:00<?, ?it/s]\n"
     ]
    },
    {
     "name": "stdout",
     "output_type": "stream",
     "text": [
      "complete30\n",
      "31\n"
     ]
    },
    {
     "name": "stderr",
     "output_type": "stream",
     "text": [
      "100%|██████████████████████████████████████████████████████████████████████████████████| 20/20 [00:00<00:00, 55.94it/s]\n"
     ]
    },
    {
     "name": "stdout",
     "output_type": "stream",
     "text": [
      "transpose\n",
      "exp\n",
      "apply lambda\n",
      "copied\n"
     ]
    },
    {
     "name": "stderr",
     "output_type": "stream",
     "text": [
      "100%|█████████████████████████████████████████████████████████████████████████████████| 20/20 [00:00<00:00, 218.06it/s]\n"
     ]
    },
    {
     "name": "stdout",
     "output_type": "stream",
     "text": [
      "running fitness\n"
     ]
    },
    {
     "name": "stderr",
     "output_type": "stream",
     "text": [
      "100%|██████████████████████████████████████████████████████████████████████████████████| 20/20 [01:47<00:00,  5.38s/it]\n"
     ]
    },
    {
     "name": "stdout",
     "output_type": "stream",
     "text": [
      "fitness done\n"
     ]
    },
    {
     "name": "stderr",
     "output_type": "stream",
     "text": [
      "100%|██████████████████████████████████████████████████████████████████████████████████████████| 20/20 [00:00<?, ?it/s]\n"
     ]
    },
    {
     "name": "stdout",
     "output_type": "stream",
     "text": [
      "complete31\n",
      "32\n"
     ]
    },
    {
     "name": "stderr",
     "output_type": "stream",
     "text": [
      "100%|██████████████████████████████████████████████████████████████████████████████████| 20/20 [00:00<00:00, 84.37it/s]\n"
     ]
    },
    {
     "name": "stdout",
     "output_type": "stream",
     "text": [
      "transpose\n",
      "exp\n",
      "apply lambda\n",
      "copied\n"
     ]
    },
    {
     "name": "stderr",
     "output_type": "stream",
     "text": [
      "100%|█████████████████████████████████████████████████████████████████████████████████| 20/20 [00:00<00:00, 271.63it/s]\n"
     ]
    },
    {
     "name": "stdout",
     "output_type": "stream",
     "text": [
      "running fitness\n"
     ]
    },
    {
     "name": "stderr",
     "output_type": "stream",
     "text": [
      "100%|██████████████████████████████████████████████████████████████████████████████████| 20/20 [01:54<00:00,  5.74s/it]\n"
     ]
    },
    {
     "name": "stdout",
     "output_type": "stream",
     "text": [
      "fitness done\n"
     ]
    },
    {
     "name": "stderr",
     "output_type": "stream",
     "text": [
      "100%|██████████████████████████████████████████████████████████████████████████████████████████| 20/20 [00:00<?, ?it/s]\n"
     ]
    },
    {
     "name": "stdout",
     "output_type": "stream",
     "text": [
      "complete32\n",
      "33\n"
     ]
    },
    {
     "name": "stderr",
     "output_type": "stream",
     "text": [
      "100%|██████████████████████████████████████████████████████████████████████████████████| 20/20 [00:00<00:00, 32.71it/s]\n"
     ]
    },
    {
     "name": "stdout",
     "output_type": "stream",
     "text": [
      "transpose\n",
      "exp\n",
      "apply lambda\n",
      "copied\n"
     ]
    },
    {
     "name": "stderr",
     "output_type": "stream",
     "text": [
      "100%|█████████████████████████████████████████████████████████████████████████████████| 20/20 [00:00<00:00, 245.41it/s]\n"
     ]
    },
    {
     "name": "stdout",
     "output_type": "stream",
     "text": [
      "running fitness\n"
     ]
    },
    {
     "name": "stderr",
     "output_type": "stream",
     "text": [
      "100%|██████████████████████████████████████████████████████████████████████████████████| 20/20 [01:47<00:00,  5.39s/it]\n"
     ]
    },
    {
     "name": "stdout",
     "output_type": "stream",
     "text": [
      "fitness done\n"
     ]
    },
    {
     "name": "stderr",
     "output_type": "stream",
     "text": [
      "100%|██████████████████████████████████████████████████████████████████████████████████████████| 20/20 [00:00<?, ?it/s]\n"
     ]
    },
    {
     "name": "stdout",
     "output_type": "stream",
     "text": [
      "complete33\n",
      "34\n"
     ]
    },
    {
     "name": "stderr",
     "output_type": "stream",
     "text": [
      "100%|██████████████████████████████████████████████████████████████████████████████████| 20/20 [00:00<00:00, 36.26it/s]\n"
     ]
    },
    {
     "name": "stdout",
     "output_type": "stream",
     "text": [
      "transpose\n",
      "exp\n",
      "apply lambda\n",
      "copied\n"
     ]
    },
    {
     "name": "stderr",
     "output_type": "stream",
     "text": [
      "100%|█████████████████████████████████████████████████████████████████████████████████| 20/20 [00:00<00:00, 246.20it/s]\n"
     ]
    },
    {
     "name": "stdout",
     "output_type": "stream",
     "text": [
      "running fitness\n"
     ]
    },
    {
     "name": "stderr",
     "output_type": "stream",
     "text": [
      "100%|██████████████████████████████████████████████████████████████████████████████████| 20/20 [01:37<00:00,  4.89s/it]\n"
     ]
    },
    {
     "name": "stdout",
     "output_type": "stream",
     "text": [
      "fitness done\n"
     ]
    },
    {
     "name": "stderr",
     "output_type": "stream",
     "text": [
      "100%|████████████████████████████████████████████████████████████████████████████████| 20/20 [00:00<00:00, 2482.28it/s]\n"
     ]
    },
    {
     "name": "stdout",
     "output_type": "stream",
     "text": [
      "complete34\n",
      "35\n"
     ]
    },
    {
     "name": "stderr",
     "output_type": "stream",
     "text": [
      "100%|██████████████████████████████████████████████████████████████████████████████████| 20/20 [00:00<00:00, 69.94it/s]\n"
     ]
    },
    {
     "name": "stdout",
     "output_type": "stream",
     "text": [
      "transpose\n",
      "exp\n",
      "apply lambda\n",
      "copied\n"
     ]
    },
    {
     "name": "stderr",
     "output_type": "stream",
     "text": [
      "100%|█████████████████████████████████████████████████████████████████████████████████| 20/20 [00:00<00:00, 243.12it/s]\n"
     ]
    },
    {
     "name": "stdout",
     "output_type": "stream",
     "text": [
      "running fitness\n"
     ]
    },
    {
     "name": "stderr",
     "output_type": "stream",
     "text": [
      "100%|██████████████████████████████████████████████████████████████████████████████████| 20/20 [01:43<00:00,  5.19s/it]\n"
     ]
    },
    {
     "name": "stdout",
     "output_type": "stream",
     "text": [
      "fitness done\n"
     ]
    },
    {
     "name": "stderr",
     "output_type": "stream",
     "text": [
      "100%|██████████████████████████████████████████████████████████████████████████████████████████| 20/20 [00:00<?, ?it/s]\n"
     ]
    },
    {
     "name": "stdout",
     "output_type": "stream",
     "text": [
      "complete35\n",
      "36\n"
     ]
    },
    {
     "name": "stderr",
     "output_type": "stream",
     "text": [
      "100%|██████████████████████████████████████████████████████████████████████████████████| 20/20 [00:00<00:00, 42.97it/s]\n"
     ]
    },
    {
     "name": "stdout",
     "output_type": "stream",
     "text": [
      "transpose\n",
      "exp\n",
      "apply lambda\n",
      "copied\n"
     ]
    },
    {
     "name": "stderr",
     "output_type": "stream",
     "text": [
      "100%|█████████████████████████████████████████████████████████████████████████████████| 20/20 [00:00<00:00, 245.83it/s]\n"
     ]
    },
    {
     "name": "stdout",
     "output_type": "stream",
     "text": [
      "running fitness\n"
     ]
    },
    {
     "name": "stderr",
     "output_type": "stream",
     "text": [
      "100%|██████████████████████████████████████████████████████████████████████████████████| 20/20 [01:43<00:00,  5.18s/it]\n"
     ]
    },
    {
     "name": "stdout",
     "output_type": "stream",
     "text": [
      "fitness done\n"
     ]
    },
    {
     "name": "stderr",
     "output_type": "stream",
     "text": [
      "100%|██████████████████████████████████████████████████████████████████████████████████████████| 20/20 [00:00<?, ?it/s]\n"
     ]
    },
    {
     "name": "stdout",
     "output_type": "stream",
     "text": [
      "complete36\n",
      "37\n"
     ]
    },
    {
     "name": "stderr",
     "output_type": "stream",
     "text": [
      "100%|██████████████████████████████████████████████████████████████████████████████████| 20/20 [00:00<00:00, 55.31it/s]\n"
     ]
    },
    {
     "name": "stdout",
     "output_type": "stream",
     "text": [
      "transpose\n",
      "exp\n",
      "apply lambda\n",
      "copied\n"
     ]
    },
    {
     "name": "stderr",
     "output_type": "stream",
     "text": [
      "100%|█████████████████████████████████████████████████████████████████████████████████| 20/20 [00:00<00:00, 216.98it/s]\n"
     ]
    },
    {
     "name": "stdout",
     "output_type": "stream",
     "text": [
      "running fitness\n"
     ]
    },
    {
     "name": "stderr",
     "output_type": "stream",
     "text": [
      "100%|██████████████████████████████████████████████████████████████████████████████████| 20/20 [01:35<00:00,  4.77s/it]\n"
     ]
    },
    {
     "name": "stdout",
     "output_type": "stream",
     "text": [
      "fitness done\n"
     ]
    },
    {
     "name": "stderr",
     "output_type": "stream",
     "text": [
      "100%|██████████████████████████████████████████████████████████████████████████████████| 20/20 [01:27<00:00,  4.38s/it]\n"
     ]
    },
    {
     "name": "stdout",
     "output_type": "stream",
     "text": [
      "complete37\n",
      "38\n"
     ]
    },
    {
     "name": "stderr",
     "output_type": "stream",
     "text": [
      "100%|██████████████████████████████████████████████████████████████████████████████████| 20/20 [00:00<00:00, 67.52it/s]\n"
     ]
    },
    {
     "name": "stdout",
     "output_type": "stream",
     "text": [
      "transpose\n",
      "exp\n",
      "apply lambda\n",
      "copied\n"
     ]
    },
    {
     "name": "stderr",
     "output_type": "stream",
     "text": [
      "100%|█████████████████████████████████████████████████████████████████████████████████| 20/20 [00:00<00:00, 217.24it/s]\n"
     ]
    },
    {
     "name": "stdout",
     "output_type": "stream",
     "text": [
      "running fitness\n"
     ]
    },
    {
     "name": "stderr",
     "output_type": "stream",
     "text": [
      "100%|██████████████████████████████████████████████████████████████████████████████████| 20/20 [01:52<00:00,  5.62s/it]\n"
     ]
    },
    {
     "name": "stdout",
     "output_type": "stream",
     "text": [
      "fitness done\n"
     ]
    },
    {
     "name": "stderr",
     "output_type": "stream",
     "text": [
      "100%|██████████████████████████████████████████████████████████████████████████████████████████| 20/20 [00:00<?, ?it/s]\n"
     ]
    },
    {
     "name": "stdout",
     "output_type": "stream",
     "text": [
      "complete38\n",
      "39\n"
     ]
    },
    {
     "name": "stderr",
     "output_type": "stream",
     "text": [
      "100%|██████████████████████████████████████████████████████████████████████████████████| 20/20 [00:00<00:00, 62.66it/s]\n"
     ]
    },
    {
     "name": "stdout",
     "output_type": "stream",
     "text": [
      "transpose\n",
      "exp\n",
      "apply lambda\n",
      "copied\n"
     ]
    },
    {
     "name": "stderr",
     "output_type": "stream",
     "text": [
      "100%|█████████████████████████████████████████████████████████████████████████████████| 20/20 [00:00<00:00, 245.26it/s]\n"
     ]
    },
    {
     "name": "stdout",
     "output_type": "stream",
     "text": [
      "running fitness\n"
     ]
    },
    {
     "name": "stderr",
     "output_type": "stream",
     "text": [
      "100%|██████████████████████████████████████████████████████████████████████████████████| 20/20 [01:47<00:00,  5.37s/it]\n"
     ]
    },
    {
     "name": "stdout",
     "output_type": "stream",
     "text": [
      "fitness done\n"
     ]
    },
    {
     "name": "stderr",
     "output_type": "stream",
     "text": [
      "100%|██████████████████████████████████████████████████████████████████████████████████████████| 20/20 [00:00<?, ?it/s]\n"
     ]
    },
    {
     "name": "stdout",
     "output_type": "stream",
     "text": [
      "complete39\n",
      "40\n"
     ]
    },
    {
     "name": "stderr",
     "output_type": "stream",
     "text": [
      "100%|██████████████████████████████████████████████████████████████████████████████████| 20/20 [00:00<00:00, 68.82it/s]\n"
     ]
    },
    {
     "name": "stdout",
     "output_type": "stream",
     "text": [
      "transpose\n",
      "exp\n",
      "apply lambda\n",
      "copied\n"
     ]
    },
    {
     "name": "stderr",
     "output_type": "stream",
     "text": [
      "100%|█████████████████████████████████████████████████████████████████████████████████| 20/20 [00:00<00:00, 195.42it/s]\n"
     ]
    },
    {
     "name": "stdout",
     "output_type": "stream",
     "text": [
      "running fitness\n"
     ]
    },
    {
     "name": "stderr",
     "output_type": "stream",
     "text": [
      "100%|██████████████████████████████████████████████████████████████████████████████████| 20/20 [01:25<00:00,  4.27s/it]\n"
     ]
    },
    {
     "name": "stdout",
     "output_type": "stream",
     "text": [
      "fitness done\n"
     ]
    },
    {
     "name": "stderr",
     "output_type": "stream",
     "text": [
      "100%|██████████████████████████████████████████████████████████████████████████████████████████| 20/20 [00:00<?, ?it/s]\n"
     ]
    },
    {
     "name": "stdout",
     "output_type": "stream",
     "text": [
      "complete40\n",
      "41\n"
     ]
    },
    {
     "name": "stderr",
     "output_type": "stream",
     "text": [
      "100%|██████████████████████████████████████████████████████████████████████████████████| 20/20 [00:00<00:00, 39.89it/s]\n"
     ]
    },
    {
     "name": "stdout",
     "output_type": "stream",
     "text": [
      "transpose\n",
      "exp\n",
      "apply lambda\n",
      "copied\n"
     ]
    },
    {
     "name": "stderr",
     "output_type": "stream",
     "text": [
      "100%|█████████████████████████████████████████████████████████████████████████████████| 20/20 [00:00<00:00, 245.76it/s]\n"
     ]
    },
    {
     "name": "stdout",
     "output_type": "stream",
     "text": [
      "running fitness\n"
     ]
    },
    {
     "name": "stderr",
     "output_type": "stream",
     "text": [
      "100%|██████████████████████████████████████████████████████████████████████████████████| 20/20 [01:46<00:00,  5.30s/it]\n"
     ]
    },
    {
     "name": "stdout",
     "output_type": "stream",
     "text": [
      "fitness done\n"
     ]
    },
    {
     "name": "stderr",
     "output_type": "stream",
     "text": [
      "100%|██████████████████████████████████████████████████████████████████████████████████████████| 20/20 [00:00<?, ?it/s]\n"
     ]
    },
    {
     "name": "stdout",
     "output_type": "stream",
     "text": [
      "complete41\n",
      "42\n"
     ]
    },
    {
     "name": "stderr",
     "output_type": "stream",
     "text": [
      "100%|██████████████████████████████████████████████████████████████████████████████████| 20/20 [00:00<00:00, 54.76it/s]\n"
     ]
    },
    {
     "name": "stdout",
     "output_type": "stream",
     "text": [
      "transpose\n",
      "exp\n",
      "apply lambda\n",
      "copied\n"
     ]
    },
    {
     "name": "stderr",
     "output_type": "stream",
     "text": [
      "100%|█████████████████████████████████████████████████████████████████████████████████| 20/20 [00:00<00:00, 244.94it/s]\n"
     ]
    },
    {
     "name": "stdout",
     "output_type": "stream",
     "text": [
      "running fitness\n"
     ]
    },
    {
     "name": "stderr",
     "output_type": "stream",
     "text": [
      "100%|██████████████████████████████████████████████████████████████████████████████████| 20/20 [01:42<00:00,  5.11s/it]\n"
     ]
    },
    {
     "name": "stdout",
     "output_type": "stream",
     "text": [
      "fitness done\n"
     ]
    },
    {
     "name": "stderr",
     "output_type": "stream",
     "text": [
      "100%|██████████████████████████████████████████████████████████████████████████████████████████| 20/20 [00:00<?, ?it/s]\n"
     ]
    },
    {
     "name": "stdout",
     "output_type": "stream",
     "text": [
      "complete42\n",
      "43\n"
     ]
    },
    {
     "name": "stderr",
     "output_type": "stream",
     "text": [
      "100%|██████████████████████████████████████████████████████████████████████████████████| 20/20 [00:00<00:00, 50.43it/s]\n"
     ]
    },
    {
     "name": "stdout",
     "output_type": "stream",
     "text": [
      "transpose\n",
      "exp\n",
      "apply lambda\n",
      "copied\n"
     ]
    },
    {
     "name": "stderr",
     "output_type": "stream",
     "text": [
      "100%|█████████████████████████████████████████████████████████████████████████████████| 20/20 [00:00<00:00, 200.24it/s]\n"
     ]
    },
    {
     "name": "stdout",
     "output_type": "stream",
     "text": [
      "running fitness\n"
     ]
    },
    {
     "name": "stderr",
     "output_type": "stream",
     "text": [
      "100%|██████████████████████████████████████████████████████████████████████████████████| 20/20 [01:42<00:00,  5.10s/it]\n"
     ]
    },
    {
     "name": "stdout",
     "output_type": "stream",
     "text": [
      "fitness done\n"
     ]
    },
    {
     "name": "stderr",
     "output_type": "stream",
     "text": [
      "100%|██████████████████████████████████████████████████████████████████████████████████████████| 20/20 [00:00<?, ?it/s]\n"
     ]
    },
    {
     "name": "stdout",
     "output_type": "stream",
     "text": [
      "complete43\n",
      "44\n"
     ]
    },
    {
     "name": "stderr",
     "output_type": "stream",
     "text": [
      "100%|██████████████████████████████████████████████████████████████████████████████████| 20/20 [00:00<00:00, 54.74it/s]\n"
     ]
    },
    {
     "name": "stdout",
     "output_type": "stream",
     "text": [
      "transpose\n",
      "exp\n",
      "apply lambda\n",
      "copied\n"
     ]
    },
    {
     "name": "stderr",
     "output_type": "stream",
     "text": [
      "100%|█████████████████████████████████████████████████████████████████████████████████| 20/20 [00:00<00:00, 199.90it/s]\n"
     ]
    },
    {
     "name": "stdout",
     "output_type": "stream",
     "text": [
      "running fitness\n"
     ]
    },
    {
     "name": "stderr",
     "output_type": "stream",
     "text": [
      "100%|██████████████████████████████████████████████████████████████████████████████████| 20/20 [01:47<00:00,  5.37s/it]\n"
     ]
    },
    {
     "name": "stdout",
     "output_type": "stream",
     "text": [
      "fitness done\n"
     ]
    },
    {
     "name": "stderr",
     "output_type": "stream",
     "text": [
      "100%|██████████████████████████████████████████████████████████████████████████████████████████| 20/20 [00:00<?, ?it/s]\n"
     ]
    },
    {
     "name": "stdout",
     "output_type": "stream",
     "text": [
      "complete44\n",
      "45\n"
     ]
    },
    {
     "name": "stderr",
     "output_type": "stream",
     "text": [
      "100%|██████████████████████████████████████████████████████████████████████████████████| 20/20 [00:00<00:00, 42.49it/s]\n"
     ]
    },
    {
     "name": "stdout",
     "output_type": "stream",
     "text": [
      "transpose\n",
      "exp\n",
      "apply lambda\n",
      "copied\n"
     ]
    },
    {
     "name": "stderr",
     "output_type": "stream",
     "text": [
      "100%|█████████████████████████████████████████████████████████████████████████████████| 20/20 [00:00<00:00, 213.03it/s]\n"
     ]
    },
    {
     "name": "stdout",
     "output_type": "stream",
     "text": [
      "running fitness\n"
     ]
    },
    {
     "name": "stderr",
     "output_type": "stream",
     "text": [
      "100%|██████████████████████████████████████████████████████████████████████████████████| 20/20 [01:38<00:00,  4.92s/it]\n"
     ]
    },
    {
     "name": "stdout",
     "output_type": "stream",
     "text": [
      "fitness done\n"
     ]
    },
    {
     "name": "stderr",
     "output_type": "stream",
     "text": [
      "100%|██████████████████████████████████████████████████████████████████████████████████████████| 20/20 [00:00<?, ?it/s]\n"
     ]
    },
    {
     "name": "stdout",
     "output_type": "stream",
     "text": [
      "complete45\n",
      "46\n"
     ]
    },
    {
     "name": "stderr",
     "output_type": "stream",
     "text": [
      "100%|██████████████████████████████████████████████████████████████████████████████████| 20/20 [00:00<00:00, 61.14it/s]\n"
     ]
    },
    {
     "name": "stdout",
     "output_type": "stream",
     "text": [
      "transpose\n",
      "exp\n",
      "apply lambda\n",
      "copied\n"
     ]
    },
    {
     "name": "stderr",
     "output_type": "stream",
     "text": [
      "100%|█████████████████████████████████████████████████████████████████████████████████| 20/20 [00:00<00:00, 196.83it/s]\n"
     ]
    },
    {
     "name": "stdout",
     "output_type": "stream",
     "text": [
      "running fitness\n"
     ]
    },
    {
     "name": "stderr",
     "output_type": "stream",
     "text": [
      "100%|██████████████████████████████████████████████████████████████████████████████████| 20/20 [01:45<00:00,  5.25s/it]\n"
     ]
    },
    {
     "name": "stdout",
     "output_type": "stream",
     "text": [
      "fitness done\n"
     ]
    },
    {
     "name": "stderr",
     "output_type": "stream",
     "text": [
      "100%|██████████████████████████████████████████████████████████████████████████████████████████| 20/20 [00:00<?, ?it/s]\n"
     ]
    },
    {
     "name": "stdout",
     "output_type": "stream",
     "text": [
      "complete46\n",
      "47\n"
     ]
    },
    {
     "name": "stderr",
     "output_type": "stream",
     "text": [
      "100%|██████████████████████████████████████████████████████████████████████████████████| 20/20 [00:00<00:00, 33.38it/s]\n"
     ]
    },
    {
     "name": "stdout",
     "output_type": "stream",
     "text": [
      "transpose\n",
      "exp\n",
      "apply lambda\n",
      "copied\n"
     ]
    },
    {
     "name": "stderr",
     "output_type": "stream",
     "text": [
      "100%|█████████████████████████████████████████████████████████████████████████████████| 20/20 [00:00<00:00, 217.75it/s]\n"
     ]
    },
    {
     "name": "stdout",
     "output_type": "stream",
     "text": [
      "running fitness\n"
     ]
    },
    {
     "name": "stderr",
     "output_type": "stream",
     "text": [
      "100%|██████████████████████████████████████████████████████████████████████████████████| 20/20 [01:45<00:00,  5.28s/it]\n"
     ]
    },
    {
     "name": "stdout",
     "output_type": "stream",
     "text": [
      "fitness done\n"
     ]
    },
    {
     "name": "stderr",
     "output_type": "stream",
     "text": [
      "100%|██████████████████████████████████████████████████████████████████████████████████████████| 20/20 [00:00<?, ?it/s]\n"
     ]
    },
    {
     "name": "stdout",
     "output_type": "stream",
     "text": [
      "complete47\n",
      "48\n"
     ]
    },
    {
     "name": "stderr",
     "output_type": "stream",
     "text": [
      "100%|██████████████████████████████████████████████████████████████████████████████████| 20/20 [00:00<00:00, 63.80it/s]\n"
     ]
    },
    {
     "name": "stdout",
     "output_type": "stream",
     "text": [
      "transpose\n",
      "exp\n",
      "apply lambda\n",
      "copied\n"
     ]
    },
    {
     "name": "stderr",
     "output_type": "stream",
     "text": [
      "100%|█████████████████████████████████████████████████████████████████████████████████| 20/20 [00:00<00:00, 226.92it/s]\n"
     ]
    },
    {
     "name": "stdout",
     "output_type": "stream",
     "text": [
      "running fitness\n"
     ]
    },
    {
     "name": "stderr",
     "output_type": "stream",
     "text": [
      "100%|██████████████████████████████████████████████████████████████████████████████████| 20/20 [01:41<00:00,  5.06s/it]\n"
     ]
    },
    {
     "name": "stdout",
     "output_type": "stream",
     "text": [
      "fitness done\n"
     ]
    },
    {
     "name": "stderr",
     "output_type": "stream",
     "text": [
      "100%|██████████████████████████████████████████████████████████████████████████████████████████| 20/20 [00:00<?, ?it/s]\n"
     ]
    },
    {
     "name": "stdout",
     "output_type": "stream",
     "text": [
      "complete48\n",
      "49\n"
     ]
    },
    {
     "name": "stderr",
     "output_type": "stream",
     "text": [
      "100%|██████████████████████████████████████████████████████████████████████████████████| 20/20 [00:00<00:00, 52.54it/s]\n"
     ]
    },
    {
     "name": "stdout",
     "output_type": "stream",
     "text": [
      "transpose\n",
      "exp\n",
      "apply lambda\n",
      "copied\n"
     ]
    },
    {
     "name": "stderr",
     "output_type": "stream",
     "text": [
      "100%|█████████████████████████████████████████████████████████████████████████████████| 20/20 [00:00<00:00, 246.19it/s]\n"
     ]
    },
    {
     "name": "stdout",
     "output_type": "stream",
     "text": [
      "running fitness\n"
     ]
    },
    {
     "name": "stderr",
     "output_type": "stream",
     "text": [
      "100%|██████████████████████████████████████████████████████████████████████████████████| 20/20 [02:01<00:00,  6.10s/it]\n"
     ]
    },
    {
     "name": "stdout",
     "output_type": "stream",
     "text": [
      "fitness done\n"
     ]
    },
    {
     "name": "stderr",
     "output_type": "stream",
     "text": [
      "100%|██████████████████████████████████████████████████████████████████████████████████████████| 20/20 [00:00<?, ?it/s]\n"
     ]
    },
    {
     "name": "stdout",
     "output_type": "stream",
     "text": [
      "complete49\n",
      "240.6935544695173\n"
     ]
    }
   ],
   "source": [
    "tottime=0\n",
    "# it is a formula to convert positions of each crow into 0 and 1 \n",
    "for t in range(tmax):\n",
    "    print(t)# no of iterations\n",
    "    time1=time.time()\n",
    "   \n",
    "    xnew_list = []\n",
    "    plotit.append(ft.max())\n",
    "    num = random.randint(0,m-1)  \n",
    "   # Generation of random candidate crows for following (chasing)\n",
    "    for i in tqdm(range(m)):   \n",
    "       \n",
    "        r=random.random()\n",
    "        if r>=Ap:\n",
    "            \n",
    "            xnew_list.append((xn.loc[i,:]+fl*r*(mem.loc[num,:]-xn.loc[i,:])).tolist())# Generation of a new position for crow i (state 1)\n",
    "            \n",
    "        else:\n",
    "            \n",
    "            xnew_list.append((xnew.loc[i,:].apply(lambda lam:random.random())).tolist())   # Generation of a new position for crow i (state 2)\n",
    "            \n",
    "            \n",
    "    xnew = pd.DataFrame(xnew_list)\n",
    "    del xnew_list\n",
    "    print('transpose')\n",
    "    xnew= 1/( 1 + np.expm1(( 10*(xnew-0.5))))    #  formula to convert positions of each crow into 0 and 1\n",
    "    print('exp')\n",
    "    xnew=xnew.apply(lambda l:l>=random.random()).astype(int)\n",
    "    print('apply lambda')\n",
    "    xn=xnew.copy()     \n",
    "    print('copied')\n",
    "    # it is the updated binary position of each crow\n",
    "    #feasibility test\n",
    "    # this is done so that to check if atleast one position of the crow has value equal to 1. if it is not true then every\n",
    "    # position value of the crow is made 1.\n",
    "    for i in tqdm(range(m)):\n",
    "        \n",
    "        if ((xn.loc[i,:])==0.0).all()==True:\n",
    "            xn.loc[i,:]=1.0\n",
    "    \n",
    "    print('running fitness')\n",
    "    ft_new=fitness(xn).reshape(ft.shape)# here the accuracy of each crows are calculated.\n",
    "\n",
    "    print('fitness done')\n",
    "    for i in tqdm(range(m)):\n",
    "         \n",
    "        if ft_new[i]>ft[i]:\n",
    "            ft[i]=ft_new[i]\n",
    "            for j in features:\n",
    "                mem.loc[i,j]= xn.loc[i,j]\n",
    "    \n",
    "    print('complete'+str(t))\n",
    "    time2=time.time()\n",
    "    tottime=tottime+(time2-time1)\n",
    "print(tottime/t+1)\n"
   ]
  },
  {
   "cell_type": "markdown",
   "metadata": {},
   "source": [
    "## WITHOUT GRID SEARCH , WITH BIO-INSPIRED"
   ]
  },
  {
   "cell_type": "code",
   "execution_count": 30,
   "metadata": {
    "colab": {},
    "colab_type": "code",
    "id": "UWaVv43_fj6r",
    "outputId": "4f74a579-a407-46f5-da84-45edd05a6d62"
   },
   "outputs": [
    {
     "name": "stderr",
     "output_type": "stream",
     "text": [
      "\r",
      "  0%|                                                                                           | 0/20 [00:00<?, ?it/s]"
     ]
    },
    {
     "name": "stdout",
     "output_type": "stream",
     "text": [
      "0\n",
      "[0.61581921]\n",
      "[0.66854991]\n",
      "[0.71186441]\n",
      "[0.68361582]\n"
     ]
    },
    {
     "name": "stderr",
     "output_type": "stream",
     "text": [
      "\r",
      "  5%|████                                                                              | 1/20 [02:01<38:26, 121.39s/it]"
     ]
    },
    {
     "name": "stdout",
     "output_type": "stream",
     "text": [
      "1\n",
      "[0.65913371]\n",
      "[0.67231638]\n",
      "[0.70809793]\n",
      "[0.68361582]\n"
     ]
    },
    {
     "name": "stderr",
     "output_type": "stream",
     "text": [
      "\r",
      " 10%|████████▎                                                                          | 2/20 [02:16<20:31, 68.40s/it]"
     ]
    },
    {
     "name": "stdout",
     "output_type": "stream",
     "text": [
      "2\n",
      "[0.65913371]\n",
      "[0.68361582]\n",
      "[0.71751412]\n",
      "[0.68361582]\n"
     ]
    },
    {
     "name": "stderr",
     "output_type": "stream",
     "text": [
      "\r",
      " 15%|████████████▍                                                                      | 3/20 [02:31<14:20, 50.60s/it]"
     ]
    },
    {
     "name": "stdout",
     "output_type": "stream",
     "text": [
      "3\n",
      "[0.63276836]\n",
      "[0.67984934]\n",
      "[0.72316384]\n",
      "[0.68361582]\n"
     ]
    },
    {
     "name": "stderr",
     "output_type": "stream",
     "text": [
      "\r",
      " 20%|████████████████▌                                                                  | 4/20 [04:46<19:07, 71.70s/it]"
     ]
    },
    {
     "name": "stdout",
     "output_type": "stream",
     "text": [
      "4\n",
      "[0.65913371]\n",
      "[0.70809793]\n",
      "[0.70998117]\n",
      "[0.68361582]\n"
     ]
    },
    {
     "name": "stderr",
     "output_type": "stream",
     "text": [
      "\r",
      " 25%|████████████████████▊                                                              | 5/20 [05:01<15:04, 60.29s/it]"
     ]
    },
    {
     "name": "stdout",
     "output_type": "stream",
     "text": [
      "5\n",
      "[0.62900188]\n",
      "[0.68926554]\n",
      "[0.74199623]\n",
      "[0.68361582]\n"
     ]
    },
    {
     "name": "stderr",
     "output_type": "stream",
     "text": [
      "\r",
      " 30%|████████████████████████▌                                                         | 6/20 [18:53<44:04, 188.92s/it]"
     ]
    },
    {
     "name": "stdout",
     "output_type": "stream",
     "text": [
      "6\n",
      "[0.65913371]\n",
      "[0.69114878]\n",
      "[0.70433145]\n",
      "[0.68361582]\n"
     ]
    },
    {
     "name": "stderr",
     "output_type": "stream",
     "text": [
      "\r",
      " 35%|████████████████████████████▋                                                     | 7/20 [19:13<35:41, 164.73s/it]"
     ]
    },
    {
     "name": "stdout",
     "output_type": "stream",
     "text": [
      "7\n",
      "[0.64030132]\n",
      "[0.67419962]\n",
      "[0.72316384]\n",
      "[0.68361582]\n"
     ]
    },
    {
     "name": "stderr",
     "output_type": "stream",
     "text": [
      "\r",
      " 40%|████████████████████████████████▊                                                 | 8/20 [34:59<52:29, 262.49s/it]"
     ]
    },
    {
     "name": "stdout",
     "output_type": "stream",
     "text": [
      "8\n",
      "[0.63088512]\n",
      "[0.68173258]\n",
      "[0.70998117]\n",
      "[0.68361582]\n"
     ]
    },
    {
     "name": "stderr",
     "output_type": "stream",
     "text": [
      "\r",
      " 45%|████████████████████████████████████▉                                             | 9/20 [38:14<46:44, 254.92s/it]"
     ]
    },
    {
     "name": "stdout",
     "output_type": "stream",
     "text": [
      "9\n",
      "[0.63088512]\n",
      "[0.67984934]\n",
      "[0.69303202]\n",
      "[0.68361582]\n"
     ]
    },
    {
     "name": "stderr",
     "output_type": "stream",
     "text": [
      "\r",
      " 50%|████████████████████████████████████████▌                                        | 10/20 [44:15<44:15, 265.55s/it]"
     ]
    },
    {
     "name": "stdout",
     "output_type": "stream",
     "text": [
      "10\n",
      "[0.65913371]\n",
      "[0.68173258]\n",
      "[0.71563089]\n",
      "[0.68361582]\n"
     ]
    },
    {
     "name": "stderr",
     "output_type": "stream",
     "text": [
      "\r",
      " 55%|████████████████████████████████████████████▌                                    | 11/20 [44:34<36:28, 243.16s/it]"
     ]
    },
    {
     "name": "stdout",
     "output_type": "stream",
     "text": [
      "11\n",
      "[0.65913371]\n",
      "[0.69491525]\n",
      "[0.72316384]\n",
      "[0.68361582]\n"
     ]
    },
    {
     "name": "stderr",
     "output_type": "stream",
     "text": [
      "\r",
      " 60%|████████████████████████████████████████████████▌                                | 12/20 [44:52<29:55, 224.39s/it]"
     ]
    },
    {
     "name": "stdout",
     "output_type": "stream",
     "text": [
      "12\n",
      "[0.65913371]\n",
      "[0.69303202]\n",
      "[0.70056497]\n",
      "[0.68361582]\n"
     ]
    },
    {
     "name": "stderr",
     "output_type": "stream",
     "text": [
      "\r",
      " 65%|████████████████████████████████████████████████████▋                            | 13/20 [45:10<24:19, 208.52s/it]"
     ]
    },
    {
     "name": "stdout",
     "output_type": "stream",
     "text": [
      "13\n",
      "[0.63653484]\n",
      "[0.70056497]\n",
      "[0.68549906]\n",
      "[0.68361582]\n"
     ]
    },
    {
     "name": "stderr",
     "output_type": "stream",
     "text": [
      "\r",
      " 70%|████████████████████████████████████████████████████████▋                        | 14/20 [47:23<20:18, 203.14s/it]"
     ]
    },
    {
     "name": "stdout",
     "output_type": "stream",
     "text": [
      "14\n",
      "[0.65913371]\n",
      "[0.65536723]\n",
      "[0.70244821]\n",
      "[0.68361582]\n"
     ]
    },
    {
     "name": "stderr",
     "output_type": "stream",
     "text": [
      "\r",
      " 75%|████████████████████████████████████████████████████████████▊                    | 15/20 [47:42<15:54, 190.82s/it]"
     ]
    },
    {
     "name": "stdout",
     "output_type": "stream",
     "text": [
      "15\n",
      "[0.65913371]\n",
      "[0.68173258]\n",
      "[0.70433145]\n",
      "[0.68361582]\n"
     ]
    },
    {
     "name": "stderr",
     "output_type": "stream",
     "text": [
      "\r",
      " 80%|████████████████████████████████████████████████████████████████▊                | 16/20 [48:00<12:00, 180.05s/it]"
     ]
    },
    {
     "name": "stdout",
     "output_type": "stream",
     "text": [
      "16\n",
      "[0.63841808]\n",
      "[0.66854991]\n",
      "[0.71374765]\n",
      "[0.68361582]\n"
     ]
    },
    {
     "name": "stderr",
     "output_type": "stream",
     "text": [
      "\r",
      " 85%|████████████████████████████████████████████████████████████████████▊            | 17/20 [53:18<09:24, 188.15s/it]"
     ]
    },
    {
     "name": "stdout",
     "output_type": "stream",
     "text": [
      "17\n",
      "[0.63841808]\n",
      "[0.70244821]\n",
      "[0.70056497]\n",
      "[0.68361582]\n"
     ]
    },
    {
     "name": "stderr",
     "output_type": "stream",
     "text": [
      "\r",
      " 90%|███████████████████████████████████████████████████████████████████████        | 18/20 [1:01:20<06:48, 204.49s/it]"
     ]
    },
    {
     "name": "stdout",
     "output_type": "stream",
     "text": [
      "18\n",
      "[0.65913371]\n",
      "[0.68926554]\n",
      "[0.71563089]\n",
      "[0.68361582]\n"
     ]
    },
    {
     "name": "stderr",
     "output_type": "stream",
     "text": [
      "\r",
      " 95%|███████████████████████████████████████████████████████████████████████████    | 19/20 [1:01:37<03:14, 194.61s/it]"
     ]
    },
    {
     "name": "stdout",
     "output_type": "stream",
     "text": [
      "19\n",
      "[0.65913371]\n",
      "[0.69679849]\n",
      "[0.71374765]\n",
      "[0.68361582]\n"
     ]
    },
    {
     "name": "stderr",
     "output_type": "stream",
     "text": [
      "100%|███████████████████████████████████████████████████████████████████████████████| 20/20 [1:01:54<00:00, 185.71s/it]\n"
     ]
    },
    {
     "name": "stdout",
     "output_type": "stream",
     "text": [
      "0.6591337099811676 0.7080979284369114 0.7419962335216572 0.6836158192090396\n"
     ]
    }
   ],
   "source": [
    "# here the accuracy of each crows are calculated.\n",
    "neigh2 = KNeighborsClassifier()\n",
    "rforest2 =RandomForestClassifier()\n",
    "dtree2 = tree.DecisionTreeClassifier()\n",
    "clf2 = svm.SVC()\n",
    "\n",
    "nacc2=np.zeros((m,1),dtype='float64')\n",
    "rfacc2=np.zeros((m,1),dtype='float64')\n",
    "dtacc2=np.zeros((m,1),dtype='float64')\n",
    "clfacc2=np.zeros((m,1),dtype='float64')\n",
    "\n",
    "q=0\n",
    "for i in tqdm(range(m)):\n",
    "    print(i)\n",
    "    select=[]\n",
    "    for p in list(features):\n",
    "        if mem.loc[i,p]==1:\n",
    "            select.insert(q,p)\n",
    "            q=q+1\n",
    "    neigh2.fit(x_train[select], y_train)\n",
    "    neigh2.predict(x_test[select])\n",
    "    nacc2[i]=neigh2.score(x_test[select],y_test) \n",
    "    print(nacc2[i])\n",
    "    \n",
    "    rforest2.fit(x_train[select], y_train)\n",
    "    rforest2.predict(x_test[select])\n",
    "    rfacc2[i]=rforest2.score(x_test[select],y_test) \n",
    "    print(rfacc2[i])\n",
    "    \n",
    "    dtree2.fit(x_train[select], y_train)\n",
    "    dtree2.predict(x_test[select])\n",
    "    dtacc2[i]=dtree2.score(x_test[select],y_test)\n",
    "    print(dtacc2[i])\n",
    "    \n",
    "    clf2.fit(x_train[select], y_train)\n",
    "    clf2.predict(x_test[select])\n",
    "    clfacc2[i]=clf2.score(x_test[select],y_test)\n",
    "    print(clfacc2[i])\n",
    "\n",
    "print (nacc2.max(), rfacc2.max(), dtacc2.max(),clfacc2.max()) # the crow with maximum accuracy is printed"
   ]
  },
  {
   "cell_type": "markdown",
   "metadata": {},
   "source": [
    "**SELECTED FEATURED**"
   ]
  },
  {
   "cell_type": "code",
   "execution_count": 31,
   "metadata": {
    "colab": {},
    "colab_type": "code",
    "id": "pAMS1eJkfj6_",
    "outputId": "f05d8b75-894c-480c-9657-c461161a125b"
   },
   "outputs": [
    {
     "name": "stdout",
     "output_type": "stream",
     "text": [
      "4146\n",
      "4146\n",
      "4146\n",
      "4146\n"
     ]
    }
   ],
   "source": [
    "print ((mem.loc[nacc1.argmax(),:]==1.0).sum())\n",
    "\n",
    "print ((mem.loc[rfacc1.argmax(),:]==1.0).sum())\n",
    "print ((mem.loc[dtacc1.argmax(),:]==1.0).sum())\n",
    "print ((mem.loc[clfacc1.argmax(),:]==1.0).sum())"
   ]
  },
  {
   "cell_type": "code",
   "execution_count": 33,
   "metadata": {
    "colab": {},
    "colab_type": "code",
    "id": "60Wb6XQdfj7f",
    "outputId": "b4b9005b-50bb-4719-d94f-deb161810469"
   },
   "outputs": [
    {
     "name": "stdout",
     "output_type": "stream",
     "text": [
      "[0.9999999999999987, 1.1970472106097965, 1.1970472106097965, 1.1970472106097965, 1.1998847333480596, 1.1998847333480596, 1.1998847333480596, 1.1998847333480596, 1.1998847333480596, 1.1998847333480596, 1.2069418649105499, 1.2069418649105499, 1.2069418649105499, 1.2069418649105499, 1.2069418649105499, 1.2069418649105499, 1.2069418649105499, 1.2069418649105499, 1.2069418649105499, 1.2069418649105499, 1.2069418649105499, 1.2069418649105499, 1.2069418649105499, 1.2069418649105499, 1.2069418649105499, 1.2069418649105499, 1.2069418649105499, 1.2069418649105499, 1.2069418649105499, 1.2069418649105499, 1.2069418649105499, 1.2069418649105499, 1.2069418649105499, 1.2069418649105499, 1.2069418649105499, 1.2069418649105499, 1.2069418649105499, 1.2069418649105499, 1.2069418649105499, 1.2069418649105499, 1.2069418649105499, 1.2069418649105499, 1.2069418649105499, 1.2069418649105499, 1.2069418649105499, 1.2069418649105499, 1.2069418649105499, 1.2069418649105499, 1.2069418649105499, 1.2069418649105499]\n"
     ]
    }
   ],
   "source": [
    "plotse=pd.Series(plotit)\n",
    "print(plotit)"
   ]
  },
  {
   "cell_type": "code",
   "execution_count": 34,
   "metadata": {
    "colab": {},
    "colab_type": "code",
    "id": "wp1Gtqy1fj7p",
    "outputId": "d23b913e-5000-4872-dbf8-807683a8e2d4"
   },
   "outputs": [
    {
     "data": {
      "image/png": "[encoded data removed]",
      "text/plain": [
       "<matplotlib.figure.Figure at 0x2651b463a58>"
      ]
     },
     "metadata": {},
     "output_type": "display_data"
    }
   ],
   "source": [
    "plt.plot(plotse)\n",
    "plt.xlabel('No of iterations')\n",
    "plt.ylabel('Fitness value')\n",
    "plt.show()"
   ]
  },
  {
   "cell_type": "code",
   "execution_count": 32,
   "metadata": {},
   "outputs": [],
   "source": [
    "mem.to_csv('memory_MCI-CN.csv')"
   ]
  },
  {
   "cell_type": "code",
   "execution_count": null,
   "metadata": {},
   "outputs": [],
   "source": []
  }
 ],
 "metadata": {
  "colab": {
   "collapsed_sections": [],
   "name": "myccsa.ipynb",
   "provenance": [],
   "version": "0.3.2"
  },
  "kernelspec": {
   "display_name": "Python 3",
   "language": "python",
   "name": "python3"
  },
  "language_info": {
   "codemirror_mode": {
    "name": "ipython",
    "version": 3
   },
   "file_extension": ".py",
   "mimetype": "text/x-python",
   "name": "python",
   "nbconvert_exporter": "python",
   "pygments_lexer": "ipython3",
   "version": "3.6.4"
  }
 },
 "nbformat": 4,
 "nbformat_minor": 1
}
