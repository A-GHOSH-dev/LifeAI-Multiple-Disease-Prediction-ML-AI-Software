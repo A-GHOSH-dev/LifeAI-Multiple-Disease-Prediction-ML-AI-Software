{
  "nbformat": 4,
  "nbformat_minor": 0,
  "metadata": {
    "colab": {
      "name": "Data Augmentation",
      "provenance": [],
      "collapsed_sections": [
        "KdJabe44AgXB"
      ]
    },
    "kernelspec": {
      "name": "python3",
      "display_name": "Python 3"
    },
    "accelerator": "GPU"
  },
  "cells": [
    {
      "cell_type": "markdown",
      "metadata": {
        "id": "RW7W9dTYxvZs",
        "colab_type": "text"
      },
      "source": [
        "#Data Augmentation\n",
        "Here, the aim is to augment the images in the dataset in order to increase its size. The transformations used are : horizontal flip, zoom range of 0.04, height shift range of 0.04, width shift range of 0.04, shear range of 0.04. The data augmentation is done with the help of Image Data Generator."
      ]
    },
    {
      "cell_type": "markdown",
      "metadata": {
        "id": "KdJabe44AgXB",
        "colab_type": "text"
      },
      "source": [
        "# Authentication"
      ]
    },
    {
      "cell_type": "code",
      "metadata": {
        "id": "A5UhBwnOPjRQ",
        "colab_type": "code",
        "colab": {}
      },
      "source": [
        "#Authentication of user \n",
        "!apt-get install -y -qq software-properties-common python-software-properties module-init-tools\n",
        "!add-apt-repository -y ppa:alessandro-strada/ppa 2>&1 > /dev/null\n",
        "!apt-get update -qq 2>&1 > /dev/null\n",
        "!apt-get -y install -qq google-drive-ocamlfuse fuse\n",
        "from google.colab import auth\n",
        "auth.authenticate_user()\n",
        "from oauth2client.client import GoogleCredentials\n",
        "creds = GoogleCredentials.get_application_default()\n",
        "import getpass\n",
        "!google-drive-ocamlfuse -headless -id={creds.client_id} -secret={creds.client_secret} < /dev/null 2>&1 | grep URL\n",
        "vcode = getpass.getpass()\n",
        "!echo {vcode} | google-drive-ocamlfuse -headless -id={creds.client_id} -secret={creds.client_secret}\n"
      ],
      "execution_count": null,
      "outputs": []
    },
    {
      "cell_type": "code",
      "metadata": {
        "id": "0Amk_Sm_QK0g",
        "colab_type": "code",
        "colab": {}
      },
      "source": [
        "#This cell is used to create a folder 'drive' and load the files of drive in it\n",
        "!mkdir drive\n",
        "!google-drive-ocamlfuse drive #ocaml fuse is defined in the previous cell\n",
        "!ls drive\n"
      ],
      "execution_count": null,
      "outputs": []
    },
    {
      "cell_type": "markdown",
      "metadata": {
        "id": "EU6GKAEEX-GL",
        "colab_type": "text"
      },
      "source": [
        "# *Data Augmentation*\n"
      ]
    },
    {
      "cell_type": "code",
      "metadata": {
        "id": "mmzr3OVIX9Qn",
        "colab_type": "code",
        "colab": {}
      },
      "source": [
        "from tensorflow.python.client import device_lib\n",
        "assert 'GPU' in str(device_lib.list_local_devices())"
      ],
      "execution_count": null,
      "outputs": []
    },
    {
      "cell_type": "code",
      "metadata": {
        "id": "XkvmfpnZ-WIh",
        "colab_type": "code",
        "colab": {}
      },
      "source": [
        "# import the necessary packages\n",
        "from keras.preprocessing.image import ImageDataGenerator\n",
        "from tensorflow.keras.applications.mobilenet_v2 import MobileNetV2, preprocess_input\n",
        "from keras.preprocessing.image import img_to_array\n",
        "from keras.preprocessing.image import load_img\n",
        "import numpy as np\n",
        "import os\n",
        "\n",
        "# load the input image, convert it to a NumPy array, and then\n",
        "# reshape it to have an extra dimension\n",
        "print(\"[INFO] loading example image...\")\n",
        "main_path = '/content/drive/Dataset/AD'\n",
        "adni_list = os.listdir(main_path)\n",
        "for infile in adni_list:\n",
        "  print('Next image...',infile)\n",
        "  image = load_img(os.path.join(main_path+'/'+infile))\n",
        "  image = img_to_array(image)\n",
        "  image = np.expand_dims(image, axis=0)\n",
        "  # construct the image generator for data augmentation then\n",
        "  # initialize the total number of images generated thus far\n",
        "  aug = ImageDataGenerator(\n",
        "      preprocessing_function=preprocess_input,\n",
        "      zoom_range=0.05,\n",
        "      width_shift_range=0.05,\n",
        "      height_shift_range=0.05,\n",
        "      shear_range=0.05,\n",
        "      horizontal_flip=True,\n",
        "      fill_mode=\"nearest\")\n",
        "  \n",
        "  total = 0\n",
        "  # construct the actual Python generator\n",
        "  print(\"[INFO] generating images...\")\n",
        "  imageGen = aug.flow(image,batch_size=1, save_to_dir='directory_in_which_augmented_images_are_saved',\n",
        "\tsave_prefix=\"recent_augmented_\", save_format=\"png\")\n",
        "  # loop over examples from our image data augmentation generator\n",
        "  for image in imageGen:\n",
        "    # increment our counter\n",
        "    total += 1\n",
        "    # if we have reached the specified number of examples, break\n",
        "    # from the loop\n",
        "    if total == 5:\n",
        "      print('This loop done')\n",
        "      break"
      ],
      "execution_count": null,
      "outputs": []
    }
  ]
}