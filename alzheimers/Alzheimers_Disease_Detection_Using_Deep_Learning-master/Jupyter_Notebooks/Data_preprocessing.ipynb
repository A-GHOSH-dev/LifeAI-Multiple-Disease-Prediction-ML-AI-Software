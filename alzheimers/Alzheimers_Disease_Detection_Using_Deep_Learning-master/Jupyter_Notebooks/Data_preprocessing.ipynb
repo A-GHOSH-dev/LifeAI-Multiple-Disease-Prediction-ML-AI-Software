{
  "nbformat": 4,
  "nbformat_minor": 0,
  "metadata": {
    "colab": {
      "name": "Data_preprocessing.ipynb",
      "provenance": [],
      "collapsed_sections": []
    },
    "kernelspec": {
      "name": "python3",
      "display_name": "Python 3"
    }
  },
  "cells": [
    {
      "cell_type": "markdown",
      "metadata": {
        "id": "3wcecrMcwMzi",
        "colab_type": "text"
      },
      "source": [
        "#Preprocessing of ADNI Dataset\n",
        "In order to run th preprocess.py file, some packages needs to be installed in the notebook such as : SimpleITK, ANTS, deepbrain, dipy, etc.\n",
        "\n",
        "The latest version of tensorflow is not compatible with deepbrain. Hence, its better to uninstall tensorflow and install version 1.15"
      ]
    },
    {
      "cell_type": "markdown",
      "metadata": {
        "id": "Hhl8Ka_xklk9",
        "colab_type": "text"
      },
      "source": [
        "#Authentication\n"
      ]
    },
    {
      "cell_type": "code",
      "metadata": {
        "id": "Ns1WHDlzeNSY",
        "colab_type": "code",
        "colab": {}
      },
      "source": [
        "!apt-get install -y -qq software-properties-common python-software-properties module-init-tools\n",
        "!add-apt-repository -y ppa:alessandro-strada/ppa 2>&1 > /dev/null\n",
        "!apt-get update -qq 2>&1 > /dev/null\n",
        "!apt-get -y install -qq google-drive-ocamlfuse fuse\n",
        "from google.colab import auth\n",
        "auth.authenticate_user()\n",
        "from oauth2client.client import GoogleCredentials\n",
        "creds = GoogleCredentials.get_application_default()\n",
        "import getpass\n",
        "!google-drive-ocamlfuse -headless -id={creds.client_id} -secret={creds.client_secret} < /dev/null 2>&1 | grep URL\n",
        "vcode = getpass.getpass()\n",
        "!echo {vcode} | google-drive-ocamlfuse -headless -id={creds.client_id} -secret={creds.client_secret}\n"
      ],
      "execution_count": null,
      "outputs": []
    },
    {
      "cell_type": "code",
      "metadata": {
        "id": "C0mFiYKDAv1a",
        "colab_type": "code",
        "colab": {}
      },
      "source": [
        "!mkdir drive\n",
        "!google-drive-ocamlfuse drive\n",
        "!ls drive\n"
      ],
      "execution_count": null,
      "outputs": []
    },
    {
      "cell_type": "markdown",
      "metadata": {
        "id": "Qckssma2kt3f",
        "colab_type": "text"
      },
      "source": [
        "#Install packages"
      ]
    },
    {
      "cell_type": "code",
      "metadata": {
        "id": "FH03Co7m0Mcc",
        "colab_type": "code",
        "colab": {}
      },
      "source": [
        "!pip install  nilearn\n",
        "!pip install  nibabel\n",
        "!pip install  deepbrain\n",
        "!pip install  dipy\n",
        "!pip install  nilearn\n",
        "!pip install  nipype\n",
        "!pip install  simpleitk"
      ],
      "execution_count": null,
      "outputs": []
    },
    {
      "cell_type": "markdown",
      "metadata": {
        "id": "vgz2Qf0Kk1Rx",
        "colab_type": "text"
      },
      "source": [
        "#Mount Drive"
      ]
    },
    {
      "cell_type": "code",
      "metadata": {
        "id": "5-JF3ZZz0fH9",
        "colab_type": "code",
        "colab": {}
      },
      "source": [
        "from google.colab import drive\n",
        "drive.mount('/gdrive')"
      ],
      "execution_count": null,
      "outputs": []
    },
    {
      "cell_type": "markdown",
      "metadata": {
        "id": "rCd3j5W-lJ3-",
        "colab_type": "text"
      },
      "source": [
        "#Install ANTs\n",
        "This is used to execute N4 Bias Field Correction"
      ]
    },
    {
      "cell_type": "code",
      "metadata": {
        "id": "JoJOSWwg1loa",
        "colab_type": "code",
        "colab": {}
      },
      "source": [
        "!cp '/gdrive/My Drive/ANTs-28-03-2019.7z' ./"
      ],
      "execution_count": null,
      "outputs": []
    },
    {
      "cell_type": "code",
      "metadata": {
        "id": "PBEAOlW31sIo",
        "colab_type": "code",
        "colab": {}
      },
      "source": [
        "!7z x ANTs-28-03-2019.7z"
      ],
      "execution_count": null,
      "outputs": []
    },
    {
      "cell_type": "code",
      "metadata": {
        "id": "yr96doy81wqq",
        "colab_type": "code",
        "colab": {}
      },
      "source": [
        "!cp bin/* /usr/local/bin\n"
      ],
      "execution_count": null,
      "outputs": []
    },
    {
      "cell_type": "code",
      "metadata": {
        "id": "s3PpGt6p14j2",
        "colab_type": "code",
        "colab": {}
      },
      "source": [
        "#Check if ANTs has been properly installed\n",
        "!which antsRegistration"
      ],
      "execution_count": null,
      "outputs": []
    },
    {
      "cell_type": "markdown",
      "metadata": {
        "id": "ADuFKbg1lp1l",
        "colab_type": "text"
      },
      "source": [
        "#Install tensorflow version 1.15"
      ]
    },
    {
      "cell_type": "code",
      "metadata": {
        "id": "aUwBaGQSN3rn",
        "colab_type": "code",
        "colab": {}
      },
      "source": [
        "!pip uninstall tensorflow"
      ],
      "execution_count": null,
      "outputs": []
    },
    {
      "cell_type": "code",
      "metadata": {
        "id": "lglJ6asCOHWb",
        "colab_type": "code",
        "colab": {}
      },
      "source": [
        "!pip install tensorflow==1.15"
      ],
      "execution_count": null,
      "outputs": []
    },
    {
      "cell_type": "markdown",
      "metadata": {
        "id": "cten7TrSl0lc",
        "colab_type": "text"
      },
      "source": [
        "#Run preprocess file"
      ]
    },
    {
      "cell_type": "code",
      "metadata": {
        "id": "bqwZil092DRF",
        "colab_type": "code",
        "colab": {}
      },
      "source": [
        "!python '/content/drive/run_me.py'"
      ],
      "execution_count": null,
      "outputs": []
    }
  ]
}